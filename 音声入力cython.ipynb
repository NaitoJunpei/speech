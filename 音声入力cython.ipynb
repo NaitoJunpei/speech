{
 "cells": [
  {
   "cell_type": "code",
   "execution_count": 1,
   "metadata": {},
   "outputs": [],
   "source": [
    "import numpy as np\n",
    "import wave\n",
    "import matplotlib.pyplot as plt\n",
    "%matplotlib inline\n",
    "\n",
    "from numpy import fft\n",
    "import math\n",
    "import makeFeature"
   ]
  },
  {
   "cell_type": "code",
   "execution_count": 2,
   "metadata": {},
   "outputs": [],
   "source": [
    "name = \"./CoinData/001-00.wav\"\n",
    "wavefile = wave.open(name, \"r\")\n",
    "framerate = wavefile.getframerate()\n",
    "data = wavefile.readframes(wavefile.getnframes())\n",
    "x = np.frombuffer(data, dtype=\"int16\")\n",
    "x = x.astype('float64') #### 初めからfloat64にすると、ファイル形式の関係上欲しいデータが得られない"
   ]
  },
  {
   "cell_type": "code",
   "execution_count": 3,
   "metadata": {},
   "outputs": [
    {
     "data": {
      "text/plain": [
       "[<matplotlib.lines.Line2D at 0x10fbb4748>]"
      ]
     },
     "execution_count": 3,
     "metadata": {},
     "output_type": "execute_result"
    },
    {
     "data": {
      "image/png": "[encoded data removed]",
      "text/plain": [
       "<matplotlib.figure.Figure at 0x10654f400>"
      ]
     },
     "metadata": {},
     "output_type": "display_data"
    }
   ],
   "source": [
    "plt.plot(x)"
   ]
  },
  {
   "cell_type": "code",
   "execution_count": null,
   "metadata": {},
   "outputs": [],
   "source": []
  },
  {
   "cell_type": "code",
   "execution_count": null,
   "metadata": {},
   "outputs": [],
   "source": []
  },
  {
   "cell_type": "code",
   "execution_count": 4,
   "metadata": {},
   "outputs": [],
   "source": [
    "BinSize = 0.05 * framerate"
   ]
  },
  {
   "cell_type": "code",
   "execution_count": null,
   "metadata": {},
   "outputs": [],
   "source": []
  },
  {
   "cell_type": "code",
   "execution_count": null,
   "metadata": {},
   "outputs": [],
   "source": []
  },
  {
   "cell_type": "code",
   "execution_count": 5,
   "metadata": {},
   "outputs": [
    {
     "data": {
      "text/plain": [
       "3.49734693877551"
      ]
     },
     "execution_count": 5,
     "metadata": {},
     "output_type": "execute_result"
    }
   ],
   "source": [
    "len(x) / framerate"
   ]
  },
  {
   "cell_type": "code",
   "execution_count": null,
   "metadata": {},
   "outputs": [],
   "source": []
  },
  {
   "cell_type": "code",
   "execution_count": null,
   "metadata": {},
   "outputs": [],
   "source": []
  },
  {
   "cell_type": "code",
   "execution_count": 6,
   "metadata": {},
   "outputs": [],
   "source": [
    "from makeFeature import makeFeature"
   ]
  },
  {
   "cell_type": "code",
   "execution_count": 7,
   "metadata": {},
   "outputs": [
    {
     "name": "stderr",
     "output_type": "stream",
     "text": [
      "/Library/Frameworks/Python.framework/Versions/3.6/lib/python3.6/site-packages/ipykernel_launcher.py:17: RuntimeWarning: divide by zero encountered in log10\n"
     ]
    }
   ],
   "source": [
    "coins = [\"001\", \"005\", \"010\", \"050\", \"100\", \"500\"]\n",
    "OnPeriods = 20\n",
    "\n",
    "features = np.zeros([6, 20, OnPeriods, 1858])\n",
    "for coinIndex, coin in enumerate(coins) :\n",
    "    for i in range(0, 20) :\n",
    "        padded = '%02d' % i\n",
    "        filename = \"./CoinData/\" + coin + \"-\" + padded + \".wav\"\n",
    "        #### print(filename)\n",
    "        wavefile = wave.open(filename, \"r\")\n",
    "        framerate = wavefile.getframerate()\n",
    "        data = wavefile.readframes(wavefile.getnframes())\n",
    "        wavefile.close()\n",
    "        x = np.frombuffer(data, dtype=\"int16\")\n",
    "        x = x.astype('float64') #### 初めからfloat64にすると、ファイル形式の関係上欲しいデータが得られない\n",
    "        \n",
    "        f = makeFeature(x, framerate)\n",
    "        \n",
    "        features[coinIndex, i, :, :] = f"
   ]
  },
  {
   "cell_type": "code",
   "execution_count": 8,
   "metadata": {},
   "outputs": [
    {
     "data": {
      "text/plain": [
       "numpy.float64"
      ]
     },
     "execution_count": 8,
     "metadata": {},
     "output_type": "execute_result"
    }
   ],
   "source": [
    "import numpy as np\n",
    "np.float64"
   ]
  },
  {
   "cell_type": "code",
   "execution_count": 9,
   "metadata": {},
   "outputs": [
    {
     "data": {
      "text/plain": [
       "[<matplotlib.lines.Line2D at 0x110d606d8>]"
      ]
     },
     "execution_count": 9,
     "metadata": {},
     "output_type": "execute_result"
    },
    {
     "data": {
      "image/png": "[encoded data removed]",
      "text/plain": [
       "<matplotlib.figure.Figure at 0x10ff6d860>"
      ]
     },
     "metadata": {},
     "output_type": "display_data"
    }
   ],
   "source": [
    "plt.plot(x)"
   ]
  },
  {
   "cell_type": "code",
   "execution_count": 10,
   "metadata": {},
   "outputs": [
    {
     "data": {
      "text/plain": [
       "'\\ndef extFeature(feature, freqs) :\\n    # OnPeriods * 1858の特徴を受け取り、freqsで指定された周波数成分を選択して\\n    # OnPeriods * len(freqs)の特徴として返す\\n    numFreqs = len(freqs)\\n    f = np.zeros(OnPeriods * numFreqs)\\n    for index, l in enumerate(feature) :\\n        f[index * numFreqs : (index + 1) * numFreqs] = l[freqs]\\n        \\n    return f\\n'"
      ]
     },
     "execution_count": 10,
     "metadata": {},
     "output_type": "execute_result"
    }
   ],
   "source": [
    "\"\"\"\n",
    "def extFeature(feature, freqs) :\n",
    "    # OnPeriods * 1858の特徴を受け取り、freqsで指定された周波数成分を選択して\n",
    "    # OnPeriods * len(freqs)の特徴として返す\n",
    "    numFreqs = len(freqs)\n",
    "    f = np.zeros(OnPeriods * numFreqs)\n",
    "    for index, l in enumerate(feature) :\n",
    "        f[index * numFreqs : (index + 1) * numFreqs] = l[freqs]\n",
    "        \n",
    "    return f\n",
    "\"\"\""
   ]
  },
  {
   "cell_type": "code",
   "execution_count": 11,
   "metadata": {},
   "outputs": [
    {
     "data": {
      "text/plain": [
       "'\\ndef extFeature2(feature, freqs) :\\n    # OnPeriods * 1858の特徴を受け取り、freqsで指定された周波数成分を選択して\\n    # len(freqs)の特徴として返す\\n    numFreqs = len(freqs)\\n    f = np.zeros(numFreqs)\\n    for index, l in enumerate(feature) :\\n        f[:] += l[freqs]\\n        \\n    return f\\n'"
      ]
     },
     "execution_count": 11,
     "metadata": {},
     "output_type": "execute_result"
    }
   ],
   "source": [
    "\"\"\"\n",
    "def extFeature2(feature, freqs) :\n",
    "    # OnPeriods * 1858の特徴を受け取り、freqsで指定された周波数成分を選択して\n",
    "    # len(freqs)の特徴として返す\n",
    "    numFreqs = len(freqs)\n",
    "    f = np.zeros(numFreqs)\n",
    "    for index, l in enumerate(feature) :\n",
    "        f[:] += l[freqs]\n",
    "        \n",
    "    return f\n",
    "\"\"\""
   ]
  },
  {
   "cell_type": "code",
   "execution_count": 12,
   "metadata": {},
   "outputs": [
    {
     "data": {
      "text/plain": [
       "\"\\ndef detectFreqs(features, numFreqs) :\\n    # numFreqsで指定した個数の周波数成分を、コストが最小になるように決定する\\n    freqs = np.array(range(0, numFreqs)).astype('int64')\\n    numCoins = features.shape[0]\\n    \\n    featuresSelected = np.zeros([numCoins, features.shape[1], features.shape[2] * numFreqs])\\n    for c in range(0, numCoins) :\\n        for cc in range(0, features.shape[1]) :\\n            featuresSelected[c, cc, :] = extFeature(features[c, cc, :, :], freqs)\\n    \\n    numFeature = features.shape[2] * numFreqs\\n    mu = np.zeros([numCoins, numFeature])\\n    sigma = np.zeros([numCoins, numFeature, numFeature])\\n    \\n    for c in range(0, numCoins) :\\n        tempF = featuresSelected[c, :, :]\\n        mu[c, :] = makeMu(tempF)\\n        sigma[c, :, :] = makeSigma(tempF)\\n        print(np.linalg.eig(sigma[c])[0])\\n        \\n    culR(featuresSelected, sigma, mu)\\n        \\n    return freqs\\n\""
      ]
     },
     "execution_count": 12,
     "metadata": {},
     "output_type": "execute_result"
    }
   ],
   "source": [
    "\"\"\"\n",
    "def detectFreqs(features, numFreqs) :\n",
    "    # numFreqsで指定した個数の周波数成分を、コストが最小になるように決定する\n",
    "    freqs = np.array(range(0, numFreqs)).astype('int64')\n",
    "    numCoins = features.shape[0]\n",
    "    \n",
    "    featuresSelected = np.zeros([numCoins, features.shape[1], features.shape[2] * numFreqs])\n",
    "    for c in range(0, numCoins) :\n",
    "        for cc in range(0, features.shape[1]) :\n",
    "            featuresSelected[c, cc, :] = extFeature(features[c, cc, :, :], freqs)\n",
    "    \n",
    "    numFeature = features.shape[2] * numFreqs\n",
    "    mu = np.zeros([numCoins, numFeature])\n",
    "    sigma = np.zeros([numCoins, numFeature, numFeature])\n",
    "    \n",
    "    for c in range(0, numCoins) :\n",
    "        tempF = featuresSelected[c, :, :]\n",
    "        mu[c, :] = makeMu(tempF)\n",
    "        sigma[c, :, :] = makeSigma(tempF)\n",
    "        print(np.linalg.eig(sigma[c])[0])\n",
    "        \n",
    "    culR(featuresSelected, sigma, mu)\n",
    "        \n",
    "    return freqs\n",
    "\"\"\""
   ]
  },
  {
   "cell_type": "code",
   "execution_count": 13,
   "metadata": {},
   "outputs": [
    {
     "data": {
      "text/plain": [
       "\"\\n#### 特徴ベクトルを足すことで次元を増やさないようにしてみる\\ndef detectFreqs2(features, numFreqs) :\\n    freqs = np.array(range(0, numFreqs)).astype('int64')\\n    numCoins = features.shape[0]\\n    \\n    featuresSelected = np.zeros([numCoins, features.shape[1], numFreqs])\\n    for c in range(0, numCoins) :\\n        for cc in range(0, features.shape[1]) :\\n            featuresSelected[c, cc, :] = extFeature2(features[c, cc, :, :], freqs)\\n            \\n            \\n    numFeature = numFreqs\\n    mu = np.zeros([numCoins, numFeature])\\n    sigma = np.zeros([numCoins, numFeature, numFeature])\\n    \\n    for c in range(0, numCoins) :\\n        tempF = featuresSelected[c, :, :]\\n        mu[c, :] = makeMu(tempF)\\n        sigma[c, :, :] = makeSigma(tempF)\\n        print(sigma[c])\\n        print(np.linalg.det(sigma[c]))\\n        \\n    freqs_new = np.array(range(0, numFreqs)).astype('int64')\\n    \\n    #### 周波数成分選択アルゴリズム\\n    while(True) :\\n        for d in range(0, numFreqs) :\\n            for omega in range(0, features.shape[3]) :\\n                if omega\\n                \\n    R = culR(featuresSelected, sigma, mu)\\n    \\n    return freqs\\n\""
      ]
     },
     "execution_count": 13,
     "metadata": {},
     "output_type": "execute_result"
    }
   ],
   "source": [
    "\"\"\"\n",
    "#### 特徴ベクトルを足すことで次元を増やさないようにしてみる\n",
    "def detectFreqs2(features, numFreqs) :\n",
    "    freqs = np.array(range(0, numFreqs)).astype('int64')\n",
    "    numCoins = features.shape[0]\n",
    "    \n",
    "    featuresSelected = np.zeros([numCoins, features.shape[1], numFreqs])\n",
    "    for c in range(0, numCoins) :\n",
    "        for cc in range(0, features.shape[1]) :\n",
    "            featuresSelected[c, cc, :] = extFeature2(features[c, cc, :, :], freqs)\n",
    "            \n",
    "            \n",
    "    numFeature = numFreqs\n",
    "    mu = np.zeros([numCoins, numFeature])\n",
    "    sigma = np.zeros([numCoins, numFeature, numFeature])\n",
    "    \n",
    "    for c in range(0, numCoins) :\n",
    "        tempF = featuresSelected[c, :, :]\n",
    "        mu[c, :] = makeMu(tempF)\n",
    "        sigma[c, :, :] = makeSigma(tempF)\n",
    "        print(sigma[c])\n",
    "        print(np.linalg.det(sigma[c]))\n",
    "        \n",
    "    freqs_new = np.array(range(0, numFreqs)).astype('int64')\n",
    "    \n",
    "    #### 周波数成分選択アルゴリズム\n",
    "    while(True) :\n",
    "        for d in range(0, numFreqs) :\n",
    "            for omega in range(0, features.shape[3]) :\n",
    "                if omega\n",
    "                \n",
    "    R = culR(featuresSelected, sigma, mu)\n",
    "    \n",
    "    return freqs\n",
    "\"\"\""
   ]
  },
  {
   "cell_type": "code",
   "execution_count": null,
   "metadata": {},
   "outputs": [],
   "source": []
  },
  {
   "cell_type": "markdown",
   "metadata": {},
   "source": [
    "適当に小さいデータで実験\n",
    "\n",
    "周波数成分　だいたい 400Hz以下\n",
    "\n",
    "特徴次元数10"
   ]
  },
  {
   "cell_type": "code",
   "execution_count": 14,
   "metadata": {},
   "outputs": [],
   "source": [
    "from makeFeature import makePrediction"
   ]
  },
  {
   "cell_type": "code",
   "execution_count": 15,
   "metadata": {},
   "outputs": [],
   "source": [
    "from makeFeature import detectFreqs"
   ]
  },
  {
   "cell_type": "code",
   "execution_count": null,
   "metadata": {},
   "outputs": [
    {
     "name": "stdout",
     "output_type": "stream",
     "text": [
      "preparation\n",
      "main loop start\n",
      "********************************\n",
      "major loop\n",
      "--------------------------------\n",
      "('minor minor loop : ', 0.0007259845733642578)\n",
      "('minor minor loop : ', 0.557528018951416)\n",
      "('minor minor loop : ', 1.0967254638671875e-05)\n",
      "('minor minor loop : ', 1.4066696166992188e-05)\n",
      "('minor minor loop : ', 1.0967254638671875e-05)\n",
      "('minor minor loop : ', 2.002716064453125e-05)\n",
      "('minor minor loop : ', 1.0967254638671875e-05)\n",
      "('minor minor loop : ', 5.7220458984375e-06)\n",
      "('minor minor loop : ', 1.0013580322265625e-05)\n",
      "('minor minor loop : ', 6.198883056640625e-06)\n",
      "('minor minor loop : ', 6.9141387939453125e-06)\n",
      "('minor minor loop : ', 1.9073486328125e-05)\n",
      "('minor minor loop : ', 1.0013580322265625e-05)\n",
      "('minor minor loop : ', 1.2159347534179688e-05)\n",
      "('minor minor loop : ', 1.52587890625e-05)\n",
      "('minor minor loop : ', 1.0013580322265625e-05)\n",
      "('minor minor loop : ', 5.9604644775390625e-06)\n",
      "('minor minor loop : ', 5.245208740234375e-06)\n",
      "('minor minor loop : ', 4.76837158203125e-06)\n",
      "('minor minor loop : ', 5.0067901611328125e-06)\n",
      "('minor minor loop : ', 3.814697265625e-06)\n",
      "('minor minor loop : ', 0.5427618026733398)\n",
      "('minor minor loop : ', 0.5756709575653076)\n",
      "('minor minor loop : ', 0.5735342502593994)\n",
      "('minor minor loop : ', 0.5163471698760986)\n",
      "('minor minor loop : ', 0.6207971572875977)\n",
      "('minor minor loop : ', 0.6514899730682373)\n",
      "('minor minor loop : ', 0.6177480220794678)\n",
      "('minor minor loop : ', 0.541579008102417)\n",
      "('minor minor loop : ', 0.5161099433898926)\n",
      "('minor minor loop : ', 0.5479321479797363)\n",
      "('minor minor loop : ', 0.5298471450805664)\n",
      "('minor minor loop : ', 0.6739058494567871)\n",
      "('minor minor loop : ', 0.5132532119750977)\n",
      "('minor minor loop : ', 0.5343549251556396)\n",
      "('minor minor loop : ', 0.8080987930297852)\n",
      "('minor minor loop : ', 0.827584981918335)\n",
      "('minor minor loop : ', 0.6525678634643555)\n",
      "('minor minor loop : ', 0.5569021701812744)\n",
      "('minor minor loop : ', 0.504033088684082)\n",
      "('minor minor loop : ', 0.537919282913208)\n",
      "('minor minor loop : ', 0.48932981491088867)\n",
      "('minor minor loop : ', 0.614703893661499)\n",
      "('minor minor loop : ', 0.6229918003082275)\n",
      "('minor minor loop : ', 0.5694029331207275)\n",
      "('minor minor loop : ', 0.5903298854827881)\n",
      "('minor minor loop : ', 0.7692391872406006)\n",
      "('minor minor loop : ', 0.5790860652923584)\n",
      "('minor minor loop : ', 0.5729920864105225)\n",
      "('minor minor loop : ', 0.6954808235168457)\n",
      "('minor minor loop : ', 0.6615028381347656)\n",
      "('minor minor loop : ', 0.7905881404876709)\n",
      "('minor minor loop : ', 0.567371129989624)\n",
      "('minor minor loop : ', 0.5642948150634766)\n",
      "('minor minor loop : ', 0.5338749885559082)\n",
      "('minor minor loop : ', 0.547029972076416)\n",
      "('minor minor loop : ', 0.5838017463684082)\n",
      "('minor minor loop : ', 0.5721337795257568)\n",
      "('minor minor loop : ', 0.5456657409667969)\n",
      "('minor minor loop : ', 0.5069580078125)\n",
      "('minor minor loop : ', 0.5111620426177979)\n",
      "('minor minor loop : ', 0.5276079177856445)\n",
      "('minor minor loop : ', 0.5261108875274658)\n",
      "('minor minor loop : ', 0.5535500049591064)\n",
      "('minor minor loop : ', 0.5106968879699707)\n",
      "('minor minor loop : ', 0.6361730098724365)\n",
      "('minor minor loop : ', 0.6506786346435547)\n",
      "('minor minor loop : ', 0.5992200374603271)\n",
      "('minor minor loop : ', 0.7072193622589111)\n",
      "('minor minor loop : ', 0.599968671798706)\n",
      "('minor minor loop : ', 0.5494110584259033)\n",
      "('minor minor loop : ', 0.5459771156311035)\n",
      "('minor minor loop : ', 0.545551061630249)\n",
      "('minor minor loop : ', 0.5464489459991455)\n",
      "('minor minor loop : ', 0.6695501804351807)\n",
      "('minor minor loop : ', 0.5936539173126221)\n",
      "('minor minor loop : ', 0.5620608329772949)\n",
      "('minor minor loop : ', 0.5362720489501953)\n",
      "('minor minor loop : ', 0.6446840763092041)\n",
      "('minor minor loop : ', 0.5791261196136475)\n",
      "('minor minor loop : ', 0.543452262878418)\n",
      "('minor minor loop : ', 0.5337119102478027)\n",
      "('minor minor loop : ', 0.5419483184814453)\n",
      "('minor minor loop : ', 0.7725789546966553)\n",
      "('minor minor loop : ', 0.5487630367279053)\n",
      "('minor minor loop : ', 0.6391658782958984)\n",
      "('minor minor loop : ', 0.6897900104522705)\n",
      "('minor minor loop : ', 0.6386020183563232)\n",
      "('minor minor loop : ', 0.5351159572601318)\n",
      "('minor minor loop : ', 0.5428459644317627)\n",
      "('minor minor loop : ', 0.535438060760498)\n",
      "('minor minor loop : ', 0.6164000034332275)\n",
      "('minor minor loop : ', 0.5428462028503418)\n",
      "('minor minor loop : ', 0.549537181854248)\n",
      "('minor minor loop : ', 0.5409600734710693)\n",
      "('minor minor loop : ', 0.5667397975921631)\n",
      "('minor minor loop : ', 0.603355884552002)\n",
      "('minor minor loop : ', 0.5588469505310059)\n",
      "('minor minor loop : ', 0.5533571243286133)\n",
      "('minor minor loop : ', 0.572706937789917)\n",
      "('minor loop : ', 0)\n",
      "('Selected freqs', array([73,  1,  2,  3,  4,  5,  6,  7,  8,  9, 10, 11, 12, 13, 14, 15, 16,\n",
      "       17, 18, 19]))\n",
      "('R=', 0.16355277464095042)\n",
      "--------------------------------\n",
      "('minor minor loop : ', 0.6063339710235596)\n",
      "('minor minor loop : ', 0.5730772018432617)\n",
      "('minor minor loop : ', 0.5463221073150635)\n",
      "('minor minor loop : ', 1.0251998901367188e-05)\n",
      "('minor minor loop : ', 1.0967254638671875e-05)\n",
      "('minor minor loop : ', 7.152557373046875e-06)\n",
      "('minor minor loop : ', 6.198883056640625e-06)\n",
      "('minor minor loop : ', 7.152557373046875e-06)\n",
      "('minor minor loop : ', 6.9141387939453125e-06)\n",
      "('minor minor loop : ', 5.9604644775390625e-06)\n",
      "('minor minor loop : ', 5.9604644775390625e-06)\n",
      "('minor minor loop : ', 6.9141387939453125e-06)\n",
      "('minor minor loop : ', 5.0067901611328125e-06)\n",
      "('minor minor loop : ', 4.76837158203125e-06)\n",
      "('minor minor loop : ', 1.2159347534179688e-05)\n",
      "('minor minor loop : ', 5.9604644775390625e-06)\n",
      "('minor minor loop : ', 1.0967254638671875e-05)\n",
      "('minor minor loop : ', 1.0967254638671875e-05)\n",
      "('minor minor loop : ', 1.0967254638671875e-05)\n",
      "('minor minor loop : ', 1.2159347534179688e-05)\n",
      "('minor minor loop : ', 5.9604644775390625e-06)\n",
      "('minor minor loop : ', 0.5640981197357178)\n",
      "('minor minor loop : ', 0.5639469623565674)\n",
      "('minor minor loop : ', 0.541144847869873)\n",
      "('minor minor loop : ', 0.526867151260376)\n",
      "('minor minor loop : ', 0.5443017482757568)\n",
      "('minor minor loop : ', 0.5411090850830078)\n",
      "('minor minor loop : ', 0.5866477489471436)\n",
      "('minor minor loop : ', 0.5481288433074951)\n",
      "('minor minor loop : ', 0.5394449234008789)\n",
      "('minor minor loop : ', 0.5499899387359619)\n",
      "('minor minor loop : ', 0.5236711502075195)\n",
      "('minor minor loop : ', 0.5513050556182861)\n",
      "('minor minor loop : ', 0.5732460021972656)\n",
      "('minor minor loop : ', 0.7406740188598633)\n",
      "('minor minor loop : ', 0.7255277633666992)\n",
      "('minor minor loop : ', 0.698383092880249)\n",
      "('minor minor loop : ', 0.7109379768371582)\n",
      "('minor minor loop : ', 0.6801891326904297)\n",
      "('minor minor loop : ', 0.6475911140441895)\n",
      "('minor minor loop : ', 0.6390361785888672)\n",
      "('minor minor loop : ', 0.7009191513061523)\n",
      "('minor minor loop : ', 0.8214132785797119)\n",
      "('minor minor loop : ', 0.6935970783233643)\n",
      "('minor minor loop : ', 0.6671090126037598)\n",
      "('minor minor loop : ', 0.7290349006652832)\n",
      "('minor minor loop : ', 0.6986520290374756)\n",
      "('minor minor loop : ', 0.6262810230255127)\n",
      "('minor minor loop : ', 0.6083390712738037)\n",
      "('minor minor loop : ', 0.6094961166381836)\n",
      "('minor minor loop : ', 0.5866320133209229)\n",
      "('minor minor loop : ', 0.6540539264678955)\n",
      "('minor minor loop : ', 0.6085779666900635)\n",
      "('minor minor loop : ', 0.5857951641082764)\n",
      "('minor minor loop : ', 0.5397279262542725)\n",
      "('minor minor loop : ', 0.5275149345397949)\n",
      "('minor minor loop : ', 0.547508955001831)\n",
      "('minor minor loop : ', 0.6036632061004639)\n",
      "('minor minor loop : ', 0.5831201076507568)\n",
      "('minor minor loop : ', 0.6272218227386475)\n",
      "('minor minor loop : ', 0.602308988571167)\n",
      "('minor minor loop : ', 0.5878610610961914)\n",
      "('minor minor loop : ', 0.5435867309570312)\n",
      "('minor minor loop : ', 0.5743241310119629)\n",
      "('minor minor loop : ', 0.5278060436248779)\n",
      "('minor minor loop : ', 0.5172741413116455)\n",
      "('minor minor loop : ', 0.5596640110015869)\n",
      "('minor minor loop : ', 0.5091569423675537)\n",
      "('minor minor loop : ', 0.5604662895202637)\n",
      "('minor minor loop : ', 0.5186710357666016)\n",
      "('minor minor loop : ', 0.5358860492706299)\n",
      "('minor minor loop : ', 0.5670440196990967)\n",
      "('minor minor loop : ', 0.5468020439147949)\n",
      "('minor minor loop : ', 0.506533145904541)\n",
      "('minor minor loop : ', 1.2874603271484375e-05)\n",
      "('minor minor loop : ', 0.5571463108062744)\n",
      "('minor minor loop : ', 0.5498261451721191)\n",
      "('minor minor loop : ', 0.577003002166748)\n",
      "('minor minor loop : ', 0.5434942245483398)\n",
      "('minor minor loop : ', 0.5140640735626221)\n",
      "('minor minor loop : ', 0.5273909568786621)\n",
      "('minor minor loop : ', 0.5492260456085205)\n",
      "('minor minor loop : ', 0.5491583347320557)\n",
      "('minor minor loop : ', 0.5586521625518799)\n",
      "('minor minor loop : ', 0.5237410068511963)\n",
      "('minor minor loop : ', 0.5353891849517822)\n",
      "('minor minor loop : ', 0.5462777614593506)\n",
      "('minor minor loop : ', 0.5574290752410889)\n",
      "('minor minor loop : ', 0.5390911102294922)\n",
      "('minor minor loop : ', 0.5571489334106445)\n",
      "('minor minor loop : ', 0.5520098209381104)\n",
      "('minor minor loop : ', 0.5592458248138428)\n",
      "('minor minor loop : ', 0.5164031982421875)\n",
      "('minor minor loop : ', 0.5095789432525635)\n",
      "('minor minor loop : ', 0.5131289958953857)\n",
      "('minor minor loop : ', 0.5239760875701904)\n",
      "('minor minor loop : ', 0.5435562133789062)\n",
      "('minor minor loop : ', 0.5607900619506836)\n",
      "('minor minor loop : ', 0.5391941070556641)\n",
      "('minor minor loop : ', 0.511646032333374)\n",
      "('minor loop : ', 1)\n",
      "('Selected freqs', array([73, 48,  2,  3,  4,  5,  6,  7,  8,  9, 10, 11, 12, 13, 14, 15, 16,\n",
      "       17, 18, 19]))\n",
      "('R=', 0.15915292935844977)\n",
      "--------------------------------\n",
      "('minor minor loop : ', 0.528601884841919)\n",
      "('minor minor loop : ', 0.5423469543457031)\n",
      "('minor minor loop : ', 0.5237700939178467)\n",
      "('minor minor loop : ', 0.5206327438354492)\n",
      "('minor minor loop : ', 1.0013580322265625e-05)\n",
      "('minor minor loop : ', 1.0967254638671875e-05)\n",
      "('minor minor loop : ', 1.0013580322265625e-05)\n",
      "('minor minor loop : ', 1.0013580322265625e-05)\n",
      "('minor minor loop : ', 1.0013580322265625e-05)\n",
      "('minor minor loop : ', 7.867813110351562e-06)\n",
      "('minor minor loop : ', 5.9604644775390625e-06)\n",
      "('minor minor loop : ', 5.245208740234375e-06)\n",
      "('minor minor loop : ', 5.245208740234375e-06)\n",
      "('minor minor loop : ', 5.245208740234375e-06)\n",
      "('minor minor loop : ', 4.76837158203125e-06)\n",
      "('minor minor loop : ', 1.3113021850585938e-05)\n",
      "('minor minor loop : ', 6.198883056640625e-06)\n",
      "('minor minor loop : ', 5.0067901611328125e-06)\n",
      "('minor minor loop : ', 5.0067901611328125e-06)\n",
      "('minor minor loop : ', 5.0067901611328125e-06)\n",
      "('minor minor loop : ', 5.245208740234375e-06)\n",
      "('minor minor loop : ', 0.5109891891479492)\n",
      "('minor minor loop : ', 0.5643129348754883)\n",
      "('minor minor loop : ', 0.5269579887390137)\n",
      "('minor minor loop : ', 0.5171828269958496)\n",
      "('minor minor loop : ', 0.5092551708221436)\n",
      "('minor minor loop : ', 0.5269787311553955)\n",
      "('minor minor loop : ', 0.5253129005432129)\n",
      "('minor minor loop : ', 0.5384631156921387)\n",
      "('minor minor loop : ', 0.5143899917602539)\n",
      "('minor minor loop : ', 0.5321948528289795)\n",
      "('minor minor loop : ', 0.5122461318969727)\n",
      "('minor minor loop : ', 0.5143330097198486)\n",
      "('minor minor loop : ', 0.5432229042053223)\n",
      "('minor minor loop : ', 0.5527248382568359)\n",
      "('minor minor loop : ', 0.5233488082885742)\n",
      "('minor minor loop : ', 0.5643091201782227)\n",
      "('minor minor loop : ', 0.5839228630065918)\n",
      "('minor minor loop : ', 0.5299379825592041)\n",
      "('minor minor loop : ', 0.5107860565185547)\n",
      "('minor minor loop : ', 0.5303530693054199)\n",
      "('minor minor loop : ', 0.5547819137573242)\n",
      "('minor minor loop : ', 0.5139620304107666)\n",
      "('minor minor loop : ', 0.5617218017578125)\n",
      "('minor minor loop : ', 0.5397019386291504)\n",
      "('minor minor loop : ', 0.5718238353729248)\n",
      "('minor minor loop : ', 0.5359747409820557)\n",
      "('minor minor loop : ', 0.5729489326477051)\n",
      "('minor minor loop : ', 0.5785889625549316)\n",
      "('minor minor loop : ', 1.7881393432617188e-05)\n",
      "('minor minor loop : ', 0.5423200130462646)\n",
      "('minor minor loop : ', 0.544978141784668)\n",
      "('minor minor loop : ', 0.5647170543670654)\n",
      "('minor minor loop : ', 0.5278198719024658)\n",
      "('minor minor loop : ', 0.5044867992401123)\n",
      "('minor minor loop : ', 0.5198819637298584)\n",
      "('minor minor loop : ', 0.5046718120574951)\n",
      "('minor minor loop : ', 0.5279898643493652)\n",
      "('minor minor loop : ', 0.5047552585601807)\n",
      "('minor minor loop : ', 0.5442240238189697)\n",
      "('minor minor loop : ', 0.5332019329071045)\n",
      "('minor minor loop : ', 0.529315710067749)\n",
      "('minor minor loop : ', 0.5018949508666992)\n",
      "('minor minor loop : ', 0.5128309726715088)\n",
      "('minor minor loop : ', 0.5148880481719971)\n",
      "('minor minor loop : ', 0.5269699096679688)\n",
      "('minor minor loop : ', 0.509084939956665)\n",
      "('minor minor loop : ', 0.49852681159973145)\n",
      "('minor minor loop : ', 0.4940791130065918)\n",
      "('minor minor loop : ', 0.5069241523742676)\n",
      "('minor minor loop : ', 0.6066668033599854)\n",
      "('minor minor loop : ', 0.5300781726837158)\n",
      "('minor minor loop : ', 0.6231789588928223)\n",
      "('minor minor loop : ', 0.5822901725769043)\n",
      "('minor minor loop : ', 8.821487426757812e-06)\n",
      "('minor minor loop : ', 0.5702769756317139)\n",
      "('minor minor loop : ', 0.5726199150085449)\n",
      "('minor minor loop : ', 0.5495851039886475)\n",
      "('minor minor loop : ', 0.5287230014801025)\n",
      "('minor minor loop : ', 0.5270569324493408)\n",
      "('minor minor loop : ', 0.5509917736053467)\n",
      "('minor minor loop : ', 0.5353631973266602)\n",
      "('minor minor loop : ', 0.5308208465576172)\n",
      "('minor minor loop : ', 0.56085205078125)\n",
      "('minor minor loop : ', 0.7429401874542236)\n",
      "('minor minor loop : ', 0.6574079990386963)\n",
      "('minor minor loop : ', 0.6413218975067139)\n",
      "('minor minor loop : ', 0.5721831321716309)\n",
      "('minor minor loop : ', 0.5811960697174072)\n",
      "('minor minor loop : ', 0.6777169704437256)\n",
      "('minor minor loop : ', 0.7003440856933594)\n",
      "('minor minor loop : ', 0.6821179389953613)\n",
      "('minor minor loop : ', 0.7135088443756104)\n",
      "('minor minor loop : ', 0.6719110012054443)\n",
      "('minor minor loop : ', 0.686223030090332)\n",
      "('minor minor loop : ', 0.7033889293670654)\n",
      "('minor minor loop : ', 0.6453630924224854)\n",
      "('minor minor loop : ', 0.5575659275054932)\n",
      "('minor minor loop : ', 0.5951340198516846)\n",
      "('minor minor loop : ', 0.5877888202667236)\n",
      "('minor loop : ', 2)\n",
      "('Selected freqs', array([73, 48,  2,  3,  4,  5,  6,  7,  8,  9, 10, 11, 12, 13, 14, 15, 16,\n",
      "       17, 18, 19]))\n",
      "('R=', 0.15915292935844977)\n",
      "--------------------------------\n",
      "('minor minor loop : ', 0.5752089023590088)\n",
      "('minor minor loop : ', 0.6607789993286133)\n",
      "('minor minor loop : ', 0.5334439277648926)\n",
      "('minor minor loop : ', 9.059906005859375e-06)\n",
      "('minor minor loop : ', 0.6974639892578125)\n",
      "('minor minor loop : ', 3.1948089599609375e-05)\n",
      "('minor minor loop : ', 1.0013580322265625e-05)\n",
      "('minor minor loop : ', 1.0013580322265625e-05)\n",
      "('minor minor loop : ', 1.0967254638671875e-05)\n",
      "('minor minor loop : ', 1.2159347534179688e-05)\n",
      "('minor minor loop : ', 6.198883056640625e-06)\n",
      "('minor minor loop : ', 1.2874603271484375e-05)\n",
      "('minor minor loop : ', 6.198883056640625e-06)\n",
      "('minor minor loop : ', 7.152557373046875e-06)\n",
      "('minor minor loop : ', 5.245208740234375e-06)\n",
      "('minor minor loop : ', 6.9141387939453125e-06)\n",
      "('minor minor loop : ', 5.0067901611328125e-06)\n",
      "('minor minor loop : ', 5.9604644775390625e-06)\n",
      "('minor minor loop : ', 6.9141387939453125e-06)\n",
      "('minor minor loop : ', 5.0067901611328125e-06)\n",
      "('minor minor loop : ', 4.76837158203125e-06)\n",
      "('minor minor loop : ', 0.5439329147338867)\n",
      "('minor minor loop : ', 0.5466229915618896)\n",
      "('minor minor loop : ', 0.6131222248077393)\n",
      "('minor minor loop : ', 0.5704569816589355)\n",
      "('minor minor loop : ', 0.5360488891601562)\n",
      "('minor minor loop : ', 0.6324441432952881)\n",
      "('minor minor loop : ', 0.5351982116699219)\n",
      "('minor minor loop : ', 0.501000165939331)\n",
      "('minor minor loop : ', 0.5024106502532959)\n",
      "('minor minor loop : ', 0.519676923751831)\n",
      "('minor minor loop : ', 0.5307810306549072)\n",
      "('minor minor loop : ', 0.5101010799407959)\n",
      "('minor minor loop : ', 0.6026320457458496)\n",
      "('minor minor loop : ', 0.6062242984771729)\n",
      "('minor minor loop : ', 0.5803163051605225)\n",
      "('minor minor loop : ', 0.5507442951202393)\n",
      "('minor minor loop : ', 0.5979232788085938)\n",
      "('minor minor loop : ', 0.5761401653289795)\n",
      "('minor minor loop : ', 0.5455617904663086)\n",
      "('minor minor loop : ', 0.5579788684844971)\n",
      "('minor minor loop : ', 0.6214699745178223)\n",
      "('minor minor loop : ', 0.6263871192932129)\n",
      "('minor minor loop : ', 0.61403489112854)\n",
      "('minor minor loop : ', 0.6371269226074219)\n",
      "('minor minor loop : ', 0.6401889324188232)\n",
      "('minor minor loop : ', 0.6269180774688721)\n",
      "('minor minor loop : ', 0.6784698963165283)\n",
      "('minor minor loop : ', 0.6415417194366455)\n",
      "('minor minor loop : ', 1.0013580322265625e-05)\n",
      "('minor minor loop : ', 0.6800029277801514)\n",
      "('minor minor loop : ', 0.6519510746002197)\n",
      "('minor minor loop : ', 0.5759439468383789)\n",
      "('minor minor loop : ', 0.589209794998169)\n",
      "('minor minor loop : ', 0.6550679206848145)\n",
      "('minor minor loop : ', 0.5877399444580078)\n",
      "('minor minor loop : ', 0.6828153133392334)\n",
      "('minor minor loop : ', 0.5719809532165527)\n",
      "('minor minor loop : ', 0.7114810943603516)\n",
      "('minor minor loop : ', 0.6428830623626709)\n",
      "('minor minor loop : ', 0.5698339939117432)\n",
      "('minor minor loop : ', 0.6680648326873779)\n",
      "('minor minor loop : ', 0.5651557445526123)\n",
      "('minor minor loop : ', 0.5047681331634521)\n",
      "('minor minor loop : ', 0.5356988906860352)\n",
      "('minor minor loop : ', 0.5131070613861084)\n",
      "('minor minor loop : ', 0.6768190860748291)\n",
      "('minor minor loop : ', 0.6633942127227783)\n",
      "('minor minor loop : ', 0.5508480072021484)\n",
      "('minor minor loop : ', 0.5236449241638184)\n",
      "('minor minor loop : ', 0.6197030544281006)\n",
      "('minor minor loop : ', 0.6031110286712646)\n",
      "('minor minor loop : ', 0.6340570449829102)\n",
      "('minor minor loop : ', 0.6096780300140381)\n",
      "('minor minor loop : ', 1.0013580322265625e-05)\n",
      "('minor minor loop : ', 0.6583387851715088)\n",
      "('minor minor loop : ', 0.694061279296875)\n",
      "('minor minor loop : ', 0.6349871158599854)\n",
      "('minor minor loop : ', 0.5987968444824219)\n",
      "('minor minor loop : ', 0.5954208374023438)\n",
      "('minor minor loop : ', 0.5446619987487793)\n",
      "('minor minor loop : ', 0.5596601963043213)\n",
      "('minor minor loop : ', 0.5647642612457275)\n",
      "('minor minor loop : ', 0.6245260238647461)\n",
      "('minor minor loop : ', 0.5730228424072266)\n",
      "('minor minor loop : ', 0.7005019187927246)\n",
      "('minor minor loop : ', 0.631033182144165)\n",
      "('minor minor loop : ', 0.6506037712097168)\n",
      "('minor minor loop : ', 0.6875040531158447)\n",
      "('minor minor loop : ', 0.5809710025787354)\n",
      "('minor minor loop : ', 0.6268930435180664)\n",
      "('minor minor loop : ', 0.6887648105621338)\n",
      "('minor minor loop : ', 0.6200687885284424)\n",
      "('minor minor loop : ', 0.6332800388336182)\n",
      "('minor minor loop : ', 0.5595510005950928)\n",
      "('minor minor loop : ', 0.5252752304077148)\n",
      "('minor minor loop : ', 0.500434160232544)\n",
      "('minor minor loop : ', 0.6308579444885254)\n",
      "('minor minor loop : ', 0.6570591926574707)\n",
      "('minor minor loop : ', 0.5521590709686279)\n",
      "('minor loop : ', 3)\n",
      "('Selected freqs', array([73, 48,  2, 39,  4,  5,  6,  7,  8,  9, 10, 11, 12, 13, 14, 15, 16,\n",
      "       17, 18, 19]))\n",
      "('R=', 0.15607043480991664)\n",
      "--------------------------------\n",
      "('minor minor loop : ', 0.7425332069396973)\n",
      "('minor minor loop : ', 0.6786518096923828)\n",
      "('minor minor loop : ', 0.6804962158203125)\n",
      "('minor minor loop : ', 1.3828277587890625e-05)\n",
      "('minor minor loop : ', 0.5868289470672607)\n",
      "('minor minor loop : ', 0.5651991367340088)\n",
      "('minor minor loop : ', 9.059906005859375e-06)\n",
      "('minor minor loop : ', 1.0013580322265625e-05)\n",
      "('minor minor loop : ', 1.0013580322265625e-05)\n",
      "('minor minor loop : ', 1.1920928955078125e-05)\n",
      "('minor minor loop : ', 5.7220458984375e-06)\n",
      "('minor minor loop : ', 1.0967254638671875e-05)\n",
      "('minor minor loop : ', 5.9604644775390625e-06)\n",
      "('minor minor loop : ', 1.0967254638671875e-05)\n",
      "('minor minor loop : ', 6.9141387939453125e-06)\n",
      "('minor minor loop : ', 5.9604644775390625e-06)\n",
      "('minor minor loop : ', 4.76837158203125e-06)\n",
      "('minor minor loop : ', 5.0067901611328125e-06)\n",
      "('minor minor loop : ', 5.245208740234375e-06)\n",
      "('minor minor loop : ', 4.76837158203125e-06)\n",
      "('minor minor loop : ', 5.0067901611328125e-06)\n",
      "('minor minor loop : ', 0.6304802894592285)\n",
      "('minor minor loop : ', 0.61273193359375)\n",
      "('minor minor loop : ', 0.6416041851043701)\n",
      "('minor minor loop : ', 0.6276838779449463)\n",
      "('minor minor loop : ', 0.5770072937011719)\n",
      "('minor minor loop : ', 0.6260008811950684)\n",
      "('minor minor loop : ', 0.7004661560058594)\n",
      "('minor minor loop : ', 0.6092491149902344)\n",
      "('minor minor loop : ', 0.6388640403747559)\n",
      "('minor minor loop : ', 0.594581127166748)\n",
      "('minor minor loop : ', 0.7374939918518066)\n",
      "('minor minor loop : ', 0.6766951084136963)\n",
      "('minor minor loop : ', 0.640380859375)\n",
      "('minor minor loop : ', 0.5567970275878906)\n",
      "('minor minor loop : ', 0.5751371383666992)\n",
      "('minor minor loop : ', 0.6763489246368408)\n",
      "('minor minor loop : ', 0.6561760902404785)\n",
      "('minor minor loop : ', 0.7021439075469971)\n",
      "('minor minor loop : ', 0.7217588424682617)\n",
      "('minor minor loop : ', 9.059906005859375e-06)\n",
      "('minor minor loop : ', 0.7664058208465576)\n",
      "('minor minor loop : ', 0.5342628955841064)\n",
      "('minor minor loop : ', 0.5428318977355957)\n",
      "('minor minor loop : ', 0.5003130435943604)\n",
      "('minor minor loop : ', 0.5250217914581299)\n",
      "('minor minor loop : ', 0.513556957244873)\n",
      "('minor minor loop : ', 0.5323328971862793)\n",
      "('minor minor loop : ', 0.5490310192108154)\n",
      "('minor minor loop : ', 1.3113021850585938e-05)\n",
      "('minor minor loop : ', 0.5341429710388184)\n",
      "('minor minor loop : ', 0.5157699584960938)\n",
      "('minor minor loop : ', 0.535742998123169)\n",
      "('minor minor loop : ', 0.5184659957885742)\n",
      "('minor minor loop : ', 0.5217840671539307)\n",
      "('minor minor loop : ', 0.5490481853485107)\n",
      "('minor minor loop : ', 0.5304059982299805)\n",
      "('minor minor loop : ', 0.5725650787353516)\n",
      "('minor minor loop : ', 0.5025818347930908)\n",
      "('minor minor loop : ', 0.5238361358642578)\n",
      "('minor minor loop : ', 0.5365970134735107)\n",
      "('minor minor loop : ', 0.5975117683410645)\n",
      "('minor minor loop : ', 0.5382411479949951)\n",
      "('minor minor loop : ', 0.537229061126709)\n",
      "('minor minor loop : ', 0.5372092723846436)\n",
      "('minor minor loop : ', 0.5103366374969482)\n",
      "('minor minor loop : ', 0.549677848815918)\n",
      "('minor minor loop : ', 0.5199460983276367)\n",
      "('minor minor loop : ', 0.5070819854736328)\n",
      "('minor minor loop : ', 0.5284831523895264)\n",
      "('minor minor loop : ', 0.5226321220397949)\n",
      "('minor minor loop : ', 0.5403158664703369)\n",
      "('minor minor loop : ', 0.5193588733673096)\n",
      "('minor minor loop : ', 0.5187251567840576)\n",
      "('minor minor loop : ', 2.09808349609375e-05)\n",
      "('minor minor loop : ', 0.5176188945770264)\n",
      "('minor minor loop : ', 0.5412070751190186)\n",
      "('minor minor loop : ', 0.5598158836364746)\n",
      "('minor minor loop : ', 0.5173377990722656)\n",
      "('minor minor loop : ', 0.5249197483062744)\n",
      "('minor minor loop : ', 0.560189962387085)\n",
      "('minor minor loop : ', 0.5344128608703613)\n",
      "('minor minor loop : ', 0.5314738750457764)\n",
      "('minor minor loop : ', 0.5262401103973389)\n",
      "('minor minor loop : ', 0.5102348327636719)\n",
      "('minor minor loop : ', 0.5146698951721191)\n",
      "('minor minor loop : ', 0.5505468845367432)\n",
      "('minor minor loop : ', 0.5662198066711426)\n",
      "('minor minor loop : ', 0.5432288646697998)\n",
      "('minor minor loop : ', 0.5421750545501709)\n",
      "('minor minor loop : ', 0.5344748497009277)\n",
      "('minor minor loop : ', 0.5514369010925293)\n",
      "('minor minor loop : ', 0.5559799671173096)\n",
      "('minor minor loop : ', 0.5092229843139648)\n",
      "('minor minor loop : ', 0.5352911949157715)\n",
      "('minor minor loop : ', 0.5087671279907227)\n",
      "('minor minor loop : ', 0.5586841106414795)\n",
      "('minor minor loop : ', 0.513247013092041)\n",
      "('minor minor loop : ', 0.5316510200500488)\n",
      "('minor minor loop : ', 0.5765471458435059)\n",
      "('minor loop : ', 4)\n",
      "('Selected freqs', array([73, 48,  2, 39, 52,  5,  6,  7,  8,  9, 10, 11, 12, 13, 14, 15, 16,\n",
      "       17, 18, 19]))\n",
      "('R=', 0.1487126077441756)\n",
      "--------------------------------\n",
      "('minor minor loop : ', 0.5129477977752686)\n",
      "('minor minor loop : ', 0.5203342437744141)\n",
      "('minor minor loop : ', 0.5443320274353027)\n",
      "('minor minor loop : ', 1.0013580322265625e-05)\n",
      "('minor minor loop : ', 0.5843472480773926)\n",
      "('minor minor loop : ', 0.5342779159545898)\n",
      "('minor minor loop : ', 0.5443780422210693)\n",
      "('minor minor loop : ', 9.059906005859375e-06)\n",
      "('minor minor loop : ', 1.0013580322265625e-05)\n",
      "('minor minor loop : ', 1.9788742065429688e-05)\n",
      "('minor minor loop : ', 1.0013580322265625e-05)\n",
      "('minor minor loop : ', 1.9073486328125e-05)\n",
      "('minor minor loop : ', 1.0013580322265625e-05)\n",
      "('minor minor loop : ', 5.0067901611328125e-06)\n",
      "('minor minor loop : ', 9.059906005859375e-06)\n",
      "('minor minor loop : ', 9.775161743164062e-06)\n",
      "('minor minor loop : ', 7.867813110351562e-06)\n",
      "('minor minor loop : ', 4.76837158203125e-06)\n",
      "('minor minor loop : ', 5.245208740234375e-06)\n",
      "('minor minor loop : ', 7.867813110351562e-06)\n",
      "('minor minor loop : ', 4.76837158203125e-06)\n",
      "('minor minor loop : ', 0.5005810260772705)\n",
      "('minor minor loop : ', 0.5137569904327393)\n",
      "('minor minor loop : ', 0.5183749198913574)\n",
      "('minor minor loop : ', 0.540006160736084)\n",
      "('minor minor loop : ', 0.5210630893707275)\n",
      "('minor minor loop : ', 0.5432238578796387)\n",
      "('minor minor loop : ', 0.535703182220459)\n",
      "('minor minor loop : ', 0.517319917678833)\n",
      "('minor minor loop : ', 0.5652379989624023)\n",
      "('minor minor loop : ', 0.6100308895111084)\n",
      "('minor minor loop : ', 0.5665369033813477)\n",
      "('minor minor loop : ', 0.5584871768951416)\n",
      "('minor minor loop : ', 0.5482759475708008)\n",
      "('minor minor loop : ', 0.5597541332244873)\n",
      "('minor minor loop : ', 0.5554227828979492)\n",
      "('minor minor loop : ', 0.572824239730835)\n",
      "('minor minor loop : ', 0.6037099361419678)\n",
      "('minor minor loop : ', 0.5585269927978516)\n",
      "('minor minor loop : ', 0.5730838775634766)\n",
      "('minor minor loop : ', 1.4066696166992188e-05)\n",
      "('minor minor loop : ', 0.6155200004577637)\n",
      "('minor minor loop : ', 0.6207339763641357)\n",
      "('minor minor loop : ', 0.5369057655334473)\n",
      "('minor minor loop : ', 0.5103850364685059)\n",
      "('minor minor loop : ', 0.5128672122955322)\n",
      "('minor minor loop : ', 0.5321459770202637)\n",
      "('minor minor loop : ', 0.5190370082855225)\n",
      "('minor minor loop : ', 0.54691481590271)\n",
      "('minor minor loop : ', 1.3113021850585938e-05)\n",
      "('minor minor loop : ', 0.4935648441314697)\n",
      "('minor minor loop : ', 0.5852670669555664)\n",
      "('minor minor loop : ', 0.5508811473846436)\n",
      "('minor minor loop : ', 1.0967254638671875e-05)\n",
      "('minor minor loop : ', 0.5574779510498047)\n",
      "('minor minor loop : ', 0.5159640312194824)\n",
      "('minor minor loop : ', 0.5388617515563965)\n",
      "('minor minor loop : ', 0.5475959777832031)\n",
      "('minor minor loop : ', 0.5029020309448242)\n",
      "('minor minor loop : ', 0.510565996170044)\n",
      "('minor minor loop : ', 0.5521998405456543)\n",
      "('minor minor loop : ', 0.5160880088806152)\n",
      "('minor minor loop : ', 0.5207400321960449)\n",
      "('minor minor loop : ', 0.5193789005279541)\n",
      "('minor minor loop : ', 0.5543160438537598)\n",
      "('minor minor loop : ', 0.5188307762145996)\n",
      "('minor minor loop : ', 0.5143241882324219)\n",
      "('minor minor loop : ', 0.5315299034118652)\n",
      "('minor minor loop : ', 0.500054121017456)\n",
      "('minor minor loop : ', 0.5641262531280518)\n",
      "('minor minor loop : ', 0.482921838760376)\n",
      "('minor minor loop : ', 0.5476298332214355)\n",
      "('minor minor loop : ', 0.5112950801849365)\n",
      "('minor minor loop : ', 0.5385730266571045)\n",
      "('minor minor loop : ', 2.193450927734375e-05)\n",
      "('minor minor loop : ', 0.5141229629516602)\n",
      "('minor minor loop : ', 0.517352819442749)\n",
      "('minor minor loop : ', 0.529350996017456)\n",
      "('minor minor loop : ', 0.5417509078979492)\n",
      "('minor minor loop : ', 0.5201928615570068)\n",
      "('minor minor loop : ', 0.5406420230865479)\n",
      "('minor minor loop : ', 0.5225961208343506)\n",
      "('minor minor loop : ', 0.5158748626708984)\n",
      "('minor minor loop : ', 0.6128420829772949)\n",
      "('minor minor loop : ', 0.7202968597412109)\n",
      "('minor minor loop : ', 0.6760051250457764)\n",
      "('minor minor loop : ', 0.6498539447784424)\n",
      "('minor minor loop : ', 0.6777091026306152)\n",
      "('minor minor loop : ', 0.6992356777191162)\n",
      "('minor minor loop : ', 0.7124249935150146)\n",
      "('minor minor loop : ', 0.7045869827270508)\n",
      "('minor minor loop : ', 0.6673071384429932)\n",
      "('minor minor loop : ', 0.5652351379394531)\n",
      "('minor minor loop : ', 0.6281490325927734)\n",
      "('minor minor loop : ', 0.6613430976867676)\n",
      "('minor minor loop : ', 0.6717491149902344)\n",
      "('minor minor loop : ', 0.6411552429199219)\n",
      "('minor minor loop : ', 0.6491281986236572)\n",
      "('minor minor loop : ', 0.8049097061157227)\n",
      "('minor minor loop : ', 0.6121127605438232)\n",
      "('minor loop : ', 5)\n",
      "('Selected freqs', array([73, 48,  2, 39, 52, 40,  6,  7,  8,  9, 10, 11, 12, 13, 14, 15, 16,\n",
      "       17, 18, 19]))\n",
      "('R=', 0.14200528141338767)\n",
      "--------------------------------\n",
      "('minor minor loop : ', 0.6960728168487549)\n",
      "('minor minor loop : ', 0.7649810314178467)\n",
      "('minor minor loop : ', 0.5549101829528809)\n",
      "('minor minor loop : ', 1.3113021850585938e-05)\n",
      "('minor minor loop : ', 0.6589643955230713)\n",
      "('minor minor loop : ', 0.7141513824462891)\n",
      "('minor minor loop : ', 0.6647942066192627)\n",
      "('minor minor loop : ', 0.599898099899292)\n",
      "('minor minor loop : ', 2.4080276489257812e-05)\n",
      "('minor minor loop : ', 1.0967254638671875e-05)\n",
      "('minor minor loop : ', 9.059906005859375e-06)\n",
      "('minor minor loop : ', 1.5020370483398438e-05)\n",
      "('minor minor loop : ', 1.0967254638671875e-05)\n",
      "('minor minor loop : ', 6.9141387939453125e-06)\n",
      "('minor minor loop : ', 7.867813110351562e-06)\n",
      "('minor minor loop : ', 6.9141387939453125e-06)\n",
      "('minor minor loop : ', 1.3113021850585938e-05)\n",
      "('minor minor loop : ', 1.8358230590820312e-05)\n",
      "('minor minor loop : ', 1.0967254638671875e-05)\n",
      "('minor minor loop : ', 8.106231689453125e-06)\n",
      "('minor minor loop : ', 1.4066696166992188e-05)\n",
      "('minor minor loop : ', 0.5679600238800049)\n",
      "('minor minor loop : ', 0.5362780094146729)\n",
      "('minor minor loop : ', 0.5208539962768555)\n",
      "('minor minor loop : ', 0.5185308456420898)\n",
      "('minor minor loop : ', 0.5299949645996094)\n",
      "('minor minor loop : ', 0.5122261047363281)\n",
      "('minor minor loop : ', 0.5400679111480713)\n",
      "('minor minor loop : ', 0.7332558631896973)\n",
      "('minor minor loop : ', 0.7088577747344971)\n",
      "('minor minor loop : ', 0.6262891292572021)\n",
      "('minor minor loop : ', 0.6354169845581055)\n",
      "('minor minor loop : ', 0.6336860656738281)\n",
      "('minor minor loop : ', 0.7627739906311035)\n",
      "('minor minor loop : ', 0.6572632789611816)\n",
      "('minor minor loop : ', 0.5496912002563477)\n",
      "('minor minor loop : ', 0.6756448745727539)\n",
      "('minor minor loop : ', 0.558419942855835)\n",
      "('minor minor loop : ', 0.5698769092559814)\n",
      "('minor minor loop : ', 0.6130030155181885)\n",
      "('minor minor loop : ', 1.4781951904296875e-05)\n",
      "('minor minor loop : ', 1.0013580322265625e-05)\n",
      "('minor minor loop : ', 0.6088781356811523)\n",
      "('minor minor loop : ', 0.6135528087615967)\n",
      "('minor minor loop : ', 0.6102819442749023)\n",
      "('minor minor loop : ', 0.5463669300079346)\n",
      "('minor minor loop : ', 0.5611782073974609)\n",
      "('minor minor loop : ', 0.5217149257659912)\n",
      "('minor minor loop : ', 0.616243839263916)\n",
      "('minor minor loop : ', 1.0013580322265625e-05)\n",
      "('minor minor loop : ', 0.5617759227752686)\n",
      "('minor minor loop : ', 0.5606341361999512)\n",
      "('minor minor loop : ', 0.5035479068756104)\n",
      "('minor minor loop : ', 1.0967254638671875e-05)\n"
     ]
    }
   ],
   "source": [
    "freqs, sigma, mu, detSigma, invSigma = detectFreqs(features[:, 0:15, :, 0:100], 20)"
   ]
  },
  {
   "cell_type": "code",
   "execution_count": null,
   "metadata": {},
   "outputs": [],
   "source": [
    "features.shape"
   ]
  },
  {
   "cell_type": "code",
   "execution_count": null,
   "metadata": {},
   "outputs": [],
   "source": [
    "%timeit makePrediction(features[0][0][:, freqs], sigma, mu)"
   ]
  },
  {
   "cell_type": "code",
   "execution_count": null,
   "metadata": {},
   "outputs": [],
   "source": [
    "acc = 0\n",
    "for c in range(0, 6) :\n",
    "    for cc in range(15, 20) :\n",
    "        predicted = makePrediction(features[c][cc][:, freqs], sigma=sigma, mu=mu)\n",
    "        if(predicted == c) :\n",
    "            acc += 1\n",
    "            \n",
    "acc /= (5 * 6)"
   ]
  },
  {
   "cell_type": "code",
   "execution_count": null,
   "metadata": {},
   "outputs": [],
   "source": []
  },
  {
   "cell_type": "code",
   "execution_count": 26,
   "metadata": {},
   "outputs": [
    {
     "data": {
      "text/plain": [
       "0.5"
      ]
     },
     "execution_count": 26,
     "metadata": {},
     "output_type": "execute_result"
    }
   ],
   "source": [
    "acc"
   ]
  },
  {
   "cell_type": "markdown",
   "metadata": {},
   "source": [
    " "
   ]
  },
  {
   "cell_type": "markdown",
   "metadata": {},
   "source": [
    " "
   ]
  },
  {
   "cell_type": "markdown",
   "metadata": {},
   "source": [
    "期待値 0.166...での正解率0.5\n",
    "\n",
    "そこそこ当たってそう"
   ]
  },
  {
   "cell_type": "markdown",
   "metadata": {},
   "source": [
    "本番\n",
    "\n",
    "非常に時間がかかることが予想される"
   ]
  },
  {
   "cell_type": "code",
   "execution_count": 35,
   "metadata": {},
   "outputs": [
    {
     "name": "stdout",
     "output_type": "stream",
     "text": [
      "preparation\n",
      "main loop start\n",
      "********************************\n",
      "major loop\n",
      "--------------------------------\n",
      "('minor loop : ', 0)\n",
      "('Selected freqs', array([5, 1]))\n",
      "('R=', 0.9968268453097271)\n",
      "--------------------------------\n",
      "('minor loop : ', 1)\n",
      "('Selected freqs', array([5, 4]))\n",
      "('R=', 0.9956835361266605)\n",
      "--------------------------------\n",
      "********************************\n",
      "major loop\n",
      "--------------------------------\n",
      "('minor loop : ', 0)\n",
      "('Selected freqs', array([5, 4]))\n",
      "('R=', 0.9956835361266605)\n",
      "--------------------------------\n",
      "('minor loop : ', 1)\n",
      "('Selected freqs', array([5, 4]))\n",
      "('R=', 0.9956835361266605)\n",
      "--------------------------------\n",
      "done\n"
     ]
    }
   ],
   "source": [
    "D = 2\n",
    "freqs, sigma, mu = detectFreqs(features, D)"
   ]
  },
  {
   "cell_type": "code",
   "execution_count": 9,
   "metadata": {},
   "outputs": [],
   "source": [
    "import numpy as np\n",
    "from numpy import fft"
   ]
  },
  {
   "cell_type": "code",
   "execution_count": 13,
   "metadata": {},
   "outputs": [],
   "source": [
    "temp = fft.fft([0, 1, 2, 3, 4])"
   ]
  },
  {
   "cell_type": "code",
   "execution_count": 15,
   "metadata": {},
   "outputs": [
    {
     "data": {
      "text/plain": [
       "array([ 10.        ,   4.25325404,   2.62865556,   2.62865556,   4.25325404])"
      ]
     },
     "execution_count": 15,
     "metadata": {},
     "output_type": "execute_result"
    }
   ],
   "source": [
    "np.abs(temp)"
   ]
  },
  {
   "cell_type": "markdown",
   "metadata": {},
   "source": [
    "そもそもの計算が正しいか簡単に確認"
   ]
  },
  {
   "cell_type": "code",
   "execution_count": 13,
   "metadata": {},
   "outputs": [],
   "source": [
    "def culR(feature, sigma, mu) :\n",
    "    detSigma = np.linalg.det(sigma)\n",
    "    invSigma = np.linalg.inv(sigma)\n",
    "    d = sigma.shape[0]\n",
    "    x_muc = np.matrix(feature - mu).T\n",
    "\n",
    "    res = ((2 * np.pi) ** (-d / 2.0) * detSigma ** (-0.5) * np.exp(-x_muc.T.dot(invSigma).dot(x_muc) / 2))\n",
    "    \n",
    "    return res"
   ]
  },
  {
   "cell_type": "code",
   "execution_count": 27,
   "metadata": {},
   "outputs": [
    {
     "data": {
      "text/plain": [
       "matrix([[ 1.59154943]])"
      ]
     },
     "execution_count": 27,
     "metadata": {},
     "output_type": "execute_result"
    }
   ],
   "source": [
    "culR(np.array([0, 0]), np.array([[1, 0], [0, 1]]) * 0.1, np.array([0, 0]))"
   ]
  },
  {
   "cell_type": "code",
   "execution_count": 20,
   "metadata": {},
   "outputs": [
    {
     "data": {
      "text/plain": [
       "array([[ 1.,  0.],\n",
       "       [ 0.,  1.]])"
      ]
     },
     "execution_count": 20,
     "metadata": {},
     "output_type": "execute_result"
    }
   ],
   "source": [
    "np.linalg.inv((np.array([[1, 0], [0, 1]])))"
   ]
  },
  {
   "cell_type": "code",
   "execution_count": 24,
   "metadata": {},
   "outputs": [
    {
     "data": {
      "text/plain": [
       "matrix([[ 1.]])"
      ]
     },
     "execution_count": 24,
     "metadata": {},
     "output_type": "execute_result"
    }
   ],
   "source": [
    "x = np.array([0, 0])\n",
    "mu = np.array([0, 0])\n",
    "x_muc = np.matrix(x - mu).T\n",
    "sigma = np.array([[1, 0], [0, 1]]) * 100\n",
    "invSigma = np.linalg.inv(sigma)\n",
    "\n",
    "np.exp(-x_muc.T.dot(invSigma).dot(x_muc) / 2)"
   ]
  },
  {
   "cell_type": "code",
   "execution_count": null,
   "metadata": {},
   "outputs": [],
   "source": []
  }
 ],
 "metadata": {
  "kernelspec": {
   "display_name": "Python 3",
   "language": "python",
   "name": "python3"
  },
  "language_info": {
   "codemirror_mode": {
    "name": "ipython",
    "version": 3
   },
   "file_extension": ".py",
   "mimetype": "text/x-python",
   "name": "python",
   "nbconvert_exporter": "python",
   "pygments_lexer": "ipython3",
   "version": "3.6.0"
  }
 },
 "nbformat": 4,
 "nbformat_minor": 2
}
