{
 "cells": [
  {
   "cell_type": "code",
   "execution_count": 1,
   "metadata": {},
   "outputs": [],
   "source": [
    "import numpy as np\n",
    "import wave\n",
    "import matplotlib.pyplot as plt\n",
    "%matplotlib inline\n",
    "\n",
    "from numpy import fft\n",
    "import math\n",
    "import makeFeature"
   ]
  },
  {
   "cell_type": "code",
   "execution_count": 2,
   "metadata": {},
   "outputs": [],
   "source": [
    "name = \"./CoinData/001-00.wav\"\n",
    "wavefile = wave.open(name, \"r\")\n",
    "framerate = wavefile.getframerate()\n",
    "data = wavefile.readframes(wavefile.getnframes())\n",
    "x = np.frombuffer(data, dtype=\"int16\")\n",
    "x = x.astype('float64') #### 初めからfloat64にすると、ファイル形式の関係上欲しいデータが得られない"
   ]
  },
  {
   "cell_type": "code",
   "execution_count": 3,
   "metadata": {},
   "outputs": [
    {
     "data": {
      "text/plain": [
       "[<matplotlib.lines.Line2D at 0x10fba3940>]"
      ]
     },
     "execution_count": 3,
     "metadata": {},
     "output_type": "execute_result"
    },
    {
     "data": {
      "image/png": "[encoded data removed]",
      "text/plain": [
       "<matplotlib.figure.Figure at 0x10654fa58>"
      ]
     },
     "metadata": {},
     "output_type": "display_data"
    }
   ],
   "source": [
    "plt.plot(x)"
   ]
  },
  {
   "cell_type": "code",
   "execution_count": null,
   "metadata": {},
   "outputs": [],
   "source": []
  },
  {
   "cell_type": "code",
   "execution_count": null,
   "metadata": {},
   "outputs": [],
   "source": []
  },
  {
   "cell_type": "code",
   "execution_count": 4,
   "metadata": {},
   "outputs": [],
   "source": [
    "BinSize = 0.05 * framerate"
   ]
  },
  {
   "cell_type": "code",
   "execution_count": null,
   "metadata": {},
   "outputs": [],
   "source": []
  },
  {
   "cell_type": "code",
   "execution_count": null,
   "metadata": {},
   "outputs": [],
   "source": []
  },
  {
   "cell_type": "code",
   "execution_count": 5,
   "metadata": {},
   "outputs": [
    {
     "data": {
      "text/plain": [
       "3.49734693877551"
      ]
     },
     "execution_count": 5,
     "metadata": {},
     "output_type": "execute_result"
    }
   ],
   "source": [
    "len(x) / framerate"
   ]
  },
  {
   "cell_type": "code",
   "execution_count": null,
   "metadata": {},
   "outputs": [],
   "source": []
  },
  {
   "cell_type": "code",
   "execution_count": null,
   "metadata": {},
   "outputs": [],
   "source": []
  },
  {
   "cell_type": "code",
   "execution_count": 6,
   "metadata": {},
   "outputs": [],
   "source": [
    "from makeFeature import makeFeature"
   ]
  },
  {
   "cell_type": "code",
   "execution_count": 7,
   "metadata": {},
   "outputs": [
    {
     "name": "stderr",
     "output_type": "stream",
     "text": [
      "/Library/Frameworks/Python.framework/Versions/3.6/lib/python3.6/site-packages/ipykernel_launcher.py:17: RuntimeWarning: divide by zero encountered in log10\n"
     ]
    }
   ],
   "source": [
    "coins = [\"001\", \"005\", \"010\", \"050\", \"100\", \"500\"]\n",
    "OnPeriods = 20\n",
    "\n",
    "features = np.zeros([6, 20, OnPeriods, 1858])\n",
    "for coinIndex, coin in enumerate(coins) :\n",
    "    for i in range(0, 20) :\n",
    "        padded = '%02d' % i\n",
    "        filename = \"./CoinData/\" + coin + \"-\" + padded + \".wav\"\n",
    "        #### print(filename)\n",
    "        wavefile = wave.open(filename, \"r\")\n",
    "        framerate = wavefile.getframerate()\n",
    "        data = wavefile.readframes(wavefile.getnframes())\n",
    "        wavefile.close()\n",
    "        x = np.frombuffer(data, dtype=\"int16\")\n",
    "        x = x.astype('float64') #### 初めからfloat64にすると、ファイル形式の関係上欲しいデータが得られない\n",
    "        \n",
    "        f = makeFeature(x, framerate)\n",
    "        \n",
    "        features[coinIndex, i, :, :] = f"
   ]
  },
  {
   "cell_type": "code",
   "execution_count": 8,
   "metadata": {},
   "outputs": [
    {
     "data": {
      "text/plain": [
       "array([[[[ 28.2938594 ,  24.54653694,  35.13756573, ...,  -0.75338163,\n",
       "           -0.11319079,  -0.26167534],\n",
       "         [  8.01612262,  29.80652801,  28.08263808, ...,  -0.45750578,\n",
       "           -0.11555305,  -0.48596432],\n",
       "         [ 27.62880988,   8.20639657,  26.22357229, ..., -24.59294257,\n",
       "          -35.4532097 , -24.3922525 ],\n",
       "         ..., \n",
       "         [  5.16868392,  26.96130421,  26.71030188, ..., -23.1566048 ,\n",
       "          -22.99797394, -23.13720411],\n",
       "         [ 28.85947326,  20.37985256,  24.96065148, ...,  -8.25677043,\n",
       "           -8.16826844,  -8.20234597],\n",
       "         [ 31.11849664,  23.75757714,  35.4326339 , ...,  -6.17842819,\n",
       "           -9.69801449,  -6.87160248]],\n",
       "\n",
       "        [[ 18.52302092,  23.37763912,  33.92235435, ...,  10.60709411,\n",
       "           10.46464563,   9.20262146],\n",
       "         [ 27.71917423,  19.6951242 ,  26.54097924, ..., -13.17946544,\n",
       "           -7.33323886, -10.41713578],\n",
       "         [ 24.36839964,  22.10920254,  32.03753264, ..., -21.45742975,\n",
       "          -10.47112973, -16.23606495],\n",
       "         ..., \n",
       "         [ 24.96402646,  27.19441518,  29.56023337, ..., -15.97229191,\n",
       "          -26.02522099, -16.78267617],\n",
       "         [ 28.06202117,  25.17002153,  32.43857976, ..., -24.79525191,\n",
       "          -15.32760577, -20.16272366],\n",
       "         [ 22.31847142,  19.7223708 ,  23.74297471, ..., -21.50654845,\n",
       "          -18.31963869, -20.92093016]],\n",
       "\n",
       "        [[ 13.99042279,  18.35893224,  31.67750851, ..., -25.50223827,\n",
       "          -20.28734734, -24.46563236],\n",
       "         [  9.67921358,  20.8979922 ,  27.69450241, ..., -30.25285789,\n",
       "          -28.67079388, -30.8070199 ],\n",
       "         [ 21.7294565 ,  24.80014801,  31.05123521, ..., -31.79832412,\n",
       "          -29.55449371, -32.16739978],\n",
       "         ..., \n",
       "         [ -5.69965139,  26.42038391,  22.64674285, ..., -10.6728282 ,\n",
       "          -14.85666308, -11.2524781 ],\n",
       "         [  2.76927633,  26.59157663,  19.30785804, ..., -24.19206903,\n",
       "          -22.16614299, -24.75677698],\n",
       "         [ 26.0671542 ,  32.26333024,  29.90371266, ...,   8.67879148,\n",
       "            8.6379157 ,   8.69655723]],\n",
       "\n",
       "        ..., \n",
       "        [[ 26.78429511,  31.29169841,  32.83504327, ..., -29.97728506,\n",
       "          -29.73587051, -28.35746027],\n",
       "         [ 12.12645717,  23.56964381,  26.59587251, ..., -33.11826318,\n",
       "          -27.51601705, -31.65880813],\n",
       "         [  5.67094715,  22.79486341,  14.46199242, ..., -24.97657637,\n",
       "          -30.96508458, -25.4059406 ],\n",
       "         ..., \n",
       "         [ 25.30897835,  24.12222828,  28.4426568 , ..., -22.9573222 ,\n",
       "          -26.64923909, -21.88762117],\n",
       "         [ 25.18344477,  23.65911636,  31.05039188, ..., -26.46308242,\n",
       "          -24.73925819, -25.53670995],\n",
       "         [ 22.1724662 ,  22.30382712,  31.05191153, ..., -23.95243034,\n",
       "          -22.9087709 , -24.28688816]],\n",
       "\n",
       "        [[ 21.72105966,  29.47912703,  25.27079404, ...,  -5.09522102,\n",
       "           -4.51701534,  -4.52009176],\n",
       "         [ 24.75579734,  25.35813565,  30.18668605, ...,  -3.72701392,\n",
       "           -5.74784777,  -3.95881741],\n",
       "         [ 15.5768012 ,  18.38907116,  27.9839102 , ..., -18.94642916,\n",
       "          -22.96219903, -19.65628773],\n",
       "         ..., \n",
       "         [ 25.82479884,  28.90073305,  27.47389597, ..., -24.10880719,\n",
       "          -18.95718745, -22.02022337],\n",
       "         [ 26.07518264,  26.89905285,  32.20247539, ..., -14.14685212,\n",
       "          -17.47632304, -15.05540698],\n",
       "         [ 22.30579349,  21.14661351,   3.52549404, ..., -15.25019801,\n",
       "          -16.16041032, -15.49137838]],\n",
       "\n",
       "        [[ 16.86191409,  24.90750715,  12.33739323, ...,  -1.89296402,\n",
       "           -2.09185539,  -1.39780561],\n",
       "         [ 17.13679639,  16.33411235,  28.5105903 , ..., -27.88066637,\n",
       "          -33.75802516, -29.53527249],\n",
       "         [ -4.60267803,  17.61096308,  28.54201715, ..., -22.5700254 ,\n",
       "          -18.57519776, -21.76550221],\n",
       "         ..., \n",
       "         [ 18.14169196,  20.81042067,  31.18015846, ..., -14.45259478,\n",
       "           -7.20566742, -11.12984415],\n",
       "         [ 19.04185065,  26.90938514,  27.90149059, ..., -11.05815047,\n",
       "          -10.6560262 , -10.86517793],\n",
       "         [ 22.93184096,  23.38898807,  21.6269246 , ..., -20.42196175,\n",
       "          -17.58772763, -20.33405237]]],\n",
       "\n",
       "\n",
       "       [[[ 41.00413933,  32.94348798,  40.13491063, ...,  -2.34579544,\n",
       "           -0.74628299, -10.37692204],\n",
       "         [ 35.82907067,  36.14728972,  38.45624684, ...,  -4.92112405,\n",
       "           -5.2994454 ,  -5.06157882],\n",
       "         [ 22.61090531,  24.10996576,  35.39172623, ..., -37.48030703,\n",
       "          -27.14482287, -30.58177119],\n",
       "         ..., \n",
       "         [  0.21399691,  16.38224461,  21.92560283, ..., -19.21110918,\n",
       "          -18.81630295, -19.21326665],\n",
       "         [ 16.62523295,  14.26985378,  31.65418162, ...,  -0.69135035,\n",
       "            0.61149892,  -0.34677793],\n",
       "         [ 19.91131114,  20.07400771,  24.48973593, ...,  -0.15682916,\n",
       "            0.12348171,  -0.06649263]],\n",
       "\n",
       "        [[ 29.42370467,  34.94887698,  45.57181449, ..., -14.57234912,\n",
       "          -15.2591841 , -14.60064822],\n",
       "         [ 25.18691427,  26.66688896,  36.18546596, ..., -20.63097974,\n",
       "          -19.94512577, -19.98650261],\n",
       "         [ 27.34517397,  22.33849627,  30.86269484, ..., -31.98543942,\n",
       "          -13.70182792, -22.87348765],\n",
       "         ..., \n",
       "         [ 21.52664863,  20.09982715,  15.11700287, ..., -27.79775456,\n",
       "          -36.50026428, -29.34303664],\n",
       "         [  5.54287702,  18.28618058,  29.50139246, ..., -33.54434924,\n",
       "          -28.25134542, -31.29606655],\n",
       "         [ 16.73147663,  22.98654958,  29.37390059, ..., -33.01584321,\n",
       "          -25.35824602, -26.29669951]],\n",
       "\n",
       "        [[ 31.73654118,  25.47748534,  35.16186523, ...,  -3.31288017,\n",
       "           -1.4945225 ,  -2.51598816],\n",
       "         [ 19.50561352,  24.03632806,  36.38433463, ..., -16.02997411,\n",
       "          -16.18941453, -17.0298268 ],\n",
       "         [ 27.50119756,  23.14076733,  32.87258144, ..., -34.12368284,\n",
       "          -36.55572793, -33.12794236],\n",
       "         ..., \n",
       "         [ 12.85382063,  27.590251  ,  14.40199831, ..., -12.18972093,\n",
       "          -18.7197872 , -13.44310728],\n",
       "         [ -7.8511427 ,  28.52138761,  25.82161288, ...,  -8.32174265,\n",
       "           -5.28118278,  -7.23698376],\n",
       "         [ 20.69142331,  15.771731  ,  26.28330553, ..., -10.76231475,\n",
       "           -1.48390117,  -6.09783686]],\n",
       "\n",
       "        ..., \n",
       "        [[ 29.39196586,  36.6309428 ,  27.48386233, ..., -37.21644657,\n",
       "          -18.81390961, -26.56136462],\n",
       "         [  8.35985927,  33.9696969 ,  35.13913626, ..., -17.20880258,\n",
       "          -19.80731154, -17.54882672],\n",
       "         [ 25.22800897,  28.74169365,  34.59567404, ..., -21.04180359,\n",
       "          -19.42118328, -20.37831212],\n",
       "         ..., \n",
       "         [ -3.13469453,  19.04712979,  30.73431704, ...,   3.74251109,\n",
       "            2.84449865,   3.61674515],\n",
       "         [ -1.63815641,  18.51887575,  29.56824883, ...,   3.22840848,\n",
       "            3.76476826,   2.78446034],\n",
       "         [  2.13681029,  13.88328549,  18.75374732, ..., -10.45679044,\n",
       "          -38.11841298, -10.72850211]],\n",
       "\n",
       "        [[ 28.66948227,  31.9505848 ,  39.49811311, ...,  -2.85006665,\n",
       "           -2.48540106,  -2.36586276],\n",
       "         [ 31.6221691 ,  33.06450182,  40.3222491 , ..., -22.00389366,\n",
       "          -18.15420166, -19.75285005],\n",
       "         [ 15.90040852,  22.78613964,  31.99473576, ..., -19.56485378,\n",
       "          -21.99889726, -19.20644908],\n",
       "         ..., \n",
       "         [ 29.13750697,  16.80620226,  32.9629399 , ...,  -3.80666529,\n",
       "          -10.49866957,  -4.9012859 ],\n",
       "         [ 22.60711305,  19.72510326,  24.5534092 , ..., -12.18475121,\n",
       "           -7.25449011, -10.28450209],\n",
       "         [ 22.94363786,  24.27353102,  31.07543   , ...,  -2.33666285,\n",
       "           -0.45369111,  -1.71049733]],\n",
       "\n",
       "        [[ 17.68236382,  36.08608369,  24.36987139, ..., -21.48292157,\n",
       "          -18.7310537 , -22.52422932],\n",
       "         [ 27.921218  ,  31.10325246,  27.22583307, ..., -17.7104379 ,\n",
       "          -23.47695346, -18.725156  ],\n",
       "         [ 10.76066256,  16.69746703,  29.60085956, ..., -28.22234375,\n",
       "          -28.55450383, -27.16111598],\n",
       "         ..., \n",
       "         [  6.54416585,  27.66653658,  29.29615308, ..., -16.4600393 ,\n",
       "          -11.14706477, -13.04555714],\n",
       "         [ -2.04720886,  26.81038551,  18.70891995, ..., -14.22105512,\n",
       "          -21.47686248, -15.15174821],\n",
       "         [ 23.31668527,  30.4108278 ,  32.54053116, ..., -15.1393227 ,\n",
       "          -11.05739726, -13.65252334]]],\n",
       "\n",
       "\n",
       "       [[[ 31.69882327,  32.77824411,  35.86804673, ...,   1.82788203,\n",
       "            1.6332587 ,   1.83678539],\n",
       "         [ 30.51458429,  21.93208874,  36.90655558, ...,   2.4874833 ,\n",
       "            1.13439077,   2.21350234],\n",
       "         [ 27.35159745,  28.58094492,  35.66608292, ..., -16.70068732,\n",
       "          -16.64828228, -17.55102852],\n",
       "         ..., \n",
       "         [ 16.69639834,  24.87406518,  27.38404595, ..., -14.24380156,\n",
       "          -16.12283149, -16.16974808],\n",
       "         [  5.91159131,  23.24350754,  24.26662487, ..., -36.34606833,\n",
       "          -10.33177108, -21.3534586 ],\n",
       "         [ 14.90305436,  17.52013022,  23.78012977, ..., -14.0408567 ,\n",
       "          -17.238222  , -14.90703702]],\n",
       "\n",
       "        [[ 19.20481935,  15.57978772,  28.1949075 , ..., -11.71514224,\n",
       "          -14.65554903, -18.31531633],\n",
       "         [ 12.25231377,  24.01955176,  31.84225694, ..., -12.32229071,\n",
       "          -16.44065611, -13.07015209],\n",
       "         [ 15.11715156,  24.52847628,  32.71384371, ..., -22.57547297,\n",
       "          -24.57227019, -23.84941168],\n",
       "         ..., \n",
       "         [ 14.12781368,  27.13931214,  29.90541796, ..., -36.01348986,\n",
       "          -19.22649359, -27.68167823],\n",
       "         [ 15.12751206,  29.39985893,  29.96190938, ...,  -7.16685829,\n",
       "           -6.36127699,  -6.50109956],\n",
       "         [ 22.25641503,  27.68291311,  30.71385191, ...,  -5.22220555,\n",
       "           -7.56507513,  -5.69953168]],\n",
       "\n",
       "        [[ 25.9151806 ,  23.5438272 ,  31.12994241, ...,  -4.08077367,\n",
       "           -2.52994875,  -3.33143878],\n",
       "         [  8.99366013,  18.53330628,  29.21332941, ...,  -4.47457791,\n",
       "           -2.21542699,  -3.71008572],\n",
       "         [ 16.58038367,  26.63472073,  34.32610462, ..., -18.45725782,\n",
       "          -16.81987346, -18.37426842],\n",
       "         ..., \n",
       "         [ 22.46799466,   7.26248295,  29.23322825, ..., -20.29052375,\n",
       "          -22.168932  , -21.755725  ],\n",
       "         [ 26.07205047,  21.07972602,  30.10339015, ...,  -0.27765822,\n",
       "           -1.80942962,  -0.24750979],\n",
       "         [ 23.16068206,  27.32246794,  30.08402024, ...,  -0.0851292 ,\n",
       "           -1.43183876,  -0.77951399]],\n",
       "\n",
       "        ..., \n",
       "        [[  0.54948846,  26.07680935,  38.46315946, ..., -24.05453728,\n",
       "          -17.47318163, -21.13862945],\n",
       "         [ -5.6240557 ,  21.33167447,  18.6823234 , ..., -19.14655059,\n",
       "          -22.48229897, -20.80667612],\n",
       "         [ 14.11231008,   9.43687856,  19.86782042, ..., -28.65542634,\n",
       "          -35.36910344, -31.57223509],\n",
       "         ..., \n",
       "         [ 10.53522255,  21.18908005,  32.23750949, ...,  -9.57639892,\n",
       "           -8.01623587,  -8.95099683],\n",
       "         [ 16.03140288,  16.28232873,  34.66277143, ..., -28.1898148 ,\n",
       "          -17.45369094, -24.29249564],\n",
       "         [ 13.42811711,  21.17395867,  31.18770857, ...,  -9.71109014,\n",
       "          -12.06826288, -10.08263915]],\n",
       "\n",
       "        [[ 35.31691766,  31.8216869 ,  24.26375158, ...,   2.30423201,\n",
       "           -0.46483181,   1.68888124],\n",
       "         [ 33.25481409,  27.36180474,  37.57274085, ...,   1.87048115,\n",
       "            1.38841954,   1.81852104],\n",
       "         [ 21.33015261,  23.37028664,  34.23267537, ..., -28.21972521,\n",
       "          -28.26658335, -32.56456113],\n",
       "         ..., \n",
       "         [ 16.49411386,  28.7652088 ,  28.1475989 , ..., -19.04274558,\n",
       "          -12.53843201, -16.22859759],\n",
       "         [ 19.92324176,  28.35406785,  29.61286568, ...,  -6.74263537,\n",
       "           -4.39905935,  -5.91139565],\n",
       "         [ 16.46102247,  28.51315291,  18.1412669 , ...,  -4.54160227,\n",
       "           -6.1523415 ,  -4.96253636]],\n",
       "\n",
       "        [[  9.17909161,  38.30983007,  36.35304014, ...,  -5.43102467,\n",
       "           -5.53454182,  -5.31324867],\n",
       "         [ 35.87371752,  22.57936304,  40.28742825, ...,  -4.35042025,\n",
       "           -6.34530431,  -4.66477111],\n",
       "         [ 31.35817697,  25.01234823,  34.33323774, ..., -21.93754647,\n",
       "          -21.83023211, -22.03794593],\n",
       "         ..., \n",
       "         [ 14.10299462,  22.96804609,  18.96565621, ..., -23.42477   ,\n",
       "          -20.74285864, -22.28903899],\n",
       "         [ 15.08113921,  18.35795287,  27.1500992 , ..., -18.17902337,\n",
       "          -25.70179723, -19.44628616],\n",
       "         [  4.68396167,  11.76138078,  24.35392811, ..., -29.03512913,\n",
       "          -25.55271564, -27.24908326]]],\n",
       "\n",
       "\n",
       "       [[[ 38.51704212,  41.00068153,  47.13464224, ...,  -8.75938264,\n",
       "          -10.09984059,  -9.07877346],\n",
       "         [ 36.77024263,  40.91033163,  45.16354256, ..., -13.42251148,\n",
       "           -5.80956087, -10.09546808],\n",
       "         [ 20.16350301,  33.08304543,  40.65313604, ..., -17.05755883,\n",
       "           -8.51037359, -12.75070694],\n",
       "         ..., \n",
       "         [ 14.68427271,  22.6970783 ,  14.317176  , ..., -39.62658702,\n",
       "          -29.52165355, -36.2371946 ],\n",
       "         [ 19.62364984,  24.74137824,  28.98129611, ..., -20.77779639,\n",
       "          -24.01085618, -21.83125139],\n",
       "         [ 29.752706  ,  20.96091742,  27.70233796, ..., -26.01442359,\n",
       "          -20.02687919, -23.46203358]],\n",
       "\n",
       "        [[ 25.80947518,  23.81553362,  27.7246556 , ...,  -0.50235678,\n",
       "           -0.71338319,  -0.28072606],\n",
       "         [ 27.97249771,  31.36444498,  37.78395977, ...,  -1.25661931,\n",
       "           -0.11974777,  -0.75430685],\n",
       "         [ 25.54037952,  31.01091459,  38.39471528, ..., -20.13958739,\n",
       "          -20.5083519 , -19.50778389],\n",
       "         ..., \n",
       "         [ 23.52786316,  18.31036801,  34.527224  , ..., -18.82637128,\n",
       "          -16.67267872, -18.11357945],\n",
       "         [ 13.20190042,  15.40275734,  19.63007044, ..., -18.05709452,\n",
       "          -17.05757814, -18.15677369],\n",
       "         [  7.59765705,   7.07278882,  23.26178774, ..., -21.68438517,\n",
       "          -24.82785698, -23.04416042]],\n",
       "\n",
       "        [[ 27.96494312,  30.26426716,  25.89849225, ..., -23.51002576,\n",
       "          -35.36771917, -21.75597285],\n",
       "         [  9.0688631 ,  15.16003213,  35.11759099, ..., -24.43486654,\n",
       "          -24.59258031, -27.00422384],\n",
       "         [ 15.63950133,  19.23602354,  17.07325991, ..., -27.7598769 ,\n",
       "          -24.59427061, -27.42418797],\n",
       "         ..., \n",
       "         [ 18.55611007,  18.71041616,  23.19383438, ..., -22.36041936,\n",
       "          -19.15186762, -21.37095849],\n",
       "         [ 26.16494649,  21.03665273,  19.42099732, ..., -14.36195723,\n",
       "          -21.49040001, -15.39176796],\n",
       "         [ 27.94287129,  22.66413569,  32.80232342, ..., -22.48086584,\n",
       "          -17.75487822, -20.23549473]],\n",
       "\n",
       "        ..., \n",
       "        [[ 19.79996746,  34.6791852 ,  38.79258221, ...,  -2.82217055,\n",
       "           -3.7800731 ,  -3.45724962],\n",
       "         [ 35.03535468,  33.72150906,  40.97389886, ..., -31.11709901,\n",
       "          -17.93822718, -25.81037148],\n",
       "         [ 20.43147336,  15.58366663,  26.06809568, ..., -19.72488714,\n",
       "          -26.63210215, -21.1023202 ],\n",
       "         ..., \n",
       "         [ 12.19154943,  26.35106703,  27.43005611, ..., -26.35445957,\n",
       "          -21.26510973, -23.16565075],\n",
       "         [ 19.62488383,  22.49371814,  26.86473052, ..., -14.46152079,\n",
       "          -21.13247067, -15.18562774],\n",
       "         [ 17.95528386,  21.72906575,  24.05553218, ..., -12.28507013,\n",
       "          -18.71641213, -13.25661709]],\n",
       "\n",
       "        [[ 33.81211766,  34.27121143,  38.99437001, ...,   6.85567866,\n",
       "            7.01124666,   6.98332007],\n",
       "         [ 34.13648363,  36.83336133,  37.93201808, ...,   6.69563602,\n",
       "            7.05561636,   6.83608594],\n",
       "         [  6.99581103,  31.39123279,  33.63709177, ..., -15.00033746,\n",
       "          -23.17651379, -16.16730751],\n",
       "         ..., \n",
       "         [ 15.50505738,  21.78202753,  28.85453362, ..., -17.57963711,\n",
       "          -27.21473952, -17.565191  ],\n",
       "         [ 26.72038606,  22.83679114,  20.8834113 , ..., -25.91791084,\n",
       "          -17.78351683, -22.01043775],\n",
       "         [ 26.57618743,  21.07321362,  33.13097234, ..., -28.2639426 ,\n",
       "          -23.87278809, -28.12686987]],\n",
       "\n",
       "        [[ 40.03549815,  41.42171887,  40.87086084, ...,  -4.27272176,\n",
       "           -3.29600622,  -4.95018648],\n",
       "         [ 36.13288851,  38.69562096,  38.71353429, ...,  -5.64161325,\n",
       "           -2.25334775,  -4.35292747],\n",
       "         [ 24.76467827,  31.65268985,  34.90910097, ..., -12.78615538,\n",
       "          -16.83592807, -13.7335622 ],\n",
       "         ..., \n",
       "         [ 21.2844043 ,  22.81819937,  28.03029466, ..., -23.3406493 ,\n",
       "          -20.8591616 , -23.07770692],\n",
       "         [  7.23541302,  27.39012055,  19.50001247, ..., -22.78338543,\n",
       "          -14.98074218, -20.04424918],\n",
       "         [ 21.64675011,  23.13609173,  29.4376188 , ..., -18.50320831,\n",
       "          -19.34477356, -18.29259509]]],\n",
       "\n",
       "\n",
       "       [[[ 26.97960009,  25.30742797,  31.94158894, ..., -17.49870222,\n",
       "          -17.62973111, -17.57552816],\n",
       "         [ 21.49088919,  10.27723654,  28.69297348, ..., -33.61530558,\n",
       "          -35.42458024, -34.3956811 ],\n",
       "         [ 17.17941455,  21.88900976,  26.45474172, ..., -24.21486768,\n",
       "          -22.47070694, -23.4472334 ],\n",
       "         ..., \n",
       "         [ -6.73029772,  27.57921401,  35.1463777 , ...,  -6.79674472,\n",
       "          -11.84788115,  -6.32792857],\n",
       "         [ 26.65765071,  30.77572347,  35.85034651, ...,  -4.91160653,\n",
       "          -14.42995909,  -5.6624758 ],\n",
       "         [ 13.33018982,  24.71292812,  21.10196475, ..., -10.75073743,\n",
       "           -9.17522057, -10.13471395]],\n",
       "\n",
       "        [[ 27.27914321,  33.64529282,  19.07834433, ...,  -1.16146091,\n",
       "           -1.30796443,  -1.66040699],\n",
       "         [ 22.74403831,  29.359589  ,  37.50917575, ...,  -1.76977044,\n",
       "           -1.00363714,  -1.42362761],\n",
       "         [ 23.95367336,  16.57855533,  32.16088287, ..., -19.15508113,\n",
       "          -26.44206442, -19.5129188 ],\n",
       "         ..., \n",
       "         [ 24.65519852,  18.51234871,  30.73064566, ..., -23.8501682 ,\n",
       "          -28.51852822, -23.57862277],\n",
       "         [ 13.41971845,  27.96962213,  26.5137824 , ..., -19.71033666,\n",
       "          -20.96171942, -19.83423241],\n",
       "         [ 19.42097058,  27.30112767,  29.85475128, ..., -21.58760947,\n",
       "          -18.83207393, -20.607536  ]],\n",
       "\n",
       "        [[ 27.15956075,  23.52889453,  37.89630292, ..., -22.5210903 ,\n",
       "          -27.30205146, -23.68452132],\n",
       "         [ 33.05417765,  38.22773281,  35.63375453, ...,  -3.38201879,\n",
       "           -4.49530879,  -3.55394991],\n",
       "         [ 39.1966135 ,  30.81252236,  43.47807293, ...,  -3.26221638,\n",
       "           -4.4548818 ,  -3.488023  ],\n",
       "         ..., \n",
       "         [ 30.06920469,  17.18467795,  31.49622466, ...,  -7.63291784,\n",
       "          -13.35581958,  -8.89612907],\n",
       "         [ 25.7194084 ,  19.05665994,  22.43329655, ..., -11.87100024,\n",
       "          -10.74340284, -11.56184234],\n",
       "         [ 28.62552436,  16.27698188,  34.08284117, ..., -18.88022549,\n",
       "          -23.24481777, -19.70832076]],\n",
       "\n",
       "        ..., \n",
       "        [[ -9.95381152,  34.8269893 ,  12.95462797, ..., -23.95193038,\n",
       "          -20.62186935, -22.59924945],\n",
       "         [ 20.48602657,  32.2254456 ,  24.67919021, ..., -18.46902266,\n",
       "          -23.96228976, -18.86230892],\n",
       "         [ 21.6860933 ,  30.6367033 ,  17.47277258, ..., -17.83430942,\n",
       "          -23.73209081, -18.78334091],\n",
       "         ..., \n",
       "         [ 19.21431118,  19.44305859,  30.46072977, ...,  -0.67236138,\n",
       "           -7.97948711,  -1.56180552],\n",
       "         [ 20.55466369,  20.64053367,  18.65256931, ...,  -2.47053001,\n",
       "           -8.11345822,  -3.33260602],\n",
       "         [ 14.68863018,  24.69284106,  18.47798738, ..., -10.1972881 ,\n",
       "           -6.329145  ,  -8.24669253]],\n",
       "\n",
       "        [[ 29.96427253,  36.36177343,  39.62687359, ..., -13.85965269,\n",
       "          -20.01222191, -22.08787449],\n",
       "         [ 35.96840867,  32.78400956,  41.11370579, ..., -24.33294469,\n",
       "          -18.02355942, -20.50583476],\n",
       "         [-26.44438589,  27.35333839,  31.20302295, ..., -25.98458087,\n",
       "          -19.37124607, -23.00317628],\n",
       "         ..., \n",
       "         [ 28.43506225,  23.31887314,  35.02198424, ..., -19.13552451,\n",
       "          -18.31908847, -18.80722857],\n",
       "         [ 25.23081362,  26.10549091,  17.52386249, ..., -25.00195944,\n",
       "          -48.54554641, -27.27250996],\n",
       "         [  6.87348502,  10.94654406,  23.84838985, ..., -19.68672761,\n",
       "          -16.6899755 , -18.77398418]],\n",
       "\n",
       "        [[ 36.93190317,  39.32369216,  38.06632082, ...,  14.22664694,\n",
       "           14.16455725,  14.20574424],\n",
       "         [ 29.86400631,  35.23864251,  25.00847441, ...,  13.9953809 ,\n",
       "           14.26229848,  14.05784098],\n",
       "         [  0.74690354,  25.09999788,  40.15064176, ..., -18.02671109,\n",
       "          -21.85543463, -19.13923583],\n",
       "         ..., \n",
       "         [ 19.65362741,  21.45752853,  24.76864366, ...,  -8.3585758 ,\n",
       "          -15.42412433,  -9.58134831],\n",
       "         [ 22.78729953,  22.63636435,  30.67402723, ..., -17.05828919,\n",
       "          -11.64353519, -15.12330636],\n",
       "         [ 20.22014403,  28.66262003,  29.89896697, ..., -12.44464725,\n",
       "          -17.96995973, -13.37812485]]],\n",
       "\n",
       "\n",
       "       [[[ 42.57955487,  41.67372266,  42.35231134, ...,  -0.41282219,\n",
       "           -0.96540318,  -0.7255268 ],\n",
       "         [ 38.91115799,  28.92979128,  42.92658226, ...,  -1.36884043,\n",
       "           -0.20203174,  -1.06447067],\n",
       "         [ 32.40937831,  30.1561396 ,  40.99227887, ..., -18.26118613,\n",
       "          -22.3474875 , -18.08884481],\n",
       "         ..., \n",
       "         [ 29.85919671,  27.74506383,  33.44694065, ...,  -2.90280705,\n",
       "            3.86794962,   0.48858975],\n",
       "         [ 19.99763617,  12.6072768 ,  27.54326729, ...,  -4.63601731,\n",
       "           -1.73654762,  -3.7127075 ],\n",
       "         [ 17.6271496 ,  16.89247038,  32.8556623 , ..., -15.95729663,\n",
       "          -15.1830613 , -15.45399782]],\n",
       "\n",
       "        [[ 37.39532747,  38.58372037,  37.44806652, ...,   2.20198443,\n",
       "            2.48483349,   2.14607413],\n",
       "         [ 20.35013081,  34.8619033 ,  38.30897446, ...,   3.26795402,\n",
       "            2.86784533,   3.16473797],\n",
       "         [ 28.64956866,  32.17482687,  37.38950306, ..., -20.20825329,\n",
       "          -28.06594766, -21.74596782],\n",
       "         ..., \n",
       "         [ 19.63598191,  16.29498233,  30.44010856, ..., -14.98865724,\n",
       "          -17.10863187, -15.44351933],\n",
       "         [ -3.68284525,  26.3025352 ,  30.032315  , ..., -15.49546616,\n",
       "          -16.96292142, -16.23080909],\n",
       "         [ 15.40200493,  29.73876174,  27.20171818, ..., -25.83528179,\n",
       "          -27.68402659, -27.03778207]],\n",
       "\n",
       "        [[ 23.35424825,  25.32162212,  22.56895153, ...,  -2.79925041,\n",
       "           -2.58231549,  -2.82961181],\n",
       "         [  2.28946606,  26.20368812,  32.80345152, ...,  -2.13789084,\n",
       "           -2.96425584,  -2.39123471],\n",
       "         [ 21.02366319,  16.42029946,  26.53130753, ..., -30.98241063,\n",
       "          -18.45942678, -25.90034802],\n",
       "         ..., \n",
       "         [ 23.51420609,  16.54562023,  31.17303358, ...,  -9.78235017,\n",
       "           -9.25641399,  -9.63830958],\n",
       "         [ 26.37886154,  17.42436221,  32.63420265, ..., -21.32446713,\n",
       "          -23.75376299, -21.07208062],\n",
       "         [ 24.05922609,  23.10008256,  24.18676591, ..., -24.76990338,\n",
       "          -22.16019629, -26.35950989]],\n",
       "\n",
       "        ..., \n",
       "        [[ 34.01164144,  37.86924737,  30.02131347, ...,  -2.06160842,\n",
       "           -1.32879221,  -1.15816559],\n",
       "         [ 15.65575548,  39.00249551,  35.72655374, ...,  -1.01598256,\n",
       "           -1.31414052,  -0.97427272],\n",
       "         [ 28.38464929,  35.71138665,  35.48378463, ..., -22.87681014,\n",
       "          -21.81327141, -24.9632294 ],\n",
       "         ..., \n",
       "         [ 15.64080279,  24.14898038,  31.41025519, ..., -11.9193147 ,\n",
       "           -9.34578223, -10.90122495],\n",
       "         [ 16.91433226,  12.16639503,  27.34668258, ..., -14.13141036,\n",
       "          -19.23067786, -15.03042019],\n",
       "         [ 21.15811538,  18.66409186,  25.10689837, ...,  -4.11119501,\n",
       "           -7.40967551,  -4.83309746]],\n",
       "\n",
       "        [[ 27.13620762,  33.19387004,  29.13451347, ...,  -6.46007698,\n",
       "           -4.41641949,  -3.73147974],\n",
       "         [ 29.10415055,  19.02054334,  38.98262322, ...,  -2.65590368,\n",
       "           -6.71326787,  -3.50708664],\n",
       "         [ 28.50029793,  18.54493437,  34.03083493, ..., -11.37454502,\n",
       "          -14.73262928, -11.781638  ],\n",
       "         ..., \n",
       "         [ 20.89740539,  28.12242633,  32.89884586, ...,  -9.67649991,\n",
       "           -9.53066289,  -9.56442759],\n",
       "         [ 22.08738831,  27.3509023 ,  27.79153584, ...,  -2.79281685,\n",
       "           -9.23700384,  -3.76335547],\n",
       "         [ 27.955333  ,  21.80983965,  33.81100378, ...,  -5.99517017,\n",
       "           -8.02537182,  -6.49436699]],\n",
       "\n",
       "        [[ 33.73029345,  37.03919749,  30.48758908, ...,   2.84577214,\n",
       "            2.33923826,   2.70711464],\n",
       "         [ 37.6314969 ,  43.31258312,  32.00228669, ...,   4.69869195,\n",
       "            1.48497017,   4.04764323],\n",
       "         [ 25.49488279,  29.93792831,  37.28492099, ..., -10.48378058,\n",
       "           -8.64780104, -10.09602446],\n",
       "         ..., \n",
       "         [ 15.6991672 ,  19.18356835,  26.27912432, ..., -22.47219735,\n",
       "          -15.61526644, -18.93604585],\n",
       "         [ 24.59970482,  25.33569336,  21.61264011, ..., -12.04400541,\n",
       "          -15.89836163, -12.97762379],\n",
       "         [ 18.89457602,  30.78763554,  29.44856403, ...,  -4.47292791,\n",
       "           -8.89381688,  -5.60459809]]]])"
      ]
     },
     "execution_count": 8,
     "metadata": {},
     "output_type": "execute_result"
    }
   ],
   "source": [
    "features"
   ]
  },
  {
   "cell_type": "code",
   "execution_count": 9,
   "metadata": {},
   "outputs": [
    {
     "name": "stdout",
     "output_type": "stream",
     "text": [
      "(6, 20, 20, 1858)\n",
      "(2400, 1858)\n"
     ]
    }
   ],
   "source": [
    "Coins, numData, OnPeriods, waves = features.shape\n",
    "print(features.shape)\n",
    "X = np.zeros([Coins * numData * OnPeriods, waves])\n",
    "print(X.shape)\n",
    "\n",
    "for c in range(0, Coins) :\n",
    "    for cc in range(0, numData) :\n",
    "        for ccc in range(0, OnPeriods) :\n",
    "            X[c * (numData * OnPeriods) + cc * (OnPeriods) + ccc] = features[c, cc, ccc]"
   ]
  },
  {
   "cell_type": "code",
   "execution_count": 10,
   "metadata": {},
   "outputs": [
    {
     "data": {
      "text/plain": [
       "array([[ 28.2938594 ,  24.54653694,  35.13756573, ...,  -0.75338163,\n",
       "         -0.11319079,  -0.26167534],\n",
       "       [  8.01612262,  29.80652801,  28.08263808, ...,  -0.45750578,\n",
       "         -0.11555305,  -0.48596432],\n",
       "       [ 27.62880988,   8.20639657,  26.22357229, ..., -24.59294257,\n",
       "        -35.4532097 , -24.3922525 ],\n",
       "       ..., \n",
       "       [ 15.6991672 ,  19.18356835,  26.27912432, ..., -22.47219735,\n",
       "        -15.61526644, -18.93604585],\n",
       "       [ 24.59970482,  25.33569336,  21.61264011, ..., -12.04400541,\n",
       "        -15.89836163, -12.97762379],\n",
       "       [ 18.89457602,  30.78763554,  29.44856403, ...,  -4.47292791,\n",
       "         -8.89381688,  -5.60459809]])"
      ]
     },
     "execution_count": 10,
     "metadata": {},
     "output_type": "execute_result"
    }
   ],
   "source": [
    "X"
   ]
  },
  {
   "cell_type": "code",
   "execution_count": 12,
   "metadata": {},
   "outputs": [
    {
     "data": {
      "text/plain": [
       "numpy.float64"
      ]
     },
     "execution_count": 12,
     "metadata": {},
     "output_type": "execute_result"
    }
   ],
   "source": [
    "import numpy as np\n",
    "np.float64"
   ]
  },
  {
   "cell_type": "code",
   "execution_count": 13,
   "metadata": {},
   "outputs": [
    {
     "data": {
      "text/plain": [
       "[<matplotlib.lines.Line2D at 0x11045a128>]"
      ]
     },
     "execution_count": 13,
     "metadata": {},
     "output_type": "execute_result"
    },
    {
     "data": {
      "image/png": "[encoded data removed]",
      "text/plain": [
       "<matplotlib.figure.Figure at 0x10ff70cf8>"
      ]
     },
     "metadata": {},
     "output_type": "display_data"
    }
   ],
   "source": [
    "plt.plot(x)"
   ]
  },
  {
   "cell_type": "code",
   "execution_count": 14,
   "metadata": {},
   "outputs": [
    {
     "data": {
      "text/plain": [
       "'\\ndef extFeature(feature, freqs) :\\n    # OnPeriods * 1858の特徴を受け取り、freqsで指定された周波数成分を選択して\\n    # OnPeriods * len(freqs)の特徴として返す\\n    numFreqs = len(freqs)\\n    f = np.zeros(OnPeriods * numFreqs)\\n    for index, l in enumerate(feature) :\\n        f[index * numFreqs : (index + 1) * numFreqs] = l[freqs]\\n        \\n    return f\\n'"
      ]
     },
     "execution_count": 14,
     "metadata": {},
     "output_type": "execute_result"
    }
   ],
   "source": [
    "\"\"\"\n",
    "def extFeature(feature, freqs) :\n",
    "    # OnPeriods * 1858の特徴を受け取り、freqsで指定された周波数成分を選択して\n",
    "    # OnPeriods * len(freqs)の特徴として返す\n",
    "    numFreqs = len(freqs)\n",
    "    f = np.zeros(OnPeriods * numFreqs)\n",
    "    for index, l in enumerate(feature) :\n",
    "        f[index * numFreqs : (index + 1) * numFreqs] = l[freqs]\n",
    "        \n",
    "    return f\n",
    "\"\"\""
   ]
  },
  {
   "cell_type": "code",
   "execution_count": 15,
   "metadata": {},
   "outputs": [
    {
     "data": {
      "text/plain": [
       "'\\ndef extFeature2(feature, freqs) :\\n    # OnPeriods * 1858の特徴を受け取り、freqsで指定された周波数成分を選択して\\n    # len(freqs)の特徴として返す\\n    numFreqs = len(freqs)\\n    f = np.zeros(numFreqs)\\n    for index, l in enumerate(feature) :\\n        f[:] += l[freqs]\\n        \\n    return f\\n'"
      ]
     },
     "execution_count": 15,
     "metadata": {},
     "output_type": "execute_result"
    }
   ],
   "source": [
    "\"\"\"\n",
    "def extFeature2(feature, freqs) :\n",
    "    # OnPeriods * 1858の特徴を受け取り、freqsで指定された周波数成分を選択して\n",
    "    # len(freqs)の特徴として返す\n",
    "    numFreqs = len(freqs)\n",
    "    f = np.zeros(numFreqs)\n",
    "    for index, l in enumerate(feature) :\n",
    "        f[:] += l[freqs]\n",
    "        \n",
    "    return f\n",
    "\"\"\""
   ]
  },
  {
   "cell_type": "code",
   "execution_count": 16,
   "metadata": {},
   "outputs": [
    {
     "data": {
      "text/plain": [
       "\"\\ndef detectFreqs(features, numFreqs) :\\n    # numFreqsで指定した個数の周波数成分を、コストが最小になるように決定する\\n    freqs = np.array(range(0, numFreqs)).astype('int64')\\n    numCoins = features.shape[0]\\n    \\n    featuresSelected = np.zeros([numCoins, features.shape[1], features.shape[2] * numFreqs])\\n    for c in range(0, numCoins) :\\n        for cc in range(0, features.shape[1]) :\\n            featuresSelected[c, cc, :] = extFeature(features[c, cc, :, :], freqs)\\n    \\n    numFeature = features.shape[2] * numFreqs\\n    mu = np.zeros([numCoins, numFeature])\\n    sigma = np.zeros([numCoins, numFeature, numFeature])\\n    \\n    for c in range(0, numCoins) :\\n        tempF = featuresSelected[c, :, :]\\n        mu[c, :] = makeMu(tempF)\\n        sigma[c, :, :] = makeSigma(tempF)\\n        print(np.linalg.eig(sigma[c])[0])\\n        \\n    culR(featuresSelected, sigma, mu)\\n        \\n    return freqs\\n\""
      ]
     },
     "execution_count": 16,
     "metadata": {},
     "output_type": "execute_result"
    }
   ],
   "source": [
    "\"\"\"\n",
    "def detectFreqs(features, numFreqs) :\n",
    "    # numFreqsで指定した個数の周波数成分を、コストが最小になるように決定する\n",
    "    freqs = np.array(range(0, numFreqs)).astype('int64')\n",
    "    numCoins = features.shape[0]\n",
    "    \n",
    "    featuresSelected = np.zeros([numCoins, features.shape[1], features.shape[2] * numFreqs])\n",
    "    for c in range(0, numCoins) :\n",
    "        for cc in range(0, features.shape[1]) :\n",
    "            featuresSelected[c, cc, :] = extFeature(features[c, cc, :, :], freqs)\n",
    "    \n",
    "    numFeature = features.shape[2] * numFreqs\n",
    "    mu = np.zeros([numCoins, numFeature])\n",
    "    sigma = np.zeros([numCoins, numFeature, numFeature])\n",
    "    \n",
    "    for c in range(0, numCoins) :\n",
    "        tempF = featuresSelected[c, :, :]\n",
    "        mu[c, :] = makeMu(tempF)\n",
    "        sigma[c, :, :] = makeSigma(tempF)\n",
    "        print(np.linalg.eig(sigma[c])[0])\n",
    "        \n",
    "    culR(featuresSelected, sigma, mu)\n",
    "        \n",
    "    return freqs\n",
    "\"\"\""
   ]
  },
  {
   "cell_type": "code",
   "execution_count": 17,
   "metadata": {},
   "outputs": [
    {
     "data": {
      "text/plain": [
       "\"\\n#### 特徴ベクトルを足すことで次元を増やさないようにしてみる\\ndef detectFreqs2(features, numFreqs) :\\n    freqs = np.array(range(0, numFreqs)).astype('int64')\\n    numCoins = features.shape[0]\\n    \\n    featuresSelected = np.zeros([numCoins, features.shape[1], numFreqs])\\n    for c in range(0, numCoins) :\\n        for cc in range(0, features.shape[1]) :\\n            featuresSelected[c, cc, :] = extFeature2(features[c, cc, :, :], freqs)\\n            \\n            \\n    numFeature = numFreqs\\n    mu = np.zeros([numCoins, numFeature])\\n    sigma = np.zeros([numCoins, numFeature, numFeature])\\n    \\n    for c in range(0, numCoins) :\\n        tempF = featuresSelected[c, :, :]\\n        mu[c, :] = makeMu(tempF)\\n        sigma[c, :, :] = makeSigma(tempF)\\n        print(sigma[c])\\n        print(np.linalg.det(sigma[c]))\\n        \\n    freqs_new = np.array(range(0, numFreqs)).astype('int64')\\n    \\n    #### 周波数成分選択アルゴリズム\\n    while(True) :\\n        for d in range(0, numFreqs) :\\n            for omega in range(0, features.shape[3]) :\\n                if omega\\n                \\n    R = culR(featuresSelected, sigma, mu)\\n    \\n    return freqs\\n\""
      ]
     },
     "execution_count": 17,
     "metadata": {},
     "output_type": "execute_result"
    }
   ],
   "source": [
    "\"\"\"\n",
    "#### 特徴ベクトルを足すことで次元を増やさないようにしてみる\n",
    "def detectFreqs2(features, numFreqs) :\n",
    "    freqs = np.array(range(0, numFreqs)).astype('int64')\n",
    "    numCoins = features.shape[0]\n",
    "    \n",
    "    featuresSelected = np.zeros([numCoins, features.shape[1], numFreqs])\n",
    "    for c in range(0, numCoins) :\n",
    "        for cc in range(0, features.shape[1]) :\n",
    "            featuresSelected[c, cc, :] = extFeature2(features[c, cc, :, :], freqs)\n",
    "            \n",
    "            \n",
    "    numFeature = numFreqs\n",
    "    mu = np.zeros([numCoins, numFeature])\n",
    "    sigma = np.zeros([numCoins, numFeature, numFeature])\n",
    "    \n",
    "    for c in range(0, numCoins) :\n",
    "        tempF = featuresSelected[c, :, :]\n",
    "        mu[c, :] = makeMu(tempF)\n",
    "        sigma[c, :, :] = makeSigma(tempF)\n",
    "        print(sigma[c])\n",
    "        print(np.linalg.det(sigma[c]))\n",
    "        \n",
    "    freqs_new = np.array(range(0, numFreqs)).astype('int64')\n",
    "    \n",
    "    #### 周波数成分選択アルゴリズム\n",
    "    while(True) :\n",
    "        for d in range(0, numFreqs) :\n",
    "            for omega in range(0, features.shape[3]) :\n",
    "                if omega\n",
    "                \n",
    "    R = culR(featuresSelected, sigma, mu)\n",
    "    \n",
    "    return freqs\n",
    "\"\"\""
   ]
  },
  {
   "cell_type": "code",
   "execution_count": null,
   "metadata": {},
   "outputs": [],
   "source": []
  },
  {
   "cell_type": "markdown",
   "metadata": {},
   "source": [
    "適当に小さいデータで実験\n",
    "\n",
    "周波数成分　だいたい 400Hz以下\n",
    "\n",
    "特徴次元数10"
   ]
  },
  {
   "cell_type": "code",
   "execution_count": 18,
   "metadata": {},
   "outputs": [],
   "source": [
    "from makeFeature import makePrediction"
   ]
  },
  {
   "cell_type": "code",
   "execution_count": 19,
   "metadata": {},
   "outputs": [],
   "source": [
    "from makeFeature import detectFreqs"
   ]
  },
  {
   "cell_type": "code",
   "execution_count": 21,
   "metadata": {},
   "outputs": [
    {
     "name": "stdout",
     "output_type": "stream",
     "text": [
      "preparation\n",
      "main loop start\n",
      "********************************\n",
      "major loop\n",
      "--------------------------------\n",
      "('minor loop : ', 0)\n",
      "('Selected freqs', array([1295,    1,    2,    3,    4,    5,    6,    7,    8,    9,   10,\n",
      "         11,   12,   13,   14,   15,   16,   17,   18,   19]))\n",
      "('R=', 0.37547495090098576)\n",
      "--------------------------------\n",
      "('minor loop : ', 1)\n",
      "('Selected freqs', array([1295, 1234,    2,    3,    4,    5,    6,    7,    8,    9,   10,\n",
      "         11,   12,   13,   14,   15,   16,   17,   18,   19]))\n",
      "('R=', 0.2765383977565292)\n",
      "--------------------------------\n",
      "('minor loop : ', 2)\n",
      "('Selected freqs', array([1295, 1234, 1202,    3,    4,    5,    6,    7,    8,    9,   10,\n",
      "         11,   12,   13,   14,   15,   16,   17,   18,   19]))\n",
      "('R=', 0.2180751103165218)\n",
      "--------------------------------\n",
      "('minor loop : ', 3)\n",
      "('Selected freqs', array([1295, 1234, 1202, 1360,    4,    5,    6,    7,    8,    9,   10,\n",
      "         11,   12,   13,   14,   15,   16,   17,   18,   19]))\n",
      "('R=', 0.17526101226832566)\n",
      "--------------------------------\n",
      "('minor loop : ', 4)\n",
      "('Selected freqs', array([1295, 1234, 1202, 1360, 1084,    5,    6,    7,    8,    9,   10,\n",
      "         11,   12,   13,   14,   15,   16,   17,   18,   19]))\n",
      "('R=', 0.13738259995895347)\n",
      "--------------------------------\n",
      "('minor loop : ', 5)\n",
      "('Selected freqs', array([1295, 1234, 1202, 1360, 1084,  954,    6,    7,    8,    9,   10,\n",
      "         11,   12,   13,   14,   15,   16,   17,   18,   19]))\n",
      "('R=', 0.12152491975006807)\n",
      "--------------------------------\n",
      "('minor loop : ', 6)\n",
      "('Selected freqs', array([1295, 1234, 1202, 1360, 1084,  954,  149,    7,    8,    9,   10,\n",
      "         11,   12,   13,   14,   15,   16,   17,   18,   19]))\n",
      "('R=', 0.11935921888318551)\n",
      "--------------------------------\n",
      "('minor loop : ', 7)\n",
      "('Selected freqs', array([1295, 1234, 1202, 1360, 1084,  954,  149, 1075,    8,    9,   10,\n",
      "         11,   12,   13,   14,   15,   16,   17,   18,   19]))\n",
      "('R=', 0.11151981941457206)\n",
      "--------------------------------\n",
      "('minor loop : ', 8)\n",
      "('Selected freqs', array([1295, 1234, 1202, 1360, 1084,  954,  149, 1075,    6,    9,   10,\n",
      "         11,   12,   13,   14,   15,   16,   17,   18,   19]))\n",
      "('R=', 0.10394609403834223)\n",
      "--------------------------------\n",
      "('minor loop : ', 9)\n",
      "('Selected freqs', array([1295, 1234, 1202, 1360, 1084,  954,  149, 1075,    6, 1297,   10,\n",
      "         11,   12,   13,   14,   15,   16,   17,   18,   19]))\n",
      "('R=', 0.09860336332592225)\n",
      "--------------------------------\n",
      "('minor loop : ', 10)\n",
      "('Selected freqs', array([1295, 1234, 1202, 1360, 1084,  954,  149, 1075,    6, 1297, 1342,\n",
      "         11,   12,   13,   14,   15,   16,   17,   18,   19]))\n",
      "('R=', 0.0936532696384043)\n",
      "--------------------------------\n",
      "('minor loop : ', 11)\n",
      "('Selected freqs', array([1295, 1234, 1202, 1360, 1084,  954,  149, 1075,    6, 1297, 1342,\n",
      "        759,   12,   13,   14,   15,   16,   17,   18,   19]))\n",
      "('R=', 0.08953370995045296)\n",
      "--------------------------------\n",
      "('minor loop : ', 12)\n",
      "('Selected freqs', array([1295, 1234, 1202, 1360, 1084,  954,  149, 1075,    6, 1297, 1342,\n",
      "        759,  275,   13,   14,   15,   16,   17,   18,   19]))\n",
      "('R=', 0.08477783249527215)\n",
      "--------------------------------\n",
      "('minor loop : ', 13)\n",
      "('Selected freqs', array([1295, 1234, 1202, 1360, 1084,  954,  149, 1075,    6, 1297, 1342,\n",
      "        759,  275, 1277,   14,   15,   16,   17,   18,   19]))\n",
      "('R=', 0.08326604360127775)\n",
      "--------------------------------\n",
      "('minor loop : ', 14)\n",
      "('Selected freqs', array([1295, 1234, 1202, 1360, 1084,  954,  149, 1075,    6, 1297, 1342,\n",
      "        759,  275, 1277,  898,   15,   16,   17,   18,   19]))\n",
      "('R=', 0.08003351915609724)\n",
      "--------------------------------\n",
      "('minor loop : ', 15)\n",
      "('Selected freqs', array([1295, 1234, 1202, 1360, 1084,  954,  149, 1075,    6, 1297, 1342,\n",
      "        759,  275, 1277,  898,  146,   16,   17,   18,   19]))\n",
      "('R=', 0.07694946652445747)\n",
      "--------------------------------\n",
      "('minor loop : ', 16)\n",
      "('Selected freqs', array([1295, 1234, 1202, 1360, 1084,  954,  149, 1075,    6, 1297, 1342,\n",
      "        759,  275, 1277,  898,  146,  722,   17,   18,   19]))\n",
      "('R=', 0.07559838178252243)\n",
      "--------------------------------\n",
      "('minor loop : ', 17)\n",
      "('Selected freqs', array([1295, 1234, 1202, 1360, 1084,  954,  149, 1075,    6, 1297, 1342,\n",
      "        759,  275, 1277,  898,  146,  722, 1477,   18,   19]))\n",
      "('R=', 0.07287316557700403)\n",
      "--------------------------------\n",
      "('minor loop : ', 18)\n",
      "('Selected freqs', array([1295, 1234, 1202, 1360, 1084,  954,  149, 1075,    6, 1297, 1342,\n",
      "        759,  275, 1277,  898,  146,  722, 1477, 1303,   19]))\n",
      "('R=', 0.07140253887486701)\n",
      "--------------------------------\n",
      "('minor loop : ', 19)\n",
      "('Selected freqs', array([1295, 1234, 1202, 1360, 1084,  954,  149, 1075,    6, 1297, 1342,\n",
      "        759,  275, 1277,  898,  146,  722, 1477, 1303,   37]))\n",
      "('R=', 0.07016760544890613)\n",
      "--------------------------------\n",
      "********************************\n",
      "major loop\n",
      "--------------------------------\n",
      "('minor loop : ', 0)\n",
      "('Selected freqs', array([1294, 1234, 1202, 1360, 1084,  954,  149, 1075,    6, 1297, 1342,\n",
      "        759,  275, 1277,  898,  146,  722, 1477, 1303,   37]))\n",
      "('R=', 0.07012564691140627)\n",
      "--------------------------------\n",
      "('minor loop : ', 1)\n",
      "('Selected freqs', array([1294, 1234, 1202, 1360, 1084,  954,  149, 1075,    6, 1297, 1342,\n",
      "        759,  275, 1277,  898,  146,  722, 1477, 1303,   37]))\n",
      "('R=', 0.07012564691140627)\n",
      "--------------------------------\n",
      "('minor loop : ', 2)\n",
      "('Selected freqs', array([1294, 1234, 1202, 1360, 1084,  954,  149, 1075,    6, 1297, 1342,\n",
      "        759,  275, 1277,  898,  146,  722, 1477, 1303,   37]))\n",
      "('R=', 0.07012564691140627)\n",
      "--------------------------------\n",
      "('minor loop : ', 3)\n",
      "('Selected freqs', array([1294, 1234, 1202, 1360, 1084,  954,  149, 1075,    6, 1297, 1342,\n",
      "        759,  275, 1277,  898,  146,  722, 1477, 1303,   37]))\n",
      "('R=', 0.07012564691140627)\n",
      "--------------------------------\n",
      "('minor loop : ', 4)\n",
      "('Selected freqs', array([1294, 1234, 1202, 1360, 1084,  954,  149, 1075,    6, 1297, 1342,\n",
      "        759,  275, 1277,  898,  146,  722, 1477, 1303,   37]))\n",
      "('R=', 0.07012564691140627)\n",
      "--------------------------------\n",
      "('minor loop : ', 5)\n",
      "('Selected freqs', array([1294, 1234, 1202, 1360, 1084,  954,  149, 1075,    6, 1297, 1342,\n",
      "        759,  275, 1277,  898,  146,  722, 1477, 1303,   37]))\n",
      "('R=', 0.07012564691140627)\n",
      "--------------------------------\n",
      "('minor loop : ', 6)\n",
      "('Selected freqs', array([1294, 1234, 1202, 1360, 1084,  954,  149, 1075,    6, 1297, 1342,\n",
      "        759,  275, 1277,  898,  146,  722, 1477, 1303,   37]))\n",
      "('R=', 0.07012564691140627)\n",
      "--------------------------------\n",
      "('minor loop : ', 7)\n",
      "('Selected freqs', array([1294, 1234, 1202, 1360, 1084,  954,  149, 1075,    6, 1297, 1342,\n",
      "        759,  275, 1277,  898,  146,  722, 1477, 1303,   37]))\n",
      "('R=', 0.07012564691140627)\n",
      "--------------------------------\n",
      "('minor loop : ', 8)\n",
      "('Selected freqs', array([1294, 1234, 1202, 1360, 1084,  954,  149, 1075,    6, 1297, 1342,\n",
      "        759,  275, 1277,  898,  146,  722, 1477, 1303,   37]))\n",
      "('R=', 0.07012564691140627)\n",
      "--------------------------------\n",
      "('minor loop : ', 9)\n",
      "('Selected freqs', array([1294, 1234, 1202, 1360, 1084,  954,  149, 1075,    6, 1297, 1342,\n",
      "        759,  275, 1277,  898,  146,  722, 1477, 1303,   37]))\n",
      "('R=', 0.07012564691140627)\n",
      "--------------------------------\n",
      "('minor loop : ', 10)\n",
      "('Selected freqs', array([1294, 1234, 1202, 1360, 1084,  954,  149, 1075,    6, 1297, 1014,\n",
      "        759,  275, 1277,  898,  146,  722, 1477, 1303,   37]))\n",
      "('R=', 0.06855677132534979)\n",
      "--------------------------------\n",
      "('minor loop : ', 11)\n",
      "('Selected freqs', array([1294, 1234, 1202, 1360, 1084,  954,  149, 1075,    6, 1297, 1014,\n",
      "        759,  275, 1277,  898,  146,  722, 1477, 1303,   37]))\n",
      "('R=', 0.06855677132534979)\n",
      "--------------------------------\n",
      "('minor loop : ', 12)\n",
      "('Selected freqs', array([1294, 1234, 1202, 1360, 1084,  954,  149, 1075,    6, 1297, 1014,\n",
      "        759,  275, 1277,  898,  146,  722, 1477, 1303,   37]))\n",
      "('R=', 0.06855677132534979)\n",
      "--------------------------------\n",
      "('minor loop : ', 13)\n",
      "('Selected freqs', array([1294, 1234, 1202, 1360, 1084,  954,  149, 1075,    6, 1297, 1014,\n",
      "        759,  275,  563,  898,  146,  722, 1477, 1303,   37]))\n",
      "('R=', 0.06685006140773857)\n",
      "--------------------------------\n",
      "('minor loop : ', 14)\n",
      "('Selected freqs', array([1294, 1234, 1202, 1360, 1084,  954,  149, 1075,    6, 1297, 1014,\n",
      "        759,  275,  563,  901,  146,  722, 1477, 1303,   37]))\n",
      "('R=', 0.06610997904027593)\n",
      "--------------------------------\n",
      "('minor loop : ', 15)\n",
      "('Selected freqs', array([1294, 1234, 1202, 1360, 1084,  954,  149, 1075,    6, 1297, 1014,\n",
      "        759,  275,  563,  901,  146,  722, 1477, 1303,   37]))\n",
      "('R=', 0.06610997904027593)\n",
      "--------------------------------\n",
      "('minor loop : ', 16)\n",
      "('Selected freqs', array([1294, 1234, 1202, 1360, 1084,  954,  149, 1075,    6, 1297, 1014,\n",
      "        759,  275,  563,  901,  146,  722, 1477, 1303,   37]))\n",
      "('R=', 0.06610997904027593)\n",
      "--------------------------------\n",
      "('minor loop : ', 17)\n",
      "('Selected freqs', array([1294, 1234, 1202, 1360, 1084,  954,  149, 1075,    6, 1297, 1014,\n",
      "        759,  275,  563,  901,  146,  722, 1477, 1303,   37]))\n",
      "('R=', 0.06610997904027593)\n",
      "--------------------------------\n",
      "('minor loop : ', 18)\n",
      "('Selected freqs', array([1294, 1234, 1202, 1360, 1084,  954,  149, 1075,    6, 1297, 1014,\n",
      "        759,  275,  563,  901,  146,  722, 1477, 1303,   37]))\n",
      "('R=', 0.06610997904027593)\n",
      "--------------------------------\n",
      "('minor loop : ', 19)\n",
      "('Selected freqs', array([1294, 1234, 1202, 1360, 1084,  954,  149, 1075,    6, 1297, 1014,\n",
      "        759,  275,  563,  901,  146,  722, 1477, 1303,   37]))\n",
      "('R=', 0.06610997904027593)\n",
      "--------------------------------\n",
      "********************************\n",
      "major loop\n",
      "--------------------------------\n",
      "('minor loop : ', 0)\n",
      "('Selected freqs', array([1294, 1234, 1202, 1360, 1084,  954,  149, 1075,    6, 1297, 1014,\n",
      "        759,  275,  563,  901,  146,  722, 1477, 1303,   37]))\n",
      "('R=', 0.06610997904027593)\n",
      "--------------------------------\n",
      "('minor loop : ', 1)\n",
      "('Selected freqs', array([1294, 1234, 1202, 1360, 1084,  954,  149, 1075,    6, 1297, 1014,\n",
      "        759,  275,  563,  901,  146,  722, 1477, 1303,   37]))\n",
      "('R=', 0.06610997904027593)\n",
      "--------------------------------\n",
      "('minor loop : ', 2)\n",
      "('Selected freqs', array([1294, 1234, 1202, 1360, 1084,  954,  149, 1075,    6, 1297, 1014,\n",
      "        759,  275,  563,  901,  146,  722, 1477, 1303,   37]))\n",
      "('R=', 0.06610997904027593)\n",
      "--------------------------------\n",
      "('minor loop : ', 3)\n",
      "('Selected freqs', array([1294, 1234, 1202, 1360, 1084,  954,  149, 1075,    6, 1297, 1014,\n",
      "        759,  275,  563,  901,  146,  722, 1477, 1303,   37]))\n",
      "('R=', 0.06610997904027593)\n",
      "--------------------------------\n",
      "('minor loop : ', 4)\n",
      "('Selected freqs', array([1294, 1234, 1202, 1360, 1084,  954,  149, 1075,    6, 1297, 1014,\n",
      "        759,  275,  563,  901,  146,  722, 1477, 1303,   37]))\n",
      "('R=', 0.06610997904027593)\n",
      "--------------------------------\n",
      "('minor loop : ', 5)\n",
      "('Selected freqs', array([1294, 1234, 1202, 1360, 1084,  954,  149, 1075,    6, 1297, 1014,\n",
      "        759,  275,  563,  901,  146,  722, 1477, 1303,   37]))\n",
      "('R=', 0.06610997904027593)\n",
      "--------------------------------\n",
      "('minor loop : ', 6)\n",
      "('Selected freqs', array([1294, 1234, 1202, 1360, 1084,  954,  149, 1075,    6, 1297, 1014,\n",
      "        759,  275,  563,  901,  146,  722, 1477, 1303,   37]))\n",
      "('R=', 0.06610997904027593)\n",
      "--------------------------------\n",
      "('minor loop : ', 7)\n",
      "('Selected freqs', array([1294, 1234, 1202, 1360, 1084,  954,  149, 1075,    6, 1297, 1014,\n",
      "        759,  275,  563,  901,  146,  722, 1477, 1303,   37]))\n",
      "('R=', 0.06610997904027593)\n",
      "--------------------------------\n",
      "('minor loop : ', 8)\n",
      "('Selected freqs', array([1294, 1234, 1202, 1360, 1084,  954,  149, 1075,    6, 1297, 1014,\n",
      "        759,  275,  563,  901,  146,  722, 1477, 1303,   37]))\n",
      "('R=', 0.06610997904027593)\n",
      "--------------------------------\n",
      "('minor loop : ', 9)\n",
      "('Selected freqs', array([1294, 1234, 1202, 1360, 1084,  954,  149, 1075,    6, 1297, 1014,\n",
      "        759,  275,  563,  901,  146,  722, 1477, 1303,   37]))\n",
      "('R=', 0.06610997904027593)\n",
      "--------------------------------\n",
      "('minor loop : ', 10)\n",
      "('Selected freqs', array([1294, 1234, 1202, 1360, 1084,  954,  149, 1075,    6, 1297, 1014,\n",
      "        759,  275,  563,  901,  146,  722, 1477, 1303,   37]))\n",
      "('R=', 0.06610997904027593)\n",
      "--------------------------------\n",
      "('minor loop : ', 11)\n",
      "('Selected freqs', array([1294, 1234, 1202, 1360, 1084,  954,  149, 1075,    6, 1297, 1014,\n",
      "        759,  275,  563,  901,  146,  722, 1477, 1303,   37]))\n",
      "('R=', 0.06610997904027593)\n",
      "--------------------------------\n",
      "('minor loop : ', 12)\n",
      "('Selected freqs', array([1294, 1234, 1202, 1360, 1084,  954,  149, 1075,    6, 1297, 1014,\n",
      "        759,  275,  563,  901,  146,  722, 1477, 1303,   37]))\n",
      "('R=', 0.06610997904027593)\n",
      "--------------------------------\n",
      "('minor loop : ', 13)\n",
      "('Selected freqs', array([1294, 1234, 1202, 1360, 1084,  954,  149, 1075,    6, 1297, 1014,\n",
      "        759,  275,  563,  901,  146,  722, 1477, 1303,   37]))\n",
      "('R=', 0.06610997904027593)\n",
      "--------------------------------\n",
      "('minor loop : ', 14)\n",
      "('Selected freqs', array([1294, 1234, 1202, 1360, 1084,  954,  149, 1075,    6, 1297, 1014,\n",
      "        759,  275,  563,  901,  146,  722, 1477, 1303,   37]))\n",
      "('R=', 0.06610997904027593)\n",
      "--------------------------------\n",
      "('minor loop : ', 15)\n",
      "('Selected freqs', array([1294, 1234, 1202, 1360, 1084,  954,  149, 1075,    6, 1297, 1014,\n",
      "        759,  275,  563,  901,  146,  722, 1477, 1303,   37]))\n",
      "('R=', 0.06610997904027593)\n",
      "--------------------------------\n",
      "('minor loop : ', 16)\n",
      "('Selected freqs', array([1294, 1234, 1202, 1360, 1084,  954,  149, 1075,    6, 1297, 1014,\n",
      "        759,  275,  563,  901,  146,  722, 1477, 1303,   37]))\n",
      "('R=', 0.06610997904027593)\n",
      "--------------------------------\n",
      "('minor loop : ', 17)\n",
      "('Selected freqs', array([1294, 1234, 1202, 1360, 1084,  954,  149, 1075,    6, 1297, 1014,\n",
      "        759,  275,  563,  901,  146,  722, 1477, 1303,   37]))\n",
      "('R=', 0.06610997904027593)\n",
      "--------------------------------\n",
      "('minor loop : ', 18)\n",
      "('Selected freqs', array([1294, 1234, 1202, 1360, 1084,  954,  149, 1075,    6, 1297, 1014,\n",
      "        759,  275,  563,  901,  146,  722, 1477, 1303,   37]))\n",
      "('R=', 0.06610997904027593)\n",
      "--------------------------------\n",
      "('minor loop : ', 19)\n",
      "('Selected freqs', array([1294, 1234, 1202, 1360, 1084,  954,  149, 1075,    6, 1297, 1014,\n",
      "        759,  275,  563,  901,  146,  722, 1477, 1303,   37]))\n",
      "('R=', 0.06610997904027593)\n",
      "--------------------------------\n",
      "done\n"
     ]
    }
   ],
   "source": [
    "freqs, sigma, mu, detSigma, invSigma = detectFreqs(features[:, 0:15, :, :], 20)"
   ]
  },
  {
   "cell_type": "code",
   "execution_count": 22,
   "metadata": {},
   "outputs": [
    {
     "data": {
      "text/plain": [
       "array([1294, 1234, 1202, 1360, 1084,  954,  149, 1075,    6, 1297, 1014,\n",
       "        759,  275,  563,  901,  146,  722, 1477, 1303,   37])"
      ]
     },
     "execution_count": 22,
     "metadata": {},
     "output_type": "execute_result"
    }
   ],
   "source": [
    "freqs"
   ]
  },
  {
   "cell_type": "code",
   "execution_count": 26,
   "metadata": {},
   "outputs": [],
   "source": [
    "feature_per_coin = np.zeros([Coins, numData * OnPeriods, waves])\n",
    "\n",
    "for c in range(0, Coins) :\n",
    "    for cc in range(0, numData) :\n",
    "        for ccc in range(0, OnPeriods) :\n",
    "            feature_per_coin[c, (OnPeriods) * cc + ccc] = features[c, cc, ccc]"
   ]
  },
  {
   "cell_type": "code",
   "execution_count": 55,
   "metadata": {},
   "outputs": [
    {
     "data": {
      "text/plain": [
       "<matplotlib.collections.LineCollection at 0x11c1dfef0>"
      ]
     },
     "execution_count": 55,
     "metadata": {},
     "output_type": "execute_result"
    },
    {
     "data": {
      "image/png": "[encoded data removed]",
      "text/plain": [
       "<matplotlib.figure.Figure at 0x11c0f9b00>"
      ]
     },
     "metadata": {},
     "output_type": "display_data"
    }
   ],
   "source": [
    "start=500\n",
    "end=1500\n",
    "#plt.xlim(start, end)\n",
    "plt.plot(np.sum(feature_per_coin[0], axis=0))\n",
    "plt.plot(np.sum(feature_per_coin[1], axis=0))\n",
    "plt.plot(np.sum(feature_per_coin[2], axis=0))\n",
    "plt.plot(np.sum(feature_per_coin[3], axis=0))\n",
    "plt.plot(np.sum(feature_per_coin[4], axis=0))\n",
    "plt.plot(np.sum(feature_per_coin[5], axis=0))\n",
    "\n",
    "plt.vlines(freqs, ymin=-5000, ymax=15000, colors=\"gray\")"
   ]
  },
  {
   "cell_type": "code",
   "execution_count": 53,
   "metadata": {},
   "outputs": [
    {
     "data": {
      "text/plain": [
       "<matplotlib.collections.LineCollection at 0x11b7ae128>"
      ]
     },
     "execution_count": 53,
     "metadata": {},
     "output_type": "execute_result"
    },
    {
     "data": {
      "image/png": "[encoded data removed]",
      "text/plain": [
       "<matplotlib.figure.Figure at 0x11b658e48>"
      ]
     },
     "metadata": {},
     "output_type": "display_data"
    }
   ],
   "source": [
    "start=500\n",
    "end=1500\n",
    "plt.xlim(start, end)\n",
    "plt.plot(np.sum(feature_per_coin[0], axis=0))\n",
    "plt.plot(np.sum(feature_per_coin[1], axis=0))\n",
    "plt.plot(np.sum(feature_per_coin[2], axis=0))\n",
    "plt.plot(np.sum(feature_per_coin[3], axis=0))\n",
    "plt.plot(np.sum(feature_per_coin[4], axis=0))\n",
    "plt.plot(np.sum(feature_per_coin[5], axis=0))\n",
    "\n",
    "plt.vlines(freqs, ymin=-5000, ymax=15000, colors=\"gray\")"
   ]
  },
  {
   "cell_type": "code",
   "execution_count": 56,
   "metadata": {},
   "outputs": [
    {
     "data": {
      "text/plain": [
       "<matplotlib.collections.LineCollection at 0x11a751080>"
      ]
     },
     "execution_count": 56,
     "metadata": {},
     "output_type": "execute_result"
    },
    {
     "data": {
      "image/png": "[encoded data removed]",
      "text/plain": [
       "<matplotlib.figure.Figure at 0x11c214b70>"
      ]
     },
     "metadata": {},
     "output_type": "display_data"
    }
   ],
   "source": [
    "start=1000\n",
    "end=1500\n",
    "plt.xlim(start, end)\n",
    "plt.plot(np.sum(feature_per_coin[0], axis=0))\n",
    "plt.plot(np.sum(feature_per_coin[1], axis=0))\n",
    "plt.plot(np.sum(feature_per_coin[2], axis=0))\n",
    "plt.plot(np.sum(feature_per_coin[3], axis=0))\n",
    "plt.plot(np.sum(feature_per_coin[4], axis=0))\n",
    "plt.plot(np.sum(feature_per_coin[5], axis=0))\n",
    "\n",
    "plt.vlines(freqs, ymin=-5000, ymax=15000, colors=\"gray\")"
   ]
  },
  {
   "cell_type": "code",
   "execution_count": 57,
   "metadata": {},
   "outputs": [
    {
     "data": {
      "text/plain": [
       "<matplotlib.collections.LineCollection at 0x11c2d8e10>"
      ]
     },
     "execution_count": 57,
     "metadata": {},
     "output_type": "execute_result"
    },
    {
     "data": {
      "image/png": "[encoded data removed]",
      "text/plain": [
       "<matplotlib.figure.Figure at 0x11a643e80>"
      ]
     },
     "metadata": {},
     "output_type": "display_data"
    }
   ],
   "source": [
    "start=1200\n",
    "end=1400\n",
    "plt.xlim(start, end)\n",
    "plt.plot(np.sum(feature_per_coin[0], axis=0))\n",
    "plt.plot(np.sum(feature_per_coin[1], axis=0))\n",
    "plt.plot(np.sum(feature_per_coin[2], axis=0))\n",
    "plt.plot(np.sum(feature_per_coin[3], axis=0))\n",
    "plt.plot(np.sum(feature_per_coin[4], axis=0))\n",
    "plt.plot(np.sum(feature_per_coin[5], axis=0))\n",
    "\n",
    "plt.vlines(freqs, ymin=-5000, ymax=15000, colors=\"gray\")"
   ]
  },
  {
   "cell_type": "code",
   "execution_count": 36,
   "metadata": {},
   "outputs": [
    {
     "ename": "NameError",
     "evalue": "name 'start' is not defined",
     "output_type": "error",
     "traceback": [
      "\u001b[0;31m---------------------------------------------------------------------------\u001b[0m",
      "\u001b[0;31mNameError\u001b[0m                                 Traceback (most recent call last)",
      "\u001b[0;32m<ipython-input-36-f6fd1656d79b>\u001b[0m in \u001b[0;36m<module>\u001b[0;34m()\u001b[0m\n\u001b[0;32m----> 1\u001b[0;31m \u001b[0mstart\u001b[0m\u001b[0;34m\u001b[0m\u001b[0m\n\u001b[0m",
      "\u001b[0;31mNameError\u001b[0m: name 'start' is not defined"
     ]
    }
   ],
   "source": []
  },
  {
   "cell_type": "code",
   "execution_count": 21,
   "metadata": {},
   "outputs": [
    {
     "data": {
      "text/plain": [
       "(6, 20, 20, 1858)"
      ]
     },
     "execution_count": 21,
     "metadata": {},
     "output_type": "execute_result"
    }
   ],
   "source": []
  },
  {
   "cell_type": "code",
   "execution_count": null,
   "metadata": {},
   "outputs": [],
   "source": [
    "%timeit makePrediction(features[0][0][:, freqs], sigma, mu)"
   ]
  },
  {
   "cell_type": "code",
   "execution_count": 24,
   "metadata": {},
   "outputs": [],
   "source": [
    "acc = 0\n",
    "for c in range(0, 6) :\n",
    "    for cc in range(15, 20) :\n",
    "        predicted = makePrediction(features[c][cc][:, freqs], sigma=sigma, mu=mu, detSigma=detSigma, invSigma=invSigma)\n",
    "        if(predicted == c) :\n",
    "            acc += 1\n",
    "            \n",
    "acc /= (5 * 6)"
   ]
  },
  {
   "cell_type": "code",
   "execution_count": null,
   "metadata": {},
   "outputs": [],
   "source": []
  },
  {
   "cell_type": "code",
   "execution_count": 25,
   "metadata": {},
   "outputs": [
    {
     "data": {
      "text/plain": [
       "0.9"
      ]
     },
     "execution_count": 25,
     "metadata": {},
     "output_type": "execute_result"
    }
   ],
   "source": [
    "acc"
   ]
  },
  {
   "cell_type": "markdown",
   "metadata": {},
   "source": [
    " "
   ]
  },
  {
   "cell_type": "markdown",
   "metadata": {},
   "source": [
    " "
   ]
  },
  {
   "cell_type": "markdown",
   "metadata": {},
   "source": [
    "期待値 0.166...での正解率0.5\n",
    "\n",
    "そこそこ当たってそう"
   ]
  },
  {
   "cell_type": "markdown",
   "metadata": {},
   "source": [
    "本番\n",
    "\n",
    "非常に時間がかかることが予想される"
   ]
  },
  {
   "cell_type": "code",
   "execution_count": 35,
   "metadata": {},
   "outputs": [
    {
     "name": "stdout",
     "output_type": "stream",
     "text": [
      "preparation\n",
      "main loop start\n",
      "********************************\n",
      "major loop\n",
      "--------------------------------\n",
      "('minor loop : ', 0)\n",
      "('Selected freqs', array([5, 1]))\n",
      "('R=', 0.9968268453097271)\n",
      "--------------------------------\n",
      "('minor loop : ', 1)\n",
      "('Selected freqs', array([5, 4]))\n",
      "('R=', 0.9956835361266605)\n",
      "--------------------------------\n",
      "********************************\n",
      "major loop\n",
      "--------------------------------\n",
      "('minor loop : ', 0)\n",
      "('Selected freqs', array([5, 4]))\n",
      "('R=', 0.9956835361266605)\n",
      "--------------------------------\n",
      "('minor loop : ', 1)\n",
      "('Selected freqs', array([5, 4]))\n",
      "('R=', 0.9956835361266605)\n",
      "--------------------------------\n",
      "done\n"
     ]
    }
   ],
   "source": [
    "D = 2\n",
    "freqs, sigma, mu = detectFreqs(features, D)"
   ]
  },
  {
   "cell_type": "code",
   "execution_count": 9,
   "metadata": {},
   "outputs": [],
   "source": [
    "import numpy as np\n",
    "from numpy import fft"
   ]
  },
  {
   "cell_type": "code",
   "execution_count": 13,
   "metadata": {},
   "outputs": [],
   "source": [
    "temp = fft.fft([0, 1, 2, 3, 4])"
   ]
  },
  {
   "cell_type": "code",
   "execution_count": 15,
   "metadata": {},
   "outputs": [
    {
     "data": {
      "text/plain": [
       "array([ 10.        ,   4.25325404,   2.62865556,   2.62865556,   4.25325404])"
      ]
     },
     "execution_count": 15,
     "metadata": {},
     "output_type": "execute_result"
    }
   ],
   "source": [
    "np.abs(temp)"
   ]
  },
  {
   "cell_type": "markdown",
   "metadata": {},
   "source": [
    "そもそもの計算が正しいか簡単に確認"
   ]
  },
  {
   "cell_type": "code",
   "execution_count": 13,
   "metadata": {},
   "outputs": [],
   "source": [
    "def culR(feature, sigma, mu) :\n",
    "    detSigma = np.linalg.det(sigma)\n",
    "    invSigma = np.linalg.inv(sigma)\n",
    "    d = sigma.shape[0]\n",
    "    x_muc = np.matrix(feature - mu).T\n",
    "\n",
    "    res = ((2 * np.pi) ** (-d / 2.0) * detSigma ** (-0.5) * np.exp(-x_muc.T.dot(invSigma).dot(x_muc) / 2))\n",
    "    \n",
    "    return res"
   ]
  },
  {
   "cell_type": "code",
   "execution_count": 27,
   "metadata": {},
   "outputs": [
    {
     "data": {
      "text/plain": [
       "matrix([[ 1.59154943]])"
      ]
     },
     "execution_count": 27,
     "metadata": {},
     "output_type": "execute_result"
    }
   ],
   "source": [
    "culR(np.array([0, 0]), np.array([[1, 0], [0, 1]]) * 0.1, np.array([0, 0]))"
   ]
  },
  {
   "cell_type": "code",
   "execution_count": 20,
   "metadata": {},
   "outputs": [
    {
     "data": {
      "text/plain": [
       "array([[ 1.,  0.],\n",
       "       [ 0.,  1.]])"
      ]
     },
     "execution_count": 20,
     "metadata": {},
     "output_type": "execute_result"
    }
   ],
   "source": [
    "np.linalg.inv((np.array([[1, 0], [0, 1]])))"
   ]
  },
  {
   "cell_type": "code",
   "execution_count": 24,
   "metadata": {},
   "outputs": [
    {
     "data": {
      "text/plain": [
       "matrix([[ 1.]])"
      ]
     },
     "execution_count": 24,
     "metadata": {},
     "output_type": "execute_result"
    }
   ],
   "source": [
    "x = np.array([0, 0])\n",
    "mu = np.array([0, 0])\n",
    "x_muc = np.matrix(x - mu).T\n",
    "sigma = np.array([[1, 0], [0, 1]]) * 100\n",
    "invSigma = np.linalg.inv(sigma)\n",
    "\n",
    "np.exp(-x_muc.T.dot(invSigma).dot(x_muc) / 2)"
   ]
  },
  {
   "cell_type": "code",
   "execution_count": 9,
   "metadata": {},
   "outputs": [],
   "source": [
    "x = np.array([0, 1, 2])"
   ]
  },
  {
   "cell_type": "code",
   "execution_count": 18,
   "metadata": {},
   "outputs": [],
   "source": [
    "x = np.array([x]).T"
   ]
  },
  {
   "cell_type": "code",
   "execution_count": 19,
   "metadata": {},
   "outputs": [
    {
     "data": {
      "text/plain": [
       "array([[0],\n",
       "       [1],\n",
       "       [2]])"
      ]
     },
     "execution_count": 19,
     "metadata": {},
     "output_type": "execute_result"
    }
   ],
   "source": [
    "x"
   ]
  },
  {
   "cell_type": "code",
   "execution_count": 22,
   "metadata": {},
   "outputs": [],
   "source": [
    "invSigma = np.array(range(0, 9)).reshape(3, 3)"
   ]
  },
  {
   "cell_type": "code",
   "execution_count": 23,
   "metadata": {},
   "outputs": [
    {
     "data": {
      "text/plain": [
       "array([[0, 1, 2],\n",
       "       [3, 4, 5],\n",
       "       [6, 7, 8]])"
      ]
     },
     "execution_count": 23,
     "metadata": {},
     "output_type": "execute_result"
    }
   ],
   "source": [
    "invSigma"
   ]
  },
  {
   "cell_type": "code",
   "execution_count": 27,
   "metadata": {},
   "outputs": [
    {
     "data": {
      "text/plain": [
       "array([[60]])"
      ]
     },
     "execution_count": 27,
     "metadata": {},
     "output_type": "execute_result"
    }
   ],
   "source": [
    "np.dot(x.T, invSigma).dot(x)"
   ]
  },
  {
   "cell_type": "code",
   "execution_count": 29,
   "metadata": {},
   "outputs": [
    {
     "data": {
      "text/plain": [
       "array([[  1.00000000e+00,   2.71828183e+00,   7.38905610e+00],\n",
       "       [  2.00855369e+01,   5.45981500e+01,   1.48413159e+02],\n",
       "       [  4.03428793e+02,   1.09663316e+03,   2.98095799e+03]])"
      ]
     },
     "execution_count": 29,
     "metadata": {},
     "output_type": "execute_result"
    }
   ],
   "source": [
    "np.exp(invSigma)"
   ]
  },
  {
   "cell_type": "code",
   "execution_count": 23,
   "metadata": {},
   "outputs": [],
   "source": [
    "temp1 = np.random.random(size=[10, 5])\n",
    "temp2 = np.array([1, 2, 3, 4, 5])"
   ]
  },
  {
   "cell_type": "code",
   "execution_count": 24,
   "metadata": {},
   "outputs": [
    {
     "data": {
      "text/plain": [
       "array([[-0.75548225, -1.24964047, -2.9738428 , -3.15987994, -4.42099502],\n",
       "       [-0.05162787, -1.74623336, -2.62967871, -3.93480647, -4.32583643],\n",
       "       [-0.5684011 , -1.59850595, -2.9498818 , -3.17115349, -4.47818155],\n",
       "       [-0.39945419, -1.12748661, -2.97947945, -3.68589437, -4.65914087],\n",
       "       [-0.25706016, -1.76536543, -2.21850173, -3.14305407, -4.45603376],\n",
       "       [-0.46668178, -1.38401511, -2.88355964, -3.14920844, -4.74136581],\n",
       "       [-0.98131734, -1.07002719, -2.88721637, -3.88495606, -4.60525238],\n",
       "       [-0.71921804, -1.1725652 , -2.01872411, -3.46786546, -4.34353485],\n",
       "       [-0.88880065, -1.23024017, -2.79290115, -3.39353379, -4.81088962],\n",
       "       [-0.19665272, -1.44072596, -2.90678227, -3.02124015, -4.60273412]])"
      ]
     },
     "execution_count": 24,
     "metadata": {},
     "output_type": "execute_result"
    }
   ],
   "source": [
    "temp1 - temp2"
   ]
  },
  {
   "cell_type": "code",
   "execution_count": 25,
   "metadata": {},
   "outputs": [
    {
     "data": {
      "text/plain": [
       "array([-12.55984047, -12.68818285, -12.76612389, -12.85145549,\n",
       "       -11.84001516, -12.62483077, -13.42876933, -11.72190767,\n",
       "       -13.11636538, -12.16813521])"
      ]
     },
     "execution_count": 25,
     "metadata": {},
     "output_type": "execute_result"
    }
   ],
   "source": [
    "np.sum(temp1 - temp2, axis=1)"
   ]
  },
  {
   "cell_type": "code",
   "execution_count": 26,
   "metadata": {},
   "outputs": [],
   "source": [
    "args = np.argmax(temp1, axis=0)"
   ]
  },
  {
   "cell_type": "code",
   "execution_count": 27,
   "metadata": {},
   "outputs": [
    {
     "data": {
      "text/plain": [
       "array([[ 0.24451775,  0.75035953,  0.0261572 ,  0.84012006,  0.57900498],\n",
       "       [ 0.94837213,  0.25376664,  0.37032129,  0.06519353,  0.67416357],\n",
       "       [ 0.4315989 ,  0.40149405,  0.0501182 ,  0.82884651,  0.52181845],\n",
       "       [ 0.60054581,  0.87251339,  0.02052055,  0.31410563,  0.34085913],\n",
       "       [ 0.74293984,  0.23463457,  0.78149827,  0.85694593,  0.54396624],\n",
       "       [ 0.53331822,  0.61598489,  0.11644036,  0.85079156,  0.25863419],\n",
       "       [ 0.01868266,  0.92997281,  0.11278363,  0.11504394,  0.39474762],\n",
       "       [ 0.28078196,  0.8274348 ,  0.98127589,  0.53213454,  0.65646515],\n",
       "       [ 0.11119935,  0.76975983,  0.20709885,  0.60646621,  0.18911038],\n",
       "       [ 0.80334728,  0.55927404,  0.09321773,  0.97875985,  0.39726588]])"
      ]
     },
     "execution_count": 27,
     "metadata": {},
     "output_type": "execute_result"
    }
   ],
   "source": [
    "temp1"
   ]
  },
  {
   "cell_type": "code",
   "execution_count": 28,
   "metadata": {},
   "outputs": [
    {
     "data": {
      "text/plain": [
       "array([1, 6, 7, 9, 1])"
      ]
     },
     "execution_count": 28,
     "metadata": {},
     "output_type": "execute_result"
    }
   ],
   "source": [
    "args"
   ]
  },
  {
   "cell_type": "code",
   "execution_count": 29,
   "metadata": {},
   "outputs": [
    {
     "data": {
      "text/plain": [
       "array([ 0.94837213,  0.92997281,  0.98127589,  0.97875985,  0.67416357])"
      ]
     },
     "execution_count": 29,
     "metadata": {},
     "output_type": "execute_result"
    }
   ],
   "source": [
    "temp1[args, np.array([0, 1, 2, 3, 4])]"
   ]
  },
  {
   "cell_type": "code",
   "execution_count": 30,
   "metadata": {},
   "outputs": [
    {
     "data": {
      "text/plain": [
       "array([0, 1, 2, 3, 4, 5, 6, 7, 8, 9])"
      ]
     },
     "execution_count": 30,
     "metadata": {},
     "output_type": "execute_result"
    }
   ],
   "source": [
    "np.array(range(0, 10))"
   ]
  },
  {
   "cell_type": "code",
   "execution_count": 31,
   "metadata": {},
   "outputs": [
    {
     "data": {
      "text/plain": [
       "array([ 1.22277933,  1.16140318,  1.42704794,  1.17755755,  1.15947989])"
      ]
     },
     "execution_count": 31,
     "metadata": {},
     "output_type": "execute_result"
    }
   ],
   "source": [
    "np.exp(temp1[args, np.array(range(0, 5))] / np.sum(temp1, axis=0))"
   ]
  },
  {
   "cell_type": "code",
   "execution_count": 33,
   "metadata": {},
   "outputs": [
    {
     "data": {
      "text/plain": [
       "array([[ 0.94837213,  0.25376664,  0.37032129,  0.06519353,  0.67416357],\n",
       "       [ 0.01868266,  0.92997281,  0.11278363,  0.11504394,  0.39474762],\n",
       "       [ 0.28078196,  0.8274348 ,  0.98127589,  0.53213454,  0.65646515],\n",
       "       [ 0.80334728,  0.55927404,  0.09321773,  0.97875985,  0.39726588],\n",
       "       [ 0.94837213,  0.25376664,  0.37032129,  0.06519353,  0.67416357]])"
      ]
     },
     "execution_count": 33,
     "metadata": {},
     "output_type": "execute_result"
    }
   ],
   "source": [
    "temp1[args]"
   ]
  },
  {
   "cell_type": "code",
   "execution_count": 35,
   "metadata": {},
   "outputs": [
    {
     "ename": "IndexError",
     "evalue": "index 6 is out of bounds for axis 1 with size 5",
     "output_type": "error",
     "traceback": [
      "\u001b[0;31m---------------------------------------------------------------------------\u001b[0m",
      "\u001b[0;31mIndexError\u001b[0m                                Traceback (most recent call last)",
      "\u001b[0;32m<ipython-input-35-ccd804f09c00>\u001b[0m in \u001b[0;36m<module>\u001b[0;34m()\u001b[0m\n\u001b[0;32m----> 1\u001b[0;31m \u001b[0mtemp2\u001b[0m\u001b[0;34m[\u001b[0m\u001b[0margs\u001b[0m\u001b[0;34m]\u001b[0m\u001b[0;34m\u001b[0m\u001b[0m\n\u001b[0m",
      "\u001b[0;31mIndexError\u001b[0m: index 6 is out of bounds for axis 1 with size 5"
     ]
    }
   ],
   "source": [
    "temp2[args]"
   ]
  },
  {
   "cell_type": "code",
   "execution_count": 37,
   "metadata": {},
   "outputs": [
    {
     "data": {
      "text/plain": [
       "array([1, 2, 1, 1, 4, 5, 3])"
      ]
     },
     "execution_count": 37,
     "metadata": {},
     "output_type": "execute_result"
    }
   ],
   "source": [
    "temp2[np.array([0, 1, 0, 0, 3, 4, 2])]"
   ]
  },
  {
   "cell_type": "code",
   "execution_count": 21,
   "metadata": {},
   "outputs": [
    {
     "data": {
      "text/plain": [
       "19683"
      ]
     },
     "execution_count": 21,
     "metadata": {},
     "output_type": "execute_result"
    }
   ],
   "source": [
    " 3 ** 9"
   ]
  },
  {
   "cell_type": "code",
   "execution_count": 22,
   "metadata": {},
   "outputs": [
    {
     "data": {
      "text/plain": [
       "81"
      ]
     },
     "execution_count": 22,
     "metadata": {},
     "output_type": "execute_result"
    }
   ],
   "source": [
    "3 ** 4"
   ]
  },
  {
   "cell_type": "code",
   "execution_count": 21,
   "metadata": {},
   "outputs": [],
   "source": [
    "temp = np.array([[1, 2, 3], [4, 5, 6]])"
   ]
  },
  {
   "cell_type": "code",
   "execution_count": 22,
   "metadata": {},
   "outputs": [
    {
     "data": {
      "text/plain": [
       "array([[1, 2, 3],\n",
       "       [4, 5, 6]])"
      ]
     },
     "execution_count": 22,
     "metadata": {},
     "output_type": "execute_result"
    }
   ],
   "source": [
    "temp"
   ]
  },
  {
   "cell_type": "code",
   "execution_count": 23,
   "metadata": {},
   "outputs": [
    {
     "data": {
      "text/plain": [
       "array([ 6, 15])"
      ]
     },
     "execution_count": 23,
     "metadata": {},
     "output_type": "execute_result"
    }
   ],
   "source": [
    "np.sum(temp, axis=1)"
   ]
  },
  {
   "cell_type": "code",
   "execution_count": 25,
   "metadata": {},
   "outputs": [
    {
     "data": {
      "text/plain": [
       "array([[ 1.,  1.],\n",
       "       [ 1.,  1.]])"
      ]
     },
     "execution_count": 25,
     "metadata": {},
     "output_type": "execute_result"
    }
   ],
   "source": [
    "np.cov(temp)"
   ]
  },
  {
   "cell_type": "code",
   "execution_count": 47,
   "metadata": {},
   "outputs": [],
   "source": [
    "mu = np.array([2.5, 3.5, 4.5])\n",
    "x = np.array([[1, 2, 3], [4, 5, 6]])\n",
    "y = np.array([[1, 3, 5], [7, 11, 17]])\n",
    "mat = np.array([[1, 2, 3], [4, 5, 6], [7, 8, 9]])"
   ]
  },
  {
   "cell_type": "code",
   "execution_count": 48,
   "metadata": {},
   "outputs": [
    {
     "name": "stdout",
     "output_type": "stream",
     "text": [
      "[[-220.5]] [[ 832.5]]\n"
     ]
    }
   ],
   "source": [
    "print(np.array([x[0] - mu]).dot(mat).dot(np.array([y[0]]).T),\n",
    "      np.array([x[1] - mu]).dot(mat).dot(np.array([y[1]]).T))"
   ]
  },
  {
   "cell_type": "code",
   "execution_count": 49,
   "metadata": {},
   "outputs": [
    {
     "data": {
      "text/plain": [
       "array([-220.5,  832.5])"
      ]
     },
     "execution_count": 49,
     "metadata": {},
     "output_type": "execute_result"
    }
   ],
   "source": [
    "np.sum(np.dot(x - mu, mat) * y, axis=1)"
   ]
  },
  {
   "cell_type": "code",
   "execution_count": null,
   "metadata": {},
   "outputs": [],
   "source": []
  }
 ],
 "metadata": {
  "kernelspec": {
   "display_name": "Python 3",
   "language": "python",
   "name": "python3"
  },
  "language_info": {
   "codemirror_mode": {
    "name": "ipython",
    "version": 3
   },
   "file_extension": ".py",
   "mimetype": "text/x-python",
   "name": "python",
   "nbconvert_exporter": "python",
   "pygments_lexer": "ipython3",
   "version": "3.6.0"
  }
 },
 "nbformat": 4,
 "nbformat_minor": 2
}
