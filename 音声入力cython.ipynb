{
 "cells": [
  {
   "cell_type": "code",
   "execution_count": 1,
   "metadata": {},
   "outputs": [],
   "source": [
    "import numpy as np\n",
    "import wave\n",
    "import matplotlib.pyplot as plt\n",
    "%matplotlib inline\n",
    "\n",
    "from numpy import fft\n",
    "import math\n",
    "import makeFeature\n",
    "from time import sleep"
   ]
  },
  {
   "cell_type": "code",
   "execution_count": 2,
   "metadata": {},
   "outputs": [],
   "source": [
    "import pyaudio\n"
   ]
  },
  {
   "cell_type": "code",
   "execution_count": 3,
   "metadata": {},
   "outputs": [
    {
     "ename": "ModuleNotFoundError",
     "evalue": "No module named 'pydub'",
     "output_type": "error",
     "traceback": [
      "\u001b[0;31m---------------------------------------------------------------------------\u001b[0m",
      "\u001b[0;31mModuleNotFoundError\u001b[0m                       Traceback (most recent call last)",
      "\u001b[0;32m<ipython-input-3-4f2f1c796d96>\u001b[0m in \u001b[0;36m<module>\u001b[0;34m()\u001b[0m\n\u001b[0;32m----> 1\u001b[0;31m \u001b[0;32mfrom\u001b[0m \u001b[0mpydub\u001b[0m \u001b[0;32mimport\u001b[0m \u001b[0mAudioSegment\u001b[0m\u001b[0;34m\u001b[0m\u001b[0m\n\u001b[0m",
      "\u001b[0;31mModuleNotFoundError\u001b[0m: No module named 'pydub'"
     ]
    }
   ],
   "source": [
    "from pydub import AudioSegment"
   ]
  },
  {
   "cell_type": "code",
   "execution_count": 4,
   "metadata": {},
   "outputs": [
    {
     "ename": "ModuleNotFoundError",
     "evalue": "No module named 'pydub'",
     "output_type": "error",
     "traceback": [
      "\u001b[0;31m---------------------------------------------------------------------------\u001b[0m",
      "\u001b[0;31mModuleNotFoundError\u001b[0m                       Traceback (most recent call last)",
      "\u001b[0;32m<ipython-input-4-e66b3c5293d7>\u001b[0m in \u001b[0;36m<module>\u001b[0;34m()\u001b[0m\n\u001b[0;32m----> 1\u001b[0;31m \u001b[0;32mimport\u001b[0m \u001b[0mpydub\u001b[0m\u001b[0;34m\u001b[0m\u001b[0m\n\u001b[0m",
      "\u001b[0;31mModuleNotFoundError\u001b[0m: No module named 'pydub'"
     ]
    }
   ],
   "source": [
    "import pydub"
   ]
  },
  {
   "cell_type": "code",
   "execution_count": 5,
   "metadata": {},
   "outputs": [],
   "source": [
    "name = \"./CoinData2/001-001.wav\"\n",
    "wavefile = wave.open(name, \"r\")\n",
    "framerate = wavefile.getframerate()\n",
    "data = wavefile.readframes(wavefile.getnframes())\n",
    "x = np.frombuffer(data, dtype=\"int16\")\n",
    "x = x.astype('float64') #### 初めからfloat64にすると、ファイル形式の関係上欲しいデータが得られない"
   ]
  },
  {
   "cell_type": "code",
   "execution_count": 6,
   "metadata": {},
   "outputs": [
    {
     "data": {
      "text/plain": [
       "[<matplotlib.lines.Line2D at 0x11176bac8>]"
      ]
     },
     "execution_count": 6,
     "metadata": {},
     "output_type": "execute_result"
    },
    {
     "data": {
      "image/png": "[encoded data removed]",
      "text/plain": [
       "<matplotlib.figure.Figure at 0x111574438>"
      ]
     },
     "metadata": {},
     "output_type": "display_data"
    }
   ],
   "source": [
    "plt.plot(x)"
   ]
  },
  {
   "cell_type": "code",
   "execution_count": null,
   "metadata": {},
   "outputs": [],
   "source": []
  },
  {
   "cell_type": "code",
   "execution_count": null,
   "metadata": {},
   "outputs": [],
   "source": []
  },
  {
   "cell_type": "code",
   "execution_count": 7,
   "metadata": {},
   "outputs": [],
   "source": [
    "BinSize = 0.05 * framerate"
   ]
  },
  {
   "cell_type": "code",
   "execution_count": null,
   "metadata": {},
   "outputs": [],
   "source": []
  },
  {
   "cell_type": "code",
   "execution_count": null,
   "metadata": {},
   "outputs": [],
   "source": []
  },
  {
   "cell_type": "code",
   "execution_count": 8,
   "metadata": {},
   "outputs": [
    {
     "data": {
      "text/plain": [
       "2.6238548752834467"
      ]
     },
     "execution_count": 8,
     "metadata": {},
     "output_type": "execute_result"
    }
   ],
   "source": [
    "len(x) / framerate"
   ]
  },
  {
   "cell_type": "code",
   "execution_count": null,
   "metadata": {},
   "outputs": [],
   "source": []
  },
  {
   "cell_type": "code",
   "execution_count": null,
   "metadata": {},
   "outputs": [],
   "source": []
  },
  {
   "cell_type": "code",
   "execution_count": 9,
   "metadata": {},
   "outputs": [],
   "source": [
    "from makeFeature import makeFeature"
   ]
  },
  {
   "cell_type": "code",
   "execution_count": 10,
   "metadata": {},
   "outputs": [
    {
     "name": "stderr",
     "output_type": "stream",
     "text": [
      "/Library/Frameworks/Python.framework/Versions/3.6/lib/python3.6/site-packages/ipykernel_launcher.py:18: RuntimeWarning: divide by zero encountered in log10\n"
     ]
    }
   ],
   "source": [
    "coins = [\"001\", \"005\", \"010\", \"050\", \"100\", \"500\"]\n",
    "OnPeriods = 20\n",
    "CoinNumber = 100\n",
    "\n",
    "features_nakamura = np.zeros([6, CoinNumber, OnPeriods, 1858])\n",
    "for coinIndex, coin in enumerate(coins) :\n",
    "    for i in range(0, CoinNumber) :\n",
    "        padded = '%03d' % (i+1)\n",
    "        filename = \"./CoinData2/\" + coin + \"-\" + padded + \".wav\"\n",
    "        #### print(filename)\n",
    "        wavefile = wave.open(filename, \"r\")\n",
    "        framerate = wavefile.getframerate()\n",
    "        data = wavefile.readframes(wavefile.getnframes())\n",
    "        wavefile.close()\n",
    "        x = np.frombuffer(data, dtype=\"int16\")\n",
    "        x = x.astype('float64') #### 初めからfloat64にすると、ファイル形式の関係上欲しいデータが得られない\n",
    "        \n",
    "        f = makeFeature(x, framerate)\n",
    "        \n",
    "        features_nakamura[coinIndex, i, :, :] = f"
   ]
  },
  {
   "cell_type": "code",
   "execution_count": 12,
   "metadata": {},
   "outputs": [],
   "source": [
    "Coins, numData, OnPeriods, waves = features_nakamura.shape"
   ]
  },
  {
   "cell_type": "code",
   "execution_count": 13,
   "metadata": {},
   "outputs": [],
   "source": [
    "feature_per_coin_nakamura = np.zeros([Coins, numData * OnPeriods, waves])\n",
    "\n",
    "for c in range(0, Coins) :\n",
    "    for cc in range(0, numData) :\n",
    "        for ccc in range(0, OnPeriods) :\n",
    "            feature_per_coin_nakamura[c, (OnPeriods) * cc + ccc] = features_nakamura[c, cc, ccc]"
   ]
  },
  {
   "cell_type": "code",
   "execution_count": 55,
   "metadata": {},
   "outputs": [
    {
     "name": "stderr",
     "output_type": "stream",
     "text": [
      "/Library/Frameworks/Python.framework/Versions/3.6/lib/python3.6/site-packages/ipykernel_launcher.py:18: RuntimeWarning: divide by zero encountered in log10\n"
     ]
    }
   ],
   "source": [
    "coins = [\"001\", \"005\", \"010\", \"050\", \"100\", \"500\"]\n",
    "OnPeriods = 20\n",
    "CoinNumber = 100\n",
    "\n",
    "features = np.zeros([6, CoinNumber, OnPeriods, 1858])\n",
    "for coinIndex, coin in enumerate(coins) :\n",
    "    for i in range(0, CoinNumber) :\n",
    "        padded = '%02d' % (i)\n",
    "        filename = \"./CoinData/\" + coin + \"-\" + padded + \".wav\"\n",
    "        #### print(filename)\n",
    "        wavefile = wave.open(filename, \"r\")\n",
    "        framerate = wavefile.getframerate()\n",
    "        data = wavefile.readframes(wavefile.getnframes())\n",
    "        wavefile.close()\n",
    "        x = np.frombuffer(data, dtype=\"int16\")\n",
    "        x = x.astype('float64') #### 初めからfloat64にすると、ファイル形式の関係上欲しいデータが得られない\n",
    "        \n",
    "        f = makeFeature(x, framerate)\n",
    "        \n",
    "        features[coinIndex, i, :, :] = f"
   ]
  },
  {
   "cell_type": "code",
   "execution_count": 14,
   "metadata": {},
   "outputs": [
    {
     "name": "stderr",
     "output_type": "stream",
     "text": [
      "/Library/Frameworks/Python.framework/Versions/3.6/lib/python3.6/site-packages/ipykernel_launcher.py:15: RuntimeWarning: divide by zero encountered in log10\n",
      "  from ipykernel import kernelapp as app\n"
     ]
    }
   ],
   "source": [
    "coins = [\"001\", \"005\", \"010\", \"050\", \"100\", \"500\"]\n",
    "features_naito = np.zeros([6, CoinNumber, OnPeriods, 1858])\n",
    "\n",
    "for coinIndex, coin in enumerate(coins) :\n",
    "    for i in range(0, CoinNumber) :\n",
    "        padded = '%02d' % (i)\n",
    "        filename = \"./CoinData3/\" + coin + \"-\" + padded + \".wav\"        #### print(filename)\n",
    "        wavefile = wave.open(filename, \"r\")\n",
    "        framerate = wavefile.getframerate()\n",
    "        data = wavefile.readframes(wavefile.getnframes())\n",
    "        wavefile.close()\n",
    "        x = np.frombuffer(data, dtype=\"int16\")\n",
    "        x = x.astype('float64') #### 初めからfloat64にすると、ファイル形式の関係上欲しいデータが得られない\n",
    "        \n",
    "        f = makeFeature(x, framerate)\n",
    "        features_naito[coinIndex, i, :, :] = f"
   ]
  },
  {
   "cell_type": "code",
   "execution_count": 16,
   "metadata": {},
   "outputs": [],
   "source": [
    "feature_per_coin_naito = np.zeros([Coins, numData * OnPeriods, waves])\n",
    "\n",
    "for c in range(0, Coins) :\n",
    "    for cc in range(0, numData) :\n",
    "        for ccc in range(0, OnPeriods) :\n",
    "            feature_per_coin_naito[c, (OnPeriods) * cc + ccc] = features_naito[c, cc, ccc]"
   ]
  },
  {
   "cell_type": "code",
   "execution_count": 79,
   "metadata": {},
   "outputs": [],
   "source": [
    "feature_per_coin = np.zeros([Coins, numData * OnPeriods, waves])\n",
    "for c in range(0, 3) :\n",
    "    for cc in range(0, numData) :\n",
    "        for ccc in range(0, OnPeriods) :\n",
    "            feature_per_coin[c, (OnPeriods) * cc + ccc] = features[c, cc, ccc]"
   ]
  },
  {
   "cell_type": "code",
   "execution_count": 92,
   "metadata": {},
   "outputs": [],
   "source": [
    "coins = [\"001\", \"005\", \"100\"]\n",
    "OnPeriods = 20\n",
    "CoinNumber = 20\n",
    "\n",
    "features = np.zeros([3, CoinNumber, OnPeriods, 1858])\n",
    "for coinIndex, coin in enumerate(coins) :\n",
    "    for i in range(0, CoinNumber) :\n",
    "        padded = '%02d' % i\n",
    "        filename = \"./CoinData-Set/\" + coin + \"-\" + padded + \".wav\"\n",
    "        #### print(filename)\n",
    "        wavefile = wave.open(filename, \"r\")\n",
    "        framerate = wavefile.getframerate()\n",
    "        data = wavefile.readframes(wavefile.getnframes())\n",
    "        wavefile.close()\n",
    "        x = np.frombuffer(data, dtype=\"int16\")\n",
    "        x = x.astype('float64') #### 初めからfloat64にすると、ファイル形式の関係上欲しいデータが得られない\n",
    "        \n",
    "        f = makeFeature(x, framerate)\n",
    "        \n",
    "        features[coinIndex, i, :, :] = f\n",
    "        \n",
    "feature_per_coin_ex_naito = np.zeros([3, 20 * OnPeriods, waves])\n",
    "\n",
    "for c in range(0, 3) :\n",
    "    for cc in range(0, 20) :\n",
    "        for ccc in range(0, OnPeriods) :\n",
    "            feature_per_coin_ex_naito[c, (OnPeriods) * cc + ccc] = features[c, cc, ccc]"
   ]
  },
  {
   "cell_type": "code",
   "execution_count": 93,
   "metadata": {},
   "outputs": [
    {
     "name": "stderr",
     "output_type": "stream",
     "text": [
      "/Library/Frameworks/Python.framework/Versions/3.6/lib/python3.6/site-packages/ipykernel_launcher.py:18: RuntimeWarning: divide by zero encountered in log10\n"
     ]
    }
   ],
   "source": [
    "coins = [\"001\", \"005\", \"100\"]\n",
    "OnPeriods = 20\n",
    "CoinNumber = 20\n",
    "\n",
    "features = np.zeros([3, CoinNumber, OnPeriods, 1858])\n",
    "for coinIndex, coin in enumerate(coins) :\n",
    "    for i in range(0, CoinNumber) :\n",
    "        padded = '%02d' % i\n",
    "        filename = \"./Coindata_Sync/\" + coin + \"-\" + padded + \".wav\"\n",
    "        #### print(filename)\n",
    "        wavefile = wave.open(filename, \"r\")\n",
    "        framerate = wavefile.getframerate()\n",
    "        data = wavefile.readframes(wavefile.getnframes())\n",
    "        wavefile.close()\n",
    "        x = np.frombuffer(data, dtype=\"int16\")\n",
    "        x = x.astype('float64') #### 初めからfloat64にすると、ファイル形式の関係上欲しいデータが得られない\n",
    "        \n",
    "        f = makeFeature(x, framerate)\n",
    "        \n",
    "        features[coinIndex, i, :, :] = f\n",
    "        \n",
    "feature_per_coin_ex_nakamura = np.zeros([3, 20 * OnPeriods, waves])\n",
    "\n",
    "for c in range(0, 3) :\n",
    "    for cc in range(0, 20) :\n",
    "        for ccc in range(0, OnPeriods) :\n",
    "            feature_per_coin_ex_nakamura[c, (OnPeriods) * cc + ccc] = features[c, cc, ccc]"
   ]
  },
  {
   "cell_type": "code",
   "execution_count": 65,
   "metadata": {},
   "outputs": [
    {
     "data": {
      "text/plain": [
       "(6, 2000, 1858)"
      ]
     },
     "execution_count": 65,
     "metadata": {},
     "output_type": "execute_result"
    }
   ],
   "source": [
    "feature_per_coin_naito.shape"
   ]
  },
  {
   "cell_type": "code",
   "execution_count": 17,
   "metadata": {},
   "outputs": [],
   "source": [
    "### 汎用的な学習データの作成\n",
    "features_LEARN = np.zeros_like(features_naito)\n",
    "features_TEST = np.zeros_like(features_naito)\n",
    "\n",
    "features_LEARN[:, 0:50, :, :] = features_naito[:, 0:50, :, :]\n",
    "features_LEARN[:, 50:100, :, :] = features_nakamura[:, 0:50, :, :]\n",
    "features_TEST[:, 0:50, :, :] = features_naito[:, 50:100, :, :]\n",
    "features_TEST[:, 50:100, :, :] = features_nakamura[:, 50:100, :, :]\n",
    "\n",
    "feature_per_coin_LEARN = np.zeros_like(feature_per_coin_naito)\n",
    "feature_per_coin_TEST = np.zeros_like(feature_per_coin_naito)\n",
    "\n",
    "feature_per_coin_LEARN[:, 0:1000, :] = feature_per_coin_naito[:, 0:1000, :]\n",
    "feature_per_coin_LEARN[:, 1000:2000, :] = feature_per_coin_nakamura[:, 0:1000, :]\n",
    "feature_per_coin_TEST[:, 0:1000, :] = feature_per_coin_naito[:, 1000:2000, :]\n",
    "feature_per_coin_TEST[:, 1000:2000, :] = feature_per_coin_nakamura[:, 1000:2000, :]"
   ]
  },
  {
   "cell_type": "code",
   "execution_count": 104,
   "metadata": {},
   "outputs": [
    {
     "data": {
      "text/plain": [
       "[<matplotlib.lines.Line2D at 0x1168e7be0>]"
      ]
     },
     "execution_count": 104,
     "metadata": {},
     "output_type": "execute_result"
    },
    {
     "data": {
      "image/png": "[encoded data removed]",
      "text/plain": [
       "<matplotlib.figure.Figure at 0x1168e7c18>"
      ]
     },
     "metadata": {},
     "output_type": "display_data"
    }
   ],
   "source": [
    "plt.plot(np.mean(feature_per_coin_ex_nakamura[0], axis=0), \"blue\")\n",
    "plt.plot(np.mean(feature_per_coin_ex_naito[0], axis=0), \"red\")\n",
    "#plt.plot(np.mean(feature_per_coin[1], axis=0), \"orange\")"
   ]
  },
  {
   "cell_type": "code",
   "execution_count": 61,
   "metadata": {},
   "outputs": [
    {
     "ename": "NameError",
     "evalue": "name 'feature_per_coin' is not defined",
     "output_type": "error",
     "traceback": [
      "\u001b[0;31m---------------------------------------------------------------------------\u001b[0m",
      "\u001b[0;31mNameError\u001b[0m                                 Traceback (most recent call last)",
      "\u001b[0;32m<ipython-input-61-93fd0ee3dce2>\u001b[0m in \u001b[0;36m<module>\u001b[0;34m()\u001b[0m\n\u001b[1;32m      1\u001b[0m \u001b[0mplt\u001b[0m\u001b[0;34m.\u001b[0m\u001b[0mplot\u001b[0m\u001b[0;34m(\u001b[0m\u001b[0mnp\u001b[0m\u001b[0;34m.\u001b[0m\u001b[0mmean\u001b[0m\u001b[0;34m(\u001b[0m\u001b[0mfeature_per_coin_nakamura\u001b[0m\u001b[0;34m[\u001b[0m\u001b[0;36m0\u001b[0m\u001b[0;34m]\u001b[0m\u001b[0;34m,\u001b[0m \u001b[0maxis\u001b[0m\u001b[0;34m=\u001b[0m\u001b[0;36m0\u001b[0m\u001b[0;34m)\u001b[0m\u001b[0;34m,\u001b[0m \u001b[0;34m\"blue\"\u001b[0m\u001b[0;34m)\u001b[0m\u001b[0;34m\u001b[0m\u001b[0m\n\u001b[1;32m      2\u001b[0m \u001b[0mplt\u001b[0m\u001b[0;34m.\u001b[0m\u001b[0mplot\u001b[0m\u001b[0;34m(\u001b[0m\u001b[0mnp\u001b[0m\u001b[0;34m.\u001b[0m\u001b[0mmean\u001b[0m\u001b[0;34m(\u001b[0m\u001b[0mfeature_per_coin_naito\u001b[0m\u001b[0;34m[\u001b[0m\u001b[0;36m0\u001b[0m\u001b[0;34m]\u001b[0m\u001b[0;34m,\u001b[0m \u001b[0maxis\u001b[0m\u001b[0;34m=\u001b[0m\u001b[0;36m0\u001b[0m\u001b[0;34m)\u001b[0m\u001b[0;34m,\u001b[0m \u001b[0;34m\"red\"\u001b[0m\u001b[0;34m)\u001b[0m\u001b[0;34m\u001b[0m\u001b[0m\n\u001b[0;32m----> 3\u001b[0;31m \u001b[0mplt\u001b[0m\u001b[0;34m.\u001b[0m\u001b[0mplot\u001b[0m\u001b[0;34m(\u001b[0m\u001b[0mnp\u001b[0m\u001b[0;34m.\u001b[0m\u001b[0mmean\u001b[0m\u001b[0;34m(\u001b[0m\u001b[0mfeature_per_coin\u001b[0m\u001b[0;34m[\u001b[0m\u001b[0;36m1\u001b[0m\u001b[0;34m]\u001b[0m\u001b[0;34m,\u001b[0m \u001b[0maxis\u001b[0m\u001b[0;34m=\u001b[0m\u001b[0;36m0\u001b[0m\u001b[0;34m)\u001b[0m\u001b[0;34m,\u001b[0m \u001b[0;34m\"orange\"\u001b[0m\u001b[0;34m)\u001b[0m\u001b[0;34m\u001b[0m\u001b[0m\n\u001b[0m",
      "\u001b[0;31mNameError\u001b[0m: name 'feature_per_coin' is not defined"
     ]
    },
    {
     "data": {
      "image/png": "[encoded data removed]",
      "text/plain": [
       "<matplotlib.figure.Figure at 0x116694198>"
      ]
     },
     "metadata": {},
     "output_type": "display_data"
    }
   ],
   "source": [
    "plt.plot(np.mean(feature_per_coin_nakamura[0], axis=0), \"blue\")\n",
    "plt.plot(np.mean(feature_per_coin_naito[0], axis=0), \"red\")\n",
    "plt.plot(np.mean(feature_per_coin[1], axis=0), \"orange\")"
   ]
  },
  {
   "cell_type": "code",
   "execution_count": 13,
   "metadata": {},
   "outputs": [
    {
     "name": "stdout",
     "output_type": "stream",
     "text": [
      "(6, 100, 20, 1858)\n",
      "(12000, 1858)\n"
     ]
    }
   ],
   "source": [
    "Coins, numData, OnPeriods, waves = features.shape\n",
    "print(features.shape)\n",
    "X = np.zeros([Coins * numData * OnPeriods, waves])\n",
    "Y = np.zeros([Coins * numData * OnPeriods])\n",
    "print(X.shape)\n",
    "\n",
    "for c in range(0, Coins) :\n",
    "    for cc in range(0, numData) :\n",
    "        for ccc in range(0, OnPeriods) :\n",
    "            X[c * (numData * OnPeriods) + cc * (OnPeriods) + ccc] = features[c, cc, ccc]\n",
    "            Y[c * (numData * OnPeriods) + cc * (OnPeriods) + ccc] = c"
   ]
  },
  {
   "cell_type": "code",
   "execution_count": 12,
   "metadata": {},
   "outputs": [
    {
     "data": {
      "text/plain": [
       "array([[ -51.30041337,  -47.75027677,  -43.50361603, ...,  -83.33547764,\n",
       "         -83.66356785,  -84.62359403],\n",
       "       [ -42.48338164,  -44.60996262,  -47.4276206 , ..., -100.27962276,\n",
       "        -101.06484216, -100.10695336],\n",
       "       [ -56.86722294,  -66.28797886,  -51.64248769, ..., -102.518103  ,\n",
       "        -106.10009211, -102.21649502],\n",
       "       ..., \n",
       "       [ -88.23874096,  -78.67507182,  -76.44267378, ..., -112.78083607,\n",
       "        -112.47772415, -110.2255472 ],\n",
       "       [ -82.10933885,  -76.73286789,  -68.51224922, ..., -111.5275144 ,\n",
       "        -108.9519902 , -114.04838852],\n",
       "       [ -71.98011779,  -76.07597681,  -74.82340691, ..., -115.90408849,\n",
       "        -122.13106548, -121.18024183]])"
      ]
     },
     "execution_count": 12,
     "metadata": {},
     "output_type": "execute_result"
    }
   ],
   "source": [
    "X"
   ]
  },
  {
   "cell_type": "code",
   "execution_count": 13,
   "metadata": {},
   "outputs": [
    {
     "data": {
      "text/plain": [
       "numpy.float64"
      ]
     },
     "execution_count": 13,
     "metadata": {},
     "output_type": "execute_result"
    }
   ],
   "source": [
    "import numpy as np\n",
    "np.float64"
   ]
  },
  {
   "cell_type": "code",
   "execution_count": 14,
   "metadata": {},
   "outputs": [
    {
     "data": {
      "text/plain": [
       "[<matplotlib.lines.Line2D at 0x11d26b128>]"
      ]
     },
     "execution_count": 14,
     "metadata": {},
     "output_type": "execute_result"
    },
    {
     "data": {
      "image/png": "[encoded data removed]",
      "text/plain": [
       "<matplotlib.figure.Figure at 0x10f865f98>"
      ]
     },
     "metadata": {},
     "output_type": "display_data"
    }
   ],
   "source": [
    "plt.plot(x)"
   ]
  },
  {
   "cell_type": "code",
   "execution_count": 15,
   "metadata": {},
   "outputs": [
    {
     "data": {
      "text/plain": [
       "'\\ndef extFeature(feature, freqs) :\\n    # OnPeriods * 1858の特徴を受け取り、freqsで指定された周波数成分を選択して\\n    # OnPeriods * len(freqs)の特徴として返す\\n    numFreqs = len(freqs)\\n    f = np.zeros(OnPeriods * numFreqs)\\n    for index, l in enumerate(feature) :\\n        f[index * numFreqs : (index + 1) * numFreqs] = l[freqs]\\n        \\n    return f\\n'"
      ]
     },
     "execution_count": 15,
     "metadata": {},
     "output_type": "execute_result"
    }
   ],
   "source": [
    "\"\"\"\n",
    "def extFeature(feature, freqs) :\n",
    "    # OnPeriods * 1858の特徴を受け取り、freqsで指定された周波数成分を選択して\n",
    "    # OnPeriods * len(freqs)の特徴として返す\n",
    "    numFreqs = len(freqs)\n",
    "    f = np.zeros(OnPeriods * numFreqs)\n",
    "    for index, l in enumerate(feature) :\n",
    "        f[index * numFreqs : (index + 1) * numFreqs] = l[freqs]\n",
    "        \n",
    "    return f\n",
    "\"\"\""
   ]
  },
  {
   "cell_type": "code",
   "execution_count": 16,
   "metadata": {},
   "outputs": [
    {
     "data": {
      "text/plain": [
       "'\\ndef extFeature2(feature, freqs) :\\n    # OnPeriods * 1858の特徴を受け取り、freqsで指定された周波数成分を選択して\\n    # len(freqs)の特徴として返す\\n    numFreqs = len(freqs)\\n    f = np.zeros(numFreqs)\\n    for index, l in enumerate(feature) :\\n        f[:] += l[freqs]\\n        \\n    return f\\n'"
      ]
     },
     "execution_count": 16,
     "metadata": {},
     "output_type": "execute_result"
    }
   ],
   "source": [
    "\"\"\"\n",
    "def extFeature2(feature, freqs) :\n",
    "    # OnPeriods * 1858の特徴を受け取り、freqsで指定された周波数成分を選択して\n",
    "    # len(freqs)の特徴として返す\n",
    "    numFreqs = len(freqs)\n",
    "    f = np.zeros(numFreqs)\n",
    "    for index, l in enumerate(feature) :\n",
    "        f[:] += l[freqs]\n",
    "        \n",
    "    return f\n",
    "\"\"\""
   ]
  },
  {
   "cell_type": "code",
   "execution_count": 17,
   "metadata": {},
   "outputs": [
    {
     "data": {
      "text/plain": [
       "\"\\ndef detectFreqs(features, numFreqs) :\\n    # numFreqsで指定した個数の周波数成分を、コストが最小になるように決定する\\n    freqs = np.array(range(0, numFreqs)).astype('int64')\\n    numCoins = features.shape[0]\\n    \\n    featuresSelected = np.zeros([numCoins, features.shape[1], features.shape[2] * numFreqs])\\n    for c in range(0, numCoins) :\\n        for cc in range(0, features.shape[1]) :\\n            featuresSelected[c, cc, :] = extFeature(features[c, cc, :, :], freqs)\\n    \\n    numFeature = features.shape[2] * numFreqs\\n    mu = np.zeros([numCoins, numFeature])\\n    sigma = np.zeros([numCoins, numFeature, numFeature])\\n    \\n    for c in range(0, numCoins) :\\n        tempF = featuresSelected[c, :, :]\\n        mu[c, :] = makeMu(tempF)\\n        sigma[c, :, :] = makeSigma(tempF)\\n        print(np.linalg.eig(sigma[c])[0])\\n        \\n    culR(featuresSelected, sigma, mu)\\n        \\n    return freqs\\n\""
      ]
     },
     "execution_count": 17,
     "metadata": {},
     "output_type": "execute_result"
    }
   ],
   "source": [
    "\"\"\"\n",
    "def detectFreqs(features, numFreqs) :\n",
    "    # numFreqsで指定した個数の周波数成分を、コストが最小になるように決定する\n",
    "    freqs = np.array(range(0, numFreqs)).astype('int64')\n",
    "    numCoins = features.shape[0]\n",
    "    \n",
    "    featuresSelected = np.zeros([numCoins, features.shape[1], features.shape[2] * numFreqs])\n",
    "    for c in range(0, numCoins) :\n",
    "        for cc in range(0, features.shape[1]) :\n",
    "            featuresSelected[c, cc, :] = extFeature(features[c, cc, :, :], freqs)\n",
    "    \n",
    "    numFeature = features.shape[2] * numFreqs\n",
    "    mu = np.zeros([numCoins, numFeature])\n",
    "    sigma = np.zeros([numCoins, numFeature, numFeature])\n",
    "    \n",
    "    for c in range(0, numCoins) :\n",
    "        tempF = featuresSelected[c, :, :]\n",
    "        mu[c, :] = makeMu(tempF)\n",
    "        sigma[c, :, :] = makeSigma(tempF)\n",
    "        print(np.linalg.eig(sigma[c])[0])\n",
    "        \n",
    "    culR(featuresSelected, sigma, mu)\n",
    "        \n",
    "    return freqs\n",
    "\"\"\""
   ]
  },
  {
   "cell_type": "code",
   "execution_count": 18,
   "metadata": {},
   "outputs": [
    {
     "data": {
      "text/plain": [
       "\"\\n#### 特徴ベクトルを足すことで次元を増やさないようにしてみる\\ndef detectFreqs2(features, numFreqs) :\\n    freqs = np.array(range(0, numFreqs)).astype('int64')\\n    numCoins = features.shape[0]\\n    \\n    featuresSelected = np.zeros([numCoins, features.shape[1], numFreqs])\\n    for c in range(0, numCoins) :\\n        for cc in range(0, features.shape[1]) :\\n            featuresSelected[c, cc, :] = extFeature2(features[c, cc, :, :], freqs)\\n            \\n            \\n    numFeature = numFreqs\\n    mu = np.zeros([numCoins, numFeature])\\n    sigma = np.zeros([numCoins, numFeature, numFeature])\\n    \\n    for c in range(0, numCoins) :\\n        tempF = featuresSelected[c, :, :]\\n        mu[c, :] = makeMu(tempF)\\n        sigma[c, :, :] = makeSigma(tempF)\\n        print(sigma[c])\\n        print(np.linalg.det(sigma[c]))\\n        \\n    freqs_new = np.array(range(0, numFreqs)).astype('int64')\\n    \\n    #### 周波数成分選択アルゴリズム\\n    while(True) :\\n        for d in range(0, numFreqs) :\\n            for omega in range(0, features.shape[3]) :\\n                if omega\\n                \\n    R = culR(featuresSelected, sigma, mu)\\n    \\n    return freqs\\n\""
      ]
     },
     "execution_count": 18,
     "metadata": {},
     "output_type": "execute_result"
    }
   ],
   "source": [
    "\"\"\"\n",
    "#### 特徴ベクトルを足すことで次元を増やさないようにしてみる\n",
    "def detectFreqs2(features, numFreqs) :\n",
    "    freqs = np.array(range(0, numFreqs)).astype('int64')\n",
    "    numCoins = features.shape[0]\n",
    "    \n",
    "    featuresSelected = np.zeros([numCoins, features.shape[1], numFreqs])\n",
    "    for c in range(0, numCoins) :\n",
    "        for cc in range(0, features.shape[1]) :\n",
    "            featuresSelected[c, cc, :] = extFeature2(features[c, cc, :, :], freqs)\n",
    "            \n",
    "            \n",
    "    numFeature = numFreqs\n",
    "    mu = np.zeros([numCoins, numFeature])\n",
    "    sigma = np.zeros([numCoins, numFeature, numFeature])\n",
    "    \n",
    "    for c in range(0, numCoins) :\n",
    "        tempF = featuresSelected[c, :, :]\n",
    "        mu[c, :] = makeMu(tempF)\n",
    "        sigma[c, :, :] = makeSigma(tempF)\n",
    "        print(sigma[c])\n",
    "        print(np.linalg.det(sigma[c]))\n",
    "        \n",
    "    freqs_new = np.array(range(0, numFreqs)).astype('int64')\n",
    "    \n",
    "    #### 周波数成分選択アルゴリズム\n",
    "    while(True) :\n",
    "        for d in range(0, numFreqs) :\n",
    "            for omega in range(0, features.shape[3]) :\n",
    "                if omega\n",
    "                \n",
    "    R = culR(featuresSelected, sigma, mu)\n",
    "    \n",
    "    return freqs\n",
    "\"\"\""
   ]
  },
  {
   "cell_type": "code",
   "execution_count": null,
   "metadata": {},
   "outputs": [],
   "source": []
  },
  {
   "cell_type": "markdown",
   "metadata": {},
   "source": [
    "適当に小さいデータで実験\n",
    "\n",
    "周波数成分　だいたい 400Hz以下\n",
    "\n",
    "特徴次元数10"
   ]
  },
  {
   "cell_type": "code",
   "execution_count": 75,
   "metadata": {},
   "outputs": [],
   "source": [
    "from makeFeature import makePrediction"
   ]
  },
  {
   "cell_type": "code",
   "execution_count": 76,
   "metadata": {},
   "outputs": [],
   "source": [
    "from makeFeature import detectFreqs"
   ]
  },
  {
   "cell_type": "code",
   "execution_count": 77,
   "metadata": {},
   "outputs": [
    {
     "name": "stdout",
     "output_type": "stream",
     "text": [
      "preparation\n",
      "main loop start\n",
      "********************************\n",
      "major loop\n",
      "--------------------------------\n",
      "('minor loop : ', 0)\n",
      "('Selected freqs', array([1231,    1,    2,    3,    4,    5,    6,    7,    8,    9,   10,\n",
      "         11,   12,   13,   14,   15,   16,   17,   18,   19]))\n",
      "('R=', 0.4674348725391477)\n",
      "--------------------------------\n",
      "('minor loop : ', 1)\n",
      "('Selected freqs', array([1231, 1658,    2,    3,    4,    5,    6,    7,    8,    9,   10,\n",
      "         11,   12,   13,   14,   15,   16,   17,   18,   19]))\n",
      "('R=', 0.3978382817657295)\n",
      "--------------------------------\n",
      "('minor loop : ', 2)\n",
      "('Selected freqs', array([1231, 1658, 1344,    3,    4,    5,    6,    7,    8,    9,   10,\n",
      "         11,   12,   13,   14,   15,   16,   17,   18,   19]))\n",
      "('R=', 0.3425538617099067)\n",
      "--------------------------------\n",
      "('minor loop : ', 3)\n",
      "('Selected freqs', array([1231, 1658, 1344, 1627,    4,    5,    6,    7,    8,    9,   10,\n",
      "         11,   12,   13,   14,   15,   16,   17,   18,   19]))\n",
      "('R=', 0.2844141471281798)\n",
      "--------------------------------\n",
      "('minor loop : ', 4)\n",
      "('Selected freqs', array([1231, 1658, 1344, 1627, 1274,    5,    6,    7,    8,    9,   10,\n",
      "         11,   12,   13,   14,   15,   16,   17,   18,   19]))\n",
      "('R=', 0.23954216649581228)\n",
      "--------------------------------\n",
      "('minor loop : ', 5)\n",
      "('Selected freqs', array([1231, 1658, 1344, 1627, 1274, 1742,    6,    7,    8,    9,   10,\n",
      "         11,   12,   13,   14,   15,   16,   17,   18,   19]))\n",
      "('R=', 0.21009049861551626)\n",
      "--------------------------------\n",
      "('minor loop : ', 6)\n",
      "('Selected freqs', array([1231, 1658, 1344, 1627, 1274, 1742, 1643,    7,    8,    9,   10,\n",
      "         11,   12,   13,   14,   15,   16,   17,   18,   19]))\n",
      "('R=', 0.18332019550883438)\n",
      "--------------------------------\n",
      "('minor loop : ', 7)\n",
      "('Selected freqs', array([1231, 1658, 1344, 1627, 1274, 1742, 1643, 1072,    8,    9,   10,\n",
      "         11,   12,   13,   14,   15,   16,   17,   18,   19]))\n",
      "('R=', 0.1603234485599934)\n",
      "--------------------------------\n",
      "('minor loop : ', 8)\n",
      "('Selected freqs', array([1231, 1658, 1344, 1627, 1274, 1742, 1643, 1072,   44,    9,   10,\n",
      "         11,   12,   13,   14,   15,   16,   17,   18,   19]))\n",
      "('R=', 0.13980160483804577)\n",
      "--------------------------------\n",
      "('minor loop : ', 9)\n",
      "('Selected freqs', array([1231, 1658, 1344, 1627, 1274, 1742, 1643, 1072,   44, 1673,   10,\n",
      "         11,   12,   13,   14,   15,   16,   17,   18,   19]))\n",
      "('R=', 0.12518131596422524)\n",
      "--------------------------------\n",
      "('minor loop : ', 10)\n",
      "('Selected freqs', array([1231, 1658, 1344, 1627, 1274, 1742, 1643, 1072,   44, 1673, 1842,\n",
      "         11,   12,   13,   14,   15,   16,   17,   18,   19]))\n",
      "('R=', 0.11810854721594433)\n",
      "--------------------------------\n",
      "('minor loop : ', 11)\n",
      "('Selected freqs', array([1231, 1658, 1344, 1627, 1274, 1742, 1643, 1072,   44, 1673, 1842,\n",
      "          5,   12,   13,   14,   15,   16,   17,   18,   19]))\n",
      "('R=', 0.11192859425279755)\n",
      "--------------------------------\n",
      "('minor loop : ', 12)\n",
      "('Selected freqs', array([1231, 1658, 1344, 1627, 1274, 1742, 1643, 1072,   44, 1673, 1842,\n",
      "          5, 1192,   13,   14,   15,   16,   17,   18,   19]))\n",
      "('R=', 0.10642114645233008)\n",
      "--------------------------------\n",
      "('minor loop : ', 13)\n",
      "('Selected freqs', array([1231, 1658, 1344, 1627, 1274, 1742, 1643, 1072,   44, 1673, 1842,\n",
      "          5, 1192,  111,   14,   15,   16,   17,   18,   19]))\n",
      "('R=', 0.1002550244408128)\n",
      "--------------------------------\n",
      "('minor loop : ', 14)\n",
      "('Selected freqs', array([1231, 1658, 1344, 1627, 1274, 1742, 1643, 1072,   44, 1673, 1842,\n",
      "          5, 1192,  111, 1212,   15,   16,   17,   18,   19]))\n",
      "('R=', 0.0956534402478136)\n",
      "--------------------------------\n",
      "('minor loop : ', 15)\n",
      "('Selected freqs', array([1231, 1658, 1344, 1627, 1274, 1742, 1643, 1072,   44, 1673, 1842,\n",
      "          5, 1192,  111, 1212, 1243,   16,   17,   18,   19]))\n",
      "('R=', 0.0925438056592143)\n",
      "--------------------------------\n",
      "('minor loop : ', 16)\n",
      "('Selected freqs', array([1231, 1658, 1344, 1627, 1274, 1742, 1643, 1072,   44, 1673, 1842,\n",
      "          5, 1192,  111, 1212, 1243,  257,   17,   18,   19]))\n",
      "('R=', 0.08916749965698184)\n",
      "--------------------------------\n",
      "('minor loop : ', 17)\n",
      "('Selected freqs', array([1231, 1658, 1344, 1627, 1274, 1742, 1643, 1072,   44, 1673, 1842,\n",
      "          5, 1192,  111, 1212, 1243,  257, 1775,   18,   19]))\n",
      "('R=', 0.08578090815176036)\n",
      "--------------------------------\n",
      "('minor loop : ', 18)\n",
      "('Selected freqs', array([1231, 1658, 1344, 1627, 1274, 1742, 1643, 1072,   44, 1673, 1842,\n",
      "          5, 1192,  111, 1212, 1243,  257, 1775,   48,   19]))\n",
      "('R=', 0.08238516039396651)\n",
      "--------------------------------\n",
      "('minor loop : ', 19)\n",
      "('Selected freqs', array([1231, 1658, 1344, 1627, 1274, 1742, 1643, 1072,   44, 1673, 1842,\n",
      "          5, 1192,  111, 1212, 1243,  257, 1775,   48,  845]))\n",
      "('R=', 0.08132809544337469)\n",
      "--------------------------------\n",
      "********************************\n",
      "major loop\n",
      "--------------------------------\n",
      "('minor loop : ', 0)\n",
      "('Selected freqs', array([1231, 1658, 1344, 1627, 1274, 1742, 1643, 1072,   44, 1673, 1842,\n",
      "          5, 1192,  111, 1212, 1243,  257, 1775,   48,  845]))\n",
      "('R=', 0.08132809544337469)\n",
      "--------------------------------\n",
      "('minor loop : ', 1)\n",
      "('Selected freqs', array([1231, 1658, 1344, 1627, 1274, 1742, 1643, 1072,   44, 1673, 1842,\n",
      "          5, 1192,  111, 1212, 1243,  257, 1775,   48,  845]))\n",
      "('R=', 0.08132809544337469)\n",
      "--------------------------------\n",
      "('minor loop : ', 2)\n",
      "('Selected freqs', array([1231, 1658, 1344, 1627, 1274, 1742, 1643, 1072,   44, 1673, 1842,\n",
      "          5, 1192,  111, 1212, 1243,  257, 1775,   48,  845]))\n",
      "('R=', 0.08132809544337469)\n",
      "--------------------------------\n",
      "('minor loop : ', 3)\n",
      "('Selected freqs', array([1231, 1658, 1344, 1627, 1274, 1742, 1643, 1072,   44, 1673, 1842,\n",
      "          5, 1192,  111, 1212, 1243,  257, 1775,   48,  845]))\n",
      "('R=', 0.08132809544337469)\n",
      "--------------------------------\n",
      "('minor loop : ', 4)\n",
      "('Selected freqs', array([1231, 1658, 1344, 1627, 1274, 1742, 1643, 1072,   44, 1673, 1842,\n",
      "          5, 1192,  111, 1212, 1243,  257, 1775,   48,  845]))\n",
      "('R=', 0.08132809544337469)\n",
      "--------------------------------\n",
      "('minor loop : ', 5)\n",
      "('Selected freqs', array([1231, 1658, 1344, 1627, 1274, 1743, 1643, 1072,   44, 1673, 1842,\n",
      "          5, 1192,  111, 1212, 1243,  257, 1775,   48,  845]))\n",
      "('R=', 0.08100128690695316)\n",
      "--------------------------------\n",
      "('minor loop : ', 6)\n",
      "('Selected freqs', array([1231, 1658, 1344, 1627, 1274, 1743, 1640, 1072,   44, 1673, 1842,\n",
      "          5, 1192,  111, 1212, 1243,  257, 1775,   48,  845]))\n",
      "('R=', 0.08066262572233772)\n",
      "--------------------------------\n",
      "('minor loop : ', 7)\n",
      "('Selected freqs', array([1231, 1658, 1344, 1627, 1274, 1743, 1640, 1072,   44, 1673, 1842,\n",
      "          5, 1192,  111, 1212, 1243,  257, 1775,   48,  845]))\n",
      "('R=', 0.08066262572233772)\n",
      "--------------------------------\n",
      "('minor loop : ', 8)\n",
      "('Selected freqs', array([1231, 1658, 1344, 1627, 1274, 1743, 1640, 1072,   44, 1673, 1842,\n",
      "          5, 1192,  111, 1212, 1243,  257, 1775,   48,  845]))\n",
      "('R=', 0.08066262572233772)\n",
      "--------------------------------\n",
      "('minor loop : ', 9)\n",
      "('Selected freqs', array([1231, 1658, 1344, 1627, 1274, 1743, 1640, 1072,   44, 1673, 1842,\n",
      "          5, 1192,  111, 1212, 1243,  257, 1775,   48,  845]))\n",
      "('R=', 0.08066262572233772)\n",
      "--------------------------------\n",
      "('minor loop : ', 10)\n",
      "('Selected freqs', array([1231, 1658, 1344, 1627, 1274, 1743, 1640, 1072,   44, 1673, 1842,\n",
      "          5, 1192,  111, 1212, 1243,  257, 1775,   48,  845]))\n",
      "('R=', 0.08066262572233772)\n",
      "--------------------------------\n",
      "('minor loop : ', 11)\n",
      "('Selected freqs', array([1231, 1658, 1344, 1627, 1274, 1743, 1640, 1072,   44, 1673, 1842,\n",
      "          5, 1192,  111, 1212, 1243,  257, 1775,   48,  845]))\n",
      "('R=', 0.08066262572233772)\n",
      "--------------------------------\n",
      "('minor loop : ', 12)\n",
      "('Selected freqs', array([1231, 1658, 1344, 1627, 1274, 1743, 1640, 1072,   44, 1673, 1842,\n",
      "          5, 1192,  111, 1212, 1243,  257, 1775,   48,  845]))\n",
      "('R=', 0.08066262572233772)\n",
      "--------------------------------\n",
      "('minor loop : ', 13)\n",
      "('Selected freqs', array([1231, 1658, 1344, 1627, 1274, 1743, 1640, 1072,   44, 1673, 1842,\n",
      "          5, 1192,  113, 1212, 1243,  257, 1775,   48,  845]))\n",
      "('R=', 0.08056729961822935)\n",
      "--------------------------------\n",
      "('minor loop : ', 14)\n",
      "('Selected freqs', array([1231, 1658, 1344, 1627, 1274, 1743, 1640, 1072,   44, 1673, 1842,\n",
      "          5, 1192,  113, 1212, 1243,  257, 1775,   48,  845]))\n",
      "('R=', 0.08056729961822935)\n",
      "--------------------------------\n",
      "('minor loop : ', 15)\n",
      "('Selected freqs', array([1231, 1658, 1344, 1627, 1274, 1743, 1640, 1072,   44, 1673, 1842,\n",
      "          5, 1192,  113, 1212, 1243,  257, 1775,   48,  845]))\n",
      "('R=', 0.08056729961822935)\n",
      "--------------------------------\n",
      "('minor loop : ', 16)\n",
      "('Selected freqs', array([1231, 1658, 1344, 1627, 1274, 1743, 1640, 1072,   44, 1673, 1842,\n",
      "          5, 1192,  113, 1212, 1243,  260, 1775,   48,  845]))\n",
      "('R=', 0.08054099870205518)\n",
      "--------------------------------\n",
      "('minor loop : ', 17)\n",
      "('Selected freqs', array([1231, 1658, 1344, 1627, 1274, 1743, 1640, 1072,   44, 1673, 1842,\n",
      "          5, 1192,  113, 1212, 1243,  260, 1775,   48,  845]))\n",
      "('R=', 0.08054099870205518)\n",
      "--------------------------------\n",
      "('minor loop : ', 18)\n",
      "('Selected freqs', array([1231, 1658, 1344, 1627, 1274, 1743, 1640, 1072,   44, 1673, 1842,\n",
      "          5, 1192,  113, 1212, 1243,  260, 1775,   48,  845]))\n",
      "('R=', 0.08054099870205518)\n",
      "--------------------------------\n",
      "('minor loop : ', 19)\n",
      "('Selected freqs', array([1231, 1658, 1344, 1627, 1274, 1743, 1640, 1072,   44, 1673, 1842,\n",
      "          5, 1192,  113, 1212, 1243,  260, 1775,   48,  639]))\n",
      "('R=', 0.08040576044610005)\n",
      "--------------------------------\n",
      "********************************\n",
      "major loop\n",
      "--------------------------------\n",
      "('minor loop : ', 0)\n",
      "('Selected freqs', array([1231, 1658, 1344, 1627, 1274, 1743, 1640, 1072,   44, 1673, 1842,\n",
      "          5, 1192,  113, 1212, 1243,  260, 1775,   48,  639]))\n",
      "('R=', 0.08040576044610005)\n",
      "--------------------------------\n",
      "('minor loop : ', 1)\n",
      "('Selected freqs', array([1231, 1658, 1344, 1627, 1274, 1743, 1640, 1072,   44, 1673, 1842,\n",
      "          5, 1192,  113, 1212, 1243,  260, 1775,   48,  639]))\n",
      "('R=', 0.08040576044610005)\n",
      "--------------------------------\n",
      "('minor loop : ', 2)\n",
      "('Selected freqs', array([1231, 1658, 1344, 1627, 1274, 1743, 1640, 1072,   44, 1673, 1842,\n",
      "          5, 1192,  113, 1212, 1243,  260, 1775,   48,  639]))\n",
      "('R=', 0.08040576044610005)\n",
      "--------------------------------\n",
      "('minor loop : ', 3)\n",
      "('Selected freqs', array([1231, 1658, 1344, 1627, 1274, 1743, 1640, 1072,   44, 1673, 1842,\n",
      "          5, 1192,  113, 1212, 1243,  260, 1775,   48,  639]))\n",
      "('R=', 0.08040576044610005)\n",
      "--------------------------------\n",
      "('minor loop : ', 4)\n",
      "('Selected freqs', array([1231, 1658, 1344, 1627, 1274, 1743, 1640, 1072,   44, 1673, 1842,\n",
      "          5, 1192,  113, 1212, 1243,  260, 1775,   48,  639]))\n",
      "('R=', 0.08040576044610005)\n",
      "--------------------------------\n",
      "('minor loop : ', 5)\n",
      "('Selected freqs', array([1231, 1658, 1344, 1627, 1274, 1743, 1640, 1072,   44, 1673, 1842,\n",
      "          5, 1192,  113, 1212, 1243,  260, 1775,   48,  639]))\n",
      "('R=', 0.08040576044610005)\n",
      "--------------------------------\n",
      "('minor loop : ', 6)\n",
      "('Selected freqs', array([1231, 1658, 1344, 1627, 1274, 1743, 1640, 1072,   44, 1673, 1842,\n",
      "          5, 1192,  113, 1212, 1243,  260, 1775,   48,  639]))\n",
      "('R=', 0.08040576044610005)\n",
      "--------------------------------\n",
      "('minor loop : ', 7)\n",
      "('Selected freqs', array([1231, 1658, 1344, 1627, 1274, 1743, 1640, 1072,   44, 1673, 1842,\n",
      "          5, 1192,  113, 1212, 1243,  260, 1775,   48,  639]))\n",
      "('R=', 0.08040576044610005)\n",
      "--------------------------------\n",
      "('minor loop : ', 8)\n",
      "('Selected freqs', array([1231, 1658, 1344, 1627, 1274, 1743, 1640, 1072,   44, 1673, 1842,\n",
      "          5, 1192,  113, 1212, 1243,  260, 1775,   48,  639]))\n",
      "('R=', 0.08040576044610005)\n",
      "--------------------------------\n",
      "('minor loop : ', 9)\n",
      "('Selected freqs', array([1231, 1658, 1344, 1627, 1274, 1743, 1640, 1072,   44, 1673, 1842,\n",
      "          5, 1192,  113, 1212, 1243,  260, 1775,   48,  639]))\n",
      "('R=', 0.08040576044610005)\n",
      "--------------------------------\n",
      "('minor loop : ', 10)\n",
      "('Selected freqs', array([1231, 1658, 1344, 1627, 1274, 1743, 1640, 1072,   44, 1673, 1842,\n",
      "          5, 1192,  113, 1212, 1243,  260, 1775,   48,  639]))\n",
      "('R=', 0.08040576044610005)\n",
      "--------------------------------\n",
      "('minor loop : ', 11)\n",
      "('Selected freqs', array([1231, 1658, 1344, 1627, 1274, 1743, 1640, 1072,   44, 1673, 1842,\n",
      "          5, 1192,  113, 1212, 1243,  260, 1775,   48,  639]))\n",
      "('R=', 0.08040576044610005)\n",
      "--------------------------------\n",
      "('minor loop : ', 12)\n",
      "('Selected freqs', array([1231, 1658, 1344, 1627, 1274, 1743, 1640, 1072,   44, 1673, 1842,\n",
      "          5, 1192,  113, 1212, 1243,  260, 1775,   48,  639]))\n",
      "('R=', 0.08040576044610005)\n",
      "--------------------------------\n",
      "('minor loop : ', 13)\n",
      "('Selected freqs', array([1231, 1658, 1344, 1627, 1274, 1743, 1640, 1072,   44, 1673, 1842,\n",
      "          5, 1192,  113, 1212, 1243,  260, 1775,   48,  639]))\n",
      "('R=', 0.08040576044610005)\n",
      "--------------------------------\n",
      "('minor loop : ', 14)\n",
      "('Selected freqs', array([1231, 1658, 1344, 1627, 1274, 1743, 1640, 1072,   44, 1673, 1842,\n",
      "          5, 1192,  113, 1212, 1243,  260, 1775,   48,  639]))\n",
      "('R=', 0.08040576044610005)\n",
      "--------------------------------\n",
      "('minor loop : ', 15)\n",
      "('Selected freqs', array([1231, 1658, 1344, 1627, 1274, 1743, 1640, 1072,   44, 1673, 1842,\n",
      "          5, 1192,  113, 1212, 1243,  260, 1775,   48,  639]))\n",
      "('R=', 0.08040576044610005)\n",
      "--------------------------------\n",
      "('minor loop : ', 16)\n",
      "('Selected freqs', array([1231, 1658, 1344, 1627, 1274, 1743, 1640, 1072,   44, 1673, 1842,\n",
      "          5, 1192,  113, 1212, 1243,  260, 1775,   48,  639]))\n",
      "('R=', 0.08040576044610005)\n",
      "--------------------------------\n",
      "('minor loop : ', 17)\n",
      "('Selected freqs', array([1231, 1658, 1344, 1627, 1274, 1743, 1640, 1072,   44, 1673, 1842,\n",
      "          5, 1192,  113, 1212, 1243,  260, 1775,   48,  639]))\n",
      "('R=', 0.08040576044610005)\n",
      "--------------------------------\n",
      "('minor loop : ', 18)\n",
      "('Selected freqs', array([1231, 1658, 1344, 1627, 1274, 1743, 1640, 1072,   44, 1673, 1842,\n",
      "          5, 1192,  113, 1212, 1243,  260, 1775,   48,  639]))\n",
      "('R=', 0.08040576044610005)\n",
      "--------------------------------\n",
      "('minor loop : ', 19)\n",
      "('Selected freqs', array([1231, 1658, 1344, 1627, 1274, 1743, 1640, 1072,   44, 1673, 1842,\n",
      "          5, 1192,  113, 1212, 1243,  260, 1775,   48,  639]))\n",
      "('R=', 0.08040576044610005)\n",
      "--------------------------------\n",
      "done\n"
     ]
    }
   ],
   "source": [
    "freqs, sigma, mu, detSigma, invSigma = detectFreqs(features_LEARN, 20)"
   ]
  },
  {
   "cell_type": "code",
   "execution_count": 20,
   "metadata": {},
   "outputs": [
    {
     "data": {
      "text/plain": [
       "array([   5,   44,   48,  113,  260,  639, 1072, 1192, 1212, 1231, 1243,\n",
       "       1274, 1344, 1627, 1640, 1658, 1673, 1743, 1775, 1842])"
      ]
     },
     "execution_count": 20,
     "metadata": {},
     "output_type": "execute_result"
    }
   ],
   "source": [
    "np.sort([1231, 1658, 1344, 1627, 1274, 1743, 1640, 1072,   44, 1673, 1842, 5, 1192,  113, 1212, 1243,  260, 1775,   48,  639])"
   ]
  },
  {
   "cell_type": "code",
   "execution_count": null,
   "metadata": {},
   "outputs": [],
   "source": [
    "1658, 1627, 1342, 1273, 1243, 1743, 1212, 1289,  630, 1643,  921, 1210,  249, 1629,  749, 1275, 1639,  309,  170,   17\n",
    "1657, 1627, 1342, 1273, 1242, 1743, 1212, 1289,  630,   20,  863, 1210,  249, 1629,  749, 1275, 1639,  307, 1014,   17"
   ]
  },
  {
   "cell_type": "code",
   "execution_count": 20,
   "metadata": {},
   "outputs": [],
   "source": [
    "freqs = [1294, 1234, 1202, 1360, 1084,  954,  149, 1075,    6, 1297, 1014,\n",
    "        759,  275,  563,  901,  146,  722, 1477, 1303,   37]"
   ]
  },
  {
   "cell_type": "code",
   "execution_count": 15,
   "metadata": {},
   "outputs": [],
   "source": [
    "freqs_naito = np.array([1199, 1289, 1242, 1274,  954, 1357, 1075, 1233, 1295, 1087,  757,\n",
    "        990,  736, 1338, 1201,  633,    5,  335,   51,  957])"
   ]
  },
  {
   "cell_type": "code",
   "execution_count": 16,
   "metadata": {},
   "outputs": [],
   "source": [
    "freqs_nakamura = np.array([1231, 1191,   48, 1072,  102, 1636,   44, 1364,  114,   82, 1775,\n",
    "          5, 1842,  986, 1662,   68,   42, 1844,  225,  175])"
   ]
  },
  {
   "cell_type": "code",
   "execution_count": 90,
   "metadata": {},
   "outputs": [],
   "source": [
    "feature_per_coin = np.zeros([Coins, numData * OnPeriods, waves])\n",
    "\n",
    "for c in range(0, Coins) :\n",
    "    for cc in range(0, numData) :\n",
    "        for ccc in range(0, OnPeriods) :\n",
    "            feature_per_coin[c, (OnPeriods) * cc + ccc] = features[c, cc, ccc]"
   ]
  },
  {
   "cell_type": "code",
   "execution_count": 55,
   "metadata": {},
   "outputs": [
    {
     "data": {
      "text/plain": [
       "<matplotlib.collections.LineCollection at 0x1178ea908>"
      ]
     },
     "execution_count": 55,
     "metadata": {},
     "output_type": "execute_result"
    },
    {
     "data": {
      "image/png": "[encoded data removed]",
      "text/plain": [
       "<matplotlib.figure.Figure at 0x117016ba8>"
      ]
     },
     "metadata": {},
     "output_type": "display_data"
    }
   ],
   "source": [
    "start=500\n",
    "end=1500\n",
    "#plt.xlim(start, end)\n",
    "plt.plot(np.mean(feature_per_coin_nakamura[0], axis=0), \"red\")\n",
    "plt.plot(np.mean(feature_per_coin_nakamura[1], axis=0), \"blue\")\n",
    "plt.plot(np.mean(feature_per_coin_nakamura[2], axis=0), \"green\")\n",
    "plt.plot(np.mean(feature_per_coin_nakamura[3], axis=0), \"black\")\n",
    "plt.plot(np.mean(feature_per_coin_nakamura[4], axis=0), \"orange\")\n",
    "plt.plot(np.mean(feature_per_coin_nakamura[5], axis=0), \"purple\")\n",
    "\n",
    "plt.vlines(freqs_nakamura, ymin=-100, ymax=2, colors=\"gray\")"
   ]
  },
  {
   "cell_type": "code",
   "execution_count": 23,
   "metadata": {},
   "outputs": [
    {
     "ename": "NameError",
     "evalue": "name 'freqs_naito' is not defined",
     "output_type": "error",
     "traceback": [
      "\u001b[0;31m---------------------------------------------------------------------------\u001b[0m",
      "\u001b[0;31mNameError\u001b[0m                                 Traceback (most recent call last)",
      "\u001b[0;32m<ipython-input-23-9148397e2e4d>\u001b[0m in \u001b[0;36m<module>\u001b[0;34m()\u001b[0m\n\u001b[1;32m      9\u001b[0m \u001b[0mplt\u001b[0m\u001b[0;34m.\u001b[0m\u001b[0mplot\u001b[0m\u001b[0;34m(\u001b[0m\u001b[0mnp\u001b[0m\u001b[0;34m.\u001b[0m\u001b[0mmean\u001b[0m\u001b[0;34m(\u001b[0m\u001b[0mfeature_per_coin_naito\u001b[0m\u001b[0;34m[\u001b[0m\u001b[0;36m5\u001b[0m\u001b[0;34m]\u001b[0m\u001b[0;34m,\u001b[0m \u001b[0maxis\u001b[0m\u001b[0;34m=\u001b[0m\u001b[0;36m0\u001b[0m\u001b[0;34m)\u001b[0m\u001b[0;34m,\u001b[0m \u001b[0;34m\"purple\"\u001b[0m\u001b[0;34m)\u001b[0m\u001b[0;34m\u001b[0m\u001b[0m\n\u001b[1;32m     10\u001b[0m \u001b[0;34m\u001b[0m\u001b[0m\n\u001b[0;32m---> 11\u001b[0;31m \u001b[0mplt\u001b[0m\u001b[0;34m.\u001b[0m\u001b[0mvlines\u001b[0m\u001b[0;34m(\u001b[0m\u001b[0mfreqs_naito\u001b[0m\u001b[0;34m,\u001b[0m \u001b[0mymin\u001b[0m\u001b[0;34m=\u001b[0m\u001b[0;34m-\u001b[0m\u001b[0;36m100\u001b[0m\u001b[0;34m,\u001b[0m \u001b[0mymax\u001b[0m\u001b[0;34m=\u001b[0m\u001b[0;36m2\u001b[0m\u001b[0;34m,\u001b[0m \u001b[0mcolors\u001b[0m\u001b[0;34m=\u001b[0m\u001b[0;34m\"gray\"\u001b[0m\u001b[0;34m)\u001b[0m\u001b[0;34m\u001b[0m\u001b[0m\n\u001b[0m",
      "\u001b[0;31mNameError\u001b[0m: name 'freqs_naito' is not defined"
     ]
    },
    {
     "data": {
      "image/png": "[encoded data removed]",
      "text/plain": [
       "<matplotlib.figure.Figure at 0x111eb9898>"
      ]
     },
     "metadata": {},
     "output_type": "display_data"
    }
   ],
   "source": [
    "start=500\n",
    "end=1500\n",
    "#plt.xlim(start, end)\n",
    "plt.plot(np.mean(feature_per_coin_naito[0], axis=0), \"red\")\n",
    "plt.plot(np.mean(feature_per_coin_naito[1], axis=0), \"blue\")\n",
    "plt.plot(np.mean(feature_per_coin_naito[2], axis=0), \"green\")\n",
    "plt.plot(np.mean(feature_per_coin_naito[3], axis=0), \"black\")\n",
    "plt.plot(np.mean(feature_per_coin_naito[4], axis=0), \"orange\")\n",
    "plt.plot(np.mean(feature_per_coin_naito[5], axis=0), \"purple\")\n",
    "\n",
    "plt.vlines(freqs_naito, ymin=-100, ymax=2, colors=\"gray\")"
   ]
  },
  {
   "cell_type": "code",
   "execution_count": 78,
   "metadata": {},
   "outputs": [
    {
     "data": {
      "text/plain": [
       "<matplotlib.collections.LineCollection at 0x112135a20>"
      ]
     },
     "execution_count": 78,
     "metadata": {},
     "output_type": "execute_result"
    },
    {
     "data": {
      "image/png": "[encoded data removed]",
      "text/plain": [
       "<matplotlib.figure.Figure at 0x11645d278>"
      ]
     },
     "metadata": {},
     "output_type": "display_data"
    }
   ],
   "source": [
    "start=500\n",
    "end=1500\n",
    "#plt.xlim(start, end)\n",
    "plt.plot(np.mean(feature_per_coin_LEARN[0], axis=0), \"red\")\n",
    "plt.plot(np.mean(feature_per_coin_LEARN[1], axis=0), \"blue\")\n",
    "plt.plot(np.mean(feature_per_coin_LEARN[2], axis=0), \"green\")\n",
    "plt.plot(np.mean(feature_per_coin_LEARN[3], axis=0), \"black\")\n",
    "plt.plot(np.mean(feature_per_coin_LEARN[4], axis=0), \"orange\")\n",
    "plt.plot(np.mean(feature_per_coin_LEARN[5], axis=0), \"purple\")\n",
    "\n",
    "plt.vlines(freqs, ymin=-100, ymax=2, colors=\"gray\")"
   ]
  },
  {
   "cell_type": "code",
   "execution_count": null,
   "metadata": {},
   "outputs": [],
   "source": []
  },
  {
   "cell_type": "code",
   "execution_count": 91,
   "metadata": {},
   "outputs": [
    {
     "data": {
      "text/plain": [
       "<matplotlib.collections.LineCollection at 0x1135df6a0>"
      ]
     },
     "execution_count": 91,
     "metadata": {},
     "output_type": "execute_result"
    },
    {
     "data": {
      "image/png": "[encoded data removed]",
      "text/plain": [
       "<matplotlib.figure.Figure at 0x1167e8828>"
      ]
     },
     "metadata": {},
     "output_type": "display_data"
    }
   ],
   "source": [
    "start = 1500\n",
    "end=1850\n",
    "plt.xlim(start, end)\n",
    "plt.plot(np.mean(feature_per_coin_LEARN[0], axis=0), \"red\")\n",
    "plt.plot(np.mean(feature_per_coin_LEARN[1], axis=0), \"blue\")\n",
    "plt.plot(np.mean(feature_per_coin_LEARN[2], axis=0), \"green\")\n",
    "plt.plot(np.mean(feature_per_coin_LEARN[3], axis=0), \"black\")\n",
    "plt.plot(np.mean(feature_per_coin_LEARN[4], axis=0), \"orange\")\n",
    "plt.plot(np.mean(feature_per_coin_LEARN[5], axis=0), \"purple\")\n",
    "\n",
    "plt.vlines(freqs, ymin=-100, ymax=2, colors=\"gray\")"
   ]
  },
  {
   "cell_type": "code",
   "execution_count": 2,
   "metadata": {},
   "outputs": [
    {
     "ename": "NameError",
     "evalue": "name 'plt' is not defined",
     "output_type": "error",
     "traceback": [
      "\u001b[0;31m---------------------------------------------------------------------------\u001b[0m",
      "\u001b[0;31mNameError\u001b[0m                                 Traceback (most recent call last)",
      "\u001b[0;32m<ipython-input-2-28972b56e343>\u001b[0m in \u001b[0;36m<module>\u001b[0;34m()\u001b[0m\n\u001b[1;32m      2\u001b[0m \u001b[0mend\u001b[0m \u001b[0;34m=\u001b[0m \u001b[0;36m1500\u001b[0m\u001b[0;34m\u001b[0m\u001b[0m\n\u001b[1;32m      3\u001b[0m \u001b[0;34m\u001b[0m\u001b[0m\n\u001b[0;32m----> 4\u001b[0;31m \u001b[0mplt\u001b[0m\u001b[0;34m.\u001b[0m\u001b[0mxlim\u001b[0m\u001b[0;34m(\u001b[0m\u001b[0mstart\u001b[0m\u001b[0;34m,\u001b[0m \u001b[0mend\u001b[0m\u001b[0;34m)\u001b[0m\u001b[0;34m\u001b[0m\u001b[0m\n\u001b[0m\u001b[1;32m      5\u001b[0m \u001b[0mplt\u001b[0m\u001b[0;34m.\u001b[0m\u001b[0mplot\u001b[0m\u001b[0;34m(\u001b[0m\u001b[0mnp\u001b[0m\u001b[0;34m.\u001b[0m\u001b[0mmean\u001b[0m\u001b[0;34m(\u001b[0m\u001b[0mfeature_per_coin_naito\u001b[0m\u001b[0;34m[\u001b[0m\u001b[0;36m0\u001b[0m\u001b[0;34m]\u001b[0m\u001b[0;34m,\u001b[0m \u001b[0maxis\u001b[0m\u001b[0;34m=\u001b[0m\u001b[0;36m0\u001b[0m\u001b[0;34m)\u001b[0m\u001b[0;34m,\u001b[0m \u001b[0;34m\"blue\"\u001b[0m\u001b[0;34m)\u001b[0m\u001b[0;34m\u001b[0m\u001b[0m\n\u001b[1;32m      6\u001b[0m \u001b[0mplt\u001b[0m\u001b[0;34m.\u001b[0m\u001b[0mplot\u001b[0m\u001b[0;34m(\u001b[0m\u001b[0mnp\u001b[0m\u001b[0;34m.\u001b[0m\u001b[0mmean\u001b[0m\u001b[0;34m(\u001b[0m\u001b[0mfeature_per_coin_nakamura\u001b[0m\u001b[0;34m[\u001b[0m\u001b[0;36m0\u001b[0m\u001b[0;34m]\u001b[0m\u001b[0;34m,\u001b[0m \u001b[0maxis\u001b[0m\u001b[0;34m=\u001b[0m\u001b[0;36m0\u001b[0m\u001b[0;34m)\u001b[0m\u001b[0;34m,\u001b[0m \u001b[0;34m\"red\"\u001b[0m\u001b[0;34m)\u001b[0m\u001b[0;34m\u001b[0m\u001b[0m\n",
      "\u001b[0;31mNameError\u001b[0m: name 'plt' is not defined"
     ]
    }
   ],
   "source": [
    "start = 1250\n",
    "end = 1500\n",
    "\n",
    "plt.xlim(start, end)\n",
    "plt.plot(np.mean(feature_per_coin_naito[0], axis=0), \"blue\")\n",
    "plt.plot(np.mean(feature_per_coin_nakamura[0], axis=0), \"red\")\n",
    "# plt.plot(np.mean(feature_per_coin[0], axis=0), \"orange\")\n"
   ]
  },
  {
   "cell_type": "code",
   "execution_count": 81,
   "metadata": {},
   "outputs": [
    {
     "ename": "NameError",
     "evalue": "name 'freqs_nakamura' is not defined",
     "output_type": "error",
     "traceback": [
      "\u001b[0;31m---------------------------------------------------------------------------\u001b[0m",
      "\u001b[0;31mNameError\u001b[0m                                 Traceback (most recent call last)",
      "\u001b[0;32m<ipython-input-81-314335134568>\u001b[0m in \u001b[0;36m<module>\u001b[0;34m()\u001b[0m\n\u001b[1;32m      9\u001b[0m \u001b[0mplt\u001b[0m\u001b[0;34m.\u001b[0m\u001b[0mplot\u001b[0m\u001b[0;34m(\u001b[0m\u001b[0mnp\u001b[0m\u001b[0;34m.\u001b[0m\u001b[0mmean\u001b[0m\u001b[0;34m(\u001b[0m\u001b[0mfeature_per_coin_nakamura\u001b[0m\u001b[0;34m[\u001b[0m\u001b[0;36m5\u001b[0m\u001b[0;34m]\u001b[0m\u001b[0;34m,\u001b[0m \u001b[0maxis\u001b[0m\u001b[0;34m=\u001b[0m\u001b[0;36m0\u001b[0m\u001b[0;34m)\u001b[0m\u001b[0;34m,\u001b[0m \u001b[0;34m\"purple\"\u001b[0m\u001b[0;34m)\u001b[0m\u001b[0;34m\u001b[0m\u001b[0m\n\u001b[1;32m     10\u001b[0m \u001b[0;34m\u001b[0m\u001b[0m\n\u001b[0;32m---> 11\u001b[0;31m \u001b[0mplt\u001b[0m\u001b[0;34m.\u001b[0m\u001b[0mvlines\u001b[0m\u001b[0;34m(\u001b[0m\u001b[0mfreqs_nakamura\u001b[0m\u001b[0;34m,\u001b[0m \u001b[0mymin\u001b[0m\u001b[0;34m=\u001b[0m\u001b[0;34m-\u001b[0m\u001b[0;36m100\u001b[0m\u001b[0;34m,\u001b[0m \u001b[0mymax\u001b[0m\u001b[0;34m=\u001b[0m\u001b[0;36m2\u001b[0m\u001b[0;34m,\u001b[0m \u001b[0mcolors\u001b[0m\u001b[0;34m=\u001b[0m\u001b[0;34m\"gray\"\u001b[0m\u001b[0;34m)\u001b[0m\u001b[0;34m\u001b[0m\u001b[0m\n\u001b[0m",
      "\u001b[0;31mNameError\u001b[0m: name 'freqs_nakamura' is not defined"
     ]
    },
    {
     "data": {
      "image/png": "[encoded data removed]",
      "text/plain": [
       "<matplotlib.figure.Figure at 0x11411c940>"
      ]
     },
     "metadata": {},
     "output_type": "display_data"
    }
   ],
   "source": [
    "start=-10\n",
    "end=250\n",
    "plt.xlim(start, end)\n",
    "plt.plot(np.mean(feature_per_coin_nakamura[0], axis=0), \"red\")\n",
    "plt.plot(np.mean(feature_per_coin_nakamura[1], axis=0), \"blue\")\n",
    "plt.plot(np.mean(feature_per_coin_nakamura[2], axis=0), \"green\")\n",
    "plt.plot(np.mean(feature_per_coin_nakamura[3], axis=0), \"black\")\n",
    "plt.plot(np.mean(feature_per_coin_nakamura[4], axis=0), \"orange\")\n",
    "plt.plot(np.mean(feature_per_coin_nakamura[5], axis=0), \"purple\")\n",
    "\n",
    "plt.vlines(freqs_nakamura, ymin=-100, ymax=2, colors=\"gray\")"
   ]
  },
  {
   "cell_type": "code",
   "execution_count": 97,
   "metadata": {},
   "outputs": [
    {
     "data": {
      "text/plain": [
       "[<matplotlib.lines.Line2D at 0x134dfe5c0>]"
      ]
     },
     "execution_count": 97,
     "metadata": {},
     "output_type": "execute_result"
    },
    {
     "data": {
      "image/png": "[encoded data removed]",
      "text/plain": [
       "<matplotlib.figure.Figure at 0x134dfe6a0>"
      ]
     },
     "metadata": {},
     "output_type": "display_data"
    }
   ],
   "source": [
    "start = -100\n",
    "end = 1875\n",
    "\n",
    "plt.xlim(start, end)\n",
    "\n",
    "plt.plot(np.mean(feature_per_coin_naito[1], axis=0), \"blue\")\n",
    "plt.plot(np.mean(feature_per_coin_nakamura[1], axis=0), \"red\")\n",
    "# plt.plot(np.mean(feature_per_coin[1], axis=0), \"orange\")"
   ]
  },
  {
   "cell_type": "code",
   "execution_count": 98,
   "metadata": {},
   "outputs": [
    {
     "data": {
      "text/plain": [
       "[<matplotlib.lines.Line2D at 0x134ece5c0>]"
      ]
     },
     "execution_count": 98,
     "metadata": {},
     "output_type": "execute_result"
    },
    {
     "data": {
      "image/png": "[encoded data removed]",
      "text/plain": [
       "<matplotlib.figure.Figure at 0x134ece5f8>"
      ]
     },
     "metadata": {},
     "output_type": "display_data"
    }
   ],
   "source": [
    "start = -100\n",
    "end = 1875\n",
    "\n",
    "plt.xlim(start, end)\n",
    "\n",
    "plt.plot(np.mean(feature_per_coin_naito[2], axis=0), \"blue\")\n",
    "plt.plot(np.mean(feature_per_coin_nakamura[2], axis=0), \"red\")\n",
    "# plt.plot(np.mean(feature_per_coin[2], axis=0), \"orange\")"
   ]
  },
  {
   "cell_type": "code",
   "execution_count": 88,
   "metadata": {},
   "outputs": [
    {
     "data": {
      "text/plain": [
       "[<matplotlib.lines.Line2D at 0x11cffec88>]"
      ]
     },
     "execution_count": 88,
     "metadata": {},
     "output_type": "execute_result"
    },
    {
     "data": {
      "image/png": "[encoded data removed]",
      "text/plain": [
       "<matplotlib.figure.Figure at 0x11c4b9b00>"
      ]
     },
     "metadata": {},
     "output_type": "display_data"
    }
   ],
   "source": [
    "start = -100\n",
    "end = 1875\n",
    "\n",
    "plt.xlim(start, end)\n",
    "\n",
    "plt.plot(np.mean(feature_per_coin_naito[3], axis=0), \"blue\")\n",
    "plt.plot(np.mean(feature_per_coin_nakamura[3], axis=0), \"red\")"
   ]
  },
  {
   "cell_type": "code",
   "execution_count": 89,
   "metadata": {},
   "outputs": [
    {
     "data": {
      "text/plain": [
       "[<matplotlib.lines.Line2D at 0x11d0f6780>]"
      ]
     },
     "execution_count": 89,
     "metadata": {},
     "output_type": "execute_result"
    },
    {
     "data": {
      "image/png": "[encoded data removed]",
      "text/plain": [
       "<matplotlib.figure.Figure at 0x11ce16390>"
      ]
     },
     "metadata": {},
     "output_type": "display_data"
    }
   ],
   "source": [
    "start = -100\n",
    "end = 1875\n",
    "\n",
    "plt.xlim(start, end)\n",
    "\n",
    "plt.plot(np.mean(feature_per_coin_naito[4], axis=0), \"blue\")\n",
    "plt.plot(np.mean(feature_per_coin_nakamura[4], axis=0), \"red\")"
   ]
  },
  {
   "cell_type": "code",
   "execution_count": 90,
   "metadata": {},
   "outputs": [
    {
     "data": {
      "text/plain": [
       "[<matplotlib.lines.Line2D at 0x11d1ef320>]"
      ]
     },
     "execution_count": 90,
     "metadata": {},
     "output_type": "execute_result"
    },
    {
     "data": {
      "image/png": "[encoded data removed]",
      "text/plain": [
       "<matplotlib.figure.Figure at 0x11c4adc88>"
      ]
     },
     "metadata": {},
     "output_type": "display_data"
    }
   ],
   "source": [
    "start = -100\n",
    "end = 1875\n",
    "\n",
    "plt.xlim(start, end)\n",
    "\n",
    "plt.plot(np.mean(feature_per_coin_naito[5], axis=0), \"blue\")\n",
    "plt.plot(np.mean(feature_per_coin_nakamura[5], axis=0), \"red\")"
   ]
  },
  {
   "cell_type": "code",
   "execution_count": 48,
   "metadata": {},
   "outputs": [
    {
     "data": {
      "text/plain": [
       "[<matplotlib.lines.Line2D at 0x11a03ef28>]"
      ]
     },
     "execution_count": 48,
     "metadata": {},
     "output_type": "execute_result"
    },
    {
     "data": {
      "image/png": "[encoded data removed]",
      "text/plain": [
       "<matplotlib.figure.Figure at 0x1195df5f8>"
      ]
     },
     "metadata": {},
     "output_type": "display_data"
    }
   ],
   "source": [
    "plt.plot(feature_per_coin[0][0])"
   ]
  },
  {
   "cell_type": "code",
   "execution_count": 87,
   "metadata": {},
   "outputs": [
    {
     "data": {
      "text/plain": [
       "<matplotlib.collections.LineCollection at 0x12b1bb0b8>"
      ]
     },
     "execution_count": 87,
     "metadata": {},
     "output_type": "execute_result"
    },
    {
     "data": {
      "image/png": "[encoded data removed]",
      "text/plain": [
       "<matplotlib.figure.Figure at 0x12afaaac8>"
      ]
     },
     "metadata": {},
     "output_type": "display_data"
    }
   ],
   "source": [
    "start=500\n",
    "end=1500\n",
    "plt.xlim(start, end)\n",
    "plt.plot(np.mean(feature_per_coin[0], axis=0))\n",
    "plt.plot(np.mean(feature_per_coin[1], axis=0))\n",
    "plt.plot(np.mean(feature_per_coin[2], axis=0))\n",
    "plt.plot(np.mean(feature_per_coin[3], axis=0))\n",
    "plt.plot(np.mean(feature_per_coin[4], axis=0))\n",
    "plt.plot(np.mean(feature_per_coin[5], axis=0))\n",
    "\n",
    "plt.vlines(freqs_naito, ymin=-100, ymax=0.15000, colors=\"gray\")"
   ]
  },
  {
   "cell_type": "code",
   "execution_count": 31,
   "metadata": {},
   "outputs": [
    {
     "data": {
      "text/plain": [
       "<matplotlib.collections.LineCollection at 0x111ba54e0>"
      ]
     },
     "execution_count": 31,
     "metadata": {},
     "output_type": "execute_result"
    },
    {
     "data": {
      "image/png": "[encoded data removed]",
      "text/plain": [
       "<matplotlib.figure.Figure at 0x11d342630>"
      ]
     },
     "metadata": {},
     "output_type": "display_data"
    }
   ],
   "source": [
    "start=1000\n",
    "end=1500\n",
    "plt.xlim(start, end)\n",
    "plt.plot(np.mean(feature_per_coin[0], axis=0))\n",
    "plt.plot(np.mean(feature_per_coin[1], axis=0))\n",
    "plt.plot(np.mean(feature_per_coin[2], axis=0))\n",
    "plt.plot(np.mean(feature_per_coin[3], axis=0))\n",
    "plt.plot(np.mean(feature_per_coin[4], axis=0))\n",
    "plt.plot(np.mean(feature_per_coin[5], axis=0))\n",
    "\n",
    "plt.vlines(freqs_, ymin=-100, ymax=0, colors=\"gray\")"
   ]
  },
  {
   "cell_type": "code",
   "execution_count": 32,
   "metadata": {},
   "outputs": [
    {
     "data": {
      "text/plain": [
       "<matplotlib.collections.LineCollection at 0x111d30048>"
      ]
     },
     "execution_count": 32,
     "metadata": {},
     "output_type": "execute_result"
    },
    {
     "data": {
      "image/png": "[encoded data removed]",
      "text/plain": [
       "<matplotlib.figure.Figure at 0x111c75780>"
      ]
     },
     "metadata": {},
     "output_type": "display_data"
    }
   ],
   "source": [
    "start=1200\n",
    "end=1400\n",
    "plt.xlim(start, end)\n",
    "plt.plot(np.sum(feature_per_coin[0], axis=0))\n",
    "plt.plot(np.sum(feature_per_coin[1], axis=0))\n",
    "plt.plot(np.sum(feature_per_coin[2], axis=0))\n",
    "plt.plot(np.sum(feature_per_coin[3], axis=0))\n",
    "plt.plot(np.sum(feature_per_coin[4], axis=0))\n",
    "plt.plot(np.sum(feature_per_coin[5], axis=0))\n",
    "\n",
    "plt.vlines(freqs, ymin=-5000, ymax=15000, colors=\"gray\")"
   ]
  },
  {
   "cell_type": "code",
   "execution_count": null,
   "metadata": {},
   "outputs": [],
   "source": []
  },
  {
   "cell_type": "code",
   "execution_count": null,
   "metadata": {},
   "outputs": [],
   "source": []
  },
  {
   "cell_type": "code",
   "execution_count": null,
   "metadata": {},
   "outputs": [],
   "source": [
    "%timeit makePrediction(features[0][0][:, freqs], sigma, mu)"
   ]
  },
  {
   "cell_type": "code",
   "execution_count": 79,
   "metadata": {},
   "outputs": [],
   "source": [
    "acc = 0\n",
    "for c in range(0, 6) :\n",
    "    for cc in range(0, 100) :\n",
    "        predicted = makePrediction(features_TEST[c][cc][:, freqs], sigma=sigma, mu=mu, detSigma=detSigma, invSigma=invSigma)\n",
    "        if(predicted == c) :\n",
    "            acc += 1\n",
    "            \n",
    "acc /= (100 * 6)"
   ]
  },
  {
   "cell_type": "code",
   "execution_count": null,
   "metadata": {},
   "outputs": [],
   "source": []
  },
  {
   "cell_type": "code",
   "execution_count": 80,
   "metadata": {},
   "outputs": [
    {
     "data": {
      "text/plain": [
       "0.9916666666666667"
      ]
     },
     "execution_count": 80,
     "metadata": {},
     "output_type": "execute_result"
    }
   ],
   "source": [
    "acc"
   ]
  },
  {
   "cell_type": "code",
   "execution_count": 68,
   "metadata": {},
   "outputs": [
    {
     "data": {
      "text/plain": [
       "array([1199, 1289, 1242, 1274,  954, 1357, 1075, 1233, 1295, 1087,  757,\n",
       "        990,  736, 1338, 1201,  633,    5,  335,   51,  957])"
      ]
     },
     "execution_count": 68,
     "metadata": {},
     "output_type": "execute_result"
    }
   ],
   "source": [
    "freqs_naito"
   ]
  },
  {
   "cell_type": "code",
   "execution_count": 35,
   "metadata": {},
   "outputs": [],
   "source": [
    "def getNewFile(filename, sigma, mu, detSigma, invSigma, freqs) :\n",
    "    wavefile = wave.open(filename, \"r\")\n",
    "    framerate = wavefile.getframerate()\n",
    "    data = wavefile.readframes(wavefile.getnframes())\n",
    "    wavefile.close()\n",
    "    x = np.frombuffer(data, dtype=\"int16\")\n",
    "    x = x.astype(\"float64\")\n",
    "    BinSize = 0.05 * framerate\n",
    "\n",
    "    f = makeFeature(x, framerate)[:, freqs]\n",
    "\n",
    "    predicted = makePrediction(f, sigma=sigma, mu=mu, detSigma=detSigma, invSigma=invSigma)\n",
    "\n",
    "    return predicted"
   ]
  },
  {
   "cell_type": "code",
   "execution_count": 36,
   "metadata": {},
   "outputs": [
    {
     "data": {
      "text/plain": [
       "3"
      ]
     },
     "execution_count": 36,
     "metadata": {},
     "output_type": "execute_result"
    }
   ],
   "source": [
    "getNewFile(\"./CoinData/050-17.wav\", sigma, mu, detSigma, invSigma, freqs)"
   ]
  },
  {
   "cell_type": "code",
   "execution_count": 31,
   "metadata": {},
   "outputs": [],
   "source": [
    "def makeMu(data) :\n",
    "    mu = np.average(data, 0)\n",
    "    return mu\n",
    "\n",
    "def makeSigma(data) :\n",
    "    sigma = np.cov(data, rowvar=0)\n",
    "    return sigma\n",
    "\n"
   ]
  },
  {
   "cell_type": "code",
   "execution_count": 32,
   "metadata": {},
   "outputs": [],
   "source": [
    "numFreqs = 20\n",
    "mu = np.zeros([Coins, numFreqs])\n",
    "sigma = np.zeros([Coins, numFreqs, numFreqs])\n",
    "detSigma = np.zeros(Coins)\n",
    "invSigma = np.zeros([Coins, numFreqs, numFreqs])\n",
    "\n",
    "tempX = X[:, freqs]\n",
    "\n",
    "for c in range(0, Coins) :\n",
    "    tempF = tempX[np.where(Y == c)]\n",
    "    mu[c, :] = makeMu(tempF)\n",
    "    sigma[c, :, :] = makeSigma(tempF)\n",
    "    detSigma[c] = np.linalg.det(sigma[c, :, :])\n",
    "    invSigma[c, :, :] = np.linalg.inv(sigma[c, :, :])"
   ]
  },
  {
   "cell_type": "code",
   "execution_count": 26,
   "metadata": {},
   "outputs": [
    {
     "data": {
      "text/plain": [
       "(400, 20)"
      ]
     },
     "execution_count": 26,
     "metadata": {},
     "output_type": "execute_result"
    }
   ],
   "source": [
    "tempF.shape"
   ]
  },
  {
   "cell_type": "code",
   "execution_count": 38,
   "metadata": {},
   "outputs": [],
   "source": [
    "FORMAT = pyaudio.paInt16\n",
    "CHANNELS = 1\n",
    "RATE = 44100\n",
    "CHUNK = 2 ** 11\n",
    "RECORD_SECONDS = 5\n",
    "WAVE_OUTPUT_FILENAME = \"output.wav\"\n",
    "\n",
    "def getNewSound(sigma, mu, detSigma, invSigma, freqs) :\n",
    "    p = pyaudio.PyAudio()\n",
    "    \n",
    "    print(\"* 3秒後にコインを落としてください\")\n",
    "    print(\"* 3\")\n",
    "    sleep(1)\n",
    "    print(\"* 2\")\n",
    "    sleep(1)\n",
    "    print(\"* 1\")\n",
    "    sleep(1)\n",
    "    print(\"* 録音開始\")\n",
    "\n",
    "    stream = p.open(format=FORMAT, channels=CHANNELS, rate=RATE, input=True, frames_per_buffer=CHUNK)\n",
    "\n",
    "    print(\"* コインを落としてください\")\n",
    "    frames = []\n",
    "    for i in range(0, int(RATE / CHUNK * RECORD_SECONDS)) :\n",
    "        data = stream.read(CHUNK)\n",
    "        frames.append(data)\n",
    "        \n",
    "    print(\"* 録音終了\")\n",
    "    \n",
    "    stream.stop_stream()\n",
    "    stream.close()\n",
    "    p.terminate()\n",
    "    \n",
    "    wf = wave.open(WAVE_OUTPUT_FILENAME, \"wb\")\n",
    "    wf.setnchannels(CHANNELS)\n",
    "    wf.setsampwidth(p.get_sample_size(FORMAT))\n",
    "    wf.setframerate(RATE)\n",
    "    wf.writeframes(b''.join(frames))\n",
    "    wf.close()\n",
    "    \n",
    "    predicted = getNewFile(WAVE_OUTPUT_FILENAME, sigma=sigma, mu=mu, detSigma=detSigma, invSigma=invSigma, freqs=freqs)\n",
    "    print(coins[predicted] + \"円\")\n",
    "    #framerate = RATE\n",
    "    #data = wavefile.readframes(wavefile.getnframes())\n",
    "    #wavefile.close()\n",
    "    #x = np.frombuffer(data, dtype=\"int16\")\n",
    "    #x = x.astype(\"float64\")\n",
    "    #BinSize = 0.05 * framerate\n",
    "\n",
    "    #f = makeFeature.makeFeature(x, framerate)[:, freqs]\n",
    "\n",
    "    #predicted = makePrediction(f, sigma=sigma, mu=mu, detSigma=detSigma, invSigma=invSigma)\n",
    "\n",
    "    #return predicted\n",
    "    return frames"
   ]
  },
  {
   "cell_type": "code",
   "execution_count": 35,
   "metadata": {},
   "outputs": [
    {
     "data": {
      "text/plain": [
       "3"
      ]
     },
     "execution_count": 35,
     "metadata": {},
     "output_type": "execute_result"
    }
   ],
   "source": [
    "getNewFile(\"CoinData/50en.wav\", sigma, mu, detSigma, invSigma, freqs)"
   ]
  },
  {
   "cell_type": "code",
   "execution_count": 50,
   "metadata": {},
   "outputs": [
    {
     "name": "stdout",
     "output_type": "stream",
     "text": [
      "* 3秒後にコインを落としてください\n",
      "* 3\n",
      "* 2\n",
      "* 1\n",
      "* 録音開始\n",
      "* コインを落としてください\n",
      "* 録音終了\n",
      "001円\n"
     ]
    }
   ],
   "source": [
    "frames = getNewSound(sigma=sigma, mu=mu, detSigma=detSigma, invSigma=invSigma, freqs=freqs)"
   ]
  },
  {
   "cell_type": "code",
   "execution_count": 39,
   "metadata": {},
   "outputs": [
    {
     "data": {
      "text/plain": [
       "['001', '005', '010', '050', '100', '500']"
      ]
     },
     "execution_count": 39,
     "metadata": {},
     "output_type": "execute_result"
    }
   ],
   "source": [
    "coins"
   ]
  },
  {
   "cell_type": "code",
   "execution_count": 74,
   "metadata": {},
   "outputs": [
    {
     "data": {
      "text/plain": [
       "<function makeFeature.makeFeature>"
      ]
     },
     "execution_count": 74,
     "metadata": {},
     "output_type": "execute_result"
    }
   ],
   "source": []
  },
  {
   "cell_type": "code",
   "execution_count": 64,
   "metadata": {},
   "outputs": [
    {
     "name": "stdout",
     "output_type": "stream",
     "text": [
      "* 3秒後にコインを落としてください\n",
      "* 3\n",
      "* 2\n",
      "* 1\n",
      "* 録音開始\n",
      "* 録音終了\n"
     ]
    },
    {
     "data": {
      "text/plain": [
       "[<matplotlib.lines.Line2D at 0x121829e80>]"
      ]
     },
     "execution_count": 64,
     "metadata": {},
     "output_type": "execute_result"
    },
    {
     "data": {
      "image/png": "[encoded data removed]",
      "text/plain": [
       "<matplotlib.figure.Figure at 0x11a83c668>"
      ]
     },
     "metadata": {},
     "output_type": "display_data"
    }
   ],
   "source": [
    "p = pyaudio.PyAudio()\n",
    "    \n",
    "\n",
    "\n",
    "print(\"* 3秒後にコインを落としてください\")\n",
    "print(\"* 3\")\n",
    "sleep(1)\n",
    "print(\"* 2\")\n",
    "sleep(1)\n",
    "print(\"* 1\")\n",
    "sleep(1)\n",
    "print(\"* 録音開始\")\n",
    "\n",
    "stream = p.open(format=FORMAT, channels=CHANNELS, rate=RATE, input=True, frames_per_buffer=CHUNK)\n",
    "frames = []\n",
    "for i in range(0, int(RATE / CHUNK * RECORD_SECONDS)) :\n",
    "    data = stream.read(CHUNK)\n",
    "    frames.append(data)\n",
    "        \n",
    "print(\"* 録音終了\")\n",
    "    \n",
    "stream.stop_stream()\n",
    "stream.close()\n",
    "p.terminate()\n",
    "    \n",
    "wf = wave.open(WAVE_OUTPUT_FILENAME, \"wb\")\n",
    "wf.setnchannels(CHANNELS)\n",
    "wf.setsampwidth(p.get_sample_size(FORMAT))\n",
    "wf.setframerate(RATE)\n",
    "wf.writeframes(b''.join(frames))\n",
    "wf.close()\n",
    "\n",
    "wavefile = wave.open(WAVE_OUTPUT_FILENAME, \"r\")\n",
    "\n",
    "data = wavefile.readframes(wavefile.getnframes())\n",
    "wavefile.close()\n",
    "x = np.frombuffer(data, dtype=\"int16\")\n",
    "x = x.astype('float64')\n",
    "\n",
    "plt.plot(x)"
   ]
  },
  {
   "cell_type": "code",
   "execution_count": 103,
   "metadata": {},
   "outputs": [
    {
     "data": {
      "text/plain": [
       "(20, 1858)"
      ]
     },
     "execution_count": 103,
     "metadata": {},
     "output_type": "execute_result"
    }
   ],
   "source": [
    "makeFeature(x, RATE).shape"
   ]
  },
  {
   "cell_type": "code",
   "execution_count": 65,
   "metadata": {},
   "outputs": [
    {
     "data": {
      "text/plain": [
       "<matplotlib.collections.LineCollection at 0x121c81ef0>"
      ]
     },
     "execution_count": 65,
     "metadata": {},
     "output_type": "execute_result"
    },
    {
     "data": {
      "image/png": "[encoded data removed]",
      "text/plain": [
       "<matplotlib.figure.Figure at 0x1213c14e0>"
      ]
     },
     "metadata": {},
     "output_type": "display_data"
    }
   ],
   "source": [
    "plt.plot(np.mean(makeFeature(x, RATE), axis=0))\n",
    "plt.vlines(freqs, ymin=-5, ymax=15, colors=\"gray\")"
   ]
  },
  {
   "cell_type": "code",
   "execution_count": 66,
   "metadata": {},
   "outputs": [
    {
     "data": {
      "text/plain": [
       "0"
      ]
     },
     "execution_count": 66,
     "metadata": {},
     "output_type": "execute_result"
    }
   ],
   "source": [
    "makePrediction(makeFeature(x, RATE)[:, freqs], sigma=sigma, mu=mu, detSigma=detSigma, invSigma=invSigma)"
   ]
  },
  {
   "cell_type": "code",
   "execution_count": 53,
   "metadata": {},
   "outputs": [
    {
     "data": {
      "text/plain": [
       "array([[  5.31606002e+01,   5.27973192e+01,   5.27909958e+01, ...,\n",
       "          4.12702835e+01,   4.03296961e+01,   4.00217164e+01],\n",
       "       [  1.77902264e+01,   1.75955144e+01,   1.79426898e+01, ...,\n",
       "          8.91544752e-01,   1.94950778e+00,   6.07435015e-01],\n",
       "       [ -1.15697122e+01,  -1.70304137e+01,  -1.24913726e+01, ...,\n",
       "         -2.10924521e+01,  -1.93992415e+01,  -2.93634459e+01],\n",
       "       ..., \n",
       "       [ -8.69313876e-01,   9.83553725e+00,   2.39685201e+00, ...,\n",
       "          1.12705430e+01,   9.33735876e+00,   7.93590790e+00],\n",
       "       [ -3.48056197e+00,   9.40505121e+00,  -4.75835543e-02, ...,\n",
       "          1.39075278e+01,   1.07910945e+01,   1.03642025e+01],\n",
       "       [ -1.07639283e+00,   2.94937878e+00,  -2.79716351e-01, ...,\n",
       "         -1.25200107e+01,   8.18800760e+00,  -1.07402565e-01]])"
      ]
     },
     "execution_count": 53,
     "metadata": {},
     "output_type": "execute_result"
    }
   ],
   "source": []
  },
  {
   "cell_type": "code",
   "execution_count": 41,
   "metadata": {},
   "outputs": [
    {
     "data": {
      "text/plain": [
       "[<matplotlib.lines.Line2D at 0x11a8ad6a0>]"
      ]
     },
     "execution_count": 41,
     "metadata": {},
     "output_type": "execute_result"
    },
    {
     "data": {
      "image/png": "[encoded data removed]",
      "text/plain": [
       "<matplotlib.figure.Figure at 0x119e4b0b8>"
      ]
     },
     "metadata": {},
     "output_type": "display_data"
    }
   ],
   "source": [
    "plt.plot(x)"
   ]
  },
  {
   "cell_type": "code",
   "execution_count": null,
   "metadata": {},
   "outputs": [],
   "source": []
  },
  {
   "cell_type": "code",
   "execution_count": 60,
   "metadata": {},
   "outputs": [
    {
     "data": {
      "text/plain": [
       "<matplotlib.collections.LineCollection at 0x12127bac8>"
      ]
     },
     "execution_count": 60,
     "metadata": {},
     "output_type": "execute_result"
    },
    {
     "data": {
      "image/png": "[encoded data removed]",
      "text/plain": [
       "<matplotlib.figure.Figure at 0x1212f12b0>"
      ]
     },
     "metadata": {},
     "output_type": "display_data"
    }
   ],
   "source": [
    "start=500\n",
    "end=1500\n",
    "#plt.xlim(start, end)\n",
    "plt.plot(np.mean(feature_per_coin[0], axis=0))\n",
    "plt.plot(np.mean(feature_per_coin[1], axis=0))\n",
    "plt.plot(np.mean(feature_per_coin[2], axis=0))\n",
    "plt.plot(np.mean(feature_per_coin[3], axis=0))\n",
    "plt.plot(np.mean(feature_per_coin[4], axis=0))\n",
    "plt.plot(np.mean(feature_per_coin[5], axis=0))\n",
    "\n",
    "plt.vlines(freqs, ymin=-5, ymax=15, colors=\"gray\")"
   ]
  },
  {
   "cell_type": "code",
   "execution_count": 21,
   "metadata": {},
   "outputs": [
    {
     "data": {
      "text/plain": [
       "[<matplotlib.lines.Line2D at 0x113794208>]"
      ]
     },
     "execution_count": 21,
     "metadata": {},
     "output_type": "execute_result"
    },
    {
     "data": {
      "image/png": "[encoded data removed]",
      "text/plain": [
       "<matplotlib.figure.Figure at 0x11d933400>"
      ]
     },
     "metadata": {},
     "output_type": "display_data"
    }
   ],
   "source": [
    "plt.plot(np.mean(feature_per_coin_naito[4], axis=0))\n",
    "plt.plot(np.mean(feature_per_coin_nakamura[4], axis=0))"
   ]
  },
  {
   "cell_type": "code",
   "execution_count": 20,
   "metadata": {},
   "outputs": [
    {
     "data": {
      "text/plain": [
       "[<matplotlib.lines.Line2D at 0x11377b550>]"
      ]
     },
     "execution_count": 20,
     "metadata": {},
     "output_type": "execute_result"
    },
    {
     "data": {
      "image/png": "[encoded data removed]",
      "text/plain": [
       "<matplotlib.figure.Figure at 0x11d933438>"
      ]
     },
     "metadata": {},
     "output_type": "display_data"
    }
   ],
   "source": []
  },
  {
   "cell_type": "markdown",
   "metadata": {},
   "source": [
    " "
   ]
  },
  {
   "cell_type": "markdown",
   "metadata": {},
   "source": [
    " "
   ]
  },
  {
   "cell_type": "markdown",
   "metadata": {},
   "source": [
    "期待値 0.166...での正解率0.5\n",
    "\n",
    "そこそこ当たってそう"
   ]
  },
  {
   "cell_type": "markdown",
   "metadata": {},
   "source": [
    "本番\n",
    "\n",
    "非常に時間がかかることが予想される"
   ]
  },
  {
   "cell_type": "code",
   "execution_count": 152,
   "metadata": {},
   "outputs": [
    {
     "ename": "SyntaxError",
     "evalue": "invalid syntax (<ipython-input-152-901285a5a2ab>, line 1)",
     "output_type": "error",
     "traceback": [
      "\u001b[0;36m  File \u001b[0;32m\"<ipython-input-152-901285a5a2ab>\"\u001b[0;36m, line \u001b[0;32m1\u001b[0m\n\u001b[0;31m    and\u001b[0m\n\u001b[0m      ^\u001b[0m\n\u001b[0;31mSyntaxError\u001b[0m\u001b[0;31m:\u001b[0m invalid syntax\n"
     ]
    }
   ],
   "source": [
    "and"
   ]
  },
  {
   "cell_type": "code",
   "execution_count": 35,
   "metadata": {},
   "outputs": [
    {
     "name": "stdout",
     "output_type": "stream",
     "text": [
      "preparation\n",
      "main loop start\n",
      "********************************\n",
      "major loop\n",
      "--------------------------------\n",
      "('minor loop : ', 0)\n",
      "('Selected freqs', array([5, 1]))\n",
      "('R=', 0.9968268453097271)\n",
      "--------------------------------\n",
      "('minor loop : ', 1)\n",
      "('Selected freqs', array([5, 4]))\n",
      "('R=', 0.9956835361266605)\n",
      "--------------------------------\n",
      "********************************\n",
      "major loop\n",
      "--------------------------------\n",
      "('minor loop : ', 0)\n",
      "('Selected freqs', array([5, 4]))\n",
      "('R=', 0.9956835361266605)\n",
      "--------------------------------\n",
      "('minor loop : ', 1)\n",
      "('Selected freqs', array([5, 4]))\n",
      "('R=', 0.9956835361266605)\n",
      "--------------------------------\n",
      "done\n"
     ]
    }
   ],
   "source": [
    "D = 2\n",
    "freqs, sigma, mu = detectFreqs(features, D)"
   ]
  },
  {
   "cell_type": "code",
   "execution_count": 9,
   "metadata": {},
   "outputs": [],
   "source": [
    "import numpy as np\n",
    "from numpy import fft"
   ]
  },
  {
   "cell_type": "code",
   "execution_count": 13,
   "metadata": {},
   "outputs": [],
   "source": [
    "temp = fft.fft([0, 1, 2, 3, 4])"
   ]
  },
  {
   "cell_type": "code",
   "execution_count": 15,
   "metadata": {},
   "outputs": [
    {
     "data": {
      "text/plain": [
       "array([ 10.        ,   4.25325404,   2.62865556,   2.62865556,   4.25325404])"
      ]
     },
     "execution_count": 15,
     "metadata": {},
     "output_type": "execute_result"
    }
   ],
   "source": [
    "np.abs(temp)"
   ]
  },
  {
   "cell_type": "markdown",
   "metadata": {},
   "source": [
    "そもそもの計算が正しいか簡単に確認"
   ]
  },
  {
   "cell_type": "code",
   "execution_count": 13,
   "metadata": {},
   "outputs": [],
   "source": [
    "def culR(feature, sigma, mu) :\n",
    "    detSigma = np.linalg.det(sigma)\n",
    "    invSigma = np.linalg.inv(sigma)\n",
    "    d = sigma.shape[0]\n",
    "    x_muc = np.matrix(feature - mu).T\n",
    "\n",
    "    res = ((2 * np.pi) ** (-d / 2.0) * detSigma ** (-0.5) * np.exp(-x_muc.T.dot(invSigma).dot(x_muc) / 2))\n",
    "    \n",
    "    return res"
   ]
  },
  {
   "cell_type": "code",
   "execution_count": 27,
   "metadata": {},
   "outputs": [
    {
     "data": {
      "text/plain": [
       "matrix([[ 1.59154943]])"
      ]
     },
     "execution_count": 27,
     "metadata": {},
     "output_type": "execute_result"
    }
   ],
   "source": [
    "culR(np.array([0, 0]), np.array([[1, 0], [0, 1]]) * 0.1, np.array([0, 0]))"
   ]
  },
  {
   "cell_type": "code",
   "execution_count": 20,
   "metadata": {},
   "outputs": [
    {
     "data": {
      "text/plain": [
       "array([[ 1.,  0.],\n",
       "       [ 0.,  1.]])"
      ]
     },
     "execution_count": 20,
     "metadata": {},
     "output_type": "execute_result"
    }
   ],
   "source": [
    "np.linalg.inv((np.array([[1, 0], [0, 1]])))"
   ]
  },
  {
   "cell_type": "code",
   "execution_count": 24,
   "metadata": {},
   "outputs": [
    {
     "data": {
      "text/plain": [
       "matrix([[ 1.]])"
      ]
     },
     "execution_count": 24,
     "metadata": {},
     "output_type": "execute_result"
    }
   ],
   "source": [
    "x = np.array([0, 0])\n",
    "mu = np.array([0, 0])\n",
    "x_muc = np.matrix(x - mu).T\n",
    "sigma = np.array([[1, 0], [0, 1]]) * 100\n",
    "invSigma = np.linalg.inv(sigma)\n",
    "\n",
    "np.exp(-x_muc.T.dot(invSigma).dot(x_muc) / 2)"
   ]
  },
  {
   "cell_type": "code",
   "execution_count": 9,
   "metadata": {},
   "outputs": [],
   "source": [
    "x = np.array([0, 1, 2])"
   ]
  },
  {
   "cell_type": "code",
   "execution_count": 18,
   "metadata": {},
   "outputs": [],
   "source": [
    "x = np.array([x]).T"
   ]
  },
  {
   "cell_type": "code",
   "execution_count": 19,
   "metadata": {},
   "outputs": [
    {
     "data": {
      "text/plain": [
       "array([[0],\n",
       "       [1],\n",
       "       [2]])"
      ]
     },
     "execution_count": 19,
     "metadata": {},
     "output_type": "execute_result"
    }
   ],
   "source": [
    "x"
   ]
  },
  {
   "cell_type": "code",
   "execution_count": 22,
   "metadata": {},
   "outputs": [],
   "source": [
    "invSigma = np.array(range(0, 9)).reshape(3, 3)"
   ]
  },
  {
   "cell_type": "code",
   "execution_count": 23,
   "metadata": {},
   "outputs": [
    {
     "data": {
      "text/plain": [
       "array([[0, 1, 2],\n",
       "       [3, 4, 5],\n",
       "       [6, 7, 8]])"
      ]
     },
     "execution_count": 23,
     "metadata": {},
     "output_type": "execute_result"
    }
   ],
   "source": [
    "invSigma"
   ]
  },
  {
   "cell_type": "code",
   "execution_count": 27,
   "metadata": {},
   "outputs": [
    {
     "data": {
      "text/plain": [
       "array([[60]])"
      ]
     },
     "execution_count": 27,
     "metadata": {},
     "output_type": "execute_result"
    }
   ],
   "source": [
    "np.dot(x.T, invSigma).dot(x)"
   ]
  },
  {
   "cell_type": "code",
   "execution_count": 29,
   "metadata": {},
   "outputs": [
    {
     "data": {
      "text/plain": [
       "array([[  1.00000000e+00,   2.71828183e+00,   7.38905610e+00],\n",
       "       [  2.00855369e+01,   5.45981500e+01,   1.48413159e+02],\n",
       "       [  4.03428793e+02,   1.09663316e+03,   2.98095799e+03]])"
      ]
     },
     "execution_count": 29,
     "metadata": {},
     "output_type": "execute_result"
    }
   ],
   "source": [
    "np.exp(invSigma)"
   ]
  },
  {
   "cell_type": "code",
   "execution_count": 23,
   "metadata": {},
   "outputs": [],
   "source": [
    "temp1 = np.random.random(size=[10, 5])\n",
    "temp2 = np.array([1, 2, 3, 4, 5])"
   ]
  },
  {
   "cell_type": "code",
   "execution_count": 24,
   "metadata": {},
   "outputs": [
    {
     "data": {
      "text/plain": [
       "array([[-0.75548225, -1.24964047, -2.9738428 , -3.15987994, -4.42099502],\n",
       "       [-0.05162787, -1.74623336, -2.62967871, -3.93480647, -4.32583643],\n",
       "       [-0.5684011 , -1.59850595, -2.9498818 , -3.17115349, -4.47818155],\n",
       "       [-0.39945419, -1.12748661, -2.97947945, -3.68589437, -4.65914087],\n",
       "       [-0.25706016, -1.76536543, -2.21850173, -3.14305407, -4.45603376],\n",
       "       [-0.46668178, -1.38401511, -2.88355964, -3.14920844, -4.74136581],\n",
       "       [-0.98131734, -1.07002719, -2.88721637, -3.88495606, -4.60525238],\n",
       "       [-0.71921804, -1.1725652 , -2.01872411, -3.46786546, -4.34353485],\n",
       "       [-0.88880065, -1.23024017, -2.79290115, -3.39353379, -4.81088962],\n",
       "       [-0.19665272, -1.44072596, -2.90678227, -3.02124015, -4.60273412]])"
      ]
     },
     "execution_count": 24,
     "metadata": {},
     "output_type": "execute_result"
    }
   ],
   "source": [
    "temp1 - temp2"
   ]
  },
  {
   "cell_type": "code",
   "execution_count": 25,
   "metadata": {},
   "outputs": [
    {
     "data": {
      "text/plain": [
       "array([-12.55984047, -12.68818285, -12.76612389, -12.85145549,\n",
       "       -11.84001516, -12.62483077, -13.42876933, -11.72190767,\n",
       "       -13.11636538, -12.16813521])"
      ]
     },
     "execution_count": 25,
     "metadata": {},
     "output_type": "execute_result"
    }
   ],
   "source": [
    "np.sum(temp1 - temp2, axis=1)"
   ]
  },
  {
   "cell_type": "code",
   "execution_count": 26,
   "metadata": {},
   "outputs": [],
   "source": [
    "args = np.argmax(temp1, axis=0)"
   ]
  },
  {
   "cell_type": "code",
   "execution_count": 27,
   "metadata": {},
   "outputs": [
    {
     "data": {
      "text/plain": [
       "array([[ 0.24451775,  0.75035953,  0.0261572 ,  0.84012006,  0.57900498],\n",
       "       [ 0.94837213,  0.25376664,  0.37032129,  0.06519353,  0.67416357],\n",
       "       [ 0.4315989 ,  0.40149405,  0.0501182 ,  0.82884651,  0.52181845],\n",
       "       [ 0.60054581,  0.87251339,  0.02052055,  0.31410563,  0.34085913],\n",
       "       [ 0.74293984,  0.23463457,  0.78149827,  0.85694593,  0.54396624],\n",
       "       [ 0.53331822,  0.61598489,  0.11644036,  0.85079156,  0.25863419],\n",
       "       [ 0.01868266,  0.92997281,  0.11278363,  0.11504394,  0.39474762],\n",
       "       [ 0.28078196,  0.8274348 ,  0.98127589,  0.53213454,  0.65646515],\n",
       "       [ 0.11119935,  0.76975983,  0.20709885,  0.60646621,  0.18911038],\n",
       "       [ 0.80334728,  0.55927404,  0.09321773,  0.97875985,  0.39726588]])"
      ]
     },
     "execution_count": 27,
     "metadata": {},
     "output_type": "execute_result"
    }
   ],
   "source": [
    "temp1"
   ]
  },
  {
   "cell_type": "code",
   "execution_count": 28,
   "metadata": {},
   "outputs": [
    {
     "data": {
      "text/plain": [
       "array([1, 6, 7, 9, 1])"
      ]
     },
     "execution_count": 28,
     "metadata": {},
     "output_type": "execute_result"
    }
   ],
   "source": [
    "args"
   ]
  },
  {
   "cell_type": "code",
   "execution_count": 29,
   "metadata": {},
   "outputs": [
    {
     "data": {
      "text/plain": [
       "array([ 0.94837213,  0.92997281,  0.98127589,  0.97875985,  0.67416357])"
      ]
     },
     "execution_count": 29,
     "metadata": {},
     "output_type": "execute_result"
    }
   ],
   "source": [
    "temp1[args, np.array([0, 1, 2, 3, 4])]"
   ]
  },
  {
   "cell_type": "code",
   "execution_count": 30,
   "metadata": {},
   "outputs": [
    {
     "data": {
      "text/plain": [
       "array([0, 1, 2, 3, 4, 5, 6, 7, 8, 9])"
      ]
     },
     "execution_count": 30,
     "metadata": {},
     "output_type": "execute_result"
    }
   ],
   "source": [
    "np.array(range(0, 10))"
   ]
  },
  {
   "cell_type": "code",
   "execution_count": 31,
   "metadata": {},
   "outputs": [
    {
     "data": {
      "text/plain": [
       "array([ 1.22277933,  1.16140318,  1.42704794,  1.17755755,  1.15947989])"
      ]
     },
     "execution_count": 31,
     "metadata": {},
     "output_type": "execute_result"
    }
   ],
   "source": [
    "np.exp(temp1[args, np.array(range(0, 5))] / np.sum(temp1, axis=0))"
   ]
  },
  {
   "cell_type": "code",
   "execution_count": 33,
   "metadata": {},
   "outputs": [
    {
     "data": {
      "text/plain": [
       "array([[ 0.94837213,  0.25376664,  0.37032129,  0.06519353,  0.67416357],\n",
       "       [ 0.01868266,  0.92997281,  0.11278363,  0.11504394,  0.39474762],\n",
       "       [ 0.28078196,  0.8274348 ,  0.98127589,  0.53213454,  0.65646515],\n",
       "       [ 0.80334728,  0.55927404,  0.09321773,  0.97875985,  0.39726588],\n",
       "       [ 0.94837213,  0.25376664,  0.37032129,  0.06519353,  0.67416357]])"
      ]
     },
     "execution_count": 33,
     "metadata": {},
     "output_type": "execute_result"
    }
   ],
   "source": [
    "temp1[args]"
   ]
  },
  {
   "cell_type": "code",
   "execution_count": 35,
   "metadata": {},
   "outputs": [
    {
     "ename": "IndexError",
     "evalue": "index 6 is out of bounds for axis 1 with size 5",
     "output_type": "error",
     "traceback": [
      "\u001b[0;31m---------------------------------------------------------------------------\u001b[0m",
      "\u001b[0;31mIndexError\u001b[0m                                Traceback (most recent call last)",
      "\u001b[0;32m<ipython-input-35-ccd804f09c00>\u001b[0m in \u001b[0;36m<module>\u001b[0;34m()\u001b[0m\n\u001b[0;32m----> 1\u001b[0;31m \u001b[0mtemp2\u001b[0m\u001b[0;34m[\u001b[0m\u001b[0margs\u001b[0m\u001b[0;34m]\u001b[0m\u001b[0;34m\u001b[0m\u001b[0m\n\u001b[0m",
      "\u001b[0;31mIndexError\u001b[0m: index 6 is out of bounds for axis 1 with size 5"
     ]
    }
   ],
   "source": [
    "temp2[args]"
   ]
  },
  {
   "cell_type": "code",
   "execution_count": 37,
   "metadata": {},
   "outputs": [
    {
     "data": {
      "text/plain": [
       "array([1, 2, 1, 1, 4, 5, 3])"
      ]
     },
     "execution_count": 37,
     "metadata": {},
     "output_type": "execute_result"
    }
   ],
   "source": [
    "temp2[np.array([0, 1, 0, 0, 3, 4, 2])]"
   ]
  },
  {
   "cell_type": "code",
   "execution_count": 21,
   "metadata": {},
   "outputs": [
    {
     "data": {
      "text/plain": [
       "19683"
      ]
     },
     "execution_count": 21,
     "metadata": {},
     "output_type": "execute_result"
    }
   ],
   "source": [
    " 3 ** 9"
   ]
  },
  {
   "cell_type": "code",
   "execution_count": 22,
   "metadata": {},
   "outputs": [
    {
     "data": {
      "text/plain": [
       "81"
      ]
     },
     "execution_count": 22,
     "metadata": {},
     "output_type": "execute_result"
    }
   ],
   "source": [
    "3 ** 4"
   ]
  },
  {
   "cell_type": "code",
   "execution_count": 21,
   "metadata": {},
   "outputs": [],
   "source": [
    "temp = np.array([[1, 2, 3], [4, 5, 6]])"
   ]
  },
  {
   "cell_type": "code",
   "execution_count": 22,
   "metadata": {},
   "outputs": [
    {
     "data": {
      "text/plain": [
       "array([[1, 2, 3],\n",
       "       [4, 5, 6]])"
      ]
     },
     "execution_count": 22,
     "metadata": {},
     "output_type": "execute_result"
    }
   ],
   "source": [
    "temp"
   ]
  },
  {
   "cell_type": "code",
   "execution_count": 23,
   "metadata": {},
   "outputs": [
    {
     "data": {
      "text/plain": [
       "array([ 6, 15])"
      ]
     },
     "execution_count": 23,
     "metadata": {},
     "output_type": "execute_result"
    }
   ],
   "source": [
    "np.sum(temp, axis=1)"
   ]
  },
  {
   "cell_type": "code",
   "execution_count": 25,
   "metadata": {},
   "outputs": [
    {
     "data": {
      "text/plain": [
       "array([[ 1.,  1.],\n",
       "       [ 1.,  1.]])"
      ]
     },
     "execution_count": 25,
     "metadata": {},
     "output_type": "execute_result"
    }
   ],
   "source": [
    "np.cov(temp)"
   ]
  },
  {
   "cell_type": "code",
   "execution_count": 47,
   "metadata": {},
   "outputs": [],
   "source": [
    "mu = np.array([2.5, 3.5, 4.5])\n",
    "x = np.array([[1, 2, 3], [4, 5, 6]])\n",
    "y = np.array([[1, 3, 5], [7, 11, 17]])\n",
    "mat = np.array([[1, 2, 3], [4, 5, 6], [7, 8, 9]])"
   ]
  },
  {
   "cell_type": "code",
   "execution_count": 48,
   "metadata": {},
   "outputs": [
    {
     "name": "stdout",
     "output_type": "stream",
     "text": [
      "[[-220.5]] [[ 832.5]]\n"
     ]
    }
   ],
   "source": [
    "print(np.array([x[0] - mu]).dot(mat).dot(np.array([y[0]]).T),\n",
    "      np.array([x[1] - mu]).dot(mat).dot(np.array([y[1]]).T))"
   ]
  },
  {
   "cell_type": "code",
   "execution_count": 49,
   "metadata": {},
   "outputs": [
    {
     "data": {
      "text/plain": [
       "array([-220.5,  832.5])"
      ]
     },
     "execution_count": 49,
     "metadata": {},
     "output_type": "execute_result"
    }
   ],
   "source": [
    "np.sum(np.dot(x - mu, mat) * y, axis=1)"
   ]
  },
  {
   "cell_type": "code",
   "execution_count": 41,
   "metadata": {},
   "outputs": [
    {
     "data": {
      "text/plain": [
       "array([ 1,  2,  3,  4,  5,  6,  7,  8,  9, 10, 11, 12, 13, 14, 15, 16, 17,\n",
       "       18, 19, 20, 21, 22, 23, 24, 25, 26, 27, 28, 29, 30, 31, 32, 33, 34,\n",
       "       35, 36, 37, 38, 39, 40, 41, 42, 43])"
      ]
     },
     "execution_count": 41,
     "metadata": {},
     "output_type": "execute_result"
    }
   ],
   "source": [
    "np.array(range(1, 44))"
   ]
  },
  {
   "cell_type": "code",
   "execution_count": 48,
   "metadata": {},
   "outputs": [
    {
     "name": "stdout",
     "output_type": "stream",
     "text": [
      "[ 1  8 13 28 30 32]\n",
      "[10 16 21 26 31 38]\n",
      "[ 3 11 12 19 24 41]\n",
      "[ 7  9 12 16 20 32]\n",
      "[ 2 17 27 32 34 39]\n",
      "[ 1  3 25 29 30 37]\n",
      "[ 6  9 13 32 34 43]\n",
      "[ 7 14 36 39 41 42]\n",
      "[16 19 20 22 28 35]\n",
      "[ 9 13 18 19 25 29]\n",
      "[ 5 10 23 32 38 41]\n",
      "[ 1 12 25 27 32 42]\n",
      "[ 1 12 26 28 32 41]\n",
      "[ 4  7 25 27 34 40]\n",
      "[ 3 17 21 25 36 38]\n",
      "[10 15 20 23 34 38]\n",
      "[ 1  2  3 23 31 42]\n",
      "[ 2  7 12 19 20 43]\n",
      "[ 3 16 27 28 33 42]\n",
      "[ 3  5 16 26 34 42]\n",
      "[ 4  5  7 24 29 34]\n",
      "[ 6  8 16 20 29 38]\n",
      "[11 16 30 35 37 43]\n",
      "[16 23 25 34 35 37]\n",
      "[18 29 30 35 36 40]\n",
      "[ 2  6  9 12 20 35]\n",
      "[ 6  9 12 24 31 34]\n",
      "[11 15 16 19 35 39]\n",
      "[ 8 12 17 33 39 41]\n",
      "[ 3  7 10 34 35 36]\n",
      "[ 4  8 10 32 34 43]\n",
      "[ 1  5  8 11 17 36]\n",
      "[ 1  8 10 12 13 39]\n",
      "[ 2  9 14 19 21 39]\n",
      "[ 3 13 16 36 39 40]\n",
      "[ 3  5 20 24 28 31]\n",
      "[11 18 27 30 32 33]\n",
      "[ 9 22 26 28 35 37]\n",
      "[11 14 23 27 38 43]\n",
      "[ 1 15 19 24 33 36]\n",
      "[11 14 17 27 37 40]\n",
      "[ 1 12 15 32 40 43]\n",
      "[ 3  4 12 19 41 42]\n",
      "[ 3 12 21 24 32 36]\n",
      "[ 2  6  7 12 19 29]\n",
      "[ 8 15 19 25 31 41]\n",
      "[ 9 15 24 30 35 41]\n",
      "[ 3  4 14 24 28 32]\n",
      "[ 5  7 28 29 30 43]\n",
      "[ 5  7 19 20 26 32]\n",
      "[ 5  9 20 32 35 39]\n",
      "[ 2  3  5 30 33 40]\n",
      "[ 1  2 20 30 38 42]\n",
      "[ 3  6  8 17 22 27]\n",
      "[13 15 31 33 35 43]\n",
      "[ 4 12 16 36 41 43]\n",
      "[ 1  8 14 15 26 41]\n",
      "[ 2 19 33 34 41 43]\n",
      "[ 1 15 17 22 37 39]\n",
      "[ 2  8 25 38 41 43]\n",
      "[ 2 10 19 31 35 42]\n",
      "[ 4  9 11 29 31 43]\n",
      "[ 6 12 14 32 33 36]\n",
      "[ 2  7  8 15 16 28]\n",
      "[ 4 15 16 26 38 43]\n",
      "[17 22 26 30 38 39]\n",
      "[ 4 11 14 15 38 39]\n",
      "[ 2  5  8 13 27 37]\n",
      "[ 1  9 24 27 29 31]\n",
      "[ 2  6 12 22 24 31]\n",
      "[ 3 14 21 26 27 38]\n",
      "[ 9 16 17 18 21 43]\n",
      "[ 4  8 14 27 35 36]\n",
      "[14 21 25 30 36 42]\n",
      "[ 1 11 18 25 26 40]\n",
      "[13 14 15 18 36 39]\n",
      "[ 2  7 14 31 32 38]\n",
      "[ 2 16 20 21 32 40]\n",
      "[ 2  4  5  7 20 42]\n",
      "[ 9 30 34 35 42 43]\n",
      "[ 5 14 15 20 31 38]\n",
      "[ 6  8 12 14 18 25]\n",
      "[15 16 34 40 41 42]\n",
      "[ 2 10 20 26 35 37]\n",
      "[ 3 15 17 18 35 43]\n",
      "[ 4  6 20 26 28 40]\n",
      "[14 19 21 25 38 40]\n",
      "[ 8  9 10 17 20 37]\n",
      "[ 3 11 12 24 29 39]\n",
      "[ 7  8 12 13 16 36]\n",
      "[ 3  7 14 18 27 41]\n",
      "[ 6 15 16 17 20 23]\n",
      "[ 2 13 21 22 29 32]\n",
      "[ 4 21 27 33 34 35]\n",
      "[ 7 17 29 30 34 35]\n",
      "[ 2  4  6  7 26 34]\n",
      "[27 29 31 37 39 43]\n",
      "[ 3  4 14 31 34 42]\n",
      "[12 14 24 38 42 43]\n",
      "[15 16 19 20 31 42]\n",
      "[ 5 20 26 33 39 40]\n",
      "[12 21 28 31 36 40]\n",
      "[ 8 12 16 23 29 38]\n",
      "[ 1  8 20 21 31 32]\n",
      "[ 2  9 11 12 18 33]\n",
      "[ 2 14 18 19 24 40]\n",
      "[ 5 17 22 23 25 32]\n",
      "[ 1  7  8 14 18 21]\n",
      "[ 1 10 24 35 41 43]\n",
      "[ 9 11 18 20 30 41]\n",
      "[ 1  2  7 30 39 40]\n",
      "[10 13 14 20 28 43]\n",
      "[ 8 12 25 38 40 43]\n",
      "[ 2  7 17 34 37 42]\n",
      "[ 4  5 23 28 30 35]\n",
      "[ 1  3 16 24 38 39]\n",
      "[ 2 20 25 29 34 37]\n",
      "[ 5 13 19 21 26 39]\n",
      "[ 3  4  5 11 15 28]\n",
      "[12 19 23 31 35 37]\n",
      "[ 8 14 18 26 33 39]\n",
      "[ 6 11 14 21 40 43]\n",
      "[ 1  9 18 22 31 37]\n",
      "[ 7 13 14 22 31 35]\n",
      "[ 3 10 21 26 31 41]\n",
      "[11 19 22 28 29 42]\n",
      "[ 8 17 22 23 27 29]\n",
      "[ 2  3  9 12 14 18]\n",
      "[ 1 24 29 35 37 38]\n",
      "[10 22 25 27 29 39]\n",
      "[ 3 15 16 17 22 36]\n",
      "[12 13 27 28 37 41]\n",
      "[ 9 10 11 12 29 41]\n",
      "[ 3 11 18 22 26 43]\n",
      "[ 4 15 16 23 29 32]\n",
      "[ 8 13 27 31 38 43]\n",
      "[ 5 13 19 22 25 31]\n",
      "[11 18 27 28 41 42]\n",
      "[11 20 31 34 35 43]\n",
      "[10 11 17 18 27 42]\n",
      "[ 3 10 15 26 30 32]\n",
      "[ 6 10 11 22 36 42]\n",
      "[ 8 15 17 23 34 42]\n",
      "[ 3  9 11 20 31 39]\n",
      "[ 5 20 31 33 36 37]\n",
      "[ 1 15 17 18 28 36]\n",
      "[ 3  4  9 10 17 18]\n",
      "[ 1  4 26 29 40 41]\n",
      "[ 2  5 13 26 31 41]\n",
      "[ 8 13 30 32 34 42]\n",
      "[ 5  9 17 23 36 38]\n",
      "[ 2 10 17 26 40 43]\n",
      "[ 7 23 28 29 37 43]\n",
      "[ 8 12 17 23 35 39]\n",
      "[ 2  5 11 22 41 43]\n",
      "[ 3  8 22 33 34 43]\n",
      "[ 8  9 13 16 17 37]\n",
      "[ 3 11 14 20 27 36]\n",
      "[10 15 19 30 39 42]\n",
      "[ 1  3 17 29 32 33]\n",
      "[12 15 19 27 28 38]\n",
      "[ 5  8 22 24 29 33]\n",
      "[ 2 13 14 25 39 41]\n",
      "[ 4 11 21 23 31 36]\n",
      "[ 2  4 15 32 36 39]\n",
      "[10 12 18 27 30 39]\n",
      "[16 22 24 25 38 42]\n",
      "[ 5  7 27 29 30 35]\n",
      "[ 4  6 13 14 25 33]\n",
      "[ 2 15 27 36 39 40]\n",
      "[ 4 11 21 27 29 38]\n",
      "[10 12 20 23 34 41]\n",
      "[ 5 11 20 25 27 43]\n",
      "[ 3 31 33 35 36 42]\n",
      "[ 1  9 11 13 26 40]\n",
      "[15 29 34 38 40 43]\n",
      "[ 2 14 20 33 35 42]\n",
      "[ 7  9 22 26 28 37]\n",
      "[18 19 25 34 42 43]\n",
      "[ 3  6 10 19 23 32]\n",
      "[11 14 17 26 36 41]\n",
      "[12 13 24 28 34 38]\n",
      "[ 2  7 15 17 18 38]\n",
      "[ 3  4 16 24 39 43]\n",
      "[ 9 20 23 25 35 38]\n",
      "[ 6  8 25 31 35 38]\n",
      "[ 7  8 26 35 42 43]\n",
      "[ 6 20 23 24 36 40]\n",
      "[ 9 10 14 31 33 40]\n",
      "[ 1  3 12 32 36 42]\n",
      "[ 3  9 16 35 36 38]\n",
      "[10 21 29 31 37 40]\n",
      "[ 1  6 10 12 35 38]\n",
      "[12 14 22 28 35 41]\n",
      "[ 2  6  7 20 28 34]\n",
      "[ 5 12 18 25 26 27]\n",
      "[ 8  9 21 29 33 40]\n",
      "[ 1  3 12 18 25 26]\n",
      "[ 9 15 21 34 39 40]\n",
      "[ 4 11 32 34 40 43]\n",
      "[ 5 17 18 19 21 31]\n",
      "[ 9 10 13 26 34 41]\n",
      "[ 7 24 29 34 35 40]\n",
      "[11 14 15 29 30 43]\n",
      "[ 1  8  9 14 18 34]\n",
      "[ 1  8 10 16 17 28]\n",
      "[ 6  9 14 16 32 37]\n",
      "[ 6  9 17 22 28 37]\n",
      "[11 14 22 32 38 43]\n",
      "[ 9 16 21 25 38 40]\n",
      "[11 15 31 34 35 37]\n",
      "[ 4 13 30 31 32 37]\n",
      "[13 14 18 26 35 38]\n",
      "[ 6 12 22 28 30 36]\n",
      "[ 4  9 11 14 18 28]\n",
      "[ 7 13 16 28 29 34]\n",
      "[ 9 18 26 35 37 42]\n",
      "[16 23 28 32 34 41]\n",
      "[ 3  4 18 22 34 43]\n",
      "[ 6 13 19 34 39 40]\n",
      "[17 26 35 36 40 42]\n",
      "[ 2  7 13 18 23 33]\n",
      "[ 7 17 25 26 40 41]\n",
      "[ 9 15 16 17 23 25]\n",
      "[ 3 17 29 35 39 40]\n",
      "[ 9 13 15 19 23 39]\n",
      "[ 1 15 25 30 32 34]\n",
      "[ 6 10 23 28 36 43]\n",
      "[ 5  9 11 12 18 36]\n",
      "[ 9 13 31 33 34 43]\n",
      "[ 4 13 26 27 33 40]\n",
      "[ 1  4 16 17 24 32]\n",
      "[ 6 16 18 20 23 29]\n",
      "[ 7 19 20 25 31 40]\n",
      "[10 16 20 21 32 41]\n",
      "[ 2  3  5 23 33 35]\n",
      "[ 3  5  7 18 31 37]\n",
      "[ 8 17 20 21 32 42]\n",
      "[ 1 17 24 27 31 38]\n",
      "[ 3  4 13 14 31 33]\n",
      "[ 4 19 23 36 39 41]\n",
      "[ 7 14 16 23 30 33]\n",
      "[ 5 12 26 28 32 36]\n",
      "[ 1  8 28 37 42 43]\n",
      "[ 1 15 24 26 36 38]\n",
      "[20 21 22 25 32 43]\n",
      "[ 3  6 11 26 27 43]\n",
      "[ 2  7 16 28 38 39]\n",
      "[ 6 15 29 30 32 43]\n",
      "[ 2  7 15 17 22 43]\n",
      "[ 1 12 25 33 36 40]\n",
      "[15 16 18 19 24 35]\n",
      "[ 4  8 17 24 26 40]\n",
      "[11 17 18 23 28 29]\n",
      "[ 7 16 21 31 40 42]\n",
      "[ 3  4 10 19 25 37]\n",
      "[15 19 21 31 33 37]\n",
      "[ 1  3 11 18 30 37]\n",
      "[ 3  4 13 23 37 42]\n",
      "[10 22 23 25 35 36]\n",
      "[ 6 25 26 27 35 41]\n",
      "[ 9 20 21 30 34 35]\n",
      "[ 2  3 10 31 36 42]\n",
      "[ 1 16 20 25 27 41]\n",
      "[ 8 18 19 26 40 41]\n",
      "[ 1  9 12 25 33 36]\n",
      "[12 14 26 31 39 41]\n",
      "[ 3 11 19 21 24 38]\n",
      "[ 5 12 19 20 24 41]\n",
      "[ 2 25 27 29 30 40]\n",
      "[ 5 12 13 22 27 34]\n",
      "[ 2 14 20 29 35 37]\n",
      "[ 9 11 20 24 36 41]\n",
      "[14 19 22 29 40 41]\n",
      "[ 9 13 23 31 34 41]\n",
      "[ 6 12 23 33 37 43]\n",
      "[ 6  9 14 18 32 34]\n",
      "[17 19 26 35 38 39]\n",
      "[13 31 33 34 35 39]\n",
      "[ 2 14 20 21 24 37]\n",
      "[ 6  9 10 16 19 40]\n",
      "[ 5 14 19 30 37 38]\n",
      "[ 3 20 27 31 33 38]\n",
      "[13 20 22 26 34 38]\n",
      "[ 1 18 21 26 28 40]\n",
      "[26 29 32 40 41 42]\n",
      "[ 1  4 18 19 27 32]\n",
      "[ 9 10 28 30 33 42]\n",
      "[11 18 21 30 32 37]\n",
      "[ 3  7 13 28 39 41]\n",
      "[ 2  4 17 27 28 41]\n",
      "[ 4 10 19 23 31 33]\n",
      "[ 7  8 15 21 27 35]\n",
      "[ 2 19 27 33 39 40]\n",
      "[ 4 12 13 28 33 34]\n",
      "[11 12 19 22 28 35]\n",
      "[10 23 28 30 36 38]\n",
      "[ 3  7 13 16 33 38]\n",
      "[ 4  7 12 13 34 39]\n",
      "[ 2  5  8 21 34 43]\n",
      "[18 22 27 29 32 37]\n",
      "[ 7 12 13 18 19 22]\n",
      "[13 14 18 24 31 34]\n",
      "[10 13 28 33 34 40]\n",
      "[ 9 17 30 31 32 40]\n",
      "[ 1 17 19 25 33 40]\n",
      "[11 12 14 15 19 25]\n",
      "[ 4 12 17 27 36 43]\n",
      "[ 1 21 25 28 35 37]\n",
      "[ 9 12 21 28 32 35]\n",
      "[ 8 12 24 25 38 39]\n",
      "[ 3 16 23 31 34 37]\n",
      "[ 1 12 22 25 26 38]\n",
      "[ 3 18 29 31 39 41]\n",
      "[ 1 13 25 27 34 43]\n",
      "[ 1  8 13 19 24 36]\n",
      "[ 3 11 19 32 42 43]\n",
      "[ 5 14 17 18 23 36]\n",
      "[ 4  5  9 21 25 43]\n",
      "[ 5 10 26 28 33 43]\n",
      "[ 4 12 14 19 23 31]\n",
      "[17 24 31 35 40 43]\n",
      "[ 7  8 14 25 26 43]\n",
      "[ 8 10 11 12 24 40]\n",
      "[10 13 16 20 35 43]\n",
      "[22 24 28 36 39 43]\n",
      "[ 1  7 15 24 27 35]\n",
      "[ 4 10 21 27 36 37]\n",
      "[ 2 13 15 27 41 43]\n",
      "[12 21 26 32 37 43]\n",
      "[ 5  7 11 17 25 35]\n",
      "[ 8 13 21 23 29 38]\n",
      "[ 1  4 11 24 36 38]\n",
      "[ 8 12 15 29 35 38]\n",
      "[ 8 24 32 33 40 41]\n",
      "[14 27 29 33 39 41]\n",
      "[ 1 15 24 33 37 41]\n",
      "[ 2 20 21 31 35 37]\n",
      "[ 2  7  9 15 18 41]\n",
      "[ 9 11 12 17 18 24]\n",
      "[ 1 11 18 21 30 41]\n",
      "[12 16 23 27 33 38]\n",
      "[ 5 13 16 28 37 41]\n",
      "[10 12 14 16 22 33]\n",
      "[ 2  5 17 30 33 43]\n",
      "[ 2  3  5 28 31 37]\n",
      "[ 2  4 10 19 37 41]\n",
      "[ 5 15 18 31 35 40]\n",
      "[ 3  7 25 27 30 31]\n",
      "[ 6  9 11 15 24 26]\n",
      "[ 6 11 14 19 34 42]\n",
      "[17 25 27 31 33 43]\n",
      "[ 3  8 19 21 22 39]\n",
      "[ 2  8 11 21 29 37]\n",
      "[ 3 21 22 31 38 41]\n",
      "[ 5  6 11 25 26 40]\n",
      "[ 2  8 12 24 32 36]\n",
      "[ 2 16 20 30 36 41]\n",
      "[ 7 18 28 35 39 42]\n",
      "[ 6  7  9 22 31 35]\n",
      "[14 15 25 29 33 34]\n",
      "[10 12 25 26 28 39]\n",
      "[ 6 11 12 32 35 36]\n",
      "[ 9 10 11 12 21 23]\n",
      "[ 1  8 23 24 26 35]\n",
      "[18 20 30 32 37 41]\n",
      "[15 18 33 38 40 43]\n",
      "[10 11 15 28 29 41]\n",
      "[ 1  5 10 26 27 29]\n",
      "[ 1  2  6  9 25 34]\n",
      "[ 3 10 27 29 38 43]\n",
      "[ 5 24 29 30 40 43]\n",
      "[ 7  8 19 25 29 40]\n",
      "[ 2  4  8  9 17 31]\n",
      "[ 3  4 13 15 17 28]\n",
      "[ 7 15 23 29 38 40]\n",
      "[ 5 19 20 29 36 42]\n",
      "[ 3  4  8  9 14 18]\n",
      "[ 4  5 10 20 28 40]\n",
      "[ 2 10 12 18 29 38]\n",
      "[ 4 12 15 19 35 38]\n",
      "[ 7 26 27 28 33 42]\n",
      "[ 3  4 13 18 42 43]\n",
      "[ 2  5  7  8 24 38]\n",
      "[ 1  5  8 13 16 29]\n",
      "[ 7 12 18 21 35 43]\n",
      "[ 1 11 28 39 41 42]\n",
      "[ 1 19 29 30 31 42]\n",
      "[ 5 23 32 39 40 42]\n",
      "[ 1 25 27 41 42 43]\n",
      "[ 1 12 21 27 38 43]\n",
      "[18 22 25 33 41 42]\n",
      "[22 25 26 28 35 43]\n",
      "[ 7 18 23 32 35 36]\n",
      "[ 2  6 30 38 39 40]\n",
      "[16 18 29 33 39 43]\n",
      "[ 4  6 20 22 28 31]\n",
      "[ 5 13 23 38 39 40]\n",
      "[ 8 13 15 18 21 23]\n",
      "[ 2  4  8 14 26 42]\n",
      "[14 23 31 32 34 43]\n",
      "[ 1 11 16 26 34 39]\n",
      "[ 1  9 19 25 29 42]\n",
      "[ 3  8 24 27 31 41]\n",
      "[21 22 24 27 29 38]\n",
      "[ 5 11 17 22 26 34]\n",
      "[ 2 10 16 25 31 33]\n",
      "[ 1  6 11 18 36 40]\n",
      "[ 2 10 14 29 31 36]\n",
      "[ 8 10 20 23 30 35]\n",
      "[ 4  5 16 17 28 35]\n",
      "[ 2  8  9 13 18 19]\n",
      "[ 1 15 16 25 31 39]\n",
      "[ 1 19 20 33 34 41]\n",
      "[10 12 21 23 28 37]\n",
      "[ 4 13 17 24 25 36]\n",
      "[ 3  8 13 20 29 30]\n",
      "[13 15 17 27 35 39]\n",
      "[ 5 10 25 29 35 40]\n",
      "[ 4 16 19 22 23 29]\n",
      "[ 1 12 18 21 30 34]\n",
      "[12 18 25 33 38 41]\n",
      "[ 4 15 16 25 30 33]\n",
      "[ 4 10 14 15 19 20]\n",
      "[ 7 16 24 27 35 41]\n",
      "[ 3  8 16 20 27 34]\n",
      "[12 14 30 32 40 43]\n",
      "[ 4  6 22 24 31 35]\n",
      "[ 8 10 11 21 29 30]\n",
      "[ 2 20 23 32 37 39]\n",
      "[ 5  6 20 30 33 37]\n",
      "[ 5  8 19 32 33 38]\n",
      "[ 3 12 14 20 36 42]\n",
      "[ 5 13 19 20 22 26]\n",
      "[15 16 19 23 32 43]\n",
      "[ 2 13 14 17 36 38]\n",
      "[ 4 17 28 29 37 40]\n",
      "[16 18 24 25 36 39]\n",
      "[ 7  8 12 13 31 43]\n",
      "[ 3  4  9 10 35 42]\n",
      "[ 6 10 14 15 28 36]\n",
      "[ 7 11 15 26 40 41]\n",
      "[ 8 17 23 31 37 40]\n",
      "[ 3  5 17 28 41 43]\n",
      "[ 1  5 14 19 21 29]\n",
      "[ 7  9 19 20 26 30]\n",
      "[11 13 23 24 34 43]\n",
      "[ 1  3  6 15 23 27]\n",
      "[ 2  3  6 23 32 41]\n",
      "[ 2  9 14 37 40 41]\n",
      "[ 9 12 15 16 23 42]\n",
      "[ 7 19 32 33 35 42]\n",
      "[14 20 21 36 37 43]\n",
      "[ 3  7  8 16 24 41]\n",
      "[ 8 17 27 30 32 43]\n",
      "[ 4  6 18 26 34 43]\n",
      "[ 9 21 28 33 35 39]\n",
      "[12 15 19 21 27 34]\n",
      "[ 1  4 12 20 24 37]\n",
      "[ 7 12 24 36 38 39]\n",
      "[ 2 17 20 24 37 39]\n",
      "[ 3  8 20 21 31 42]\n",
      "[ 4 20 23 25 33 40]\n",
      "[ 8 16 19 21 29 42]\n",
      "[ 5 19 25 27 30 43]\n",
      "[ 7 15 21 31 32 39]\n",
      "[12 20 24 32 39 43]\n",
      "[ 8 11 13 14 28 33]\n",
      "[12 14 27 38 40 42]\n",
      "[ 7  9 24 26 31 39]\n",
      "[ 2 10 14 15 28 36]\n",
      "[ 3 10 14 15 26 38]\n",
      "[ 8 12 13 17 22 24]\n",
      "[12 14 20 27 41 42]\n",
      "[26 27 38 40 41 42]\n",
      "[ 7 17 20 25 38 42]\n",
      "[ 2  5  8 16 33 43]\n",
      "[ 8 12 24 28 30 31]\n",
      "[ 9 17 24 29 39 41]\n",
      "[ 2 10 20 24 31 43]\n",
      "[11 20 35 36 40 43]\n",
      "[ 4 14 17 18 24 27]\n",
      "[ 1  4  5 14 36 41]\n",
      "[14 16 20 21 25 43]\n",
      "[ 5 11 28 37 39 41]\n",
      "[ 8 15 19 29 32 35]\n",
      "[ 1  2  3 14 28 34]\n",
      "[10 19 21 32 36 38]\n",
      "[ 2  5  6 18 29 34]\n",
      "[ 1  2  5  9 36 43]\n",
      "[ 8 10 14 17 24 33]\n",
      "[ 7 15 20 35 39 40]\n",
      "[ 2  4 18 30 32 39]\n",
      "[ 7 12 15 23 26 39]\n",
      "[16 17 18 25 35 39]\n",
      "[ 2 12 24 25 35 42]\n",
      "[ 9 10 16 24 25 33]\n",
      "[ 1  2  8 14 39 40]\n",
      "[ 7 10 17 22 24 33]\n",
      "[ 5  8 11 12 19 27]\n",
      "[ 2 14 16 19 20 43]\n",
      "[ 9 12 18 19 26 32]\n",
      "[ 1  8 19 22 36 42]\n",
      "[ 2  3 13 14 29 37]\n",
      "[ 6  9 10 31 32 36]\n",
      "[13 18 20 33 40 42]\n",
      "[ 8 18 23 25 30 42]\n",
      "[ 2 12 24 26 30 33]\n",
      "[ 4 19 28 33 34 37]\n",
      "[ 9 15 27 28 37 41]\n",
      "[ 3 13 38 41 42 43]\n",
      "[ 3  8 10 18 27 37]\n",
      "[ 2 14 15 22 23 39]\n",
      "[ 4  8 19 26 31 39]\n",
      "[ 4 16 26 27 33 36]\n",
      "[12 23 27 31 37 41]\n",
      "[ 2 16 22 30 32 35]\n",
      "[ 3  6  8 26 30 41]\n",
      "[ 4 10 17 20 28 43]\n",
      "[14 17 18 30 36 38]\n",
      "[ 3 11 36 38 42 43]\n",
      "[ 5 14 16 20 30 32]\n",
      "[ 4 18 19 20 27 32]\n",
      "[ 2  8 19 37 38 43]\n",
      "[ 1 11 15 31 35 36]\n",
      "[ 3 11 18 28 38 42]\n",
      "[25 29 36 37 42 43]\n",
      "[ 5  9 16 33 38 43]\n",
      "[ 4  6 13 22 41 43]\n",
      "[ 4  8 30 31 34 37]\n",
      "[ 2 18 29 30 36 39]\n",
      "[ 3  8 17 29 30 35]\n",
      "[ 7 20 21 23 31 38]\n",
      "[ 6 12 17 36 38 42]\n",
      "[ 6 21 25 26 33 41]\n",
      "[ 3  4 10 25 29 34]\n",
      "[ 5  7 12 25 28 29]\n",
      "[ 7 14 31 34 38 40]\n",
      "[11 24 32 35 37 43]\n",
      "[ 2 11 15 26 30 33]\n",
      "[ 1 16 24 33 35 36]\n",
      "[ 7 22 23 24 31 41]\n",
      "[ 8 23 26 29 32 40]\n",
      "[ 1  2 17 21 28 32]\n",
      "[ 7 21 23 32 35 41]\n",
      "[ 9 14 16 23 30 40]\n",
      "[ 9 10 15 16 20 40]\n",
      "[ 8  9 17 18 26 31]\n",
      "[13 14 16 17 28 30]\n",
      "[ 5 21 23 28 31 34]\n",
      "[ 2 10 12 27 33 36]\n",
      "[ 3  4  6 10 11 23]\n",
      "[ 5 13 15 18 29 30]\n",
      "[ 6  7 19 20 25 27]\n",
      "[ 3 10 11 16 20 26]\n",
      "[ 7  9 18 30 39 42]\n",
      "[16 17 21 26 28 33]\n",
      "[25 26 28 31 32 34]\n",
      "[ 1 12 17 24 26 30]\n",
      "[ 9 18 28 33 37 39]\n",
      "[ 4  6 10 16 39 41]\n",
      "[21 28 30 36 40 41]\n",
      "[ 7 13 29 34 38 43]\n",
      "[ 4  7  8 15 26 43]\n",
      "[ 3  5 20 31 36 42]\n",
      "[ 2  8 10 13 36 37]\n",
      "[ 3 12 21 28 31 32]\n",
      "[ 3  9 19 23 31 43]\n",
      "[ 1 13 25 35 39 43]\n",
      "[ 4 18 22 34 35 43]\n",
      "[ 5  9 13 22 23 42]\n",
      "[ 4 13 15 17 21 22]\n",
      "[ 9 11 22 25 32 36]\n",
      "[ 7 13 16 22 23 27]\n",
      "[ 7 15 16 31 38 43]\n",
      "[ 1  9 11 21 27 37]\n",
      "[ 6 13 15 31 32 33]\n",
      "[ 2 14 27 35 39 43]\n",
      "[ 9 23 24 29 34 39]\n",
      "[18 22 25 28 30 43]\n",
      "[16 17 20 25 29 39]\n",
      "[ 2  4 23 36 41 42]\n",
      "[ 2  7  9 10 19 20]\n",
      "[ 7 16 19 23 30 41]\n",
      "[ 8 14 19 25 31 41]\n",
      "[20 21 24 33 38 43]\n",
      "[ 2  6 19 34 39 43]\n",
      "[ 2  4 16 17 39 41]\n",
      "[12 14 16 21 26 39]\n",
      "[ 2 21 35 37 38 41]\n",
      "[ 2  5 35 36 37 41]\n",
      "[12 17 25 26 34 43]\n",
      "[ 1  6  7 21 33 40]\n",
      "[ 3 14 26 29 31 32]\n",
      "[ 7  8 16 17 18 19]\n",
      "[ 8 15 22 25 31 39]\n",
      "[ 2 13 15 26 35 42]\n",
      "[ 7 14 31 36 37 43]\n",
      "[ 3 20 24 28 32 34]\n",
      "[ 6  7  9 14 37 41]\n",
      "[ 1  9 12 17 24 40]\n",
      "[ 8  9 17 34 40 42]\n",
      "[ 3  6 16 17 21 26]\n",
      "[ 1  5 13 17 19 30]\n",
      "[ 3  6  7 19 25 31]\n",
      "[10 24 25 32 39 43]\n",
      "[18 23 25 30 32 34]\n",
      "[ 3  9 13 22 28 34]\n",
      "[ 9 11 13 24 38 41]\n",
      "[10 19 23 30 31 43]\n",
      "[ 4  5 21 25 31 35]\n",
      "[ 8 11 12 14 19 22]\n",
      "[ 8  9 21 22 31 37]\n",
      "[ 7 13 14 19 39 42]\n",
      "[ 3 10 13 34 38 41]\n",
      "[ 2 10 12 27 31 38]\n",
      "[11 13 28 29 31 34]\n",
      "[ 2  5  6  8 26 28]\n",
      "[ 6  8 20 29 36 40]\n",
      "[ 8 24 29 31 35 39]\n",
      "[ 1  4 11 12 15 33]\n",
      "[ 8  9 14 38 39 40]\n",
      "[11 12 18 24 34 43]\n",
      "[ 2 17 20 29 31 37]\n",
      "[ 7 18 21 26 29 39]\n",
      "[ 1  2  6 12 26 28]\n",
      "[ 1  2 18 30 36 39]\n",
      "[ 6 10 15 18 31 36]\n",
      "[ 8 20 30 31 33 35]\n",
      "[10 16 18 39 41 42]\n",
      "[15 19 21 29 31 43]\n",
      "[ 7 11 14 17 38 41]\n",
      "[ 5 11 12 20 29 35]\n",
      "[ 1  2  5 10 24 27]\n",
      "[ 5 10 39 41 42 43]\n",
      "[10 25 28 34 41 43]\n",
      "[ 1  4 13 26 33 39]\n",
      "[ 6 17 27 31 38 40]\n",
      "[17 21 22 25 27 43]\n",
      "[ 5  7 15 23 24 36]\n",
      "[ 6 13 19 27 42 43]\n",
      "[ 9 14 21 22 24 27]\n",
      "[ 1 26 31 41 42 43]\n",
      "[10 14 15 16 34 38]\n",
      "[ 8 27 28 30 34 43]\n",
      "[ 1 12 14 24 33 36]\n",
      "[12 13 18 37 41 42]\n",
      "[ 5 17 24 29 31 37]\n",
      "[ 4  8  9 11 18 21]\n",
      "[ 8 10 14 18 27 34]\n",
      "[ 6  7 11 13 25 39]\n",
      "[ 4  9 18 24 28 42]\n",
      "[ 3  9 14 16 20 37]\n",
      "[ 4  8 10 17 29 30]\n",
      "[17 23 25 33 38 40]\n",
      "[ 3 17 28 31 32 41]\n",
      "[ 2  5 16 24 26 39]\n",
      "[10 18 23 30 31 37]\n",
      "[ 8 12 16 22 24 37]\n",
      "[ 2 15 21 24 27 31]\n",
      "[ 1  6 13 19 26 37]\n",
      "[ 6 18 26 29 31 33]\n",
      "[17 21 23 32 36 43]\n",
      "[ 2  8 13 22 23 41]\n",
      "[13 22 26 33 34 42]\n",
      "[ 2 13 26 33 36 38]\n",
      "[16 21 26 28 34 35]\n",
      "[ 8 11 14 25 29 37]\n",
      "[ 9 19 21 24 32 33]\n",
      "[ 5 13 16 17 38 39]\n",
      "[24 25 35 38 39 43]\n",
      "[ 8 15 20 29 40 43]\n",
      "[ 2  3  5 18 22 42]\n",
      "[ 6 10 17 22 29 36]\n",
      "[11 16 18 26 28 33]\n",
      "[ 2  7 16 30 37 39]\n",
      "[ 9 13 32 37 39 42]\n",
      "[ 6 14 19 21 25 33]\n",
      "[ 8 12 18 21 37 43]\n",
      "[13 22 24 36 37 40]\n",
      "[ 6 16 25 27 28 40]\n",
      "[ 9 14 23 25 28 35]\n",
      "[10 11 23 39 41 43]\n",
      "[ 4 16 17 18 30 38]\n",
      "[ 1  6 26 34 39 41]\n",
      "[ 1 19 25 29 31 39]\n",
      "[ 2 12 16 17 40 43]\n",
      "[ 7  9 13 22 25 40]\n",
      "[ 6 11 18 19 23 26]\n",
      "[ 7  8 26 31 32 43]\n",
      "[ 2 21 35 36 41 43]\n",
      "[ 3  7 18 19 39 42]\n",
      "[ 7 17 23 24 33 39]\n",
      "[ 5  8 13 23 33 37]\n",
      "[ 1  8 10 12 13 43]\n",
      "[ 1 10 15 21 32 37]\n",
      "[ 5 23 25 32 34 43]\n",
      "[ 4 10 11 21 34 38]\n",
      "[ 3  7 13 19 27 37]\n",
      "[14 18 26 32 37 42]\n",
      "[ 4  5  8 12 39 43]\n",
      "[ 8 12 14 22 27 30]\n",
      "[ 3  9 12 32 37 41]\n",
      "[ 2 14 15 17 20 39]\n",
      "[14 15 21 26 28 31]\n",
      "[ 6  7 16 24 34 42]\n",
      "[12 14 28 34 41 43]\n",
      "[14 17 21 22 34 41]\n",
      "[ 3 19 26 28 30 43]\n",
      "[ 3 23 28 30 31 32]\n",
      "[ 3 18 21 26 36 37]\n",
      "[ 7  8 15 17 25 43]\n",
      "[ 2  3  6 13 20 30]\n",
      "[ 7 10 21 32 33 38]\n",
      "[20 24 27 32 33 39]\n",
      "[ 7 14 15 20 35 41]\n",
      "[ 1  8 17 19 34 43]\n",
      "[ 5  9 16 19 32 37]\n",
      "[ 3 12 26 28 36 41]\n",
      "[ 3 20 22 23 25 30]\n",
      "[10 15 20 35 37 39]\n",
      "[ 1 10 15 18 26 30]\n",
      "[ 7 14 18 25 28 32]\n",
      "[ 5  9 10 26 27 43]\n",
      "[ 9 14 17 24 27 34]\n",
      "[ 1 27 31 34 36 43]\n",
      "[16 17 18 29 38 41]\n",
      "[ 1  8  9 12 13 26]\n",
      "[14 15 16 21 23 34]\n",
      "[ 7 11 16 23 31 41]\n",
      "[ 7 11 19 24 38 42]\n",
      "[ 8 15 17 24 29 40]\n",
      "[ 2  7 10 13 15 35]\n",
      "[ 2 14 21 27 28 35]\n",
      "[10 18 19 24 28 35]\n",
      "[ 4 22 23 25 27 40]\n",
      "[ 1 10 11 17 18 29]\n",
      "[ 3  6  8 34 40 41]\n",
      "[11 12 13 30 31 32]\n",
      "[ 7 23 37 39 40 41]\n",
      "[ 2 15 16 19 27 36]\n",
      "[ 7 10 13 14 18 21]\n",
      "[ 2  5 23 27 33 40]\n",
      "[ 5  9 12 15 17 20]\n",
      "[ 5  7  8 15 27 33]\n",
      "[ 3  6  7  8 21 39]\n",
      "[ 2  9 10 13 22 29]\n",
      "[14 31 36 38 40 42]\n",
      "[ 2  9 10 16 34 39]\n",
      "[10 13 20 24 28 34]\n",
      "[ 6 19 21 30 34 40]\n",
      "[ 6 18 22 32 37 41]\n",
      "[ 3 18 25 33 34 36]\n",
      "[ 1  6  9 13 21 42]\n",
      "[ 5 13 16 23 27 39]\n",
      "[ 3  4  5 28 33 37]\n",
      "[ 6 17 21 25 33 38]\n",
      "[ 2  7 20 21 29 33]\n",
      "[ 1 14 24 25 34 43]\n",
      "[ 3  5  8 13 27 33]\n",
      "[ 1 16 18 26 32 37]\n",
      "[ 4 13 22 23 26 42]\n",
      "[ 1  9 16 23 26 27]\n",
      "[ 4 13 29 33 38 40]\n",
      "[ 1  2  9 14 25 27]\n",
      "[ 7 12 14 16 24 38]\n",
      "[ 1  4  9 10 34 43]\n",
      "[10 18 20 22 27 42]\n",
      "[ 8  9 16 17 22 29]\n",
      "[ 2  6 21 31 38 43]\n",
      "[ 1 14 15 18 23 31]\n",
      "[15 19 24 25 36 40]\n",
      "[10 15 21 30 35 43]\n",
      "[13 17 24 26 27 33]\n",
      "[ 7 12 27 29 37 39]\n",
      "[ 4  5  8 19 24 35]\n",
      "[ 2  8 19 24 34 42]\n",
      "[ 2  4  5 17 23 38]\n",
      "[10 13 16 18 35 38]\n",
      "[16 17 34 36 37 38]\n",
      "[ 2  8 17 20 24 25]\n",
      "[19 23 30 31 32 33]\n",
      "[ 3  9 16 20 30 43]\n",
      "[ 1  6 10 12 35 37]\n",
      "[ 7  8 10 12 19 23]\n",
      "[ 1  2 11 31 42 43]\n",
      "[ 3  8 11 14 36 39]\n",
      "[13 17 28 35 37 43]\n",
      "[ 4  9 12 20 21 43]\n",
      "[17 18 25 26 28 35]\n",
      "[ 4  5 12 14 16 34]\n",
      "[ 1  5  7 24 26 28]\n",
      "[10 21 22 31 38 42]\n",
      "[ 4 11 24 27 29 30]\n",
      "[ 2  6  9 23 38 43]\n",
      "[ 1 15 27 28 35 37]\n",
      "[ 2  7 14 16 31 36]\n",
      "[ 7 11 18 23 31 41]\n",
      "[ 3  5 27 33 34 42]\n",
      "[ 1  5  6  7 23 41]\n",
      "[ 5 15 16 20 34 35]\n",
      "[13 19 20 21 23 31]\n",
      "[ 1 10 14 26 31 43]\n",
      "[ 6  9 17 23 30 38]\n",
      "[16 17 21 29 31 35]\n",
      "[14 21 23 29 31 41]\n",
      "[ 3  6 11 13 18 21]\n",
      "[ 1  2  8 15 18 30]\n",
      "[ 3 10 11 12 26 42]\n",
      "[22 23 24 25 28 33]\n",
      "[14 22 30 32 34 35]\n",
      "[ 5  8 13 19 30 35]\n",
      "[17 26 27 33 38 42]\n",
      "[10 11 25 26 39 43]\n",
      "[ 5 10 14 18 19 30]\n",
      "[ 8 10 13 17 28 43]\n",
      "[19 24 31 36 38 42]\n",
      "[ 3  4  9 17 28 42]\n",
      "[19 20 24 26 38 40]\n",
      "[ 2  4 14 16 30 42]\n",
      "[23 25 33 36 38 43]\n",
      "[ 1  2  3 11 18 34]\n",
      "[ 5 21 28 30 33 38]\n",
      "[ 1  6  9 26 29 31]\n",
      "[ 1  3 10 13 20 39]\n",
      "[ 6  9 12 24 36 38]\n",
      "[ 1  7 16 26 28 39]\n",
      "[ 5  8 10 21 29 43]\n",
      "[19 21 24 25 29 36]\n",
      "[17 18 27 32 33 34]\n",
      "[ 1  9 17 23 36 37]\n",
      "[ 1 31 32 34 37 41]\n",
      "[ 9 10 17 23 24 33]\n",
      "[ 9 18 26 30 37 39]\n",
      "[ 7 19 23 28 37 41]\n",
      "[ 1  6 22 25 29 34]\n",
      "[ 8 14 15 32 34 38]\n",
      "[ 9 20 22 24 34 38]\n",
      "[ 2  3  4 13 25 27]\n",
      "[ 1  7 10 23 29 36]\n",
      "[ 5 11 16 22 28 37]\n",
      "[ 2  8 15 17 36 39]\n",
      "[ 3  6 17 19 30 35]\n",
      "[ 4 11 18 19 35 36]\n",
      "[ 3 15 24 30 36 43]\n",
      "[10 21 26 28 36 40]\n",
      "[ 2 26 27 34 35 36]\n",
      "[12 21 35 37 40 43]\n",
      "[21 22 23 28 31 35]\n",
      "[ 4 17 24 28 29 30]\n",
      "[ 1 17 23 24 27 37]\n",
      "[ 4 10 16 22 29 35]\n",
      "[ 5 10 16 18 26 33]\n",
      "[ 6  8 14 21 31 35]\n",
      "[ 8 16 25 38 40 42]\n",
      "[ 5  6 12 17 29 41]\n",
      "[ 4 11 14 21 23 35]\n",
      "[ 9 11 15 32 37 38]\n",
      "[ 6  8 23 31 33 42]\n",
      "[ 1  6  7 10 19 35]\n",
      "[11 27 32 36 39 40]\n",
      "[ 5 10 12 17 21 32]\n",
      "[ 1 14 32 37 39 43]\n",
      "[ 4 11 22 24 30 41]\n",
      "[ 6 13 16 17 29 42]\n",
      "[15 21 31 32 33 41]\n",
      "[ 5 14 20 30 39 41]\n",
      "[ 3  9 11 17 31 40]\n",
      "[23 24 30 34 42 43]\n",
      "[ 1  3  6  8 37 40]\n",
      "[10 16 17 22 32 42]\n",
      "[ 6 15 17 21 28 30]\n",
      "[ 5 15 22 25 27 43]\n",
      "[14 20 30 33 38 42]\n",
      "[ 7 21 23 28 31 42]\n",
      "[ 3  9 17 32 34 43]\n",
      "[ 6 11 14 16 23 24]\n",
      "[14 17 19 25 37 38]\n",
      "[ 3 26 29 31 34 35]\n",
      "[ 9 19 24 30 34 42]\n",
      "[14 23 26 27 29 30]\n",
      "[12 23 27 28 39 40]\n",
      "[15 17 18 20 21 31]\n",
      "[ 7 10 20 29 39 40]\n",
      "[ 1  5  9 12 30 35]\n",
      "[ 4  8 12 32 36 40]\n",
      "[16 29 32 35 37 43]\n",
      "[ 8 14 24 30 34 38]\n",
      "[ 1  7 13 17 31 43]\n",
      "[ 2  7  8 21 39 43]\n",
      "[ 2  5 12 13 17 33]\n",
      "[ 3 10 30 37 39 41]\n",
      "[ 7 11 14 20 32 36]\n",
      "[ 7 10 15 21 27 38]\n",
      "[18 22 23 31 41 43]\n",
      "[ 4  6  7 27 32 36]\n",
      "[ 2  3 23 25 33 43]\n",
      "[ 9 16 20 30 36 41]\n",
      "[ 6 22 24 28 33 34]\n",
      "[ 2 15 27 32 38 42]\n",
      "[17 21 30 36 38 42]\n",
      "[ 1  8 10 18 19 43]\n",
      "[ 8 13 19 22 25 34]\n",
      "[ 6  9 11 31 34 41]\n",
      "[ 4 20 25 27 30 42]\n",
      "[ 1 12 18 20 30 34]\n",
      "[ 8 14 15 33 38 39]\n",
      "[ 2 10 24 30 31 43]\n",
      "[ 9 12 14 24 30 36]\n",
      "[ 4  6  9 23 24 27]\n",
      "[ 4  7 18 21 35 40]\n",
      "[ 2 10 17 22 25 30]\n",
      "[ 1  3 10 12 31 42]\n",
      "[ 5  7 26 27 35 39]\n",
      "[ 9 14 22 31 32 36]\n",
      "[15 19 23 28 33 36]\n",
      "[ 3 10 18 26 34 39]\n",
      "[ 8 13 15 16 30 37]\n",
      "[ 6  7  8 17 23 42]\n",
      "[ 9 21 22 24 30 35]\n",
      "[ 5  8 16 22 35 36]\n",
      "[ 5 20 22 23 32 43]\n",
      "[ 7  8 15 22 24 32]\n",
      "[ 7 23 26 32 39 41]\n",
      "[ 1  4  9 31 32 33]\n",
      "[ 6 27 29 38 39 40]\n",
      "[ 1  6  7 13 25 30]\n",
      "[ 2  3  8 15 25 31]\n",
      "[ 4 14 17 22 26 37]\n",
      "[ 9 17 19 21 25 27]\n",
      "[ 9 19 25 26 32 38]\n",
      "[ 6  8 10 12 38 40]\n",
      "[ 2 20 25 37 38 39]\n",
      "[22 26 28 33 37 41]\n",
      "[ 8  9 10 23 24 34]\n",
      "[ 2  5 16 24 41 42]\n",
      "[ 2  4 26 28 39 41]\n",
      "[ 5  7 16 18 30 36]\n",
      "[11 13 23 26 35 40]\n",
      "[12 19 27 31 32 33]\n",
      "[ 1  5 13 15 35 43]\n",
      "[ 4  7 15 20 36 41]\n",
      "[ 1  4 10 13 20 24]\n",
      "[ 4 11 24 32 34 42]\n",
      "[ 4 10 18 21 39 42]\n",
      "[ 1  3  5 31 39 40]\n",
      "[ 2 15 16 21 31 34]\n",
      "[18 22 23 28 36 39]\n",
      "[ 1 16 21 38 39 42]\n",
      "[ 5 10 17 25 29 37]\n",
      "[ 6 14 17 18 28 36]\n",
      "[ 5 15 19 21 24 33]\n",
      "[ 5 13 14 17 28 35]\n",
      "[ 1  6 20 31 36 43]\n",
      "[19 21 27 33 37 40]\n",
      "[ 3  6 12 33 35 41]\n",
      "[ 1 13 17 21 29 35]\n",
      "[ 5 10 20 33 42 43]\n",
      "[ 7 10 11 29 39 43]\n",
      "[ 8 17 27 29 34 39]\n",
      "[ 4 17 23 30 36 38]\n",
      "[ 5 12 14 28 33 36]\n",
      "[ 9 10 11 19 21 37]\n",
      "[10 15 19 29 34 43]\n",
      "[ 5  9 14 15 22 31]\n",
      "[12 13 17 18 27 31]\n",
      "[ 3 27 31 38 40 42]\n",
      "[11 19 22 33 35 41]\n",
      "[ 3 13 23 26 28 38]\n",
      "[11 15 25 29 30 35]\n",
      "[ 1  2  4 12 14 15]\n",
      "[ 4  6 13 26 34 43]\n",
      "[ 2  9 11 12 27 31]\n",
      "[ 1 12 24 33 35 43]\n",
      "[ 1 10 19 20 30 35]\n",
      "[13 15 23 33 34 41]\n",
      "[ 2  8 26 37 38 43]\n",
      "[ 6 14 26 32 40 42]\n",
      "[ 2 11 16 25 34 42]\n",
      "[12 15 23 27 36 40]\n",
      "[13 26 28 30 31 37]\n",
      "[ 1 10 31 36 37 38]\n",
      "[ 4  5 11 27 28 29]\n",
      "[12 16 21 27 36 43]\n",
      "[ 2  7 15 22 35 40]\n",
      "[ 2 19 20 32 38 43]\n",
      "[ 1 24 29 30 32 35]\n",
      "[ 1  2  5 27 40 42]\n",
      "[ 8 18 23 28 30 37]\n",
      "[11 22 25 27 42 43]\n",
      "[ 8 22 26 34 36 43]\n",
      "[15 29 31 34 38 39]\n",
      "[ 3 14 16 17 18 37]\n",
      "[ 4 16 20 26 32 40]\n",
      "[ 5 31 33 35 37 43]\n",
      "[ 2 14 20 23 26 35]\n",
      "[ 3 11 33 35 40 42]\n",
      "[ 1  3  7 14 15 33]\n",
      "[ 1  2  7 14 15 32]\n",
      "[ 4 10 29 30 32 41]\n"
     ]
    }
   ],
   "source": [
    "for _ in range(0, 1000) :\n",
    "    print(np.sort(np.random.choice(np.array(range(1, 44)), 6, replace=False)))"
   ]
  },
  {
   "cell_type": "code",
   "execution_count": null,
   "metadata": {},
   "outputs": [],
   "source": []
  }
 ],
 "metadata": {
  "kernelspec": {
   "display_name": "Python 3",
   "language": "python",
   "name": "python3"
  },
  "language_info": {
   "codemirror_mode": {
    "name": "ipython",
    "version": 3
   },
   "file_extension": ".py",
   "mimetype": "text/x-python",
   "name": "python",
   "nbconvert_exporter": "python",
   "pygments_lexer": "ipython3",
   "version": "3.6.0"
  }
 },
 "nbformat": 4,
 "nbformat_minor": 2
}
