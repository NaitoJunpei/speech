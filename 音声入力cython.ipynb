{
 "cells": [
  {
   "cell_type": "code",
   "execution_count": 1,
   "metadata": {},
   "outputs": [],
   "source": [
    "import numpy as np\n",
    "import wave\n",
    "import matplotlib.pyplot as plt\n",
    "%matplotlib inline\n",
    "\n",
    "from numpy import fft\n",
    "import math\n",
    "import makeFeature"
   ]
  },
  {
   "cell_type": "code",
   "execution_count": 2,
   "metadata": {},
   "outputs": [],
   "source": [
    "name = \"./CoinData/001-00.wav\"\n",
    "wavefile = wave.open(name, \"r\")\n",
    "framerate = wavefile.getframerate()\n",
    "data = wavefile.readframes(wavefile.getnframes())\n",
    "x = np.frombuffer(data, dtype=\"int16\")\n",
    "x = x.astype('float64') #### 初めからfloat64にすると、ファイル形式の関係上欲しいデータが得られない"
   ]
  },
  {
   "cell_type": "code",
   "execution_count": 3,
   "metadata": {},
   "outputs": [
    {
     "data": {
      "text/plain": [
       "[<matplotlib.lines.Line2D at 0x10fa92780>]"
      ]
     },
     "execution_count": 3,
     "metadata": {},
     "output_type": "execute_result"
    },
    {
     "data": {
      "image/png": "[encoded data removed]",
      "text/plain": [
       "<matplotlib.figure.Figure at 0x106675978>"
      ]
     },
     "metadata": {},
     "output_type": "display_data"
    }
   ],
   "source": [
    "plt.plot(x)"
   ]
  },
  {
   "cell_type": "code",
   "execution_count": null,
   "metadata": {},
   "outputs": [],
   "source": []
  },
  {
   "cell_type": "code",
   "execution_count": null,
   "metadata": {},
   "outputs": [],
   "source": []
  },
  {
   "cell_type": "code",
   "execution_count": 4,
   "metadata": {},
   "outputs": [],
   "source": [
    "BinSize = 0.05 * framerate"
   ]
  },
  {
   "cell_type": "code",
   "execution_count": null,
   "metadata": {},
   "outputs": [],
   "source": []
  },
  {
   "cell_type": "code",
   "execution_count": null,
   "metadata": {},
   "outputs": [],
   "source": []
  },
  {
   "cell_type": "code",
   "execution_count": 5,
   "metadata": {},
   "outputs": [
    {
     "data": {
      "text/plain": [
       "3.49734693877551"
      ]
     },
     "execution_count": 5,
     "metadata": {},
     "output_type": "execute_result"
    }
   ],
   "source": [
    "len(x) / framerate"
   ]
  },
  {
   "cell_type": "code",
   "execution_count": null,
   "metadata": {},
   "outputs": [],
   "source": []
  },
  {
   "cell_type": "code",
   "execution_count": null,
   "metadata": {},
   "outputs": [],
   "source": []
  },
  {
   "cell_type": "code",
   "execution_count": 6,
   "metadata": {},
   "outputs": [],
   "source": [
    "from makeFeature import makeFeature"
   ]
  },
  {
   "cell_type": "code",
   "execution_count": 7,
   "metadata": {},
   "outputs": [
    {
     "name": "stderr",
     "output_type": "stream",
     "text": [
      "/Library/Frameworks/Python.framework/Versions/3.6/lib/python3.6/site-packages/ipykernel_launcher.py:17: RuntimeWarning: divide by zero encountered in log10\n"
     ]
    }
   ],
   "source": [
    "coins = [\"001\", \"005\", \"010\", \"050\", \"100\", \"500\"]\n",
    "OnPeriods = 20\n",
    "\n",
    "features = np.zeros([6, 20, OnPeriods, 1858])\n",
    "for coinIndex, coin in enumerate(coins) :\n",
    "    for i in range(0, 20) :\n",
    "        padded = '%02d' % i\n",
    "        filename = \"./CoinData/\" + coin + \"-\" + padded + \".wav\"\n",
    "        #### print(filename)\n",
    "        wavefile = wave.open(filename, \"r\")\n",
    "        framerate = wavefile.getframerate()\n",
    "        data = wavefile.readframes(wavefile.getnframes())\n",
    "        wavefile.close()\n",
    "        x = np.frombuffer(data, dtype=\"int16\")\n",
    "        x = x.astype('float64') #### 初めからfloat64にすると、ファイル形式の関係上欲しいデータが得られない\n",
    "        \n",
    "        f = makeFeature(x, framerate)\n",
    "        \n",
    "        features[coinIndex, i, :, :] = f"
   ]
  },
  {
   "cell_type": "code",
   "execution_count": 8,
   "metadata": {},
   "outputs": [
    {
     "data": {
      "text/plain": [
       "numpy.float64"
      ]
     },
     "execution_count": 8,
     "metadata": {},
     "output_type": "execute_result"
    }
   ],
   "source": [
    "import numpy as np\n",
    "np.float64"
   ]
  },
  {
   "cell_type": "code",
   "execution_count": 9,
   "metadata": {},
   "outputs": [
    {
     "data": {
      "text/plain": [
       "[<matplotlib.lines.Line2D at 0x110d745f8>]"
      ]
     },
     "execution_count": 9,
     "metadata": {},
     "output_type": "execute_result"
    },
    {
     "data": {
      "image/png": "[encoded data removed]",
      "text/plain": [
       "<matplotlib.figure.Figure at 0x10fe48278>"
      ]
     },
     "metadata": {},
     "output_type": "display_data"
    }
   ],
   "source": [
    "plt.plot(x)"
   ]
  },
  {
   "cell_type": "code",
   "execution_count": 10,
   "metadata": {},
   "outputs": [
    {
     "data": {
      "text/plain": [
       "'\\ndef extFeature(feature, freqs) :\\n    # OnPeriods * 1858の特徴を受け取り、freqsで指定された周波数成分を選択して\\n    # OnPeriods * len(freqs)の特徴として返す\\n    numFreqs = len(freqs)\\n    f = np.zeros(OnPeriods * numFreqs)\\n    for index, l in enumerate(feature) :\\n        f[index * numFreqs : (index + 1) * numFreqs] = l[freqs]\\n        \\n    return f\\n'"
      ]
     },
     "execution_count": 10,
     "metadata": {},
     "output_type": "execute_result"
    }
   ],
   "source": [
    "\"\"\"\n",
    "def extFeature(feature, freqs) :\n",
    "    # OnPeriods * 1858の特徴を受け取り、freqsで指定された周波数成分を選択して\n",
    "    # OnPeriods * len(freqs)の特徴として返す\n",
    "    numFreqs = len(freqs)\n",
    "    f = np.zeros(OnPeriods * numFreqs)\n",
    "    for index, l in enumerate(feature) :\n",
    "        f[index * numFreqs : (index + 1) * numFreqs] = l[freqs]\n",
    "        \n",
    "    return f\n",
    "\"\"\""
   ]
  },
  {
   "cell_type": "code",
   "execution_count": 11,
   "metadata": {},
   "outputs": [
    {
     "data": {
      "text/plain": [
       "'\\ndef extFeature2(feature, freqs) :\\n    # OnPeriods * 1858の特徴を受け取り、freqsで指定された周波数成分を選択して\\n    # len(freqs)の特徴として返す\\n    numFreqs = len(freqs)\\n    f = np.zeros(numFreqs)\\n    for index, l in enumerate(feature) :\\n        f[:] += l[freqs]\\n        \\n    return f\\n'"
      ]
     },
     "execution_count": 11,
     "metadata": {},
     "output_type": "execute_result"
    }
   ],
   "source": [
    "\"\"\"\n",
    "def extFeature2(feature, freqs) :\n",
    "    # OnPeriods * 1858の特徴を受け取り、freqsで指定された周波数成分を選択して\n",
    "    # len(freqs)の特徴として返す\n",
    "    numFreqs = len(freqs)\n",
    "    f = np.zeros(numFreqs)\n",
    "    for index, l in enumerate(feature) :\n",
    "        f[:] += l[freqs]\n",
    "        \n",
    "    return f\n",
    "\"\"\""
   ]
  },
  {
   "cell_type": "code",
   "execution_count": 12,
   "metadata": {},
   "outputs": [
    {
     "data": {
      "text/plain": [
       "\"\\ndef detectFreqs(features, numFreqs) :\\n    # numFreqsで指定した個数の周波数成分を、コストが最小になるように決定する\\n    freqs = np.array(range(0, numFreqs)).astype('int64')\\n    numCoins = features.shape[0]\\n    \\n    featuresSelected = np.zeros([numCoins, features.shape[1], features.shape[2] * numFreqs])\\n    for c in range(0, numCoins) :\\n        for cc in range(0, features.shape[1]) :\\n            featuresSelected[c, cc, :] = extFeature(features[c, cc, :, :], freqs)\\n    \\n    numFeature = features.shape[2] * numFreqs\\n    mu = np.zeros([numCoins, numFeature])\\n    sigma = np.zeros([numCoins, numFeature, numFeature])\\n    \\n    for c in range(0, numCoins) :\\n        tempF = featuresSelected[c, :, :]\\n        mu[c, :] = makeMu(tempF)\\n        sigma[c, :, :] = makeSigma(tempF)\\n        print(np.linalg.eig(sigma[c])[0])\\n        \\n    culR(featuresSelected, sigma, mu)\\n        \\n    return freqs\\n\""
      ]
     },
     "execution_count": 12,
     "metadata": {},
     "output_type": "execute_result"
    }
   ],
   "source": [
    "\"\"\"\n",
    "def detectFreqs(features, numFreqs) :\n",
    "    # numFreqsで指定した個数の周波数成分を、コストが最小になるように決定する\n",
    "    freqs = np.array(range(0, numFreqs)).astype('int64')\n",
    "    numCoins = features.shape[0]\n",
    "    \n",
    "    featuresSelected = np.zeros([numCoins, features.shape[1], features.shape[2] * numFreqs])\n",
    "    for c in range(0, numCoins) :\n",
    "        for cc in range(0, features.shape[1]) :\n",
    "            featuresSelected[c, cc, :] = extFeature(features[c, cc, :, :], freqs)\n",
    "    \n",
    "    numFeature = features.shape[2] * numFreqs\n",
    "    mu = np.zeros([numCoins, numFeature])\n",
    "    sigma = np.zeros([numCoins, numFeature, numFeature])\n",
    "    \n",
    "    for c in range(0, numCoins) :\n",
    "        tempF = featuresSelected[c, :, :]\n",
    "        mu[c, :] = makeMu(tempF)\n",
    "        sigma[c, :, :] = makeSigma(tempF)\n",
    "        print(np.linalg.eig(sigma[c])[0])\n",
    "        \n",
    "    culR(featuresSelected, sigma, mu)\n",
    "        \n",
    "    return freqs\n",
    "\"\"\""
   ]
  },
  {
   "cell_type": "code",
   "execution_count": 13,
   "metadata": {},
   "outputs": [
    {
     "data": {
      "text/plain": [
       "\"\\n#### 特徴ベクトルを足すことで次元を増やさないようにしてみる\\ndef detectFreqs2(features, numFreqs) :\\n    freqs = np.array(range(0, numFreqs)).astype('int64')\\n    numCoins = features.shape[0]\\n    \\n    featuresSelected = np.zeros([numCoins, features.shape[1], numFreqs])\\n    for c in range(0, numCoins) :\\n        for cc in range(0, features.shape[1]) :\\n            featuresSelected[c, cc, :] = extFeature2(features[c, cc, :, :], freqs)\\n            \\n            \\n    numFeature = numFreqs\\n    mu = np.zeros([numCoins, numFeature])\\n    sigma = np.zeros([numCoins, numFeature, numFeature])\\n    \\n    for c in range(0, numCoins) :\\n        tempF = featuresSelected[c, :, :]\\n        mu[c, :] = makeMu(tempF)\\n        sigma[c, :, :] = makeSigma(tempF)\\n        print(sigma[c])\\n        print(np.linalg.det(sigma[c]))\\n        \\n    freqs_new = np.array(range(0, numFreqs)).astype('int64')\\n    \\n    #### 周波数成分選択アルゴリズム\\n    while(True) :\\n        for d in range(0, numFreqs) :\\n            for omega in range(0, features.shape[3]) :\\n                if omega\\n                \\n    R = culR(featuresSelected, sigma, mu)\\n    \\n    return freqs\\n\""
      ]
     },
     "execution_count": 13,
     "metadata": {},
     "output_type": "execute_result"
    }
   ],
   "source": [
    "\"\"\"\n",
    "#### 特徴ベクトルを足すことで次元を増やさないようにしてみる\n",
    "def detectFreqs2(features, numFreqs) :\n",
    "    freqs = np.array(range(0, numFreqs)).astype('int64')\n",
    "    numCoins = features.shape[0]\n",
    "    \n",
    "    featuresSelected = np.zeros([numCoins, features.shape[1], numFreqs])\n",
    "    for c in range(0, numCoins) :\n",
    "        for cc in range(0, features.shape[1]) :\n",
    "            featuresSelected[c, cc, :] = extFeature2(features[c, cc, :, :], freqs)\n",
    "            \n",
    "            \n",
    "    numFeature = numFreqs\n",
    "    mu = np.zeros([numCoins, numFeature])\n",
    "    sigma = np.zeros([numCoins, numFeature, numFeature])\n",
    "    \n",
    "    for c in range(0, numCoins) :\n",
    "        tempF = featuresSelected[c, :, :]\n",
    "        mu[c, :] = makeMu(tempF)\n",
    "        sigma[c, :, :] = makeSigma(tempF)\n",
    "        print(sigma[c])\n",
    "        print(np.linalg.det(sigma[c]))\n",
    "        \n",
    "    freqs_new = np.array(range(0, numFreqs)).astype('int64')\n",
    "    \n",
    "    #### 周波数成分選択アルゴリズム\n",
    "    while(True) :\n",
    "        for d in range(0, numFreqs) :\n",
    "            for omega in range(0, features.shape[3]) :\n",
    "                if omega\n",
    "                \n",
    "    R = culR(featuresSelected, sigma, mu)\n",
    "    \n",
    "    return freqs\n",
    "\"\"\""
   ]
  },
  {
   "cell_type": "code",
   "execution_count": null,
   "metadata": {},
   "outputs": [],
   "source": []
  },
  {
   "cell_type": "markdown",
   "metadata": {},
   "source": [
    "適当に小さいデータで実験\n",
    "\n",
    "周波数成分　だいたい 400Hz以下\n",
    "\n",
    "特徴次元数10"
   ]
  },
  {
   "cell_type": "code",
   "execution_count": 14,
   "metadata": {},
   "outputs": [],
   "source": [
    "from makeFeature import makePrediction"
   ]
  },
  {
   "cell_type": "code",
   "execution_count": 15,
   "metadata": {},
   "outputs": [],
   "source": [
    "from makeFeature import detectFreqs"
   ]
  },
  {
   "cell_type": "code",
   "execution_count": null,
   "metadata": {},
   "outputs": [
    {
     "name": "stdout",
     "output_type": "stream",
     "text": [
      "preparation\n",
      "main loop start\n",
      "********************************\n",
      "major loop\n",
      "--------------------------------\n",
      "('minor minor loop : ', 0.0004000663757324219)\n",
      "('minor minor loop : ', 0.9614708423614502)\n",
      "('minor minor loop : ', 5.2928924560546875e-05)\n",
      "('minor minor loop : ', 1.0967254638671875e-05)\n",
      "('minor minor loop : ', 1.4066696166992188e-05)\n",
      "('minor minor loop : ', 9.059906005859375e-06)\n",
      "('minor minor loop : ', 6.9141387939453125e-06)\n",
      "('minor minor loop : ', 1.9073486328125e-05)\n",
      "('minor minor loop : ', 8.821487426757812e-06)\n",
      "('minor minor loop : ', 1.0967254638671875e-05)\n",
      "('minor minor loop : ', 9.775161743164062e-06)\n",
      "('minor minor loop : ', 8.821487426757812e-06)\n",
      "('minor minor loop : ', 1.0967254638671875e-05)\n",
      "('minor minor loop : ', 1.621246337890625e-05)\n",
      "('minor minor loop : ', 1.5020370483398438e-05)\n",
      "('minor minor loop : ', 1.0013580322265625e-05)\n",
      "('minor minor loop : ', 1.0013580322265625e-05)\n",
      "('minor minor loop : ', 1.1920928955078125e-05)\n",
      "('minor minor loop : ', 1.0013580322265625e-05)\n",
      "('minor minor loop : ', 1.4066696166992188e-05)\n",
      "('minor minor loop : ', 1.1920928955078125e-05)\n",
      "('minor minor loop : ', 1.1867258548736572)\n",
      "('minor minor loop : ', 0.8953919410705566)\n"
     ]
    }
   ],
   "source": [
    "freqs, sigma, mu, detSigma, invSigma = detectFreqs(features[:, 0:15, :, 0:100], 20)"
   ]
  },
  {
   "cell_type": "code",
   "execution_count": null,
   "metadata": {},
   "outputs": [],
   "source": [
    "features.shape"
   ]
  },
  {
   "cell_type": "code",
   "execution_count": null,
   "metadata": {},
   "outputs": [],
   "source": [
    "%timeit makePrediction(features[0][0][:, freqs], sigma, mu)"
   ]
  },
  {
   "cell_type": "code",
   "execution_count": null,
   "metadata": {},
   "outputs": [],
   "source": [
    "acc = 0\n",
    "for c in range(0, 6) :\n",
    "    for cc in range(15, 20) :\n",
    "        predicted = makePrediction(features[c][cc][:, freqs], sigma=sigma, mu=mu)\n",
    "        if(predicted == c) :\n",
    "            acc += 1\n",
    "            \n",
    "acc /= (5 * 6)"
   ]
  },
  {
   "cell_type": "code",
   "execution_count": null,
   "metadata": {},
   "outputs": [],
   "source": []
  },
  {
   "cell_type": "code",
   "execution_count": 26,
   "metadata": {},
   "outputs": [
    {
     "data": {
      "text/plain": [
       "0.5"
      ]
     },
     "execution_count": 26,
     "metadata": {},
     "output_type": "execute_result"
    }
   ],
   "source": [
    "acc"
   ]
  },
  {
   "cell_type": "markdown",
   "metadata": {},
   "source": [
    " "
   ]
  },
  {
   "cell_type": "markdown",
   "metadata": {},
   "source": [
    " "
   ]
  },
  {
   "cell_type": "markdown",
   "metadata": {},
   "source": [
    "期待値 0.166...での正解率0.5\n",
    "\n",
    "そこそこ当たってそう"
   ]
  },
  {
   "cell_type": "markdown",
   "metadata": {},
   "source": [
    "本番\n",
    "\n",
    "非常に時間がかかることが予想される"
   ]
  },
  {
   "cell_type": "code",
   "execution_count": 35,
   "metadata": {},
   "outputs": [
    {
     "name": "stdout",
     "output_type": "stream",
     "text": [
      "preparation\n",
      "main loop start\n",
      "********************************\n",
      "major loop\n",
      "--------------------------------\n",
      "('minor loop : ', 0)\n",
      "('Selected freqs', array([5, 1]))\n",
      "('R=', 0.9968268453097271)\n",
      "--------------------------------\n",
      "('minor loop : ', 1)\n",
      "('Selected freqs', array([5, 4]))\n",
      "('R=', 0.9956835361266605)\n",
      "--------------------------------\n",
      "********************************\n",
      "major loop\n",
      "--------------------------------\n",
      "('minor loop : ', 0)\n",
      "('Selected freqs', array([5, 4]))\n",
      "('R=', 0.9956835361266605)\n",
      "--------------------------------\n",
      "('minor loop : ', 1)\n",
      "('Selected freqs', array([5, 4]))\n",
      "('R=', 0.9956835361266605)\n",
      "--------------------------------\n",
      "done\n"
     ]
    }
   ],
   "source": [
    "D = 2\n",
    "freqs, sigma, mu = detectFreqs(features, D)"
   ]
  },
  {
   "cell_type": "code",
   "execution_count": 9,
   "metadata": {},
   "outputs": [],
   "source": [
    "import numpy as np\n",
    "from numpy import fft"
   ]
  },
  {
   "cell_type": "code",
   "execution_count": 13,
   "metadata": {},
   "outputs": [],
   "source": [
    "temp = fft.fft([0, 1, 2, 3, 4])"
   ]
  },
  {
   "cell_type": "code",
   "execution_count": 15,
   "metadata": {},
   "outputs": [
    {
     "data": {
      "text/plain": [
       "array([ 10.        ,   4.25325404,   2.62865556,   2.62865556,   4.25325404])"
      ]
     },
     "execution_count": 15,
     "metadata": {},
     "output_type": "execute_result"
    }
   ],
   "source": [
    "np.abs(temp)"
   ]
  },
  {
   "cell_type": "markdown",
   "metadata": {},
   "source": [
    "そもそもの計算が正しいか簡単に確認"
   ]
  },
  {
   "cell_type": "code",
   "execution_count": 13,
   "metadata": {},
   "outputs": [],
   "source": [
    "def culR(feature, sigma, mu) :\n",
    "    detSigma = np.linalg.det(sigma)\n",
    "    invSigma = np.linalg.inv(sigma)\n",
    "    d = sigma.shape[0]\n",
    "    x_muc = np.matrix(feature - mu).T\n",
    "\n",
    "    res = ((2 * np.pi) ** (-d / 2.0) * detSigma ** (-0.5) * np.exp(-x_muc.T.dot(invSigma).dot(x_muc) / 2))\n",
    "    \n",
    "    return res"
   ]
  },
  {
   "cell_type": "code",
   "execution_count": 27,
   "metadata": {},
   "outputs": [
    {
     "data": {
      "text/plain": [
       "matrix([[ 1.59154943]])"
      ]
     },
     "execution_count": 27,
     "metadata": {},
     "output_type": "execute_result"
    }
   ],
   "source": [
    "culR(np.array([0, 0]), np.array([[1, 0], [0, 1]]) * 0.1, np.array([0, 0]))"
   ]
  },
  {
   "cell_type": "code",
   "execution_count": 20,
   "metadata": {},
   "outputs": [
    {
     "data": {
      "text/plain": [
       "array([[ 1.,  0.],\n",
       "       [ 0.,  1.]])"
      ]
     },
     "execution_count": 20,
     "metadata": {},
     "output_type": "execute_result"
    }
   ],
   "source": [
    "np.linalg.inv((np.array([[1, 0], [0, 1]])))"
   ]
  },
  {
   "cell_type": "code",
   "execution_count": 24,
   "metadata": {},
   "outputs": [
    {
     "data": {
      "text/plain": [
       "matrix([[ 1.]])"
      ]
     },
     "execution_count": 24,
     "metadata": {},
     "output_type": "execute_result"
    }
   ],
   "source": [
    "x = np.array([0, 0])\n",
    "mu = np.array([0, 0])\n",
    "x_muc = np.matrix(x - mu).T\n",
    "sigma = np.array([[1, 0], [0, 1]]) * 100\n",
    "invSigma = np.linalg.inv(sigma)\n",
    "\n",
    "np.exp(-x_muc.T.dot(invSigma).dot(x_muc) / 2)"
   ]
  },
  {
   "cell_type": "code",
   "execution_count": null,
   "metadata": {},
   "outputs": [],
   "source": []
  }
 ],
 "metadata": {
  "kernelspec": {
   "display_name": "Python 3",
   "language": "python",
   "name": "python3"
  },
  "language_info": {
   "codemirror_mode": {
    "name": "ipython",
    "version": 3
   },
   "file_extension": ".py",
   "mimetype": "text/x-python",
   "name": "python",
   "nbconvert_exporter": "python",
   "pygments_lexer": "ipython3",
   "version": "3.6.0"
  }
 },
 "nbformat": 4,
 "nbformat_minor": 2
}
