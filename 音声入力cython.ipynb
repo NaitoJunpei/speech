{
 "cells": [
  {
   "cell_type": "code",
   "execution_count": 1,
   "metadata": {},
   "outputs": [],
   "source": [
    "import numpy as np\n",
    "import wave\n",
    "import matplotlib.pyplot as plt\n",
    "%matplotlib inline\n",
    "\n",
    "from numpy import fft\n",
    "import math\n",
    "import makeFeature\n",
    "from time import sleep"
   ]
  },
  {
   "cell_type": "code",
   "execution_count": 2,
   "metadata": {},
   "outputs": [],
   "source": [
    "import pyaudio"
   ]
  },
  {
   "cell_type": "code",
   "execution_count": 3,
   "metadata": {},
   "outputs": [],
   "source": [
    "name = \"./CoinData/001-00.wav\"\n",
    "wavefile = wave.open(name, \"r\")\n",
    "framerate = wavefile.getframerate()\n",
    "data = wavefile.readframes(wavefile.getnframes())\n",
    "x = np.frombuffer(data, dtype=\"int16\")\n",
    "x = x.astype('float64') #### 初めからfloat64にすると、ファイル形式の関係上欲しいデータが得られない"
   ]
  },
  {
   "cell_type": "code",
   "execution_count": 4,
   "metadata": {},
   "outputs": [
    {
     "data": {
      "text/plain": [
       "[<matplotlib.lines.Line2D at 0x111286978>]"
      ]
     },
     "execution_count": 4,
     "metadata": {},
     "output_type": "execute_result"
    },
    {
     "data": {
      "image/png": "[encoded data removed]",
      "text/plain": [
       "<matplotlib.figure.Figure at 0x106650ac8>"
      ]
     },
     "metadata": {},
     "output_type": "display_data"
    }
   ],
   "source": [
    "plt.plot(x)"
   ]
  },
  {
   "cell_type": "code",
   "execution_count": null,
   "metadata": {},
   "outputs": [],
   "source": []
  },
  {
   "cell_type": "code",
   "execution_count": null,
   "metadata": {},
   "outputs": [],
   "source": []
  },
  {
   "cell_type": "code",
   "execution_count": 5,
   "metadata": {},
   "outputs": [],
   "source": [
    "BinSize = 0.05 * framerate"
   ]
  },
  {
   "cell_type": "code",
   "execution_count": null,
   "metadata": {},
   "outputs": [],
   "source": []
  },
  {
   "cell_type": "code",
   "execution_count": null,
   "metadata": {},
   "outputs": [],
   "source": []
  },
  {
   "cell_type": "code",
   "execution_count": 6,
   "metadata": {},
   "outputs": [
    {
     "data": {
      "text/plain": [
       "3.49734693877551"
      ]
     },
     "execution_count": 6,
     "metadata": {},
     "output_type": "execute_result"
    }
   ],
   "source": [
    "len(x) / framerate"
   ]
  },
  {
   "cell_type": "code",
   "execution_count": null,
   "metadata": {},
   "outputs": [],
   "source": []
  },
  {
   "cell_type": "code",
   "execution_count": null,
   "metadata": {},
   "outputs": [],
   "source": []
  },
  {
   "cell_type": "code",
   "execution_count": 7,
   "metadata": {},
   "outputs": [],
   "source": [
    "from makeFeature import makeFeature"
   ]
  },
  {
   "cell_type": "code",
   "execution_count": 8,
   "metadata": {},
   "outputs": [
    {
     "name": "stderr",
     "output_type": "stream",
     "text": [
      "/Library/Frameworks/Python.framework/Versions/3.6/lib/python3.6/site-packages/ipykernel_launcher.py:17: RuntimeWarning: divide by zero encountered in log10\n"
     ]
    }
   ],
   "source": [
    "coins = [\"001\", \"005\", \"010\", \"050\", \"100\", \"500\"]\n",
    "OnPeriods = 20\n",
    "\n",
    "features = np.zeros([6, 20, OnPeriods, 1858])\n",
    "for coinIndex, coin in enumerate(coins) :\n",
    "    for i in range(0, 20) :\n",
    "        padded = '%02d' % i\n",
    "        filename = \"./CoinData/\" + coin + \"-\" + padded + \".wav\"\n",
    "        #### print(filename)\n",
    "        wavefile = wave.open(filename, \"r\")\n",
    "        framerate = wavefile.getframerate()\n",
    "        data = wavefile.readframes(wavefile.getnframes())\n",
    "        wavefile.close()\n",
    "        x = np.frombuffer(data, dtype=\"int16\")\n",
    "        x = x.astype('float64') #### 初めからfloat64にすると、ファイル形式の関係上欲しいデータが得られない\n",
    "        \n",
    "        f = makeFeature(x, framerate)\n",
    "        \n",
    "        features[coinIndex, i, :, :] = f"
   ]
  },
  {
   "cell_type": "code",
   "execution_count": 9,
   "metadata": {},
   "outputs": [
    {
     "data": {
      "text/plain": [
       "array([[[[ -77.9204911 ,  -81.66781355,  -71.07678476, ..., -106.96773212,\n",
       "          -106.32754128, -106.47602584],\n",
       "         [ -82.67693139,  -60.886526  ,  -62.61041593, ...,  -91.15055979,\n",
       "           -90.80860706,  -91.17901833],\n",
       "         [ -50.59015705,  -70.01257036,  -51.99539464, ..., -102.8119095 ,\n",
       "          -113.67217663, -102.61121943],\n",
       "         ..., \n",
       "         [ -84.94840832,  -63.15578802,  -63.40679036, ..., -113.27369704,\n",
       "          -113.11506617, -113.25429634],\n",
       "         [ -61.75402287,  -70.23364357,  -65.65284465, ...,  -98.87026656,\n",
       "           -98.78176457,  -98.8158421 ],\n",
       "         [ -59.80082695,  -67.16174645,  -55.48668969, ...,  -97.09775177,\n",
       "          -100.61733808,  -97.79092607]],\n",
       "\n",
       "        [[ -87.76242454,  -82.90780635,  -72.36309112, ...,  -95.67835136,\n",
       "           -95.82079984,  -97.08282401],\n",
       "         [ -69.93104743,  -77.95509746,  -71.10924241, ..., -110.8296871 ,\n",
       "          -104.98346052, -108.06735744],\n",
       "         [ -57.18838654,  -59.44758364,  -49.51925354, ..., -103.01421593,\n",
       "           -92.0279159 ,  -97.79285113],\n",
       "         ..., \n",
       "         [ -61.39188935,  -59.16150063,  -56.79568244, ..., -102.32820772,\n",
       "          -112.3811368 , -103.13859197],\n",
       "         [ -52.35847164,  -55.25047128,  -47.98191304, ..., -105.21574471,\n",
       "           -95.74809858, -100.58321646],\n",
       "         [ -60.99814921,  -63.59424983,  -59.57364592, ..., -104.82316909,\n",
       "          -101.63625932, -104.2375508 ]],\n",
       "\n",
       "        [[ -68.58298176,  -64.21447231,  -50.89589604, ..., -108.07564282,\n",
       "          -102.86075188, -107.03903691],\n",
       "         [ -64.00433653,  -52.78555791,  -45.98904771, ..., -103.93640801,\n",
       "          -102.35434399, -104.49057002],\n",
       "         [ -51.75013196,  -48.67944045,  -42.42835325, ..., -105.27791258,\n",
       "          -103.03408217, -105.64698824],\n",
       "         ..., \n",
       "         [ -85.78189171,  -53.66185641,  -57.43549747, ...,  -90.75506852,\n",
       "           -94.9389034 ,  -91.33471842],\n",
       "         [ -71.37580899,  -47.55350869,  -54.83722728, ...,  -98.33715435,\n",
       "           -96.31122831,  -98.90186231],\n",
       "         [ -77.14956123,  -70.95338519,  -73.31300277, ...,  -94.53792395,\n",
       "           -94.57879974,  -94.5201582 ]],\n",
       "\n",
       "        ..., \n",
       "        [[-100.37963205,  -82.61303282,  -76.56846132, ..., -108.14788531,\n",
       "          -106.26743927, -109.10074995],\n",
       "         [ -72.62607198,  -80.0666223 ,  -72.04378123, ...,  -93.07478089,\n",
       "           -95.77675098,  -93.71843727],\n",
       "         [ -72.1432138 ,  -68.12936595,  -57.84294871, ...,  -85.09429577,\n",
       "           -86.75363449,  -86.90046194],\n",
       "         ..., \n",
       "         [ -74.0974026 ,  -70.75654507,  -61.46120271, ..., -107.53621047,\n",
       "          -103.37466497, -106.488761  ],\n",
       "         [ -73.04090611,  -76.5739294 ,  -56.66808529, ..., -104.11416838,\n",
       "          -104.93954289, -103.04184428],\n",
       "         [ -80.76980786,  -68.92717951,  -62.84479495, ..., -106.09333258,\n",
       "          -102.98854926, -106.66195613]],\n",
       "\n",
       "        [[ -85.44053979,  -77.68247242,  -81.8908054 , ..., -112.25682046,\n",
       "          -111.67861479, -111.68169121],\n",
       "         [ -69.11025943,  -68.50792112,  -63.67937072, ...,  -97.59307069,\n",
       "           -99.61390454,  -97.82487418],\n",
       "         [ -64.63220655,  -61.81993659,  -52.22509755, ...,  -99.15543691,\n",
       "          -103.17120678,  -99.86529548],\n",
       "         ..., \n",
       "         [ -59.00950017,  -55.93356596,  -57.36040304, ..., -108.9431062 ,\n",
       "          -103.79148646, -106.85452238],\n",
       "         [ -59.30233962,  -58.4784694 ,  -53.17504686, ...,  -99.52437438,\n",
       "          -102.8538453 , -100.43292924],\n",
       "         [ -63.5031869 ,  -64.66236688,  -82.28348635, ..., -101.0591784 ,\n",
       "          -101.96939071, -101.30035877]],\n",
       "\n",
       "        [[ -89.63100078,  -81.58540772,  -94.15552164, ..., -108.38587889,\n",
       "          -108.58477026, -107.89072049],\n",
       "         [ -80.35885869,  -81.16154274,  -68.98506478, ..., -125.37632145,\n",
       "          -131.25368024, -127.03092757],\n",
       "         [ -88.00445412,  -65.79081301,  -54.85975895, ..., -105.97180149,\n",
       "          -101.97697386, -105.1672783 ],\n",
       "         ..., \n",
       "         [ -68.11480827,  -65.44607956,  -55.07634177, ..., -100.70909501,\n",
       "           -93.46216765,  -97.38634437],\n",
       "         [ -68.42165458,  -60.55412008,  -59.56201463, ...,  -98.52165569,\n",
       "           -98.11953142,  -98.32868315],\n",
       "         [ -63.27065501,  -62.8135079 ,  -64.57557137, ..., -106.62445772,\n",
       "          -103.7902236 , -106.53654834]]],\n",
       "\n",
       "\n",
       "       [[[ -67.13569703,  -75.19634837,  -68.00492573, ..., -110.4856318 ,\n",
       "          -108.88611934, -118.51675839],\n",
       "         [ -59.76331184,  -59.44509279,  -57.13613567, ..., -100.51350656,\n",
       "          -100.8918279 , -100.65396133],\n",
       "         [ -60.05465492,  -58.55559448,  -47.273834  , ..., -120.14586727,\n",
       "          -109.81038311, -113.24733142],\n",
       "         ..., \n",
       "         [ -95.03431224,  -78.86606454,  -73.32270632, ..., -114.45941833,\n",
       "          -114.0646121 , -114.4615758 ],\n",
       "         [ -76.73872417,  -79.09410334,  -61.70977551, ...,  -94.05530748,\n",
       "           -92.75245821,  -93.71073506],\n",
       "         [ -72.88398575,  -72.72128917,  -68.30556096, ...,  -92.95212604,\n",
       "           -92.67181518,  -92.86178952]],\n",
       "\n",
       "        [[ -44.25334402,  -49.65500343,  -36.90770547, ...,  -89.83592258,\n",
       "           -94.30226091,  -90.71148094],\n",
       "         [ -46.94695264,  -49.26443235,  -35.42096976, ...,  -97.17051335,\n",
       "           -87.87953749,  -92.4835395 ],\n",
       "         [ -49.37650683,  -42.92861812,  -37.72548225, ...,  -88.02690423,\n",
       "           -92.77788205,  -88.79773005],\n",
       "         ..., \n",
       "         [ -43.22416172,  -42.0304436 ,  -33.01617246, ...,  -99.17595459,\n",
       "           -98.57960485,  -97.633856  ],\n",
       "         [ -59.80840026,  -39.09520323,  -41.38388884, ..., -107.64880416,\n",
       "          -104.39118903, -106.51014205],\n",
       "         [ -76.52324522,  -38.78300935,  -37.81658018, ..., -103.28022673,\n",
       "          -101.18869593, -102.03535139]],\n",
       "\n",
       "        [[ -76.42268153,  -82.68173737,  -72.99735749, ..., -111.47210288,\n",
       "          -109.65374521, -110.67521088],\n",
       "         [ -71.81521392,  -67.28449938,  -54.93649281, ..., -107.35080155,\n",
       "          -107.51024197, -108.35065424],\n",
       "         [ -52.24128029,  -56.60171052,  -46.86989641, ..., -113.86616069,\n",
       "          -116.29820578, -112.87042021],\n",
       "         ..., \n",
       "         [ -81.21874131,  -66.48231093,  -79.67056362, ..., -106.26228286,\n",
       "          -112.79234914, -107.51566922],\n",
       "         [-101.77378386,  -65.40125355,  -68.10102828, ..., -102.24438381,\n",
       "           -99.20382394, -101.15962492],\n",
       "         [ -75.00173373,  -79.92142604,  -69.40985151, ..., -106.45547179,\n",
       "           -97.17705821, -101.7909939 ]],\n",
       "\n",
       "        ..., \n",
       "        [[ -77.95193702,  -70.71296009,  -79.86004055, ..., -144.56034946,\n",
       "          -126.1578125 , -133.90526751],\n",
       "         [ -80.57922836,  -54.96939074,  -53.79995137, ..., -106.14789021,\n",
       "          -108.74639917, -106.48791435],\n",
       "         [ -51.68870456,  -48.17501987,  -42.32103948, ...,  -97.95851712,\n",
       "           -96.3378968 ,  -97.29502564],\n",
       "         ..., \n",
       "         [-104.23672896,  -82.05490464,  -70.3677174 , ...,  -97.35952334,\n",
       "           -98.25753579,  -97.48528929],\n",
       "         [ -96.47545217,  -76.31842001,  -65.26904693, ...,  -91.60888728,\n",
       "           -91.0725275 ,  -92.05283541],\n",
       "         [ -96.24562495,  -84.49914975,  -79.62868792, ..., -108.83922568,\n",
       "          -136.50084823, -109.11093735]],\n",
       "\n",
       "        [[ -79.92167675,  -76.64057422,  -69.09304591, ..., -111.44122566,\n",
       "          -111.07656008, -110.95702177],\n",
       "         [ -66.37328757,  -64.93095485,  -57.67320757, ..., -119.99935033,\n",
       "          -116.14965833, -117.74830672],\n",
       "         [ -68.37956836,  -61.49383724,  -52.28524112, ..., -103.84483066,\n",
       "          -106.27887414, -103.48642596],\n",
       "         ..., \n",
       "         [ -57.02442476,  -69.35572946,  -53.19899183, ...,  -89.96859701,\n",
       "           -96.66060129,  -91.06321762],\n",
       "         [ -72.88609666,  -75.76810644,  -70.9398005 , ..., -107.67796091,\n",
       "          -102.74769981, -105.77771179],\n",
       "         [ -70.94575818,  -69.61586503,  -62.81396605, ...,  -96.2260589 ,\n",
       "           -94.34308715,  -95.59989338]],\n",
       "\n",
       "        [[ -89.85634871,  -71.45262884,  -83.16884114, ..., -129.0216341 ,\n",
       "          -126.26976623, -130.06294185],\n",
       "         [ -61.49042226,  -58.3083878 ,  -62.1858072 , ..., -107.12207816,\n",
       "          -112.88859372, -108.13679627],\n",
       "         [ -66.62615819,  -60.68935372,  -47.78596119, ..., -105.60916451,\n",
       "          -105.94132459, -104.54793673],\n",
       "         ..., \n",
       "         [ -87.17320337,  -66.05083264,  -64.42121614, ..., -110.17740851,\n",
       "          -104.86443399, -106.76292636],\n",
       "         [ -89.40638782,  -60.54879345,  -68.65025901, ..., -101.58023408,\n",
       "          -108.83604144, -102.51092717],\n",
       "         [ -70.88571536,  -63.79157283,  -61.66186948, ..., -109.34172333,\n",
       "          -105.25979789, -107.85492397]]],\n",
       "\n",
       "\n",
       "       [[[ -78.28077393,  -77.20135309,  -74.11155047, ..., -108.15171517,\n",
       "          -108.3463385 , -108.14281181],\n",
       "         [ -65.96235054,  -74.54484609,  -59.57037924, ...,  -93.98945153,\n",
       "           -95.34254406,  -94.26343249],\n",
       "         [ -54.91020863,  -53.68086116,  -46.59572315, ...,  -98.96249339,\n",
       "           -98.91008835,  -99.8128346 ],\n",
       "         ..., \n",
       "         [ -78.79259622,  -70.61492939,  -68.10494861, ..., -109.73279612,\n",
       "          -111.61182605, -111.65874265],\n",
       "         [ -86.05213906,  -68.72022283,  -67.6971055 , ..., -128.3097987 ,\n",
       "          -102.29550145, -113.31718897],\n",
       "         [ -74.11518962,  -71.49811375,  -65.23811421, ..., -103.05910068,\n",
       "          -106.25646597, -103.925281  ]],\n",
       "\n",
       "        [[ -88.6518226 ,  -92.27685422,  -79.66173445, ..., -119.57178418,\n",
       "          -122.51219098, -126.17195828],\n",
       "         [ -83.43880306,  -71.67156506,  -63.84885989, ..., -108.01340754,\n",
       "          -112.13177294, -108.76126891],\n",
       "         [ -66.59070222,  -57.17937751,  -48.99401008, ..., -104.28332676,\n",
       "          -106.28012398, -105.55726546],\n",
       "         ..., \n",
       "         [ -76.83850272,  -63.82700427,  -61.06089845, ..., -126.97980627,\n",
       "          -110.19281   , -118.64799463],\n",
       "         [ -76.1013284 ,  -61.82898153,  -61.26693108, ...,  -98.39569875,\n",
       "           -97.59011745,  -97.72994002],\n",
       "         [ -69.91044131,  -64.48394323,  -61.45300443, ...,  -97.38906189,\n",
       "           -99.73193147,  -97.86638802]],\n",
       "\n",
       "        [[ -81.41163912,  -83.78299253,  -76.19687731, ..., -111.40759339,\n",
       "          -109.85676847, -110.6582585 ],\n",
       "         [ -89.95843496,  -80.41878881,  -69.73876568, ..., -103.42667299,\n",
       "          -101.16752208, -102.6621808 ],\n",
       "         [ -66.86368436,  -56.80934729,  -49.1179634 , ..., -101.90132584,\n",
       "          -100.26394149, -101.81833645],\n",
       "         ..., \n",
       "         [ -71.23633129,  -86.441843  ,  -64.4710977 , ..., -113.9948497 ,\n",
       "          -115.87325796, -115.46005095],\n",
       "         [ -71.54170819,  -76.53403264,  -67.51036852, ...,  -97.89141688,\n",
       "           -99.42318828,  -97.86126846],\n",
       "         [ -74.26530952,  -70.10352364,  -67.34197133, ...,  -97.51112078,\n",
       "           -98.85783034,  -98.20550557]],\n",
       "\n",
       "        ..., \n",
       "        [[ -76.21025853,  -50.68293764,  -38.29658753, ..., -100.81428427,\n",
       "           -94.23292862,  -97.89837644],\n",
       "         [ -79.09025144,  -52.13452127,  -54.78387234, ...,  -92.61274634,\n",
       "           -95.94849472,  -94.27287186],\n",
       "         [ -58.87990538,  -63.55533691,  -53.12439505, ..., -101.6476418 ,\n",
       "          -108.36131891, -104.56445056],\n",
       "         ..., \n",
       "         [ -78.11169194,  -67.45783444,  -56.409405  , ...,  -98.22331341,\n",
       "           -96.66315035,  -97.59791131],\n",
       "         [ -76.58655213,  -76.33562628,  -57.95518358, ..., -120.80776981,\n",
       "          -110.07164595, -116.91045065],\n",
       "         [ -80.12915449,  -72.38331292,  -62.36956302, ..., -103.26836174,\n",
       "          -105.62553448, -103.63991074]],\n",
       "\n",
       "        [[ -72.52671821,  -76.02194897,  -83.57988429, ..., -105.53940386,\n",
       "          -108.30846768, -106.15475463],\n",
       "         [ -64.83545855,  -70.7284679 ,  -60.51753179, ...,  -96.21979149,\n",
       "           -96.7018531 ,  -96.2717516 ],\n",
       "         [ -62.35497486,  -60.31484083,  -49.4524521 , ..., -111.90485268,\n",
       "          -111.95171082, -116.2496886 ],\n",
       "         ..., \n",
       "         [ -76.63275958,  -64.36166464,  -64.97927454, ..., -112.16961902,\n",
       "          -105.66530546, -109.35547103],\n",
       "         [ -71.64244394,  -63.21161786,  -61.95282003, ...,  -98.30832108,\n",
       "           -95.96474506,  -97.47708136],\n",
       "         [ -72.22068137,  -60.16855092,  -70.54043693, ...,  -93.22330611,\n",
       "           -94.83404533,  -93.64424019]],\n",
       "\n",
       "        [[ -98.76813223,  -69.63739377,  -71.5941837 , ..., -113.37824851,\n",
       "          -113.48176567, -113.26047251],\n",
       "         [ -55.4847643 ,  -68.77911879,  -51.07105358, ...,  -95.70890208,\n",
       "           -97.70378614,  -96.02325294],\n",
       "         [ -48.22554891,  -54.57137765,  -45.25048814, ..., -101.52127236,\n",
       "          -101.41395799, -101.62167181],\n",
       "         ..., \n",
       "         [ -82.38260179,  -73.51755032,  -77.5199402 , ..., -119.91036642,\n",
       "          -117.22845505, -118.7746354 ],\n",
       "         [ -77.17991821,  -73.90310455,  -65.11095822, ..., -110.44008079,\n",
       "          -117.96285465, -111.70734358],\n",
       "         [ -90.5960619 ,  -83.51864279,  -70.92609545, ..., -124.3151527 ,\n",
       "          -120.83273921, -122.52910683]]],\n",
       "\n",
       "\n",
       "       [[[ -43.50471775,  -41.02107834,  -34.88711763, ...,  -90.78114251,\n",
       "           -92.12160046,  -91.10053333],\n",
       "         [ -44.18611134,  -40.04602234,  -35.79281141, ...,  -94.37886545,\n",
       "           -86.76591484,  -91.05182205],\n",
       "         [ -58.27024603,  -45.35070362,  -37.780613  , ...,  -95.49130787,\n",
       "           -86.94412264,  -91.18445598],\n",
       "         ..., \n",
       "         [ -53.75210402,  -45.73929843,  -54.11920073, ..., -108.06296375,\n",
       "           -97.95803028, -104.67357133],\n",
       "         [ -50.6217516 ,  -45.5040232 ,  -41.26410533, ...,  -91.02319783,\n",
       "           -94.25625762,  -92.07665283],\n",
       "         [ -40.49324444,  -49.28503302,  -42.54361249, ...,  -96.26037403,\n",
       "           -90.27282963,  -93.70798402]],\n",
       "\n",
       "        [[ -81.90359139,  -83.89753295,  -79.98841098, ..., -108.21542336,\n",
       "          -108.42644977, -107.99379264],\n",
       "         [ -65.15926283,  -61.76731556,  -55.34780077, ...,  -94.38837985,\n",
       "           -93.25150832,  -93.88606739],\n",
       "         [ -55.18614825,  -49.71561318,  -42.33181248, ..., -100.86611515,\n",
       "          -101.23487966, -100.23431165],\n",
       "         ..., \n",
       "         [ -65.62095727,  -70.83845241,  -54.62159643, ..., -107.9751917 ,\n",
       "          -105.82149915, -107.26239988],\n",
       "         [ -72.40070949,  -70.19985257,  -65.97253947, ..., -103.65970443,\n",
       "          -102.66018805, -103.75938361],\n",
       "         [ -82.73032843,  -83.25519667,  -67.06619775, ..., -112.01237065,\n",
       "          -115.15584246, -113.37214591]],\n",
       "\n",
       "        [[ -79.89746212,  -77.59813808,  -81.96391299, ..., -131.37243101,\n",
       "          -143.23012441, -129.61837809],\n",
       "         [ -86.15370789,  -80.06253886,  -60.10498001, ..., -119.65743753,\n",
       "          -119.81515131, -122.22679483],\n",
       "         [ -65.61492463,  -62.01840243,  -64.18116606, ..., -109.01430287,\n",
       "          -105.84869658, -108.67861393],\n",
       "         ..., \n",
       "         [ -64.22246994,  -64.06816385,  -59.58474562, ..., -105.13899936,\n",
       "          -101.93044762, -104.1495385 ],\n",
       "         [ -59.80252299,  -64.93081675,  -66.54647216, ..., -100.32942671,\n",
       "          -107.45786949, -101.35923744],\n",
       "         [ -58.23211687,  -63.51085247,  -53.37266474, ..., -108.655854  ,\n",
       "          -103.92986638, -106.41048289]],\n",
       "\n",
       "        ..., \n",
       "        [[ -87.39510068,  -72.51588294,  -68.40248593, ..., -110.01723869,\n",
       "          -110.97514123, -110.65231776],\n",
       "         [ -61.39814989,  -62.71199552,  -55.45960571, ..., -127.55060359,\n",
       "          -114.37173175, -122.24387605],\n",
       "         [ -61.86169943,  -66.70950616,  -56.2250771 , ..., -102.01805992,\n",
       "          -108.92527494, -103.39549299],\n",
       "         ..., \n",
       "         [ -84.15254795,  -69.99303034,  -68.91404127, ..., -122.69855694,\n",
       "          -117.60920711, -119.50974813],\n",
       "         [ -76.48936155,  -73.62052724,  -69.24951486, ..., -110.57576617,\n",
       "          -117.24671605, -111.29987312],\n",
       "         [ -76.72218786,  -72.94840597,  -70.62193954, ..., -106.96254185,\n",
       "          -113.39388385, -107.93408881]],\n",
       "\n",
       "        [[ -72.14746977,  -71.688376  ,  -66.96521742, ...,  -99.10390877,\n",
       "           -98.94834076,  -98.97626736],\n",
       "         [ -68.03650316,  -65.33962546,  -64.24096871, ...,  -95.47735077,\n",
       "           -95.11737043,  -95.33690084],\n",
       "         [ -79.81656837,  -55.42114661,  -53.17528763, ..., -101.81271686,\n",
       "          -109.98889319, -102.97968691],\n",
       "         ..., \n",
       "         [ -73.2290957 ,  -66.95212555,  -59.87961946, ..., -106.31379019,\n",
       "          -115.9488926 , -106.29934408],\n",
       "         [ -60.51858006,  -64.40217498,  -66.35555482, ..., -113.15687696,\n",
       "          -105.02248295, -109.24940387],\n",
       "         [ -61.66852187,  -67.17149567,  -55.11373696, ..., -116.5086519 ,\n",
       "          -112.11749739, -116.37157917]],\n",
       "\n",
       "        [[ -66.59761249,  -65.21139176,  -65.76224979, ..., -110.90583239,\n",
       "          -109.92911686, -111.58329711],\n",
       "         [ -65.62661887,  -63.06388643,  -63.0459731 , ..., -107.40112063,\n",
       "          -104.01285514, -106.11243485],\n",
       "         [ -61.87436866,  -54.98635708,  -51.72994596, ...,  -99.42520232,\n",
       "          -103.47497501, -100.37260913],\n",
       "         ..., \n",
       "         [ -68.42952106,  -66.89572599,  -61.68363071, ..., -113.05457467,\n",
       "          -110.57308696, -112.79163228],\n",
       "         [ -74.95955218,  -54.80484466,  -62.69495273, ..., -104.97835063,\n",
       "           -97.17570739, -102.23921439],\n",
       "         [ -67.44351094,  -65.95416932,  -59.65264225, ..., -107.59346936,\n",
       "          -108.43503461, -107.38285615]]],\n",
       "\n",
       "\n",
       "       [[[ -46.81153253,  -48.48370465,  -41.84954367, ...,  -91.28983484,\n",
       "           -91.42086373,  -91.36666077],\n",
       "         [ -48.75093741,  -59.96459005,  -41.54885311, ..., -103.85713218,\n",
       "          -105.66640683, -104.63750769],\n",
       "         [ -55.5705613 ,  -50.86096609,  -46.29523412, ...,  -96.96484353,\n",
       "           -95.22068278,  -96.19720924],\n",
       "         ..., \n",
       "         [-114.72850463,  -80.4189929 ,  -72.85182921, ..., -114.79495163,\n",
       "          -119.84608807, -114.32613549],\n",
       "         [ -73.10088575,  -68.982813  ,  -63.90818995, ..., -104.67014299,\n",
       "          -114.18849556, -105.42101227],\n",
       "         [ -71.0110697 ,  -59.62833139,  -63.23929476, ...,  -95.09199695,\n",
       "           -93.51648009,  -94.47597346]],\n",
       "\n",
       "        [[ -80.8570137 ,  -74.49086409,  -89.05781258, ..., -109.29761782,\n",
       "          -109.44412134, -109.7965639 ],\n",
       "         [ -71.53416835,  -64.91861766,  -56.76903091, ...,  -96.04797709,\n",
       "           -95.2818438 ,  -95.70183426],\n",
       "         [ -56.83202065,  -64.20713868,  -48.62481115, ...,  -99.94077514,\n",
       "          -107.22775844, -100.29861282],\n",
       "         ..., \n",
       "         [ -47.83991887,  -53.98276868,  -41.76447172, ...,  -96.34528559,\n",
       "          -101.01364561,  -96.07374016],\n",
       "         [ -57.32459903,  -42.77469535,  -44.23053508, ...,  -90.45465414,\n",
       "           -91.7060369 ,  -90.57854989],\n",
       "         [ -52.48103418,  -44.60087709,  -42.04725348, ...,  -93.48961423,\n",
       "           -90.73407869,  -92.50954076]],\n",
       "\n",
       "        [[ -45.7009993 ,  -49.33166552,  -34.96425713, ...,  -95.38165035,\n",
       "          -100.16261151,  -96.54508137],\n",
       "         [ -75.68110724,  -70.50755208,  -73.10153036, ..., -112.11730368,\n",
       "          -113.23059368, -112.2892348 ],\n",
       "         [ -53.17038441,  -61.55447555,  -48.88892498, ...,  -95.62921428,\n",
       "           -96.82187971,  -95.85502091],\n",
       "         ..., \n",
       "         [ -60.13783201,  -73.02235875,  -58.71081204, ...,  -97.83995453,\n",
       "          -103.56285628,  -99.10316577],\n",
       "         [ -66.85110903,  -73.51385749,  -70.13722088, ..., -104.44151767,\n",
       "          -103.31392027, -104.13235977],\n",
       "         [ -61.27617749,  -73.62471997,  -55.81886068, ..., -108.78192734,\n",
       "          -113.14651962, -109.61002261]],\n",
       "\n",
       "        ..., \n",
       "        [[ -81.99002923,  -37.20922841,  -59.08158975, ...,  -95.9881481 ,\n",
       "           -92.65808707,  -94.63546716],\n",
       "         [ -51.00701717,  -39.26759814,  -46.81385353, ...,  -89.9620664 ,\n",
       "           -95.4553335 ,  -90.35535266],\n",
       "         [ -49.07948867,  -40.12887868,  -53.2928094 , ...,  -88.5998914 ,\n",
       "           -94.49767279,  -89.54892289],\n",
       "         ..., \n",
       "         [ -82.45402565,  -82.22527824,  -71.20760706, ..., -102.3406982 ,\n",
       "          -109.64782393, -103.23014235],\n",
       "         [ -79.47768709,  -79.39181712,  -81.37978148, ..., -102.50288079,\n",
       "          -108.14580901, -103.3649568 ],\n",
       "         [ -85.92046665,  -75.91625577,  -82.13110944, ..., -110.80638492,\n",
       "          -106.93824183, -108.85578936]],\n",
       "\n",
       "        [[ -78.70762547,  -72.31012457,  -69.0450244 , ..., -122.53155069,\n",
       "          -128.6841199 , -130.75977249],\n",
       "         [ -59.2881998 ,  -62.47259892,  -54.14290269, ..., -119.58955316,\n",
       "          -113.28016789, -115.76244324],\n",
       "         [-108.41987652,  -54.62215223,  -50.77246768, ..., -107.96007149,\n",
       "          -101.3467367 , -104.9786669 ],\n",
       "         ..., \n",
       "         [ -66.45125427,  -71.56744338,  -59.86433228, ..., -114.02184103,\n",
       "          -113.20540498, -113.69354509],\n",
       "         [ -68.25255541,  -67.37787812,  -75.95950653, ..., -118.48532847,\n",
       "          -142.02891544, -120.75587899],\n",
       "         [ -87.87775158,  -83.80469253,  -70.90284674, ..., -114.4379642 ,\n",
       "          -111.44121209, -113.52522077]],\n",
       "\n",
       "        [[ -69.83227282,  -67.44048383,  -68.69785516, ...,  -92.53752905,\n",
       "           -92.59961874,  -92.55843175],\n",
       "         [ -76.62460013,  -71.24996392,  -81.48013202, ...,  -92.49322553,\n",
       "           -92.22630795,  -92.43076546],\n",
       "         [ -88.57787284,  -64.2247785 ,  -49.17413462, ..., -107.35148748,\n",
       "          -111.18021101, -108.46401221],\n",
       "         ..., \n",
       "         [ -73.64081207,  -71.83691095,  -68.52579582, ..., -101.65301528,\n",
       "          -108.71856381, -102.87578779],\n",
       "         [ -69.50263073,  -69.65356591,  -61.61590302, ..., -109.34821945,\n",
       "          -103.93346545, -107.41323661],\n",
       "         [ -70.14207814,  -61.69960214,  -60.4632552 , ..., -102.80686943,\n",
       "          -108.3321819 , -103.74034703]]],\n",
       "\n",
       "\n",
       "       [[[ -64.417016  ,  -65.32284821,  -64.64425953, ..., -107.40939305,\n",
       "          -107.96197404, -107.72209766],\n",
       "         [ -66.05666468,  -76.03803139,  -62.04124042, ..., -106.33666311,\n",
       "          -105.16985442, -106.03229334],\n",
       "         [ -56.75144345,  -59.00468216,  -48.16854289, ..., -107.42200789,\n",
       "          -111.50830926, -107.24966657],\n",
       "         ..., \n",
       "         [ -68.61729823,  -70.73143111,  -65.02955429, ..., -101.37930199,\n",
       "           -94.60854532,  -97.98790519],\n",
       "         [ -72.2953033 ,  -79.68566267,  -64.74967218, ...,  -96.92895678,\n",
       "           -94.02948708,  -96.00564696],\n",
       "         [ -61.1209776 ,  -61.85565683,  -45.89246491, ...,  -94.70542383,\n",
       "           -93.93118851,  -94.20212503]],\n",
       "\n",
       "        [[ -70.93298295,  -69.74459006,  -70.8802439 , ..., -106.126326  ,\n",
       "          -105.84347693, -106.1822363 ],\n",
       "         [ -81.59514483,  -67.08337233,  -63.63630117, ...,  -98.67732161,\n",
       "           -99.07743031,  -98.78053767],\n",
       "         [ -57.34742457,  -53.82216636,  -48.60749017, ..., -106.20524652,\n",
       "          -114.0629409 , -107.74296105],\n",
       "         ..., \n",
       "         [ -76.0655634 ,  -79.40656298,  -65.26143675, ..., -110.69020255,\n",
       "          -112.81017718, -111.14506464],\n",
       "         [ -97.68832501,  -67.70294455,  -63.97316476, ..., -109.50094592,\n",
       "          -110.96840117, -110.23628885],\n",
       "         [ -77.48476631,  -63.1480095 ,  -65.68505306, ..., -118.72205303,\n",
       "          -120.57079784, -119.92455332]],\n",
       "\n",
       "        [[ -84.76671173,  -82.79933787,  -85.55200845, ..., -110.92021039,\n",
       "          -110.70327548, -110.9505718 ],\n",
       "         [ -92.00158749,  -68.08736543,  -61.48760203, ...,  -96.42894439,\n",
       "           -97.25530939,  -96.68228825],\n",
       "         [ -60.20006361,  -64.80342734,  -54.69241926, ..., -112.20613742,\n",
       "           -99.68315357, -107.12407482],\n",
       "         ..., \n",
       "         [ -69.68934301,  -76.65792888,  -62.03051552, ..., -102.98589927,\n",
       "          -102.4599631 , -102.84185869],\n",
       "         [ -65.90321759,  -74.85771692,  -59.64787648, ..., -113.60654626,\n",
       "          -116.03584212, -113.35415975],\n",
       "         [ -70.3718415 ,  -71.33098503,  -70.24430168, ..., -119.20097098,\n",
       "          -116.59126388, -120.79057748]],\n",
       "\n",
       "        ..., \n",
       "        [[ -73.98122738,  -70.12362146,  -77.97155536, ..., -110.05447724,\n",
       "          -109.32166104, -109.15103441],\n",
       "         [ -84.80264378,  -61.45590376,  -64.73184553, ..., -101.47438183,\n",
       "          -101.77253978, -101.43267199],\n",
       "         [ -58.31903223,  -50.99229487,  -51.21989689, ..., -109.58049166,\n",
       "          -108.51695292, -111.66691092],\n",
       "         ..., \n",
       "         [ -78.27079598,  -69.76261838,  -62.50134357, ..., -105.83091346,\n",
       "          -103.25738099, -104.81282371],\n",
       "         [ -73.16336431,  -77.91130155,  -62.73101399, ..., -104.20910694,\n",
       "          -109.30837443, -105.10811676],\n",
       "         [ -70.27371683,  -72.76774035,  -66.32493384, ...,  -95.54302722,\n",
       "           -98.84150772,  -96.26492967]],\n",
       "\n",
       "        [[ -81.69168626,  -75.63402384,  -79.69338041, ..., -115.28797086,\n",
       "          -113.24431337, -112.55937362],\n",
       "         [ -65.6053061 ,  -75.68891332,  -55.72683343, ...,  -97.36536033,\n",
       "          -101.42272452,  -98.21654329],\n",
       "         [ -54.3449337 ,  -64.30029726,  -48.81439671, ...,  -94.21977666,\n",
       "           -97.57786091,  -94.62686963],\n",
       "         ..., \n",
       "         [ -71.4398528 ,  -64.21483186,  -59.43841233, ..., -102.0137581 ,\n",
       "          -101.86792108, -101.90168578],\n",
       "         [ -74.20911449,  -68.9456005 ,  -68.50496697, ...,  -99.08931965,\n",
       "          -105.53350664, -100.05985827],\n",
       "         [ -65.80509941,  -71.95059277,  -59.94942863, ...,  -99.75560259,\n",
       "          -101.78580424, -100.25479941]],\n",
       "\n",
       "        [[ -70.26470224,  -66.9557982 ,  -73.50740661, ..., -101.14922355,\n",
       "          -101.65575743, -101.28788105],\n",
       "         [ -69.16493831,  -63.48385209,  -74.79414852, ..., -102.09774326,\n",
       "          -105.31146504, -102.74879198],\n",
       "         [ -64.45787428,  -60.01482875,  -52.66783608, ..., -100.43653765,\n",
       "           -98.60055811, -100.04878153],\n",
       "         ..., \n",
       "         [ -77.2555354 ,  -73.77113425,  -66.67557827, ..., -115.42689995,\n",
       "          -108.56996904, -111.89074845],\n",
       "         [ -68.41554257,  -67.67955404,  -71.40260728, ..., -105.0592528 ,\n",
       "          -108.91360902, -105.99287118],\n",
       "         [ -75.89843855,  -64.00537904,  -65.34445055, ...,  -99.26594249,\n",
       "          -103.68683145, -100.39761266]]]])"
      ]
     },
     "execution_count": 9,
     "metadata": {},
     "output_type": "execute_result"
    }
   ],
   "source": [
    "features"
   ]
  },
  {
   "cell_type": "code",
   "execution_count": 10,
   "metadata": {},
   "outputs": [
    {
     "name": "stdout",
     "output_type": "stream",
     "text": [
      "(6, 20, 20, 1858)\n",
      "(2400, 1858)\n"
     ]
    }
   ],
   "source": [
    "Coins, numData, OnPeriods, waves = features.shape\n",
    "print(features.shape)\n",
    "X = np.zeros([Coins * numData * OnPeriods, waves])\n",
    "Y = np.zeros([Coins * numData * OnPeriods])\n",
    "print(X.shape)\n",
    "\n",
    "for c in range(0, Coins) :\n",
    "    for cc in range(0, numData) :\n",
    "        for ccc in range(0, OnPeriods) :\n",
    "            X[c * (numData * OnPeriods) + cc * (OnPeriods) + ccc] = features[c, cc, ccc]\n",
    "            Y[c * (numData * OnPeriods) + cc * (OnPeriods) + ccc] = c"
   ]
  },
  {
   "cell_type": "code",
   "execution_count": 11,
   "metadata": {},
   "outputs": [
    {
     "data": {
      "text/plain": [
       "array([[ -77.9204911 ,  -81.66781355,  -71.07678476, ..., -106.96773212,\n",
       "        -106.32754128, -106.47602584],\n",
       "       [ -82.67693139,  -60.886526  ,  -62.61041593, ...,  -91.15055979,\n",
       "         -90.80860706,  -91.17901833],\n",
       "       [ -50.59015705,  -70.01257036,  -51.99539464, ..., -102.8119095 ,\n",
       "        -113.67217663, -102.61121943],\n",
       "       ..., \n",
       "       [ -77.2555354 ,  -73.77113425,  -66.67557827, ..., -115.42689995,\n",
       "        -108.56996904, -111.89074845],\n",
       "       [ -68.41554257,  -67.67955404,  -71.40260728, ..., -105.0592528 ,\n",
       "        -108.91360902, -105.99287118],\n",
       "       [ -75.89843855,  -64.00537904,  -65.34445055, ...,  -99.26594249,\n",
       "        -103.68683145, -100.39761266]])"
      ]
     },
     "execution_count": 11,
     "metadata": {},
     "output_type": "execute_result"
    }
   ],
   "source": [
    "X"
   ]
  },
  {
   "cell_type": "code",
   "execution_count": 12,
   "metadata": {},
   "outputs": [
    {
     "data": {
      "text/plain": [
       "numpy.float64"
      ]
     },
     "execution_count": 12,
     "metadata": {},
     "output_type": "execute_result"
    }
   ],
   "source": [
    "import numpy as np\n",
    "np.float64"
   ]
  },
  {
   "cell_type": "code",
   "execution_count": 13,
   "metadata": {},
   "outputs": [
    {
     "data": {
      "text/plain": [
       "[<matplotlib.lines.Line2D at 0x1145fa978>]"
      ]
     },
     "execution_count": 13,
     "metadata": {},
     "output_type": "execute_result"
    },
    {
     "data": {
      "image/png": "[encoded data removed]",
      "text/plain": [
       "<matplotlib.figure.Figure at 0x11164b828>"
      ]
     },
     "metadata": {},
     "output_type": "display_data"
    }
   ],
   "source": [
    "plt.plot(x)"
   ]
  },
  {
   "cell_type": "code",
   "execution_count": 14,
   "metadata": {},
   "outputs": [
    {
     "data": {
      "text/plain": [
       "'\\ndef extFeature(feature, freqs) :\\n    # OnPeriods * 1858の特徴を受け取り、freqsで指定された周波数成分を選択して\\n    # OnPeriods * len(freqs)の特徴として返す\\n    numFreqs = len(freqs)\\n    f = np.zeros(OnPeriods * numFreqs)\\n    for index, l in enumerate(feature) :\\n        f[index * numFreqs : (index + 1) * numFreqs] = l[freqs]\\n        \\n    return f\\n'"
      ]
     },
     "execution_count": 14,
     "metadata": {},
     "output_type": "execute_result"
    }
   ],
   "source": [
    "\"\"\"\n",
    "def extFeature(feature, freqs) :\n",
    "    # OnPeriods * 1858の特徴を受け取り、freqsで指定された周波数成分を選択して\n",
    "    # OnPeriods * len(freqs)の特徴として返す\n",
    "    numFreqs = len(freqs)\n",
    "    f = np.zeros(OnPeriods * numFreqs)\n",
    "    for index, l in enumerate(feature) :\n",
    "        f[index * numFreqs : (index + 1) * numFreqs] = l[freqs]\n",
    "        \n",
    "    return f\n",
    "\"\"\""
   ]
  },
  {
   "cell_type": "code",
   "execution_count": 15,
   "metadata": {},
   "outputs": [
    {
     "data": {
      "text/plain": [
       "'\\ndef extFeature2(feature, freqs) :\\n    # OnPeriods * 1858の特徴を受け取り、freqsで指定された周波数成分を選択して\\n    # len(freqs)の特徴として返す\\n    numFreqs = len(freqs)\\n    f = np.zeros(numFreqs)\\n    for index, l in enumerate(feature) :\\n        f[:] += l[freqs]\\n        \\n    return f\\n'"
      ]
     },
     "execution_count": 15,
     "metadata": {},
     "output_type": "execute_result"
    }
   ],
   "source": [
    "\"\"\"\n",
    "def extFeature2(feature, freqs) :\n",
    "    # OnPeriods * 1858の特徴を受け取り、freqsで指定された周波数成分を選択して\n",
    "    # len(freqs)の特徴として返す\n",
    "    numFreqs = len(freqs)\n",
    "    f = np.zeros(numFreqs)\n",
    "    for index, l in enumerate(feature) :\n",
    "        f[:] += l[freqs]\n",
    "        \n",
    "    return f\n",
    "\"\"\""
   ]
  },
  {
   "cell_type": "code",
   "execution_count": 16,
   "metadata": {},
   "outputs": [
    {
     "data": {
      "text/plain": [
       "\"\\ndef detectFreqs(features, numFreqs) :\\n    # numFreqsで指定した個数の周波数成分を、コストが最小になるように決定する\\n    freqs = np.array(range(0, numFreqs)).astype('int64')\\n    numCoins = features.shape[0]\\n    \\n    featuresSelected = np.zeros([numCoins, features.shape[1], features.shape[2] * numFreqs])\\n    for c in range(0, numCoins) :\\n        for cc in range(0, features.shape[1]) :\\n            featuresSelected[c, cc, :] = extFeature(features[c, cc, :, :], freqs)\\n    \\n    numFeature = features.shape[2] * numFreqs\\n    mu = np.zeros([numCoins, numFeature])\\n    sigma = np.zeros([numCoins, numFeature, numFeature])\\n    \\n    for c in range(0, numCoins) :\\n        tempF = featuresSelected[c, :, :]\\n        mu[c, :] = makeMu(tempF)\\n        sigma[c, :, :] = makeSigma(tempF)\\n        print(np.linalg.eig(sigma[c])[0])\\n        \\n    culR(featuresSelected, sigma, mu)\\n        \\n    return freqs\\n\""
      ]
     },
     "execution_count": 16,
     "metadata": {},
     "output_type": "execute_result"
    }
   ],
   "source": [
    "\"\"\"\n",
    "def detectFreqs(features, numFreqs) :\n",
    "    # numFreqsで指定した個数の周波数成分を、コストが最小になるように決定する\n",
    "    freqs = np.array(range(0, numFreqs)).astype('int64')\n",
    "    numCoins = features.shape[0]\n",
    "    \n",
    "    featuresSelected = np.zeros([numCoins, features.shape[1], features.shape[2] * numFreqs])\n",
    "    for c in range(0, numCoins) :\n",
    "        for cc in range(0, features.shape[1]) :\n",
    "            featuresSelected[c, cc, :] = extFeature(features[c, cc, :, :], freqs)\n",
    "    \n",
    "    numFeature = features.shape[2] * numFreqs\n",
    "    mu = np.zeros([numCoins, numFeature])\n",
    "    sigma = np.zeros([numCoins, numFeature, numFeature])\n",
    "    \n",
    "    for c in range(0, numCoins) :\n",
    "        tempF = featuresSelected[c, :, :]\n",
    "        mu[c, :] = makeMu(tempF)\n",
    "        sigma[c, :, :] = makeSigma(tempF)\n",
    "        print(np.linalg.eig(sigma[c])[0])\n",
    "        \n",
    "    culR(featuresSelected, sigma, mu)\n",
    "        \n",
    "    return freqs\n",
    "\"\"\""
   ]
  },
  {
   "cell_type": "code",
   "execution_count": 17,
   "metadata": {},
   "outputs": [
    {
     "data": {
      "text/plain": [
       "\"\\n#### 特徴ベクトルを足すことで次元を増やさないようにしてみる\\ndef detectFreqs2(features, numFreqs) :\\n    freqs = np.array(range(0, numFreqs)).astype('int64')\\n    numCoins = features.shape[0]\\n    \\n    featuresSelected = np.zeros([numCoins, features.shape[1], numFreqs])\\n    for c in range(0, numCoins) :\\n        for cc in range(0, features.shape[1]) :\\n            featuresSelected[c, cc, :] = extFeature2(features[c, cc, :, :], freqs)\\n            \\n            \\n    numFeature = numFreqs\\n    mu = np.zeros([numCoins, numFeature])\\n    sigma = np.zeros([numCoins, numFeature, numFeature])\\n    \\n    for c in range(0, numCoins) :\\n        tempF = featuresSelected[c, :, :]\\n        mu[c, :] = makeMu(tempF)\\n        sigma[c, :, :] = makeSigma(tempF)\\n        print(sigma[c])\\n        print(np.linalg.det(sigma[c]))\\n        \\n    freqs_new = np.array(range(0, numFreqs)).astype('int64')\\n    \\n    #### 周波数成分選択アルゴリズム\\n    while(True) :\\n        for d in range(0, numFreqs) :\\n            for omega in range(0, features.shape[3]) :\\n                if omega\\n                \\n    R = culR(featuresSelected, sigma, mu)\\n    \\n    return freqs\\n\""
      ]
     },
     "execution_count": 17,
     "metadata": {},
     "output_type": "execute_result"
    }
   ],
   "source": [
    "\"\"\"\n",
    "#### 特徴ベクトルを足すことで次元を増やさないようにしてみる\n",
    "def detectFreqs2(features, numFreqs) :\n",
    "    freqs = np.array(range(0, numFreqs)).astype('int64')\n",
    "    numCoins = features.shape[0]\n",
    "    \n",
    "    featuresSelected = np.zeros([numCoins, features.shape[1], numFreqs])\n",
    "    for c in range(0, numCoins) :\n",
    "        for cc in range(0, features.shape[1]) :\n",
    "            featuresSelected[c, cc, :] = extFeature2(features[c, cc, :, :], freqs)\n",
    "            \n",
    "            \n",
    "    numFeature = numFreqs\n",
    "    mu = np.zeros([numCoins, numFeature])\n",
    "    sigma = np.zeros([numCoins, numFeature, numFeature])\n",
    "    \n",
    "    for c in range(0, numCoins) :\n",
    "        tempF = featuresSelected[c, :, :]\n",
    "        mu[c, :] = makeMu(tempF)\n",
    "        sigma[c, :, :] = makeSigma(tempF)\n",
    "        print(sigma[c])\n",
    "        print(np.linalg.det(sigma[c]))\n",
    "        \n",
    "    freqs_new = np.array(range(0, numFreqs)).astype('int64')\n",
    "    \n",
    "    #### 周波数成分選択アルゴリズム\n",
    "    while(True) :\n",
    "        for d in range(0, numFreqs) :\n",
    "            for omega in range(0, features.shape[3]) :\n",
    "                if omega\n",
    "                \n",
    "    R = culR(featuresSelected, sigma, mu)\n",
    "    \n",
    "    return freqs\n",
    "\"\"\""
   ]
  },
  {
   "cell_type": "code",
   "execution_count": null,
   "metadata": {},
   "outputs": [],
   "source": []
  },
  {
   "cell_type": "markdown",
   "metadata": {},
   "source": [
    "適当に小さいデータで実験\n",
    "\n",
    "周波数成分　だいたい 400Hz以下\n",
    "\n",
    "特徴次元数10"
   ]
  },
  {
   "cell_type": "code",
   "execution_count": 18,
   "metadata": {},
   "outputs": [],
   "source": [
    "from makeFeature import makePrediction"
   ]
  },
  {
   "cell_type": "code",
   "execution_count": 19,
   "metadata": {},
   "outputs": [],
   "source": [
    "from makeFeature import detectFreqs"
   ]
  },
  {
   "cell_type": "code",
   "execution_count": 25,
   "metadata": {},
   "outputs": [
    {
     "name": "stdout",
     "output_type": "stream",
     "text": [
      "preparation\n",
      "main loop start\n",
      "********************************\n",
      "major loop\n",
      "--------------------------------\n",
      "('minor loop : ', 0)\n",
      "('Selected freqs', array([1298,    1,    2,    3,    4,    5,    6,    7,    8,    9,   10,\n",
      "         11,   12,   13,   14,   15,   16,   17,   18,   19]))\n",
      "('R=', 0.35406594819244924)\n",
      "--------------------------------\n",
      "('minor loop : ', 1)\n",
      "('Selected freqs', array([1298, 1233,    2,    3,    4,    5,    6,    7,    8,    9,   10,\n",
      "         11,   12,   13,   14,   15,   16,   17,   18,   19]))\n",
      "('R=', 0.2816203800989427)\n",
      "--------------------------------\n",
      "('minor loop : ', 2)\n",
      "('Selected freqs', array([1298, 1233, 1202,    3,    4,    5,    6,    7,    8,    9,   10,\n",
      "         11,   12,   13,   14,   15,   16,   17,   18,   19]))\n",
      "('R=', 0.22635077000389447)\n",
      "--------------------------------\n",
      "('minor loop : ', 3)\n",
      "('Selected freqs', array([1298, 1233, 1202, 1075,    4,    5,    6,    7,    8,    9,   10,\n",
      "         11,   12,   13,   14,   15,   16,   17,   18,   19]))\n",
      "('R=', 0.18478699990832184)\n",
      "--------------------------------\n",
      "('minor loop : ', 4)\n",
      "('Selected freqs', array([1298, 1233, 1202, 1075, 1359,    5,    6,    7,    8,    9,   10,\n",
      "         11,   12,   13,   14,   15,   16,   17,   18,   19]))\n",
      "('R=', 0.14537357209058058)\n",
      "--------------------------------\n",
      "('minor loop : ', 5)\n",
      "('Selected freqs', array([1298, 1233, 1202, 1075, 1359, 1294,    6,    7,    8,    9,   10,\n",
      "         11,   12,   13,   14,   15,   16,   17,   18,   19]))\n",
      "('R=', 0.1255509353350103)\n",
      "--------------------------------\n",
      "('minor loop : ', 6)\n",
      "('Selected freqs', array([1298, 1233, 1202, 1075, 1359, 1294,  954,    7,    8,    9,   10,\n",
      "         11,   12,   13,   14,   15,   16,   17,   18,   19]))\n",
      "('R=', 0.10982782286199654)\n",
      "--------------------------------\n",
      "('minor loop : ', 7)\n",
      "('Selected freqs', array([1298, 1233, 1202, 1075, 1359, 1294,  954,  526,    8,    9,   10,\n",
      "         11,   12,   13,   14,   15,   16,   17,   18,   19]))\n",
      "('R=', 0.1039384989213954)\n",
      "--------------------------------\n",
      "('minor loop : ', 8)\n",
      "('Selected freqs', array([1298, 1233, 1202, 1075, 1359, 1294,  954,  526,  296,    9,   10,\n",
      "         11,   12,   13,   14,   15,   16,   17,   18,   19]))\n",
      "('R=', 0.09892618149025054)\n",
      "--------------------------------\n",
      "('minor loop : ', 9)\n",
      "('Selected freqs', array([1298, 1233, 1202, 1075, 1359, 1294,  954,  526,  296,  312,   10,\n",
      "         11,   12,   13,   14,   15,   16,   17,   18,   19]))\n",
      "('R=', 0.09315062090296711)\n",
      "--------------------------------\n",
      "('minor loop : ', 10)\n",
      "('Selected freqs', array([1298, 1233, 1202, 1075, 1359, 1294,  954,  526,  296,  312, 1084,\n",
      "         11,   12,   13,   14,   15,   16,   17,   18,   19]))\n",
      "('R=', 0.08996247705811393)\n",
      "--------------------------------\n",
      "('minor loop : ', 11)\n",
      "('Selected freqs', array([1298, 1233, 1202, 1075, 1359, 1294,  954,  526,  296,  312, 1084,\n",
      "        654,   12,   13,   14,   15,   16,   17,   18,   19]))\n",
      "('R=', 0.08628871353465278)\n",
      "--------------------------------\n",
      "('minor loop : ', 12)\n",
      "('Selected freqs', array([1298, 1233, 1202, 1075, 1359, 1294,  954,  526,  296,  312, 1084,\n",
      "        654,  183,   13,   14,   15,   16,   17,   18,   19]))\n",
      "('R=', 0.0813262946395803)\n",
      "--------------------------------\n",
      "('minor loop : ', 13)\n",
      "('Selected freqs', array([1298, 1233, 1202, 1075, 1359, 1294,  954,  526,  296,  312, 1084,\n",
      "        654,  183,    6,   14,   15,   16,   17,   18,   19]))\n",
      "('R=', 0.07675946677160157)\n",
      "--------------------------------\n",
      "('minor loop : ', 14)\n",
      "('Selected freqs', array([1298, 1233, 1202, 1075, 1359, 1294,  954,  526,  296,  312, 1084,\n",
      "        654,  183,    6,  914,   15,   16,   17,   18,   19]))\n",
      "('R=', 0.07263496861643998)\n",
      "--------------------------------\n",
      "('minor loop : ', 15)\n",
      "('Selected freqs', array([1298, 1233, 1202, 1075, 1359, 1294,  954,  526,  296,  312, 1084,\n",
      "        654,  183,    6,  914, 1303,   16,   17,   18,   19]))\n",
      "('R=', 0.06954465000847389)\n",
      "--------------------------------\n",
      "('minor loop : ', 16)\n",
      "('Selected freqs', array([1298, 1233, 1202, 1075, 1359, 1294,  954,  526,  296,  312, 1084,\n",
      "        654,  183,    6,  914, 1303,  722,   17,   18,   19]))\n",
      "('R=', 0.06588632292009566)\n",
      "--------------------------------\n",
      "('minor loop : ', 17)\n",
      "('Selected freqs', array([1298, 1233, 1202, 1075, 1359, 1294,  954,  526,  296,  312, 1084,\n",
      "        654,  183,    6,  914, 1303,  722,  633,   18,   19]))\n",
      "('R=', 0.06389863960482108)\n",
      "--------------------------------\n",
      "('minor loop : ', 18)\n",
      "('Selected freqs', array([1298, 1233, 1202, 1075, 1359, 1294,  954,  526,  296,  312, 1084,\n",
      "        654,  183,    6,  914, 1303,  722,  633,   61,   19]))\n",
      "('R=', 0.060904753612771215)\n",
      "--------------------------------\n",
      "('minor loop : ', 19)\n",
      "('Selected freqs', array([1298, 1233, 1202, 1075, 1359, 1294,  954,  526,  296,  312, 1084,\n",
      "        654,  183,    6,  914, 1303,  722,  633,   61,  758]))\n",
      "('R=', 0.059464961438538085)\n",
      "--------------------------------\n",
      "********************************\n",
      "major loop\n",
      "--------------------------------\n",
      "('minor loop : ', 0)\n",
      "('Selected freqs', array([  29, 1233, 1202, 1075, 1359, 1294,  954,  526,  296,  312, 1084,\n",
      "        654,  183,    6,  914, 1303,  722,  633,   61,  758]))\n",
      "('R=', 0.0590243940507089)\n",
      "--------------------------------\n",
      "('minor loop : ', 1)\n",
      "('Selected freqs', array([  29, 1233, 1202, 1075, 1359, 1294,  954,  526,  296,  312, 1084,\n",
      "        654,  183,    6,  914, 1303,  722,  633,   61,  758]))\n",
      "('R=', 0.0590243940507089)\n",
      "--------------------------------\n",
      "('minor loop : ', 2)\n",
      "('Selected freqs', array([  29, 1233, 1202, 1075, 1359, 1294,  954,  526,  296,  312, 1084,\n",
      "        654,  183,    6,  914, 1303,  722,  633,   61,  758]))\n",
      "('R=', 0.0590243940507089)\n",
      "--------------------------------\n",
      "('minor loop : ', 3)\n",
      "('Selected freqs', array([  29, 1233, 1202, 1075, 1359, 1294,  954,  526,  296,  312, 1084,\n",
      "        654,  183,    6,  914, 1303,  722,  633,   61,  758]))\n",
      "('R=', 0.0590243940507089)\n",
      "--------------------------------\n",
      "('minor loop : ', 4)\n",
      "('Selected freqs', array([  29, 1233, 1202, 1075, 1359, 1294,  954,  526,  296,  312, 1084,\n",
      "        654,  183,    6,  914, 1303,  722,  633,   61,  758]))\n",
      "('R=', 0.0590243940507089)\n",
      "--------------------------------\n",
      "('minor loop : ', 5)\n",
      "('Selected freqs', array([  29, 1233, 1202, 1075, 1359, 1294,  954,  526,  296,  312, 1084,\n",
      "        654,  183,    6,  914, 1303,  722,  633,   61,  758]))\n",
      "('R=', 0.0590243940507089)\n",
      "--------------------------------\n",
      "('minor loop : ', 6)\n",
      "('Selected freqs', array([  29, 1233, 1202, 1075, 1359, 1294,  954,  526,  296,  312, 1084,\n",
      "        654,  183,    6,  914, 1303,  722,  633,   61,  758]))\n",
      "('R=', 0.0590243940507089)\n",
      "--------------------------------\n",
      "('minor loop : ', 7)\n",
      "('Selected freqs', array([  29, 1233, 1202, 1075, 1359, 1294,  954,  526,  296,  312, 1084,\n",
      "        654,  183,    6,  914, 1303,  722,  633,   61,  758]))\n",
      "('R=', 0.0590243940507089)\n",
      "--------------------------------\n",
      "('minor loop : ', 8)\n",
      "('Selected freqs', array([  29, 1233, 1202, 1075, 1359, 1294,  954,  526,  296,  312, 1084,\n",
      "        654,  183,    6,  914, 1303,  722,  633,   61,  758]))\n",
      "('R=', 0.0590243940507089)\n",
      "--------------------------------\n",
      "('minor loop : ', 9)\n",
      "('Selected freqs', array([  29, 1233, 1202, 1075, 1359, 1294,  954,  526,  296,  312, 1084,\n",
      "        654,  183,    6,  914, 1303,  722,  633,   61,  758]))\n",
      "('R=', 0.0590243940507089)\n",
      "--------------------------------\n",
      "('minor loop : ', 10)\n",
      "('Selected freqs', array([  29, 1233, 1202, 1075, 1359, 1294,  954,  526,  296,  312, 1084,\n",
      "        654,  183,    6,  914, 1303,  722,  633,   61,  758]))\n",
      "('R=', 0.0590243940507089)\n",
      "--------------------------------\n",
      "('minor loop : ', 11)\n",
      "('Selected freqs', array([  29, 1233, 1202, 1075, 1359, 1294,  954,  526,  296,  312, 1084,\n",
      "        654,  183,    6,  914, 1303,  722,  633,   61,  758]))\n",
      "('R=', 0.0590243940507089)\n",
      "--------------------------------\n",
      "('minor loop : ', 12)\n",
      "('Selected freqs', array([  29, 1233, 1202, 1075, 1359, 1294,  954,  526,  296,  312, 1084,\n",
      "        654,  183,    6,  914, 1303,  722,  633,   61,  758]))\n",
      "('R=', 0.0590243940507089)\n",
      "--------------------------------\n",
      "('minor loop : ', 13)\n",
      "('Selected freqs', array([  29, 1233, 1202, 1075, 1359, 1294,  954,  526,  296,  312, 1084,\n",
      "        654,  183,    6,  914, 1303,  722,  633,   61,  758]))\n",
      "('R=', 0.0590243940507089)\n",
      "--------------------------------\n",
      "('minor loop : ', 14)\n",
      "('Selected freqs', array([  29, 1233, 1202, 1075, 1359, 1294,  954,  526,  296,  312, 1084,\n",
      "        654,  183,    6,  914, 1303,  722,  633,   61,  758]))\n",
      "('R=', 0.0590243940507089)\n",
      "--------------------------------\n",
      "('minor loop : ', 15)\n",
      "('Selected freqs', array([  29, 1233, 1202, 1075, 1359, 1294,  954,  526,  296,  312, 1084,\n",
      "        654,  183,    6,  914, 1301,  722,  633,   61,  758]))\n",
      "('R=', 0.058155629393687576)\n",
      "--------------------------------\n",
      "('minor loop : ', 16)\n",
      "('Selected freqs', array([  29, 1233, 1202, 1075, 1359, 1294,  954,  526,  296,  312, 1084,\n",
      "        654,  183,    6,  914, 1301,  722,  633,   61,  758]))\n",
      "('R=', 0.058155629393687576)\n",
      "--------------------------------\n",
      "('minor loop : ', 17)\n",
      "('Selected freqs', array([  29, 1233, 1202, 1075, 1359, 1294,  954,  526,  296,  312, 1084,\n",
      "        654,  183,    6,  914, 1301,  722, 1013,   61,  758]))\n",
      "('R=', 0.05800007887080303)\n",
      "--------------------------------\n",
      "('minor loop : ', 18)\n",
      "('Selected freqs', array([  29, 1233, 1202, 1075, 1359, 1294,  954,  526,  296,  312, 1084,\n",
      "        654,  183,    6,  914, 1301,  722, 1013,   61,  758]))\n",
      "('R=', 0.05800007887080303)\n",
      "--------------------------------\n",
      "('minor loop : ', 19)\n",
      "('Selected freqs', array([  29, 1233, 1202, 1075, 1359, 1294,  954,  526,  296,  312, 1084,\n",
      "        654,  183,    6,  914, 1301,  722, 1013,   61,  758]))\n",
      "('R=', 0.05800007887080303)\n",
      "--------------------------------\n",
      "********************************\n",
      "major loop\n",
      "--------------------------------\n",
      "('minor loop : ', 0)\n",
      "('Selected freqs', array([  29, 1233, 1202, 1075, 1359, 1294,  954,  526,  296,  312, 1084,\n",
      "        654,  183,    6,  914, 1301,  722, 1013,   61,  758]))\n",
      "('R=', 0.05800007887080303)\n",
      "--------------------------------\n",
      "('minor loop : ', 1)\n",
      "('Selected freqs', array([  29, 1233, 1202, 1075, 1359, 1294,  954,  526,  296,  312, 1084,\n",
      "        654,  183,    6,  914, 1301,  722, 1013,   61,  758]))\n",
      "('R=', 0.05800007887080303)\n",
      "--------------------------------\n",
      "('minor loop : ', 2)\n",
      "('Selected freqs', array([  29, 1233, 1202, 1075, 1359, 1294,  954,  526,  296,  312, 1084,\n",
      "        654,  183,    6,  914, 1301,  722, 1013,   61,  758]))\n",
      "('R=', 0.05800007887080303)\n",
      "--------------------------------\n",
      "('minor loop : ', 3)\n",
      "('Selected freqs', array([  29, 1233, 1202, 1075, 1359, 1294,  954,  526,  296,  312, 1084,\n",
      "        654,  183,    6,  914, 1301,  722, 1013,   61,  758]))\n",
      "('R=', 0.05800007887080303)\n",
      "--------------------------------\n",
      "('minor loop : ', 4)\n",
      "('Selected freqs', array([  29, 1233, 1202, 1075, 1359, 1294,  954,  526,  296,  312, 1084,\n",
      "        654,  183,    6,  914, 1301,  722, 1013,   61,  758]))\n",
      "('R=', 0.05800007887080303)\n",
      "--------------------------------\n",
      "('minor loop : ', 5)\n",
      "('Selected freqs', array([  29, 1233, 1202, 1075, 1359, 1294,  954,  526,  296,  312, 1084,\n",
      "        654,  183,    6,  914, 1301,  722, 1013,   61,  758]))\n",
      "('R=', 0.05800007887080303)\n",
      "--------------------------------\n",
      "('minor loop : ', 6)\n",
      "('Selected freqs', array([  29, 1233, 1202, 1075, 1359, 1294,  954,  526,  296,  312, 1084,\n",
      "        654,  183,    6,  914, 1301,  722, 1013,   61,  758]))\n",
      "('R=', 0.05800007887080303)\n",
      "--------------------------------\n",
      "('minor loop : ', 7)\n",
      "('Selected freqs', array([  29, 1233, 1202, 1075, 1359, 1294,  954,  526,  296,  312, 1084,\n",
      "        654,  183,    6,  914, 1301,  722, 1013,   61,  758]))\n",
      "('R=', 0.05800007887080303)\n",
      "--------------------------------\n",
      "('minor loop : ', 8)\n",
      "('Selected freqs', array([  29, 1233, 1202, 1075, 1359, 1294,  954,  526,  296,  312, 1084,\n",
      "        654,  183,    6,  914, 1301,  722, 1013,   61,  758]))\n",
      "('R=', 0.05800007887080303)\n",
      "--------------------------------\n",
      "('minor loop : ', 9)\n",
      "('Selected freqs', array([  29, 1233, 1202, 1075, 1359, 1294,  954,  526,  296,  312, 1084,\n",
      "        654,  183,    6,  914, 1301,  722, 1013,   61,  758]))\n",
      "('R=', 0.05800007887080303)\n",
      "--------------------------------\n",
      "('minor loop : ', 10)\n",
      "('Selected freqs', array([  29, 1233, 1202, 1075, 1359, 1294,  954,  526,  296,  312, 1084,\n",
      "        654,  183,    6,  914, 1301,  722, 1013,   61,  758]))\n",
      "('R=', 0.05800007887080303)\n",
      "--------------------------------\n",
      "('minor loop : ', 11)\n",
      "('Selected freqs', array([  29, 1233, 1202, 1075, 1359, 1294,  954,  526,  296,  312, 1084,\n",
      "        654,  183,    6,  914, 1301,  722, 1013,   61,  758]))\n",
      "('R=', 0.05800007887080303)\n",
      "--------------------------------\n",
      "('minor loop : ', 12)\n",
      "('Selected freqs', array([  29, 1233, 1202, 1075, 1359, 1294,  954,  526,  296,  312, 1084,\n",
      "        654,  183,    6,  914, 1301,  722, 1013,   61,  758]))\n",
      "('R=', 0.05800007887080303)\n",
      "--------------------------------\n",
      "('minor loop : ', 13)\n",
      "('Selected freqs', array([  29, 1233, 1202, 1075, 1359, 1294,  954,  526,  296,  312, 1084,\n",
      "        654,  183,    6,  914, 1301,  722, 1013,   61,  758]))\n",
      "('R=', 0.05800007887080303)\n",
      "--------------------------------\n",
      "('minor loop : ', 14)\n",
      "('Selected freqs', array([  29, 1233, 1202, 1075, 1359, 1294,  954,  526,  296,  312, 1084,\n",
      "        654,  183,    6,  914, 1301,  722, 1013,   61,  758]))\n",
      "('R=', 0.05800007887080303)\n",
      "--------------------------------\n",
      "('minor loop : ', 15)\n",
      "('Selected freqs', array([  29, 1233, 1202, 1075, 1359, 1294,  954,  526,  296,  312, 1084,\n",
      "        654,  183,    6,  914, 1301,  722, 1013,   61,  758]))\n",
      "('R=', 0.05800007887080303)\n",
      "--------------------------------\n",
      "('minor loop : ', 16)\n",
      "('Selected freqs', array([  29, 1233, 1202, 1075, 1359, 1294,  954,  526,  296,  312, 1084,\n",
      "        654,  183,    6,  914, 1301,  720, 1013,   61,  758]))\n",
      "('R=', 0.05761668618117245)\n",
      "--------------------------------\n",
      "('minor loop : ', 17)\n",
      "('Selected freqs', array([  29, 1233, 1202, 1075, 1359, 1294,  954,  526,  296,  312, 1084,\n",
      "        654,  183,    6,  914, 1301,  720, 1013,   61,  758]))\n",
      "('R=', 0.05761668618117245)\n",
      "--------------------------------\n",
      "('minor loop : ', 18)\n",
      "('Selected freqs', array([  29, 1233, 1202, 1075, 1359, 1294,  954,  526,  296,  312, 1084,\n",
      "        654,  183,    6,  914, 1301,  720, 1013,   61,  758]))\n",
      "('R=', 0.05761668618117245)\n",
      "--------------------------------\n",
      "('minor loop : ', 19)\n",
      "('Selected freqs', array([  29, 1233, 1202, 1075, 1359, 1294,  954,  526,  296,  312, 1084,\n",
      "        654,  183,    6,  914, 1301,  720, 1013,   61,  758]))\n",
      "('R=', 0.05761668618117245)\n",
      "--------------------------------\n",
      "********************************\n",
      "major loop\n",
      "--------------------------------\n",
      "('minor loop : ', 0)\n",
      "('Selected freqs', array([  29, 1233, 1202, 1075, 1359, 1294,  954,  526,  296,  312, 1084,\n",
      "        654,  183,    6,  914, 1301,  720, 1013,   61,  758]))\n",
      "('R=', 0.05761668618117245)\n",
      "--------------------------------\n",
      "('minor loop : ', 1)\n",
      "('Selected freqs', array([  29, 1233, 1202, 1075, 1359, 1294,  954,  526,  296,  312, 1084,\n",
      "        654,  183,    6,  914, 1301,  720, 1013,   61,  758]))\n",
      "('R=', 0.05761668618117245)\n",
      "--------------------------------\n",
      "('minor loop : ', 2)\n",
      "('Selected freqs', array([  29, 1233, 1202, 1075, 1359, 1294,  954,  526,  296,  312, 1084,\n",
      "        654,  183,    6,  914, 1301,  720, 1013,   61,  758]))\n",
      "('R=', 0.05761668618117245)\n",
      "--------------------------------\n",
      "('minor loop : ', 3)\n",
      "('Selected freqs', array([  29, 1233, 1202, 1075, 1359, 1294,  954,  526,  296,  312, 1084,\n",
      "        654,  183,    6,  914, 1301,  720, 1013,   61,  758]))\n",
      "('R=', 0.05761668618117245)\n",
      "--------------------------------\n",
      "('minor loop : ', 4)\n",
      "('Selected freqs', array([  29, 1233, 1202, 1075, 1359, 1294,  954,  526,  296,  312, 1084,\n",
      "        654,  183,    6,  914, 1301,  720, 1013,   61,  758]))\n",
      "('R=', 0.05761668618117245)\n",
      "--------------------------------\n",
      "('minor loop : ', 5)\n",
      "('Selected freqs', array([  29, 1233, 1202, 1075, 1359, 1294,  954,  526,  296,  312, 1084,\n",
      "        654,  183,    6,  914, 1301,  720, 1013,   61,  758]))\n",
      "('R=', 0.05761668618117245)\n",
      "--------------------------------\n",
      "('minor loop : ', 6)\n",
      "('Selected freqs', array([  29, 1233, 1202, 1075, 1359, 1294,  954,  526,  296,  312, 1084,\n",
      "        654,  183,    6,  914, 1301,  720, 1013,   61,  758]))\n",
      "('R=', 0.05761668618117245)\n",
      "--------------------------------\n",
      "('minor loop : ', 7)\n",
      "('Selected freqs', array([  29, 1233, 1202, 1075, 1359, 1294,  954,  526,  296,  312, 1084,\n",
      "        654,  183,    6,  914, 1301,  720, 1013,   61,  758]))\n",
      "('R=', 0.05761668618117245)\n",
      "--------------------------------\n",
      "('minor loop : ', 8)\n",
      "('Selected freqs', array([  29, 1233, 1202, 1075, 1359, 1294,  954,  526,  296,  312, 1084,\n",
      "        654,  183,    6,  914, 1301,  720, 1013,   61,  758]))\n",
      "('R=', 0.05761668618117245)\n",
      "--------------------------------\n",
      "('minor loop : ', 9)\n",
      "('Selected freqs', array([  29, 1233, 1202, 1075, 1359, 1294,  954,  526,  296,  312, 1084,\n",
      "        654,  183,    6,  914, 1301,  720, 1013,   61,  758]))\n",
      "('R=', 0.05761668618117245)\n",
      "--------------------------------\n",
      "('minor loop : ', 10)\n",
      "('Selected freqs', array([  29, 1233, 1202, 1075, 1359, 1294,  954,  526,  296,  312, 1084,\n",
      "        654,  183,    6,  914, 1301,  720, 1013,   61,  758]))\n",
      "('R=', 0.05761668618117245)\n",
      "--------------------------------\n",
      "('minor loop : ', 11)\n",
      "('Selected freqs', array([  29, 1233, 1202, 1075, 1359, 1294,  954,  526,  296,  312, 1084,\n",
      "        654,  183,    6,  914, 1301,  720, 1013,   61,  758]))\n",
      "('R=', 0.05761668618117245)\n",
      "--------------------------------\n",
      "('minor loop : ', 12)\n",
      "('Selected freqs', array([  29, 1233, 1202, 1075, 1359, 1294,  954,  526,  296,  312, 1084,\n",
      "        654,  183,    6,  914, 1301,  720, 1013,   61,  758]))\n",
      "('R=', 0.05761668618117245)\n",
      "--------------------------------\n",
      "('minor loop : ', 13)\n",
      "('Selected freqs', array([  29, 1233, 1202, 1075, 1359, 1294,  954,  526,  296,  312, 1084,\n",
      "        654,  183,    6,  914, 1301,  720, 1013,   61,  758]))\n",
      "('R=', 0.05761668618117245)\n",
      "--------------------------------\n",
      "('minor loop : ', 14)\n",
      "('Selected freqs', array([  29, 1233, 1202, 1075, 1359, 1294,  954,  526,  296,  312, 1084,\n",
      "        654,  183,    6,  914, 1301,  720, 1013,   61,  758]))\n",
      "('R=', 0.05761668618117245)\n",
      "--------------------------------\n",
      "('minor loop : ', 15)\n",
      "('Selected freqs', array([  29, 1233, 1202, 1075, 1359, 1294,  954,  526,  296,  312, 1084,\n",
      "        654,  183,    6,  914, 1301,  720, 1013,   61,  758]))\n",
      "('R=', 0.05761668618117245)\n",
      "--------------------------------\n",
      "('minor loop : ', 16)\n",
      "('Selected freqs', array([  29, 1233, 1202, 1075, 1359, 1294,  954,  526,  296,  312, 1084,\n",
      "        654,  183,    6,  914, 1301,  720, 1013,   61,  758]))\n",
      "('R=', 0.05761668618117245)\n",
      "--------------------------------\n",
      "('minor loop : ', 17)\n",
      "('Selected freqs', array([  29, 1233, 1202, 1075, 1359, 1294,  954,  526,  296,  312, 1084,\n",
      "        654,  183,    6,  914, 1301,  720, 1013,   61,  758]))\n",
      "('R=', 0.05761668618117245)\n",
      "--------------------------------\n",
      "('minor loop : ', 18)\n",
      "('Selected freqs', array([  29, 1233, 1202, 1075, 1359, 1294,  954,  526,  296,  312, 1084,\n",
      "        654,  183,    6,  914, 1301,  720, 1013,   61,  758]))\n",
      "('R=', 0.05761668618117245)\n",
      "--------------------------------\n",
      "('minor loop : ', 19)\n",
      "('Selected freqs', array([  29, 1233, 1202, 1075, 1359, 1294,  954,  526,  296,  312, 1084,\n",
      "        654,  183,    6,  914, 1301,  720, 1013,   61,  758]))\n",
      "('R=', 0.05761668618117245)\n",
      "--------------------------------\n",
      "done\n"
     ]
    }
   ],
   "source": [
    "freqs, sigma, mu, detSigma, invSigma = detectFreqs(features[:, 0:15, :, :], 20)"
   ]
  },
  {
   "cell_type": "code",
   "execution_count": null,
   "metadata": {},
   "outputs": [],
   "source": []
  },
  {
   "cell_type": "code",
   "execution_count": 20,
   "metadata": {},
   "outputs": [],
   "source": [
    "freqs = [1294, 1234, 1202, 1360, 1084,  954,  149, 1075,    6, 1297, 1014,\n",
    "        759,  275,  563,  901,  146,  722, 1477, 1303,   37]"
   ]
  },
  {
   "cell_type": "code",
   "execution_count": null,
   "metadata": {},
   "outputs": [],
   "source": []
  },
  {
   "cell_type": "code",
   "execution_count": 26,
   "metadata": {},
   "outputs": [],
   "source": [
    "feature_per_coin = np.zeros([Coins, numData * OnPeriods, waves])\n",
    "\n",
    "for c in range(0, Coins) :\n",
    "    for cc in range(0, numData) :\n",
    "        for ccc in range(0, OnPeriods) :\n",
    "            feature_per_coin[c, (OnPeriods) * cc + ccc] = features[c, cc, ccc]"
   ]
  },
  {
   "cell_type": "code",
   "execution_count": 33,
   "metadata": {},
   "outputs": [
    {
     "data": {
      "text/plain": [
       "<matplotlib.collections.LineCollection at 0x103d92940>"
      ]
     },
     "execution_count": 33,
     "metadata": {},
     "output_type": "execute_result"
    },
    {
     "data": {
      "image/png": "[encoded data removed]",
      "text/plain": [
       "<matplotlib.figure.Figure at 0x103adc3c8>"
      ]
     },
     "metadata": {},
     "output_type": "display_data"
    }
   ],
   "source": [
    "start=500\n",
    "end=1500\n",
    "#plt.xlim(start, end)\n",
    "plt.plot(np.mean(feature_per_coin[0], axis=0), \"red\")\n",
    "plt.plot(np.mean(feature_per_coin[1], axis=0), \"blue\")\n",
    "plt.plot(np.mean(feature_per_coin[2], axis=0), \"green\")\n",
    "plt.plot(np.mean(feature_per_coin[3], axis=0), \"black\")\n",
    "plt.plot(np.mean(feature_per_coin[4], axis=0), \"orange\")\n",
    "plt.plot(np.mean(feature_per_coin[5], axis=0), \"purple\")\n",
    "\n",
    "plt.vlines(freqs, ymin=-100, ymax=2, colors=\"gray\")"
   ]
  },
  {
   "cell_type": "code",
   "execution_count": 30,
   "metadata": {},
   "outputs": [
    {
     "data": {
      "text/plain": [
       "[<matplotlib.lines.Line2D at 0x11942fb70>]"
      ]
     },
     "execution_count": 30,
     "metadata": {},
     "output_type": "execute_result"
    },
    {
     "data": {
      "image/png": "[encoded data removed]",
      "text/plain": [
       "<matplotlib.figure.Figure at 0x1191c4240>"
      ]
     },
     "metadata": {},
     "output_type": "display_data"
    }
   ],
   "source": [
    "plt.plot(feature_per_coin[0][0])"
   ]
  },
  {
   "cell_type": "code",
   "execution_count": 31,
   "metadata": {},
   "outputs": [
    {
     "data": {
      "text/plain": [
       "<matplotlib.collections.LineCollection at 0x103ad4630>"
      ]
     },
     "execution_count": 31,
     "metadata": {},
     "output_type": "execute_result"
    },
    {
     "data": {
      "image/png": "[encoded data removed]",
      "text/plain": [
       "<matplotlib.figure.Figure at 0x11b9ab6a0>"
      ]
     },
     "metadata": {},
     "output_type": "display_data"
    }
   ],
   "source": [
    "start=500\n",
    "end=1500\n",
    "plt.xlim(start, end)\n",
    "plt.plot(np.sum(feature_per_coin[0], axis=0))\n",
    "plt.plot(np.sum(feature_per_coin[1], axis=0))\n",
    "plt.plot(np.sum(feature_per_coin[2], axis=0))\n",
    "plt.plot(np.sum(feature_per_coin[3], axis=0))\n",
    "plt.plot(np.sum(feature_per_coin[4], axis=0))\n",
    "plt.plot(np.sum(feature_per_coin[5], axis=0))\n",
    "\n",
    "plt.vlines(freqs, ymin=-0.05000, ymax=0.15000, colors=\"gray\")"
   ]
  },
  {
   "cell_type": "code",
   "execution_count": 25,
   "metadata": {},
   "outputs": [
    {
     "data": {
      "text/plain": [
       "<matplotlib.collections.LineCollection at 0x119ccff98>"
      ]
     },
     "execution_count": 25,
     "metadata": {},
     "output_type": "execute_result"
    },
    {
     "data": {
      "image/png": "[encoded data removed]",
      "text/plain": [
       "<matplotlib.figure.Figure at 0x119b196d8>"
      ]
     },
     "metadata": {},
     "output_type": "display_data"
    }
   ],
   "source": [
    "start=1000\n",
    "end=1500\n",
    "plt.xlim(start, end)\n",
    "plt.plot(np.sum(feature_per_coin[0], axis=0))\n",
    "plt.plot(np.sum(feature_per_coin[1], axis=0))\n",
    "plt.plot(np.sum(feature_per_coin[2], axis=0))\n",
    "plt.plot(np.sum(feature_per_coin[3], axis=0))\n",
    "plt.plot(np.sum(feature_per_coin[4], axis=0))\n",
    "plt.plot(np.sum(feature_per_coin[5], axis=0))\n",
    "\n",
    "plt.vlines(freqs, ymin=-5000, ymax=15000, colors=\"gray\")"
   ]
  },
  {
   "cell_type": "code",
   "execution_count": 26,
   "metadata": {},
   "outputs": [
    {
     "data": {
      "text/plain": [
       "<matplotlib.collections.LineCollection at 0x119dda320>"
      ]
     },
     "execution_count": 26,
     "metadata": {},
     "output_type": "execute_result"
    },
    {
     "data": {
      "image/png": "[encoded data removed]",
      "text/plain": [
       "<matplotlib.figure.Figure at 0x119cf9a90>"
      ]
     },
     "metadata": {},
     "output_type": "display_data"
    }
   ],
   "source": [
    "start=1200\n",
    "end=1400\n",
    "plt.xlim(start, end)\n",
    "plt.plot(np.sum(feature_per_coin[0], axis=0))\n",
    "plt.plot(np.sum(feature_per_coin[1], axis=0))\n",
    "plt.plot(np.sum(feature_per_coin[2], axis=0))\n",
    "plt.plot(np.sum(feature_per_coin[3], axis=0))\n",
    "plt.plot(np.sum(feature_per_coin[4], axis=0))\n",
    "plt.plot(np.sum(feature_per_coin[5], axis=0))\n",
    "\n",
    "plt.vlines(freqs, ymin=-5000, ymax=15000, colors=\"gray\")"
   ]
  },
  {
   "cell_type": "code",
   "execution_count": null,
   "metadata": {},
   "outputs": [],
   "source": []
  },
  {
   "cell_type": "code",
   "execution_count": null,
   "metadata": {},
   "outputs": [],
   "source": []
  },
  {
   "cell_type": "code",
   "execution_count": null,
   "metadata": {},
   "outputs": [],
   "source": [
    "%timeit makePrediction(features[0][0][:, freqs], sigma, mu)"
   ]
  },
  {
   "cell_type": "code",
   "execution_count": 28,
   "metadata": {},
   "outputs": [],
   "source": [
    "acc = 0\n",
    "for c in range(0, 6) :\n",
    "    for cc in range(15, 20) :\n",
    "        predicted = makePrediction(features[c][cc][:, freqs], sigma=sigma, mu=mu, detSigma=detSigma, invSigma=invSigma)\n",
    "        if(predicted == c) :\n",
    "            acc += 1\n",
    "            \n",
    "acc /= (5 * 6)"
   ]
  },
  {
   "cell_type": "code",
   "execution_count": null,
   "metadata": {},
   "outputs": [],
   "source": []
  },
  {
   "cell_type": "code",
   "execution_count": 29,
   "metadata": {},
   "outputs": [
    {
     "data": {
      "text/plain": [
       "0.9666666666666667"
      ]
     },
     "execution_count": 29,
     "metadata": {},
     "output_type": "execute_result"
    }
   ],
   "source": [
    "acc"
   ]
  },
  {
   "cell_type": "code",
   "execution_count": 35,
   "metadata": {},
   "outputs": [],
   "source": [
    "def getNewFile(filename, sigma, mu, detSigma, invSigma, freqs) :\n",
    "    wavefile = wave.open(filename, \"r\")\n",
    "    framerate = wavefile.getframerate()\n",
    "    data = wavefile.readframes(wavefile.getnframes())\n",
    "    wavefile.close()\n",
    "    x = np.frombuffer(data, dtype=\"int16\")\n",
    "    x = x.astype(\"float64\")\n",
    "    BinSize = 0.05 * framerate\n",
    "\n",
    "    f = makeFeature(x, framerate)[:, freqs]\n",
    "\n",
    "    predicted = makePrediction(f, sigma=sigma, mu=mu, detSigma=detSigma, invSigma=invSigma)\n",
    "\n",
    "    return predicted"
   ]
  },
  {
   "cell_type": "code",
   "execution_count": 36,
   "metadata": {},
   "outputs": [
    {
     "data": {
      "text/plain": [
       "3"
      ]
     },
     "execution_count": 36,
     "metadata": {},
     "output_type": "execute_result"
    }
   ],
   "source": [
    "getNewFile(\"./CoinData/050-17.wav\", sigma, mu, detSigma, invSigma, freqs)"
   ]
  },
  {
   "cell_type": "code",
   "execution_count": 31,
   "metadata": {},
   "outputs": [],
   "source": [
    "def makeMu(data) :\n",
    "    mu = np.average(data, 0)\n",
    "    return mu\n",
    "\n",
    "def makeSigma(data) :\n",
    "    sigma = np.cov(data, rowvar=0)\n",
    "    return sigma\n",
    "\n"
   ]
  },
  {
   "cell_type": "code",
   "execution_count": 32,
   "metadata": {},
   "outputs": [],
   "source": [
    "numFreqs = 20\n",
    "mu = np.zeros([Coins, numFreqs])\n",
    "sigma = np.zeros([Coins, numFreqs, numFreqs])\n",
    "detSigma = np.zeros(Coins)\n",
    "invSigma = np.zeros([Coins, numFreqs, numFreqs])\n",
    "\n",
    "tempX = X[:, freqs]\n",
    "\n",
    "for c in range(0, Coins) :\n",
    "    tempF = tempX[np.where(Y == c)]\n",
    "    mu[c, :] = makeMu(tempF)\n",
    "    sigma[c, :, :] = makeSigma(tempF)\n",
    "    detSigma[c] = np.linalg.det(sigma[c, :, :])\n",
    "    invSigma[c, :, :] = np.linalg.inv(sigma[c, :, :])"
   ]
  },
  {
   "cell_type": "code",
   "execution_count": 26,
   "metadata": {},
   "outputs": [
    {
     "data": {
      "text/plain": [
       "(400, 20)"
      ]
     },
     "execution_count": 26,
     "metadata": {},
     "output_type": "execute_result"
    }
   ],
   "source": [
    "tempF.shape"
   ]
  },
  {
   "cell_type": "code",
   "execution_count": 38,
   "metadata": {},
   "outputs": [],
   "source": [
    "FORMAT = pyaudio.paInt16\n",
    "CHANNELS = 1\n",
    "RATE = 44100\n",
    "CHUNK = 2 ** 11\n",
    "RECORD_SECONDS = 5\n",
    "WAVE_OUTPUT_FILENAME = \"output.wav\"\n",
    "\n",
    "def getNewSound(sigma, mu, detSigma, invSigma, freqs) :\n",
    "    p = pyaudio.PyAudio()\n",
    "    \n",
    "    print(\"* 3秒後にコインを落としてください\")\n",
    "    print(\"* 3\")\n",
    "    sleep(1)\n",
    "    print(\"* 2\")\n",
    "    sleep(1)\n",
    "    print(\"* 1\")\n",
    "    sleep(1)\n",
    "    print(\"* 録音開始\")\n",
    "\n",
    "    stream = p.open(format=FORMAT, channels=CHANNELS, rate=RATE, input=True, frames_per_buffer=CHUNK)\n",
    "\n",
    "    print(\"* コインを落としてください\")\n",
    "    frames = []\n",
    "    for i in range(0, int(RATE / CHUNK * RECORD_SECONDS)) :\n",
    "        data = stream.read(CHUNK)\n",
    "        frames.append(data)\n",
    "        \n",
    "    print(\"* 録音終了\")\n",
    "    \n",
    "    stream.stop_stream()\n",
    "    stream.close()\n",
    "    p.terminate()\n",
    "    \n",
    "    wf = wave.open(WAVE_OUTPUT_FILENAME, \"wb\")\n",
    "    wf.setnchannels(CHANNELS)\n",
    "    wf.setsampwidth(p.get_sample_size(FORMAT))\n",
    "    wf.setframerate(RATE)\n",
    "    wf.writeframes(b''.join(frames))\n",
    "    wf.close()\n",
    "    \n",
    "    predicted = getNewFile(WAVE_OUTPUT_FILENAME, sigma=sigma, mu=mu, detSigma=detSigma, invSigma=invSigma, freqs=freqs)\n",
    "    print(coins[predicted] + \"円\")\n",
    "    #framerate = RATE\n",
    "    #data = wavefile.readframes(wavefile.getnframes())\n",
    "    #wavefile.close()\n",
    "    #x = np.frombuffer(data, dtype=\"int16\")\n",
    "    #x = x.astype(\"float64\")\n",
    "    #BinSize = 0.05 * framerate\n",
    "\n",
    "    #f = makeFeature.makeFeature(x, framerate)[:, freqs]\n",
    "\n",
    "    #predicted = makePrediction(f, sigma=sigma, mu=mu, detSigma=detSigma, invSigma=invSigma)\n",
    "\n",
    "    #return predicted\n",
    "    return frames"
   ]
  },
  {
   "cell_type": "code",
   "execution_count": 35,
   "metadata": {},
   "outputs": [
    {
     "data": {
      "text/plain": [
       "3"
      ]
     },
     "execution_count": 35,
     "metadata": {},
     "output_type": "execute_result"
    }
   ],
   "source": [
    "getNewFile(\"CoinData/50en.wav\", sigma, mu, detSigma, invSigma, freqs)"
   ]
  },
  {
   "cell_type": "code",
   "execution_count": 50,
   "metadata": {},
   "outputs": [
    {
     "name": "stdout",
     "output_type": "stream",
     "text": [
      "* 3秒後にコインを落としてください\n",
      "* 3\n",
      "* 2\n",
      "* 1\n",
      "* 録音開始\n",
      "* コインを落としてください\n",
      "* 録音終了\n",
      "001円\n"
     ]
    }
   ],
   "source": [
    "frames = getNewSound(sigma=sigma, mu=mu, detSigma=detSigma, invSigma=invSigma, freqs=freqs)"
   ]
  },
  {
   "cell_type": "code",
   "execution_count": 39,
   "metadata": {},
   "outputs": [
    {
     "data": {
      "text/plain": [
       "['001', '005', '010', '050', '100', '500']"
      ]
     },
     "execution_count": 39,
     "metadata": {},
     "output_type": "execute_result"
    }
   ],
   "source": [
    "coins"
   ]
  },
  {
   "cell_type": "code",
   "execution_count": 74,
   "metadata": {},
   "outputs": [
    {
     "data": {
      "text/plain": [
       "<function makeFeature.makeFeature>"
      ]
     },
     "execution_count": 74,
     "metadata": {},
     "output_type": "execute_result"
    }
   ],
   "source": []
  },
  {
   "cell_type": "code",
   "execution_count": 64,
   "metadata": {},
   "outputs": [
    {
     "name": "stdout",
     "output_type": "stream",
     "text": [
      "* 3秒後にコインを落としてください\n",
      "* 3\n",
      "* 2\n",
      "* 1\n",
      "* 録音開始\n",
      "* 録音終了\n"
     ]
    },
    {
     "data": {
      "text/plain": [
       "[<matplotlib.lines.Line2D at 0x121829e80>]"
      ]
     },
     "execution_count": 64,
     "metadata": {},
     "output_type": "execute_result"
    },
    {
     "data": {
      "image/png": "[encoded data removed]",
      "text/plain": [
       "<matplotlib.figure.Figure at 0x11a83c668>"
      ]
     },
     "metadata": {},
     "output_type": "display_data"
    }
   ],
   "source": [
    "p = pyaudio.PyAudio()\n",
    "    \n",
    "\n",
    "\n",
    "print(\"* 3秒後にコインを落としてください\")\n",
    "print(\"* 3\")\n",
    "sleep(1)\n",
    "print(\"* 2\")\n",
    "sleep(1)\n",
    "print(\"* 1\")\n",
    "sleep(1)\n",
    "print(\"* 録音開始\")\n",
    "\n",
    "stream = p.open(format=FORMAT, channels=CHANNELS, rate=RATE, input=True, frames_per_buffer=CHUNK)\n",
    "frames = []\n",
    "for i in range(0, int(RATE / CHUNK * RECORD_SECONDS)) :\n",
    "    data = stream.read(CHUNK)\n",
    "    frames.append(data)\n",
    "        \n",
    "print(\"* 録音終了\")\n",
    "    \n",
    "stream.stop_stream()\n",
    "stream.close()\n",
    "p.terminate()\n",
    "    \n",
    "wf = wave.open(WAVE_OUTPUT_FILENAME, \"wb\")\n",
    "wf.setnchannels(CHANNELS)\n",
    "wf.setsampwidth(p.get_sample_size(FORMAT))\n",
    "wf.setframerate(RATE)\n",
    "wf.writeframes(b''.join(frames))\n",
    "wf.close()\n",
    "\n",
    "wavefile = wave.open(WAVE_OUTPUT_FILENAME, \"r\")\n",
    "\n",
    "data = wavefile.readframes(wavefile.getnframes())\n",
    "wavefile.close()\n",
    "x = np.frombuffer(data, dtype=\"int16\")\n",
    "x = x.astype('float64')\n",
    "\n",
    "plt.plot(x)"
   ]
  },
  {
   "cell_type": "code",
   "execution_count": 103,
   "metadata": {},
   "outputs": [
    {
     "data": {
      "text/plain": [
       "(20, 1858)"
      ]
     },
     "execution_count": 103,
     "metadata": {},
     "output_type": "execute_result"
    }
   ],
   "source": [
    "makeFeature(x, RATE).shape"
   ]
  },
  {
   "cell_type": "code",
   "execution_count": 65,
   "metadata": {},
   "outputs": [
    {
     "data": {
      "text/plain": [
       "<matplotlib.collections.LineCollection at 0x121c81ef0>"
      ]
     },
     "execution_count": 65,
     "metadata": {},
     "output_type": "execute_result"
    },
    {
     "data": {
      "image/png": "[encoded data removed]",
      "text/plain": [
       "<matplotlib.figure.Figure at 0x1213c14e0>"
      ]
     },
     "metadata": {},
     "output_type": "display_data"
    }
   ],
   "source": [
    "plt.plot(np.mean(makeFeature(x, RATE), axis=0))\n",
    "plt.vlines(freqs, ymin=-5, ymax=15, colors=\"gray\")"
   ]
  },
  {
   "cell_type": "code",
   "execution_count": 66,
   "metadata": {},
   "outputs": [
    {
     "data": {
      "text/plain": [
       "0"
      ]
     },
     "execution_count": 66,
     "metadata": {},
     "output_type": "execute_result"
    }
   ],
   "source": [
    "makePrediction(makeFeature(x, RATE)[:, freqs], sigma=sigma, mu=mu, detSigma=detSigma, invSigma=invSigma)"
   ]
  },
  {
   "cell_type": "code",
   "execution_count": 53,
   "metadata": {},
   "outputs": [
    {
     "data": {
      "text/plain": [
       "array([[  5.31606002e+01,   5.27973192e+01,   5.27909958e+01, ...,\n",
       "          4.12702835e+01,   4.03296961e+01,   4.00217164e+01],\n",
       "       [  1.77902264e+01,   1.75955144e+01,   1.79426898e+01, ...,\n",
       "          8.91544752e-01,   1.94950778e+00,   6.07435015e-01],\n",
       "       [ -1.15697122e+01,  -1.70304137e+01,  -1.24913726e+01, ...,\n",
       "         -2.10924521e+01,  -1.93992415e+01,  -2.93634459e+01],\n",
       "       ..., \n",
       "       [ -8.69313876e-01,   9.83553725e+00,   2.39685201e+00, ...,\n",
       "          1.12705430e+01,   9.33735876e+00,   7.93590790e+00],\n",
       "       [ -3.48056197e+00,   9.40505121e+00,  -4.75835543e-02, ...,\n",
       "          1.39075278e+01,   1.07910945e+01,   1.03642025e+01],\n",
       "       [ -1.07639283e+00,   2.94937878e+00,  -2.79716351e-01, ...,\n",
       "         -1.25200107e+01,   8.18800760e+00,  -1.07402565e-01]])"
      ]
     },
     "execution_count": 53,
     "metadata": {},
     "output_type": "execute_result"
    }
   ],
   "source": []
  },
  {
   "cell_type": "code",
   "execution_count": 41,
   "metadata": {},
   "outputs": [
    {
     "data": {
      "text/plain": [
       "[<matplotlib.lines.Line2D at 0x11a8ad6a0>]"
      ]
     },
     "execution_count": 41,
     "metadata": {},
     "output_type": "execute_result"
    },
    {
     "data": {
      "image/png": "[encoded data removed]",
      "text/plain": [
       "<matplotlib.figure.Figure at 0x119e4b0b8>"
      ]
     },
     "metadata": {},
     "output_type": "display_data"
    }
   ],
   "source": [
    "plt.plot(x)"
   ]
  },
  {
   "cell_type": "code",
   "execution_count": null,
   "metadata": {},
   "outputs": [],
   "source": []
  },
  {
   "cell_type": "code",
   "execution_count": 60,
   "metadata": {},
   "outputs": [
    {
     "data": {
      "text/plain": [
       "<matplotlib.collections.LineCollection at 0x12127bac8>"
      ]
     },
     "execution_count": 60,
     "metadata": {},
     "output_type": "execute_result"
    },
    {
     "data": {
      "image/png": "[encoded data removed]",
      "text/plain": [
       "<matplotlib.figure.Figure at 0x1212f12b0>"
      ]
     },
     "metadata": {},
     "output_type": "display_data"
    }
   ],
   "source": [
    "start=500\n",
    "end=1500\n",
    "#plt.xlim(start, end)\n",
    "plt.plot(np.mean(feature_per_coin[0], axis=0))\n",
    "plt.plot(np.mean(feature_per_coin[1], axis=0))\n",
    "plt.plot(np.mean(feature_per_coin[2], axis=0))\n",
    "plt.plot(np.mean(feature_per_coin[3], axis=0))\n",
    "plt.plot(np.mean(feature_per_coin[4], axis=0))\n",
    "plt.plot(np.mean(feature_per_coin[5], axis=0))\n",
    "\n",
    "plt.vlines(freqs, ymin=-5, ymax=15, colors=\"gray\")"
   ]
  },
  {
   "cell_type": "code",
   "execution_count": 63,
   "metadata": {},
   "outputs": [
    {
     "data": {
      "text/plain": [
       "[<matplotlib.lines.Line2D at 0x121618cf8>]"
      ]
     },
     "execution_count": 63,
     "metadata": {},
     "output_type": "execute_result"
    },
    {
     "data": {
      "image/png": "[encoded data removed]",
      "text/plain": [
       "<matplotlib.figure.Figure at 0x11ffc0748>"
      ]
     },
     "metadata": {},
     "output_type": "display_data"
    }
   ],
   "source": [
    "plt.plot(np.mean(feature_per_coin[4], axis=0))"
   ]
  },
  {
   "cell_type": "markdown",
   "metadata": {},
   "source": [
    " "
   ]
  },
  {
   "cell_type": "markdown",
   "metadata": {},
   "source": [
    " "
   ]
  },
  {
   "cell_type": "markdown",
   "metadata": {},
   "source": [
    "期待値 0.166...での正解率0.5\n",
    "\n",
    "そこそこ当たってそう"
   ]
  },
  {
   "cell_type": "markdown",
   "metadata": {},
   "source": [
    "本番\n",
    "\n",
    "非常に時間がかかることが予想される"
   ]
  },
  {
   "cell_type": "code",
   "execution_count": 152,
   "metadata": {},
   "outputs": [
    {
     "ename": "SyntaxError",
     "evalue": "invalid syntax (<ipython-input-152-901285a5a2ab>, line 1)",
     "output_type": "error",
     "traceback": [
      "\u001b[0;36m  File \u001b[0;32m\"<ipython-input-152-901285a5a2ab>\"\u001b[0;36m, line \u001b[0;32m1\u001b[0m\n\u001b[0;31m    and\u001b[0m\n\u001b[0m      ^\u001b[0m\n\u001b[0;31mSyntaxError\u001b[0m\u001b[0;31m:\u001b[0m invalid syntax\n"
     ]
    }
   ],
   "source": [
    "and"
   ]
  },
  {
   "cell_type": "code",
   "execution_count": 35,
   "metadata": {},
   "outputs": [
    {
     "name": "stdout",
     "output_type": "stream",
     "text": [
      "preparation\n",
      "main loop start\n",
      "********************************\n",
      "major loop\n",
      "--------------------------------\n",
      "('minor loop : ', 0)\n",
      "('Selected freqs', array([5, 1]))\n",
      "('R=', 0.9968268453097271)\n",
      "--------------------------------\n",
      "('minor loop : ', 1)\n",
      "('Selected freqs', array([5, 4]))\n",
      "('R=', 0.9956835361266605)\n",
      "--------------------------------\n",
      "********************************\n",
      "major loop\n",
      "--------------------------------\n",
      "('minor loop : ', 0)\n",
      "('Selected freqs', array([5, 4]))\n",
      "('R=', 0.9956835361266605)\n",
      "--------------------------------\n",
      "('minor loop : ', 1)\n",
      "('Selected freqs', array([5, 4]))\n",
      "('R=', 0.9956835361266605)\n",
      "--------------------------------\n",
      "done\n"
     ]
    }
   ],
   "source": [
    "D = 2\n",
    "freqs, sigma, mu = detectFreqs(features, D)"
   ]
  },
  {
   "cell_type": "code",
   "execution_count": 9,
   "metadata": {},
   "outputs": [],
   "source": [
    "import numpy as np\n",
    "from numpy import fft"
   ]
  },
  {
   "cell_type": "code",
   "execution_count": 13,
   "metadata": {},
   "outputs": [],
   "source": [
    "temp = fft.fft([0, 1, 2, 3, 4])"
   ]
  },
  {
   "cell_type": "code",
   "execution_count": 15,
   "metadata": {},
   "outputs": [
    {
     "data": {
      "text/plain": [
       "array([ 10.        ,   4.25325404,   2.62865556,   2.62865556,   4.25325404])"
      ]
     },
     "execution_count": 15,
     "metadata": {},
     "output_type": "execute_result"
    }
   ],
   "source": [
    "np.abs(temp)"
   ]
  },
  {
   "cell_type": "markdown",
   "metadata": {},
   "source": [
    "そもそもの計算が正しいか簡単に確認"
   ]
  },
  {
   "cell_type": "code",
   "execution_count": 13,
   "metadata": {},
   "outputs": [],
   "source": [
    "def culR(feature, sigma, mu) :\n",
    "    detSigma = np.linalg.det(sigma)\n",
    "    invSigma = np.linalg.inv(sigma)\n",
    "    d = sigma.shape[0]\n",
    "    x_muc = np.matrix(feature - mu).T\n",
    "\n",
    "    res = ((2 * np.pi) ** (-d / 2.0) * detSigma ** (-0.5) * np.exp(-x_muc.T.dot(invSigma).dot(x_muc) / 2))\n",
    "    \n",
    "    return res"
   ]
  },
  {
   "cell_type": "code",
   "execution_count": 27,
   "metadata": {},
   "outputs": [
    {
     "data": {
      "text/plain": [
       "matrix([[ 1.59154943]])"
      ]
     },
     "execution_count": 27,
     "metadata": {},
     "output_type": "execute_result"
    }
   ],
   "source": [
    "culR(np.array([0, 0]), np.array([[1, 0], [0, 1]]) * 0.1, np.array([0, 0]))"
   ]
  },
  {
   "cell_type": "code",
   "execution_count": 20,
   "metadata": {},
   "outputs": [
    {
     "data": {
      "text/plain": [
       "array([[ 1.,  0.],\n",
       "       [ 0.,  1.]])"
      ]
     },
     "execution_count": 20,
     "metadata": {},
     "output_type": "execute_result"
    }
   ],
   "source": [
    "np.linalg.inv((np.array([[1, 0], [0, 1]])))"
   ]
  },
  {
   "cell_type": "code",
   "execution_count": 24,
   "metadata": {},
   "outputs": [
    {
     "data": {
      "text/plain": [
       "matrix([[ 1.]])"
      ]
     },
     "execution_count": 24,
     "metadata": {},
     "output_type": "execute_result"
    }
   ],
   "source": [
    "x = np.array([0, 0])\n",
    "mu = np.array([0, 0])\n",
    "x_muc = np.matrix(x - mu).T\n",
    "sigma = np.array([[1, 0], [0, 1]]) * 100\n",
    "invSigma = np.linalg.inv(sigma)\n",
    "\n",
    "np.exp(-x_muc.T.dot(invSigma).dot(x_muc) / 2)"
   ]
  },
  {
   "cell_type": "code",
   "execution_count": 9,
   "metadata": {},
   "outputs": [],
   "source": [
    "x = np.array([0, 1, 2])"
   ]
  },
  {
   "cell_type": "code",
   "execution_count": 18,
   "metadata": {},
   "outputs": [],
   "source": [
    "x = np.array([x]).T"
   ]
  },
  {
   "cell_type": "code",
   "execution_count": 19,
   "metadata": {},
   "outputs": [
    {
     "data": {
      "text/plain": [
       "array([[0],\n",
       "       [1],\n",
       "       [2]])"
      ]
     },
     "execution_count": 19,
     "metadata": {},
     "output_type": "execute_result"
    }
   ],
   "source": [
    "x"
   ]
  },
  {
   "cell_type": "code",
   "execution_count": 22,
   "metadata": {},
   "outputs": [],
   "source": [
    "invSigma = np.array(range(0, 9)).reshape(3, 3)"
   ]
  },
  {
   "cell_type": "code",
   "execution_count": 23,
   "metadata": {},
   "outputs": [
    {
     "data": {
      "text/plain": [
       "array([[0, 1, 2],\n",
       "       [3, 4, 5],\n",
       "       [6, 7, 8]])"
      ]
     },
     "execution_count": 23,
     "metadata": {},
     "output_type": "execute_result"
    }
   ],
   "source": [
    "invSigma"
   ]
  },
  {
   "cell_type": "code",
   "execution_count": 27,
   "metadata": {},
   "outputs": [
    {
     "data": {
      "text/plain": [
       "array([[60]])"
      ]
     },
     "execution_count": 27,
     "metadata": {},
     "output_type": "execute_result"
    }
   ],
   "source": [
    "np.dot(x.T, invSigma).dot(x)"
   ]
  },
  {
   "cell_type": "code",
   "execution_count": 29,
   "metadata": {},
   "outputs": [
    {
     "data": {
      "text/plain": [
       "array([[  1.00000000e+00,   2.71828183e+00,   7.38905610e+00],\n",
       "       [  2.00855369e+01,   5.45981500e+01,   1.48413159e+02],\n",
       "       [  4.03428793e+02,   1.09663316e+03,   2.98095799e+03]])"
      ]
     },
     "execution_count": 29,
     "metadata": {},
     "output_type": "execute_result"
    }
   ],
   "source": [
    "np.exp(invSigma)"
   ]
  },
  {
   "cell_type": "code",
   "execution_count": 23,
   "metadata": {},
   "outputs": [],
   "source": [
    "temp1 = np.random.random(size=[10, 5])\n",
    "temp2 = np.array([1, 2, 3, 4, 5])"
   ]
  },
  {
   "cell_type": "code",
   "execution_count": 24,
   "metadata": {},
   "outputs": [
    {
     "data": {
      "text/plain": [
       "array([[-0.75548225, -1.24964047, -2.9738428 , -3.15987994, -4.42099502],\n",
       "       [-0.05162787, -1.74623336, -2.62967871, -3.93480647, -4.32583643],\n",
       "       [-0.5684011 , -1.59850595, -2.9498818 , -3.17115349, -4.47818155],\n",
       "       [-0.39945419, -1.12748661, -2.97947945, -3.68589437, -4.65914087],\n",
       "       [-0.25706016, -1.76536543, -2.21850173, -3.14305407, -4.45603376],\n",
       "       [-0.46668178, -1.38401511, -2.88355964, -3.14920844, -4.74136581],\n",
       "       [-0.98131734, -1.07002719, -2.88721637, -3.88495606, -4.60525238],\n",
       "       [-0.71921804, -1.1725652 , -2.01872411, -3.46786546, -4.34353485],\n",
       "       [-0.88880065, -1.23024017, -2.79290115, -3.39353379, -4.81088962],\n",
       "       [-0.19665272, -1.44072596, -2.90678227, -3.02124015, -4.60273412]])"
      ]
     },
     "execution_count": 24,
     "metadata": {},
     "output_type": "execute_result"
    }
   ],
   "source": [
    "temp1 - temp2"
   ]
  },
  {
   "cell_type": "code",
   "execution_count": 25,
   "metadata": {},
   "outputs": [
    {
     "data": {
      "text/plain": [
       "array([-12.55984047, -12.68818285, -12.76612389, -12.85145549,\n",
       "       -11.84001516, -12.62483077, -13.42876933, -11.72190767,\n",
       "       -13.11636538, -12.16813521])"
      ]
     },
     "execution_count": 25,
     "metadata": {},
     "output_type": "execute_result"
    }
   ],
   "source": [
    "np.sum(temp1 - temp2, axis=1)"
   ]
  },
  {
   "cell_type": "code",
   "execution_count": 26,
   "metadata": {},
   "outputs": [],
   "source": [
    "args = np.argmax(temp1, axis=0)"
   ]
  },
  {
   "cell_type": "code",
   "execution_count": 27,
   "metadata": {},
   "outputs": [
    {
     "data": {
      "text/plain": [
       "array([[ 0.24451775,  0.75035953,  0.0261572 ,  0.84012006,  0.57900498],\n",
       "       [ 0.94837213,  0.25376664,  0.37032129,  0.06519353,  0.67416357],\n",
       "       [ 0.4315989 ,  0.40149405,  0.0501182 ,  0.82884651,  0.52181845],\n",
       "       [ 0.60054581,  0.87251339,  0.02052055,  0.31410563,  0.34085913],\n",
       "       [ 0.74293984,  0.23463457,  0.78149827,  0.85694593,  0.54396624],\n",
       "       [ 0.53331822,  0.61598489,  0.11644036,  0.85079156,  0.25863419],\n",
       "       [ 0.01868266,  0.92997281,  0.11278363,  0.11504394,  0.39474762],\n",
       "       [ 0.28078196,  0.8274348 ,  0.98127589,  0.53213454,  0.65646515],\n",
       "       [ 0.11119935,  0.76975983,  0.20709885,  0.60646621,  0.18911038],\n",
       "       [ 0.80334728,  0.55927404,  0.09321773,  0.97875985,  0.39726588]])"
      ]
     },
     "execution_count": 27,
     "metadata": {},
     "output_type": "execute_result"
    }
   ],
   "source": [
    "temp1"
   ]
  },
  {
   "cell_type": "code",
   "execution_count": 28,
   "metadata": {},
   "outputs": [
    {
     "data": {
      "text/plain": [
       "array([1, 6, 7, 9, 1])"
      ]
     },
     "execution_count": 28,
     "metadata": {},
     "output_type": "execute_result"
    }
   ],
   "source": [
    "args"
   ]
  },
  {
   "cell_type": "code",
   "execution_count": 29,
   "metadata": {},
   "outputs": [
    {
     "data": {
      "text/plain": [
       "array([ 0.94837213,  0.92997281,  0.98127589,  0.97875985,  0.67416357])"
      ]
     },
     "execution_count": 29,
     "metadata": {},
     "output_type": "execute_result"
    }
   ],
   "source": [
    "temp1[args, np.array([0, 1, 2, 3, 4])]"
   ]
  },
  {
   "cell_type": "code",
   "execution_count": 30,
   "metadata": {},
   "outputs": [
    {
     "data": {
      "text/plain": [
       "array([0, 1, 2, 3, 4, 5, 6, 7, 8, 9])"
      ]
     },
     "execution_count": 30,
     "metadata": {},
     "output_type": "execute_result"
    }
   ],
   "source": [
    "np.array(range(0, 10))"
   ]
  },
  {
   "cell_type": "code",
   "execution_count": 31,
   "metadata": {},
   "outputs": [
    {
     "data": {
      "text/plain": [
       "array([ 1.22277933,  1.16140318,  1.42704794,  1.17755755,  1.15947989])"
      ]
     },
     "execution_count": 31,
     "metadata": {},
     "output_type": "execute_result"
    }
   ],
   "source": [
    "np.exp(temp1[args, np.array(range(0, 5))] / np.sum(temp1, axis=0))"
   ]
  },
  {
   "cell_type": "code",
   "execution_count": 33,
   "metadata": {},
   "outputs": [
    {
     "data": {
      "text/plain": [
       "array([[ 0.94837213,  0.25376664,  0.37032129,  0.06519353,  0.67416357],\n",
       "       [ 0.01868266,  0.92997281,  0.11278363,  0.11504394,  0.39474762],\n",
       "       [ 0.28078196,  0.8274348 ,  0.98127589,  0.53213454,  0.65646515],\n",
       "       [ 0.80334728,  0.55927404,  0.09321773,  0.97875985,  0.39726588],\n",
       "       [ 0.94837213,  0.25376664,  0.37032129,  0.06519353,  0.67416357]])"
      ]
     },
     "execution_count": 33,
     "metadata": {},
     "output_type": "execute_result"
    }
   ],
   "source": [
    "temp1[args]"
   ]
  },
  {
   "cell_type": "code",
   "execution_count": 35,
   "metadata": {},
   "outputs": [
    {
     "ename": "IndexError",
     "evalue": "index 6 is out of bounds for axis 1 with size 5",
     "output_type": "error",
     "traceback": [
      "\u001b[0;31m---------------------------------------------------------------------------\u001b[0m",
      "\u001b[0;31mIndexError\u001b[0m                                Traceback (most recent call last)",
      "\u001b[0;32m<ipython-input-35-ccd804f09c00>\u001b[0m in \u001b[0;36m<module>\u001b[0;34m()\u001b[0m\n\u001b[0;32m----> 1\u001b[0;31m \u001b[0mtemp2\u001b[0m\u001b[0;34m[\u001b[0m\u001b[0margs\u001b[0m\u001b[0;34m]\u001b[0m\u001b[0;34m\u001b[0m\u001b[0m\n\u001b[0m",
      "\u001b[0;31mIndexError\u001b[0m: index 6 is out of bounds for axis 1 with size 5"
     ]
    }
   ],
   "source": [
    "temp2[args]"
   ]
  },
  {
   "cell_type": "code",
   "execution_count": 37,
   "metadata": {},
   "outputs": [
    {
     "data": {
      "text/plain": [
       "array([1, 2, 1, 1, 4, 5, 3])"
      ]
     },
     "execution_count": 37,
     "metadata": {},
     "output_type": "execute_result"
    }
   ],
   "source": [
    "temp2[np.array([0, 1, 0, 0, 3, 4, 2])]"
   ]
  },
  {
   "cell_type": "code",
   "execution_count": 21,
   "metadata": {},
   "outputs": [
    {
     "data": {
      "text/plain": [
       "19683"
      ]
     },
     "execution_count": 21,
     "metadata": {},
     "output_type": "execute_result"
    }
   ],
   "source": [
    " 3 ** 9"
   ]
  },
  {
   "cell_type": "code",
   "execution_count": 22,
   "metadata": {},
   "outputs": [
    {
     "data": {
      "text/plain": [
       "81"
      ]
     },
     "execution_count": 22,
     "metadata": {},
     "output_type": "execute_result"
    }
   ],
   "source": [
    "3 ** 4"
   ]
  },
  {
   "cell_type": "code",
   "execution_count": 21,
   "metadata": {},
   "outputs": [],
   "source": [
    "temp = np.array([[1, 2, 3], [4, 5, 6]])"
   ]
  },
  {
   "cell_type": "code",
   "execution_count": 22,
   "metadata": {},
   "outputs": [
    {
     "data": {
      "text/plain": [
       "array([[1, 2, 3],\n",
       "       [4, 5, 6]])"
      ]
     },
     "execution_count": 22,
     "metadata": {},
     "output_type": "execute_result"
    }
   ],
   "source": [
    "temp"
   ]
  },
  {
   "cell_type": "code",
   "execution_count": 23,
   "metadata": {},
   "outputs": [
    {
     "data": {
      "text/plain": [
       "array([ 6, 15])"
      ]
     },
     "execution_count": 23,
     "metadata": {},
     "output_type": "execute_result"
    }
   ],
   "source": [
    "np.sum(temp, axis=1)"
   ]
  },
  {
   "cell_type": "code",
   "execution_count": 25,
   "metadata": {},
   "outputs": [
    {
     "data": {
      "text/plain": [
       "array([[ 1.,  1.],\n",
       "       [ 1.,  1.]])"
      ]
     },
     "execution_count": 25,
     "metadata": {},
     "output_type": "execute_result"
    }
   ],
   "source": [
    "np.cov(temp)"
   ]
  },
  {
   "cell_type": "code",
   "execution_count": 47,
   "metadata": {},
   "outputs": [],
   "source": [
    "mu = np.array([2.5, 3.5, 4.5])\n",
    "x = np.array([[1, 2, 3], [4, 5, 6]])\n",
    "y = np.array([[1, 3, 5], [7, 11, 17]])\n",
    "mat = np.array([[1, 2, 3], [4, 5, 6], [7, 8, 9]])"
   ]
  },
  {
   "cell_type": "code",
   "execution_count": 48,
   "metadata": {},
   "outputs": [
    {
     "name": "stdout",
     "output_type": "stream",
     "text": [
      "[[-220.5]] [[ 832.5]]\n"
     ]
    }
   ],
   "source": [
    "print(np.array([x[0] - mu]).dot(mat).dot(np.array([y[0]]).T),\n",
    "      np.array([x[1] - mu]).dot(mat).dot(np.array([y[1]]).T))"
   ]
  },
  {
   "cell_type": "code",
   "execution_count": 49,
   "metadata": {},
   "outputs": [
    {
     "data": {
      "text/plain": [
       "array([-220.5,  832.5])"
      ]
     },
     "execution_count": 49,
     "metadata": {},
     "output_type": "execute_result"
    }
   ],
   "source": [
    "np.sum(np.dot(x - mu, mat) * y, axis=1)"
   ]
  },
  {
   "cell_type": "code",
   "execution_count": null,
   "metadata": {},
   "outputs": [],
   "source": []
  }
 ],
 "metadata": {
  "kernelspec": {
   "display_name": "Python 3",
   "language": "python",
   "name": "python3"
  },
  "language_info": {
   "codemirror_mode": {
    "name": "ipython",
    "version": 3
   },
   "file_extension": ".py",
   "mimetype": "text/x-python",
   "name": "python",
   "nbconvert_exporter": "python",
   "pygments_lexer": "ipython3",
   "version": "3.6.0"
  }
 },
 "nbformat": 4,
 "nbformat_minor": 2
}
